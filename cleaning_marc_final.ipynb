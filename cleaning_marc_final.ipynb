{
 "cells": [
  {
   "cell_type": "markdown",
   "id": "b714b827-5978-41a0-8955-5ee621646017",
   "metadata": {
    "id": "b714b827-5978-41a0-8955-5ee621646017"
   },
   "source": [
    "Prédire les émissions de CO2 et la consommation totale d’énergie de bâtiments non destinés à l’habitation à partir de relevés de la ville seattle\n",
    "TARGET : SiteEnergyUseWN(kBtu) & GHGEmissions <br>\n",
    "Obtenir un modèle pour l'énergie avec un R2 de plus de 0,75 sur le jeu de test et plus de 0,7 pour le CO2"
   ]
  },
  {
   "cell_type": "code",
   "execution_count": 1,
   "id": "7a78e72b-acd5-41e7-aeda-cf13febc0fbb",
   "metadata": {
    "colab": {
     "base_uri": "https://localhost:8080/",
     "height": 383
    },
    "executionInfo": {
     "elapsed": 1600,
     "status": "error",
     "timestamp": 1691125451660,
     "user": {
      "displayName": "MarcD",
      "userId": "07072845009722943265"
     },
     "user_tz": -120
    },
    "id": "7a78e72b-acd5-41e7-aeda-cf13febc0fbb",
    "outputId": "8ab22396-6a9f-4633-f10c-fdb8c33a912a"
   },
   "outputs": [],
   "source": [
    "import pandas as pd\n",
    "import numpy as np\n",
    "import matplotlib.pyplot as plt\n",
    "import seaborn as sns\n",
    "from scipy import stats\n",
    "from category_encoders import MEstimateEncoder\n",
    "import sklearn\n",
    "sklearn.set_config(transform_output=\"pandas\")\n",
    "from scipy import stats\n",
    "from statsmodels.formula.api import ols\n",
    "from sklearn.model_selection import train_test_split, GridSearchCV\n",
    "from sklearn.ensemble import RandomForestRegressor\n",
    "from sklearn.linear_model import LinearRegression\n",
    "import sklearn.metrics as metrics"
   ]
  },
  {
   "cell_type": "markdown",
   "id": "641578b3-f459-4102-a24e-3061925ff6b9",
   "metadata": {
    "id": "641578b3-f459-4102-a24e-3061925ff6b9"
   },
   "source": [
    "# 0. Nettoyage"
   ]
  },
  {
   "cell_type": "markdown",
   "id": "7d5275f4-5b27-4ff1-bd22-603f8e0af700",
   "metadata": {
    "id": "7d5275f4-5b27-4ff1-bd22-603f8e0af700"
   },
   "source": [
    "## 0.1 Import du df et nettoyage"
   ]
  },
  {
   "cell_type": "code",
   "execution_count": 2,
   "id": "9a51d670-e973-4c9b-85da-bc9147b830f1",
   "metadata": {
    "executionInfo": {
     "elapsed": 4,
     "status": "ok",
     "timestamp": 1691125464193,
     "user": {
      "displayName": "MarcD",
      "userId": "07072845009722943265"
     },
     "user_tz": -120
    },
    "id": "9a51d670-e973-4c9b-85da-bc9147b830f1"
   },
   "outputs": [],
   "source": [
    "def nettoyage():\n",
    "    df = pd.read_csv('2016-building-energy-benchmarking.csv')\n",
    "    # drop any multi family buildings, only non residential are targeted\n",
    "    propertytype_dropped = ['Mid-Rise Multifamily','High-Rise Multifamily','Low-Rise Multifamily','Residence Hall']\n",
    "    df = df[~df.PrimaryPropertyType.isin(propertytype_dropped)]\n",
    "    buildingtype_dropped = ['Multifamily MR (5-9)','Multifamily HR (10+)','Multifamily LR (1-4)']\n",
    "    df = df[~df.BuildingType.isin(buildingtype_dropped)]\n",
    "    # col homogoneous or unable to use # here it is decided to drop the EnergyStar Score ?\n",
    "    cols_to_drop = ['CouncilDistrictCode','PropertyName','OSEBuildingID', 'City', 'State', 'DataYear', 'ZipCode', 'TaxParcelIdentificationNumber',\n",
    "'YearsENERGYSTARCertified', 'Comments', 'DefaultData','Outlier','ENERGYSTARScore','Address']\n",
    "    df.drop(columns=cols_to_drop, inplace=True)\n",
    "    # too many missing data on these rows\n",
    "    df.drop(index=[578,2670,30,1361,304],inplace=True)\n",
    "    # renaming PropertyGFABuilding(s) to avoid bugs for the anova\n",
    "    df.rename(columns={\"PropertyGFABuilding(s)\":\"PropertyGFABuildings\"}, inplace=True)\n",
    "    # SiteEUIWN(kBtu/sf) imputing data by the coeff diff between WN and not WN\n",
    "    df.loc[563,'SiteEUIWN(kBtu/sf)'] = df['SiteEUIWN(kBtu/sf)'].mean() / df['SiteEUI(kBtu/sf)'].mean() * 39.5\n",
    "    df.loc[563,'SiteEnergyUseWN(kBtu)'] = df['SiteEnergyUse(kBtu)'].mean() / df['SiteEnergyUseWN(kBtu)'].mean() * 5177270.5\n",
    "    # LargestPropertyUseType  not filled in , imputing by research on the activity of the company\n",
    "    df.loc[1147,'LargestPropertyUseType'] = 'Hotel'\n",
    "    df.loc[2414,'LargestPropertyUseType'] = 'Office'\n",
    "    df.loc[2459,'LargestPropertyUseType'] = 'Restaurant'\n",
    "    df.loc[353,'LargestPropertyUseType'] = 'Self-Storage Facility'\n",
    "    # LargestPropertyUseTypeGFA not filled in, imputing the real GFA if one building else dividing totalGFA by number of buildings\n",
    "    df.loc[1147,'LargestPropertyUseTypeGFA'] = 61721\n",
    "    df.loc[2414,'LargestPropertyUseTypeGFA'] = 48350\n",
    "    df.loc[2459,'LargestPropertyUseTypeGFA'] = 28800\n",
    "    df.loc[353,'LargestPropertyUseTypeGFA'] = 55722\n",
    "    # missing data from compliance\n",
    "    idx_missingdata = df[df['ComplianceStatus'] ==  'Missing Data'].index\n",
    "    df.drop(index=idx_missingdata, inplace=True)\n",
    "    # fixing typos issues within the neighborhood column\n",
    "    df.Neighborhood = df.Neighborhood.map(lambda x: x.lower())\n",
    "    df.loc[3370,'Neighborhood'] = 'delridge'\n",
    "    df.loc[1328,'PrimaryPropertyType'] = 'Hotel'\n",
    "    # pour les WN non renseignés, imputation par multiplication de leur normal par le ratio de la moyenne\n",
    "    for idx in df[df['SiteEUIWN(kBtu/sf)'] == 0].index :\n",
    "        df.loc[idx,'SiteEUIWN(kBtu/sf)'] = (df['SiteEUIWN(kBtu/sf)'].mean() / df['SiteEUI(kBtu/sf)'].mean()) * df.loc[idx,'SiteEUI(kBtu/sf)']\n",
    "    # GFA columns : imputing NaN by 0\n",
    "    df['SecondLargestPropertyUseTypeGFA'] = df['SecondLargestPropertyUseTypeGFA'].fillna(0)\n",
    "    df['ThirdLargestPropertyUseTypeGFA'] = df['ThirdLargestPropertyUseTypeGFA'].fillna(0)\n",
    "    # SiteEnergyUseWN not filled in , mean imputing because weathered was filled in\n",
    "    for idx in df[df['SiteEnergyUseWN(kBtu)'] == 0].index:\n",
    "        df.loc[idx,'SiteEnergyUseWN(kBtu)'] = (df['SiteEUIWN(kBtu/sf)'].mean() / df['SiteEUI(kBtu/sf)'].mean()) * df.loc[idx,'SiteEnergyUse(kBtu)']\n",
    "    # incorrect number of buildings of 0\n",
    "    idx_build0 = df[df.NumberofBuildings == 0].index\n",
    "    for idx in idx_build0:\n",
    "        df.loc[idx,'NumberofBuildings'] = 1\n",
    "    return df"
   ]
  },
  {
   "cell_type": "code",
   "execution_count": 3,
   "id": "022870b9-7fd3-4163-b62c-0705ebcacbbb",
   "metadata": {
    "executionInfo": {
     "elapsed": 392,
     "status": "ok",
     "timestamp": 1691125976713,
     "user": {
      "displayName": "MarcD",
      "userId": "07072845009722943265"
     },
     "user_tz": -120
    },
    "id": "022870b9-7fd3-4163-b62c-0705ebcacbbb"
   },
   "outputs": [],
   "source": [
    "def preprocess(df):\n",
    "    # skyscraper feature\n",
    "    #df['skyscraper'] = df.NumberofFloors > 8\n",
    "    # OH functions ,if it is labo or a campus/univeristy or an hospital\n",
    "\n",
    "    # laboratoire ?\n",
    "    def is_labo(x):\n",
    "        if x['PrimaryPropertyType'] == 'Laboratory':\n",
    "            return 1\n",
    "        elif x['LargestPropertyUseType'] == 'Laboratory'  :\n",
    "            return 1\n",
    "        else :\n",
    "            return 0\n",
    "\n",
    "    df['is_laboratory'] = df.apply(is_labo, axis=1)\n",
    "\n",
    "    # campus ou université ?\n",
    "    def is_campus(x):\n",
    "        if x['BuildingType'] == 'Campus':\n",
    "            return 1\n",
    "        elif x['PrimaryPropertyType'] == 'University':\n",
    "            return 1\n",
    "        else :\n",
    "            return 0\n",
    "\n",
    "    df['is_campus'] = df.apply(is_campus, axis=1)\n",
    "\n",
    "    # hopital ?\n",
    "    def is_hospital(x):\n",
    "        if x == 'Hospital':\n",
    "            return 1\n",
    "        else :\n",
    "            return 0\n",
    "    #df['is_hospital'] = df.PrimaryPropertyType.map(is_hospital)\n",
    "    #df.loc[2482, 'is_hospital'] = False # cas particulier\n",
    "\n",
    "    # decennie est bof, essayer par trentaine d'année  ?\n",
    "    df['decennie'] = df.YearBuilt.map(lambda x :  (2017 - x) // 10 ) + 1\n",
    "\n",
    "    # calcul du pourcentage de source d'énergie\n",
    "    def p_gas(x):\n",
    "        if x['SiteEnergyUseWN(kBtu)'] != 0:\n",
    "            return x['NaturalGas(kBtu)'] / x['SiteEnergyUseWN(kBtu)'] *100\n",
    "        else :\n",
    "            return 0\n",
    "    df['p_gas'] = df.apply(p_gas,axis=1)\n",
    "\n",
    "    def p_elec(x):\n",
    "        if x['SiteEnergyUseWN(kBtu)'] != 0:\n",
    "            return x['Electricity(kBtu)'] / x['SiteEnergyUseWN(kBtu)'] *100\n",
    "        else :\n",
    "            return 0\n",
    "    df['p_elec'] = df.apply(p_elec,axis=1)\n",
    "    def p_steam(x):\n",
    "        if x['SiteEnergyUseWN(kBtu)'] != 0:\n",
    "            return x['SteamUse(kBtu)'] / x['SiteEnergyUseWN(kBtu)'] *100\n",
    "        else :\n",
    "            return 0\n",
    "    df['p_steam'] = df.apply(p_steam,axis=1)\n",
    "    # colonne de différence entre WN et normal\n",
    "    df['WN_ratio'] = df['SiteEUIWN(kBtu/sf)'] / df['SiteEUI(kBtu/sf)']\n",
    "    # get_dummies sur largestype\n",
    "    #df = pd.get_dummies(df,columns=['LargestPropertyUseType'])\n",
    "    # outlier ? 35 ?\n",
    "    df.drop(index=[3274,35], inplace = True)\n",
    "    return df"
   ]
  },
  {
   "cell_type": "code",
   "execution_count": 4,
   "id": "9f0f2654-8053-4e6a-a010-b414d429f74a",
   "metadata": {
    "executionInfo": {
     "elapsed": 324,
     "status": "ok",
     "timestamp": 1691125979911,
     "user": {
      "displayName": "MarcD",
      "userId": "07072845009722943265"
     },
     "user_tz": -120
    },
    "id": "9f0f2654-8053-4e6a-a010-b414d429f74a"
   },
   "outputs": [],
   "source": [
    "df=preprocess(nettoyage())"
   ]
  },
  {
   "cell_type": "markdown",
   "id": "573e098c-cb19-498b-b5c9-8958b14f1249",
   "metadata": {
    "id": "573e098c-cb19-498b-b5c9-8958b14f1249"
   },
   "source": [
    "## 0.2 Modification des Use Type et GFA's ( METTRE TOUT LE CODE DANS UNE FONCTION A APPELER )\n"
   ]
  },
  {
   "cell_type": "code",
   "execution_count": 5,
   "id": "1b8a8f2a-94d7-4b87-90fb-a7b8ffe8f488",
   "metadata": {
    "id": "1b8a8f2a-94d7-4b87-90fb-a7b8ffe8f488"
   },
   "outputs": [],
   "source": [
    "# colonnes sur lesquelles on va transformer\n",
    "cols_to_transform = ['LargestPropertyUseType','LargestPropertyUseTypeGFA','SecondLargestPropertyUseType', 'SecondLargestPropertyUseTypeGFA','ThirdLargestPropertyUseType', 'ThirdLargestPropertyUseTypeGFA']\n",
    "# DataFrame de travail\n",
    "df_merging = df[cols_to_transform].copy()"
   ]
  },
  {
   "cell_type": "code",
   "execution_count": 6,
   "id": "393c880d-9617-4bfa-a0b5-ae97e0bf0a76",
   "metadata": {
    "id": "393c880d-9617-4bfa-a0b5-ae97e0bf0a76"
   },
   "outputs": [],
   "source": [
    "# bins\n",
    "list_type = ['Data Center','Fitness Center/Health Club/Gym','Office', 'Non-Refrigerated Warehouse', 'K-12 School', 'Retail Store',\n",
    "       'Other', 'Hotel', 'Worship Facility', 'Distribution Center',\n",
    "       'Supermarket/Grocery Store', 'Medical Office', 'Other - Recreation',\n",
    "       'Parking', 'Self-Storage Facility', 'College/University',\n",
    "       'Other - Entertainment/Public Assembly', 'Senior Care Community',\n",
    "       'Laboratory', 'Restaurant', 'Refrigerated Warehouse',\n",
    "       'Social/Meeting Hall', 'Hospital (General Medical & Surgical)',\n",
    "       'Multifamily Housing', 'Manufacturing/Industrial Plant',\n",
    "       'Repair Services (Vehicle, Shoe, Locksmith, etc)', 'Strip Mall']\n",
    "# mapping des colonnes UseType avec la liste de dessus\n",
    "def categs1(x):\n",
    "    if x in list_type:\n",
    "        return x\n",
    "    else :\n",
    "        return 'Other'\n",
    "df_merging['categs1'] = df_merging.LargestPropertyUseType.map(categs1)\n",
    "\n",
    "def categs2(x):\n",
    "    if x in list_type:\n",
    "        return x\n",
    "    elif x!= 0 :\n",
    "        return 'Other'\n",
    "df_merging['categs2'] = df_merging.SecondLargestPropertyUseType.map(categs2)\n",
    "\n",
    "def categs3(x):\n",
    "    if x in list_type:\n",
    "        return x\n",
    "    elif x!= 0 :\n",
    "        return 'Other'\n",
    "df_merging['categs3'] = df_merging.ThirdLargestPropertyUseType.map(categs3)"
   ]
  },
  {
   "cell_type": "code",
   "execution_count": 7,
   "id": "92b6e3db-d6f8-4e63-821b-d6d2a7565ff7",
   "metadata": {
    "id": "92b6e3db-d6f8-4e63-821b-d6d2a7565ff7",
    "scrolled": true
   },
   "outputs": [],
   "source": [
    "# OH\n",
    "df_merging = pd.get_dummies(df_merging,columns=['categs1'])\n",
    "# liste des colonnes OH'ed\n",
    "largest_cols = []\n",
    "for col in df_merging.columns :\n",
    "    if 'categs1_' in col:\n",
    "        largest_cols.append(col)\n",
    "# !!! code dégueu :  boucle qui assigne la valeur GFA au type d'Use\n",
    "for col in largest_cols:\n",
    "    def transformGFA(x):\n",
    "        if x[col] == True:\n",
    "            return x['LargestPropertyUseTypeGFA']\n",
    "        else :\n",
    "            return 0\n",
    "    df_merging[col+'1'] = df_merging.apply(transformGFA, axis=1)"
   ]
  },
  {
   "cell_type": "code",
   "execution_count": 8,
   "id": "58e2ee76-065d-4ea1-98bc-f7ddcac22d83",
   "metadata": {
    "id": "58e2ee76-065d-4ea1-98bc-f7ddcac22d83"
   },
   "outputs": [],
   "source": [
    "# belote pour le second\n",
    "\n",
    "df_merging = pd.get_dummies(df_merging,columns=['categs2'])\n",
    "\n",
    "second_cols = []\n",
    "for col in df_merging.columns :\n",
    "    if 'categs2_' in col:\n",
    "        second_cols.append(col)\n",
    "for col in second_cols:\n",
    "    def secondtransformGFA(x):\n",
    "        if x[col] == True:\n",
    "            return x['SecondLargestPropertyUseTypeGFA']\n",
    "        else :\n",
    "            return 0\n",
    "    df_merging[col+'2'] = df_merging.apply(secondtransformGFA, axis=1)"
   ]
  },
  {
   "cell_type": "code",
   "execution_count": 9,
   "id": "9623f570-1e5f-4cb5-abb3-fbbb9a387556",
   "metadata": {
    "id": "9623f570-1e5f-4cb5-abb3-fbbb9a387556"
   },
   "outputs": [],
   "source": [
    "# rebelote , faire une fonction serait pas mal ....\n",
    "df_merging = pd.get_dummies(df_merging,columns=['categs3'])\n",
    "\n",
    "third_cols = []\n",
    "for col in df_merging.columns :\n",
    "    if 'categs3_' in col:\n",
    "        third_cols.append(col)\n",
    "for col in third_cols:\n",
    "    def thirdtransformGFA(x):\n",
    "        if x[col] == True:\n",
    "            return x['ThirdLargestPropertyUseTypeGFA']\n",
    "        else :\n",
    "            return 0\n",
    "    df_merging[col+'3'] = df_merging.apply(thirdtransformGFA, axis=1)"
   ]
  },
  {
   "cell_type": "code",
   "execution_count": 10,
   "id": "de4774d0-0ec1-4a08-a1ee-7d8db8f1c249",
   "metadata": {
    "id": "de4774d0-0ec1-4a08-a1ee-7d8db8f1c249",
    "scrolled": true
   },
   "outputs": [
    {
     "name": "stderr",
     "output_type": "stream",
     "text": [
      "C:\\Users\\Utilisateur\\AppData\\Local\\Temp\\ipykernel_11576\\3487616290.py:6: PerformanceWarning: DataFrame is highly fragmented.  This is usually the result of calling `frame.insert` many times, which has poor performance.  Consider joining all columns at once using pd.concat(axis=1) instead. To get a de-fragmented frame, use `newframe = frame.copy()`\n",
      "  df_merging[categ] = df_merging['categs1_'+categ+'1'] +  df_merging['categs2_'+categ+'2'] + df_merging['categs3_'+categ+'3']\n",
      "C:\\Users\\Utilisateur\\AppData\\Local\\Temp\\ipykernel_11576\\3487616290.py:6: PerformanceWarning: DataFrame is highly fragmented.  This is usually the result of calling `frame.insert` many times, which has poor performance.  Consider joining all columns at once using pd.concat(axis=1) instead. To get a de-fragmented frame, use `newframe = frame.copy()`\n",
      "  df_merging[categ] = df_merging['categs1_'+categ+'1'] +  df_merging['categs2_'+categ+'2'] + df_merging['categs3_'+categ+'3']\n",
      "C:\\Users\\Utilisateur\\AppData\\Local\\Temp\\ipykernel_11576\\3487616290.py:15: PerformanceWarning: DataFrame is highly fragmented.  This is usually the result of calling `frame.insert` many times, which has poor performance.  Consider joining all columns at once using pd.concat(axis=1) instead. To get a de-fragmented frame, use `newframe = frame.copy()`\n",
      "  df_merging[categ] = df_merging['categs1_'+categ+'1'] +  df_merging['categs2_'+categ+'2']\n",
      "C:\\Users\\Utilisateur\\AppData\\Local\\Temp\\ipykernel_11576\\3487616290.py:6: PerformanceWarning: DataFrame is highly fragmented.  This is usually the result of calling `frame.insert` many times, which has poor performance.  Consider joining all columns at once using pd.concat(axis=1) instead. To get a de-fragmented frame, use `newframe = frame.copy()`\n",
      "  df_merging[categ] = df_merging['categs1_'+categ+'1'] +  df_merging['categs2_'+categ+'2'] + df_merging['categs3_'+categ+'3']\n",
      "C:\\Users\\Utilisateur\\AppData\\Local\\Temp\\ipykernel_11576\\3487616290.py:6: PerformanceWarning: DataFrame is highly fragmented.  This is usually the result of calling `frame.insert` many times, which has poor performance.  Consider joining all columns at once using pd.concat(axis=1) instead. To get a de-fragmented frame, use `newframe = frame.copy()`\n",
      "  df_merging[categ] = df_merging['categs1_'+categ+'1'] +  df_merging['categs2_'+categ+'2'] + df_merging['categs3_'+categ+'3']\n",
      "C:\\Users\\Utilisateur\\AppData\\Local\\Temp\\ipykernel_11576\\3487616290.py:15: PerformanceWarning: DataFrame is highly fragmented.  This is usually the result of calling `frame.insert` many times, which has poor performance.  Consider joining all columns at once using pd.concat(axis=1) instead. To get a de-fragmented frame, use `newframe = frame.copy()`\n",
      "  df_merging[categ] = df_merging['categs1_'+categ+'1'] +  df_merging['categs2_'+categ+'2']\n",
      "C:\\Users\\Utilisateur\\AppData\\Local\\Temp\\ipykernel_11576\\3487616290.py:8: PerformanceWarning: DataFrame is highly fragmented.  This is usually the result of calling `frame.insert` many times, which has poor performance.  Consider joining all columns at once using pd.concat(axis=1) instead. To get a de-fragmented frame, use `newframe = frame.copy()`\n",
      "  df_merging[categ] =  df_merging['categs1_'+categ+'1'] + df_merging['categs3_'+categ+'3']\n"
     ]
    }
   ],
   "source": [
    "# somme des valeurs des GFa/UseType en une colonne\n",
    "for categ in list_type:\n",
    "        if 'categs3_'+categ+'3' in df_merging.columns :\n",
    "            if 'categs1_'+categ+'1' in df_merging.columns:\n",
    "                if 'categs2_'+categ+'2' in df_merging.columns:\n",
    "                    df_merging[categ] = df_merging['categs1_'+categ+'1'] +  df_merging['categs2_'+categ+'2'] + df_merging['categs3_'+categ+'3']\n",
    "                else :\n",
    "                    df_merging[categ] =  df_merging['categs1_'+categ+'1'] + df_merging['categs3_'+categ+'3']\n",
    "            elif 'categs2_'+categ+'2' in df_merging.columns:\n",
    "                    df_merging[categ] = df_merging['categs2_'+categ+'2'] + df_merging['categs3_'+categ+'3']\n",
    "            else :\n",
    "                df_merging[categ] = df_merging['categs3_'+categ+'3']\n",
    "        elif 'categs2_'+categ+'2' in df_merging.columns :\n",
    "            if 'categs1_'+categ+'1' in df_merging.columns:\n",
    "                df_merging[categ] = df_merging['categs1_'+categ+'1'] +  df_merging['categs2_'+categ+'2']\n",
    "            else :\n",
    "                df_merging[categ] = df_merging['categs2_'+categ+'2']\n",
    "        else :\n",
    "            df_merging[categ] = df_merging['categs1_'+categ+'1']"
   ]
  },
  {
   "cell_type": "code",
   "execution_count": 11,
   "id": "18301e25-67cc-46d0-babd-69cebe3a4f36",
   "metadata": {
    "id": "18301e25-67cc-46d0-babd-69cebe3a4f36"
   },
   "outputs": [],
   "source": [
    "# ajout de ces colonnes au df principal\n",
    "df = df.merge(df_merging[list_type], left_index=True, right_index=True, how='outer')"
   ]
  },
  {
   "cell_type": "markdown",
   "id": "S4oNKBWZpYb2",
   "metadata": {
    "id": "S4oNKBWZpYb2"
   },
   "source": [
    "## 0.3 Colonne Etages/Surface"
   ]
  },
  {
   "cell_type": "code",
   "execution_count": 12,
   "id": "H_R3tCWZu7Hk",
   "metadata": {
    "executionInfo": {
     "elapsed": 408,
     "status": "ok",
     "timestamp": 1691126029860,
     "user": {
      "displayName": "MarcD",
      "userId": "07072845009722943265"
     },
     "user_tz": -120
    },
    "id": "H_R3tCWZu7Hk"
   },
   "outputs": [],
   "source": [
    "df.NumberofFloors = df.NumberofFloors + 1"
   ]
  },
  {
   "cell_type": "code",
   "execution_count": 13,
   "id": "chliR5wopUrz",
   "metadata": {
    "executionInfo": {
     "elapsed": 4,
     "status": "ok",
     "timestamp": 1691126030280,
     "user": {
      "displayName": "MarcD",
      "userId": "07072845009722943265"
     },
     "user_tz": -120
    },
    "id": "chliR5wopUrz"
   },
   "outputs": [],
   "source": [
    "df['floor_building'] =   df.NumberofFloors /  df.NumberofBuildings * df.PropertyGFABuildings"
   ]
  },
  {
   "cell_type": "code",
   "execution_count": 14,
   "id": "jp60py_6sj16",
   "metadata": {
    "colab": {
     "base_uri": "https://localhost:8080/"
    },
    "executionInfo": {
     "elapsed": 7,
     "status": "ok",
     "timestamp": 1691126031809,
     "user": {
      "displayName": "MarcD",
      "userId": "07072845009722943265"
     },
     "user_tz": -120
    },
    "id": "jp60py_6sj16",
    "outputId": "8ea0800a-aa7c-4211-84e2-398c45d85a11"
   },
   "outputs": [
    {
     "data": {
      "text/plain": [
       "False"
      ]
     },
     "execution_count": 14,
     "metadata": {},
     "output_type": "execute_result"
    }
   ],
   "source": [
    "np.isinf(df['floor_building'].values).any()"
   ]
  },
  {
   "cell_type": "code",
   "execution_count": 15,
   "id": "gmvGtTcJsYBH",
   "metadata": {
    "colab": {
     "base_uri": "https://localhost:8080/"
    },
    "executionInfo": {
     "elapsed": 411,
     "status": "ok",
     "timestamp": 1691126034261,
     "user": {
      "displayName": "MarcD",
      "userId": "07072845009722943265"
     },
     "user_tz": -120
    },
    "id": "gmvGtTcJsYBH",
    "outputId": "a12b6e2a-bc67-434e-c521-13a705928995"
   },
   "outputs": [
    {
     "data": {
      "text/plain": [
       "PearsonRResult(statistic=0.3422661238718632, pvalue=8.008086581330382e-46)"
      ]
     },
     "execution_count": 15,
     "metadata": {},
     "output_type": "execute_result"
    }
   ],
   "source": [
    "stats.pearsonr(df['SiteEnergyUseWN(kBtu)'],df['floor_building'])"
   ]
  },
  {
   "cell_type": "markdown",
   "id": "7I1RAyHO-Nci",
   "metadata": {
    "id": "7I1RAyHO-Nci"
   },
   "source": [
    "## 0.4 Colonne Ratio decennie et GFABuildings"
   ]
  },
  {
   "cell_type": "code",
   "execution_count": 16,
   "id": "0IoUKURJ93XE",
   "metadata": {
    "colab": {
     "base_uri": "https://localhost:8080/"
    },
    "executionInfo": {
     "elapsed": 424,
     "status": "ok",
     "timestamp": 1691127038093,
     "user": {
      "displayName": "MarcD",
      "userId": "07072845009722943265"
     },
     "user_tz": -120
    },
    "id": "0IoUKURJ93XE",
    "outputId": "fbc30e12-a437-4990-d98e-ab45d9bfac5d"
   },
   "outputs": [
    {
     "data": {
      "text/plain": [
       "PearsonRResult(statistic=0.4939915008938631, pvalue=1.3536302766741733e-100)"
      ]
     },
     "execution_count": 16,
     "metadata": {},
     "output_type": "execute_result"
    }
   ],
   "source": [
    " df['ratio_GFAdecennie'] =  df['PropertyGFABuildings'] / df['decennie']\n",
    " stats.pearsonr( df['ratio_GFAdecennie'], df['SiteEnergyUse(kBtu)'])"
   ]
  },
  {
   "cell_type": "markdown",
   "id": "42b12d82-094b-4f11-9bf3-2d76971c6f1a",
   "metadata": {
    "id": "42b12d82-094b-4f11-9bf3-2d76971c6f1a"
   },
   "source": [
    "# 1. EDA"
   ]
  },
  {
   "cell_type": "code",
   "execution_count": 17,
   "id": "a15acf53-bef4-4ced-842e-eb345c765af1",
   "metadata": {
    "id": "a15acf53-bef4-4ced-842e-eb345c765af1",
    "outputId": "f7f8cddc-8714-43e3-b002-83034f291de0"
   },
   "outputs": [
    {
     "data": {
      "text/html": [
       "<div>\n",
       "<style scoped>\n",
       "    .dataframe tbody tr th:only-of-type {\n",
       "        vertical-align: middle;\n",
       "    }\n",
       "\n",
       "    .dataframe tbody tr th {\n",
       "        vertical-align: top;\n",
       "    }\n",
       "\n",
       "    .dataframe thead th {\n",
       "        text-align: right;\n",
       "    }\n",
       "</style>\n",
       "<table border=\"1\" class=\"dataframe\">\n",
       "  <thead>\n",
       "    <tr style=\"text-align: right;\">\n",
       "      <th></th>\n",
       "      <th>BuildingType</th>\n",
       "      <th>PrimaryPropertyType</th>\n",
       "      <th>Neighborhood</th>\n",
       "      <th>Latitude</th>\n",
       "      <th>Longitude</th>\n",
       "      <th>YearBuilt</th>\n",
       "      <th>NumberofBuildings</th>\n",
       "      <th>NumberofFloors</th>\n",
       "      <th>PropertyGFATotal</th>\n",
       "      <th>PropertyGFAParking</th>\n",
       "      <th>...</th>\n",
       "      <th>Restaurant</th>\n",
       "      <th>Refrigerated Warehouse</th>\n",
       "      <th>Social/Meeting Hall</th>\n",
       "      <th>Hospital (General Medical &amp; Surgical)</th>\n",
       "      <th>Multifamily Housing</th>\n",
       "      <th>Manufacturing/Industrial Plant</th>\n",
       "      <th>Repair Services (Vehicle, Shoe, Locksmith, etc)</th>\n",
       "      <th>Strip Mall</th>\n",
       "      <th>floor_building</th>\n",
       "      <th>ratio_GFAdecennie</th>\n",
       "    </tr>\n",
       "  </thead>\n",
       "  <tbody>\n",
       "    <tr>\n",
       "      <th>count</th>\n",
       "      <td>1623</td>\n",
       "      <td>1623</td>\n",
       "      <td>1623</td>\n",
       "      <td>1623.000000</td>\n",
       "      <td>1623.000000</td>\n",
       "      <td>1623.000000</td>\n",
       "      <td>1623.000000</td>\n",
       "      <td>1623.000000</td>\n",
       "      <td>1.623000e+03</td>\n",
       "      <td>1623.000000</td>\n",
       "      <td>...</td>\n",
       "      <td>1623.000000</td>\n",
       "      <td>1623.000000</td>\n",
       "      <td>1623.000000</td>\n",
       "      <td>1.623000e+03</td>\n",
       "      <td>1623.000000</td>\n",
       "      <td>1623.000000</td>\n",
       "      <td>1623.000000</td>\n",
       "      <td>1623.000000</td>\n",
       "      <td>1.623000e+03</td>\n",
       "      <td>1.623000e+03</td>\n",
       "    </tr>\n",
       "    <tr>\n",
       "      <th>unique</th>\n",
       "      <td>5</td>\n",
       "      <td>20</td>\n",
       "      <td>13</td>\n",
       "      <td>NaN</td>\n",
       "      <td>NaN</td>\n",
       "      <td>NaN</td>\n",
       "      <td>NaN</td>\n",
       "      <td>NaN</td>\n",
       "      <td>NaN</td>\n",
       "      <td>NaN</td>\n",
       "      <td>...</td>\n",
       "      <td>NaN</td>\n",
       "      <td>NaN</td>\n",
       "      <td>NaN</td>\n",
       "      <td>NaN</td>\n",
       "      <td>NaN</td>\n",
       "      <td>NaN</td>\n",
       "      <td>NaN</td>\n",
       "      <td>NaN</td>\n",
       "      <td>NaN</td>\n",
       "      <td>NaN</td>\n",
       "    </tr>\n",
       "    <tr>\n",
       "      <th>top</th>\n",
       "      <td>NonResidential</td>\n",
       "      <td>Small- and Mid-Sized Office</td>\n",
       "      <td>downtown</td>\n",
       "      <td>NaN</td>\n",
       "      <td>NaN</td>\n",
       "      <td>NaN</td>\n",
       "      <td>NaN</td>\n",
       "      <td>NaN</td>\n",
       "      <td>NaN</td>\n",
       "      <td>NaN</td>\n",
       "      <td>...</td>\n",
       "      <td>NaN</td>\n",
       "      <td>NaN</td>\n",
       "      <td>NaN</td>\n",
       "      <td>NaN</td>\n",
       "      <td>NaN</td>\n",
       "      <td>NaN</td>\n",
       "      <td>NaN</td>\n",
       "      <td>NaN</td>\n",
       "      <td>NaN</td>\n",
       "      <td>NaN</td>\n",
       "    </tr>\n",
       "    <tr>\n",
       "      <th>freq</th>\n",
       "      <td>1433</td>\n",
       "      <td>291</td>\n",
       "      <td>356</td>\n",
       "      <td>NaN</td>\n",
       "      <td>NaN</td>\n",
       "      <td>NaN</td>\n",
       "      <td>NaN</td>\n",
       "      <td>NaN</td>\n",
       "      <td>NaN</td>\n",
       "      <td>NaN</td>\n",
       "      <td>...</td>\n",
       "      <td>NaN</td>\n",
       "      <td>NaN</td>\n",
       "      <td>NaN</td>\n",
       "      <td>NaN</td>\n",
       "      <td>NaN</td>\n",
       "      <td>NaN</td>\n",
       "      <td>NaN</td>\n",
       "      <td>NaN</td>\n",
       "      <td>NaN</td>\n",
       "      <td>NaN</td>\n",
       "    </tr>\n",
       "    <tr>\n",
       "      <th>mean</th>\n",
       "      <td>NaN</td>\n",
       "      <td>NaN</td>\n",
       "      <td>NaN</td>\n",
       "      <td>47.615395</td>\n",
       "      <td>-122.333076</td>\n",
       "      <td>1961.868762</td>\n",
       "      <td>1.137400</td>\n",
       "      <td>5.154652</td>\n",
       "      <td>1.133305e+05</td>\n",
       "      <td>13189.457794</td>\n",
       "      <td>...</td>\n",
       "      <td>581.269871</td>\n",
       "      <td>479.824399</td>\n",
       "      <td>184.394948</td>\n",
       "      <td>4.276194e+03</td>\n",
       "      <td>914.300062</td>\n",
       "      <td>212.905730</td>\n",
       "      <td>164.792976</td>\n",
       "      <td>320.123845</td>\n",
       "      <td>1.169724e+06</td>\n",
       "      <td>3.319688e+04</td>\n",
       "    </tr>\n",
       "    <tr>\n",
       "      <th>std</th>\n",
       "      <td>NaN</td>\n",
       "      <td>NaN</td>\n",
       "      <td>NaN</td>\n",
       "      <td>0.048115</td>\n",
       "      <td>0.024540</td>\n",
       "      <td>32.725920</td>\n",
       "      <td>1.157285</td>\n",
       "      <td>6.636882</td>\n",
       "      <td>1.934699e+05</td>\n",
       "      <td>42795.282265</td>\n",
       "      <td>...</td>\n",
       "      <td>4063.564915</td>\n",
       "      <td>7927.631642</td>\n",
       "      <td>2170.424024</td>\n",
       "      <td>6.611172e+04</td>\n",
       "      <td>12829.145674</td>\n",
       "      <td>3973.460564</td>\n",
       "      <td>2508.132536</td>\n",
       "      <td>6018.664487</td>\n",
       "      <td>5.902557e+06</td>\n",
       "      <td>8.083713e+04</td>\n",
       "    </tr>\n",
       "    <tr>\n",
       "      <th>min</th>\n",
       "      <td>NaN</td>\n",
       "      <td>NaN</td>\n",
       "      <td>NaN</td>\n",
       "      <td>47.499170</td>\n",
       "      <td>-122.411820</td>\n",
       "      <td>1900.000000</td>\n",
       "      <td>1.000000</td>\n",
       "      <td>1.000000</td>\n",
       "      <td>1.128500e+04</td>\n",
       "      <td>0.000000</td>\n",
       "      <td>...</td>\n",
       "      <td>0.000000</td>\n",
       "      <td>0.000000</td>\n",
       "      <td>0.000000</td>\n",
       "      <td>0.000000e+00</td>\n",
       "      <td>0.000000</td>\n",
       "      <td>0.000000</td>\n",
       "      <td>0.000000</td>\n",
       "      <td>0.000000</td>\n",
       "      <td>9.266400e+03</td>\n",
       "      <td>6.060000e+02</td>\n",
       "    </tr>\n",
       "    <tr>\n",
       "      <th>25%</th>\n",
       "      <td>NaN</td>\n",
       "      <td>NaN</td>\n",
       "      <td>NaN</td>\n",
       "      <td>47.584690</td>\n",
       "      <td>-122.343260</td>\n",
       "      <td>1930.000000</td>\n",
       "      <td>1.000000</td>\n",
       "      <td>2.000000</td>\n",
       "      <td>2.940850e+04</td>\n",
       "      <td>0.000000</td>\n",
       "      <td>...</td>\n",
       "      <td>0.000000</td>\n",
       "      <td>0.000000</td>\n",
       "      <td>0.000000</td>\n",
       "      <td>0.000000e+00</td>\n",
       "      <td>0.000000</td>\n",
       "      <td>0.000000</td>\n",
       "      <td>0.000000</td>\n",
       "      <td>0.000000</td>\n",
       "      <td>7.776000e+04</td>\n",
       "      <td>4.404131e+03</td>\n",
       "    </tr>\n",
       "    <tr>\n",
       "      <th>50%</th>\n",
       "      <td>NaN</td>\n",
       "      <td>NaN</td>\n",
       "      <td>NaN</td>\n",
       "      <td>47.612170</td>\n",
       "      <td>-122.333050</td>\n",
       "      <td>1965.000000</td>\n",
       "      <td>1.000000</td>\n",
       "      <td>3.000000</td>\n",
       "      <td>4.906600e+04</td>\n",
       "      <td>0.000000</td>\n",
       "      <td>...</td>\n",
       "      <td>0.000000</td>\n",
       "      <td>0.000000</td>\n",
       "      <td>0.000000</td>\n",
       "      <td>0.000000e+00</td>\n",
       "      <td>0.000000</td>\n",
       "      <td>0.000000</td>\n",
       "      <td>0.000000</td>\n",
       "      <td>0.000000</td>\n",
       "      <td>1.477560e+05</td>\n",
       "      <td>8.636250e+03</td>\n",
       "    </tr>\n",
       "    <tr>\n",
       "      <th>75%</th>\n",
       "      <td>NaN</td>\n",
       "      <td>NaN</td>\n",
       "      <td>NaN</td>\n",
       "      <td>47.648655</td>\n",
       "      <td>-122.322110</td>\n",
       "      <td>1989.000000</td>\n",
       "      <td>1.000000</td>\n",
       "      <td>5.000000</td>\n",
       "      <td>1.042255e+05</td>\n",
       "      <td>0.000000</td>\n",
       "      <td>...</td>\n",
       "      <td>0.000000</td>\n",
       "      <td>0.000000</td>\n",
       "      <td>0.000000</td>\n",
       "      <td>0.000000e+00</td>\n",
       "      <td>0.000000</td>\n",
       "      <td>0.000000</td>\n",
       "      <td>0.000000</td>\n",
       "      <td>0.000000</td>\n",
       "      <td>4.106775e+05</td>\n",
       "      <td>2.499232e+04</td>\n",
       "    </tr>\n",
       "    <tr>\n",
       "      <th>max</th>\n",
       "      <td>NaN</td>\n",
       "      <td>NaN</td>\n",
       "      <td>NaN</td>\n",
       "      <td>47.733870</td>\n",
       "      <td>-122.258640</td>\n",
       "      <td>2015.000000</td>\n",
       "      <td>27.000000</td>\n",
       "      <td>100.000000</td>\n",
       "      <td>2.200000e+06</td>\n",
       "      <td>512608.000000</td>\n",
       "      <td>...</td>\n",
       "      <td>80000.000000</td>\n",
       "      <td>276000.000000</td>\n",
       "      <td>49000.000000</td>\n",
       "      <td>1.639334e+06</td>\n",
       "      <td>340236.000000</td>\n",
       "      <td>142901.000000</td>\n",
       "      <td>68359.000000</td>\n",
       "      <td>146363.000000</td>\n",
       "      <td>1.257271e+08</td>\n",
       "      <td>1.004813e+06</td>\n",
       "    </tr>\n",
       "  </tbody>\n",
       "</table>\n",
       "<p>11 rows × 68 columns</p>\n",
       "</div>"
      ],
      "text/plain": [
       "          BuildingType          PrimaryPropertyType Neighborhood     Latitude  \\\n",
       "count             1623                         1623         1623  1623.000000   \n",
       "unique               5                           20           13          NaN   \n",
       "top     NonResidential  Small- and Mid-Sized Office     downtown          NaN   \n",
       "freq              1433                          291          356          NaN   \n",
       "mean               NaN                          NaN          NaN    47.615395   \n",
       "std                NaN                          NaN          NaN     0.048115   \n",
       "min                NaN                          NaN          NaN    47.499170   \n",
       "25%                NaN                          NaN          NaN    47.584690   \n",
       "50%                NaN                          NaN          NaN    47.612170   \n",
       "75%                NaN                          NaN          NaN    47.648655   \n",
       "max                NaN                          NaN          NaN    47.733870   \n",
       "\n",
       "          Longitude    YearBuilt  NumberofBuildings  NumberofFloors  \\\n",
       "count   1623.000000  1623.000000        1623.000000     1623.000000   \n",
       "unique          NaN          NaN                NaN             NaN   \n",
       "top             NaN          NaN                NaN             NaN   \n",
       "freq            NaN          NaN                NaN             NaN   \n",
       "mean    -122.333076  1961.868762           1.137400        5.154652   \n",
       "std        0.024540    32.725920           1.157285        6.636882   \n",
       "min     -122.411820  1900.000000           1.000000        1.000000   \n",
       "25%     -122.343260  1930.000000           1.000000        2.000000   \n",
       "50%     -122.333050  1965.000000           1.000000        3.000000   \n",
       "75%     -122.322110  1989.000000           1.000000        5.000000   \n",
       "max     -122.258640  2015.000000          27.000000      100.000000   \n",
       "\n",
       "        PropertyGFATotal  PropertyGFAParking  ...    Restaurant  \\\n",
       "count       1.623000e+03         1623.000000  ...   1623.000000   \n",
       "unique               NaN                 NaN  ...           NaN   \n",
       "top                  NaN                 NaN  ...           NaN   \n",
       "freq                 NaN                 NaN  ...           NaN   \n",
       "mean        1.133305e+05        13189.457794  ...    581.269871   \n",
       "std         1.934699e+05        42795.282265  ...   4063.564915   \n",
       "min         1.128500e+04            0.000000  ...      0.000000   \n",
       "25%         2.940850e+04            0.000000  ...      0.000000   \n",
       "50%         4.906600e+04            0.000000  ...      0.000000   \n",
       "75%         1.042255e+05            0.000000  ...      0.000000   \n",
       "max         2.200000e+06       512608.000000  ...  80000.000000   \n",
       "\n",
       "       Refrigerated Warehouse Social/Meeting Hall  \\\n",
       "count             1623.000000         1623.000000   \n",
       "unique                    NaN                 NaN   \n",
       "top                       NaN                 NaN   \n",
       "freq                      NaN                 NaN   \n",
       "mean               479.824399          184.394948   \n",
       "std               7927.631642         2170.424024   \n",
       "min                  0.000000            0.000000   \n",
       "25%                  0.000000            0.000000   \n",
       "50%                  0.000000            0.000000   \n",
       "75%                  0.000000            0.000000   \n",
       "max             276000.000000        49000.000000   \n",
       "\n",
       "        Hospital (General Medical & Surgical) Multifamily Housing  \\\n",
       "count                            1.623000e+03         1623.000000   \n",
       "unique                                    NaN                 NaN   \n",
       "top                                       NaN                 NaN   \n",
       "freq                                      NaN                 NaN   \n",
       "mean                             4.276194e+03          914.300062   \n",
       "std                              6.611172e+04        12829.145674   \n",
       "min                              0.000000e+00            0.000000   \n",
       "25%                              0.000000e+00            0.000000   \n",
       "50%                              0.000000e+00            0.000000   \n",
       "75%                              0.000000e+00            0.000000   \n",
       "max                              1.639334e+06       340236.000000   \n",
       "\n",
       "        Manufacturing/Industrial Plant  \\\n",
       "count                      1623.000000   \n",
       "unique                             NaN   \n",
       "top                                NaN   \n",
       "freq                               NaN   \n",
       "mean                        212.905730   \n",
       "std                        3973.460564   \n",
       "min                           0.000000   \n",
       "25%                           0.000000   \n",
       "50%                           0.000000   \n",
       "75%                           0.000000   \n",
       "max                      142901.000000   \n",
       "\n",
       "       Repair Services (Vehicle, Shoe, Locksmith, etc)     Strip Mall  \\\n",
       "count                                      1623.000000    1623.000000   \n",
       "unique                                             NaN            NaN   \n",
       "top                                                NaN            NaN   \n",
       "freq                                               NaN            NaN   \n",
       "mean                                        164.792976     320.123845   \n",
       "std                                        2508.132536    6018.664487   \n",
       "min                                           0.000000       0.000000   \n",
       "25%                                           0.000000       0.000000   \n",
       "50%                                           0.000000       0.000000   \n",
       "75%                                           0.000000       0.000000   \n",
       "max                                       68359.000000  146363.000000   \n",
       "\n",
       "        floor_building  ratio_GFAdecennie  \n",
       "count     1.623000e+03       1.623000e+03  \n",
       "unique             NaN                NaN  \n",
       "top                NaN                NaN  \n",
       "freq               NaN                NaN  \n",
       "mean      1.169724e+06       3.319688e+04  \n",
       "std       5.902557e+06       8.083713e+04  \n",
       "min       9.266400e+03       6.060000e+02  \n",
       "25%       7.776000e+04       4.404131e+03  \n",
       "50%       1.477560e+05       8.636250e+03  \n",
       "75%       4.106775e+05       2.499232e+04  \n",
       "max       1.257271e+08       1.004813e+06  \n",
       "\n",
       "[11 rows x 68 columns]"
      ]
     },
     "execution_count": 17,
     "metadata": {},
     "output_type": "execute_result"
    }
   ],
   "source": [
    "df.describe(include ='all')"
   ]
  },
  {
   "cell_type": "markdown",
   "id": "98a43532-74e3-44fa-b3c6-150d0db4962f",
   "metadata": {
    "id": "98a43532-74e3-44fa-b3c6-150d0db4962f"
   },
   "source": [
    "Valeurs Nulles"
   ]
  },
  {
   "cell_type": "code",
   "execution_count": null,
   "id": "87a3daf3-50c8-4e8f-ab7d-f988a7f23c76",
   "metadata": {
    "id": "87a3daf3-50c8-4e8f-ab7d-f988a7f23c76"
   },
   "outputs": [],
   "source": [
    "# to drop : OSEBuildingID, City, State, DataYear, ZipCode, TaxParcelIdentificationNumber,\n",
    "#       'SecondLargestPropertyUseType', 'SecondLargestPropertyUseTypeGFA',\n",
    "#       'ThirdLargestPropertyUseType', 'ThirdLargestPropertyUseTypeGFA',\n",
    "#       'YearsENERGYSTARCertified', 'Comments'\n",
    "# pending : Adress\n",
    "# ? ? : PropertyName,\n",
    "# To transform : ?  : Neighborhood, Latitude, Longitude, by a K-means ?\n",
    "# YearBuilt : refaire des catégories ( ancien batiment, ? ,  récent, neuf) ?\n",
    "# NumberofBuildings  , regarder si c'est proportionnel\n",
    "#"
   ]
  },
  {
   "cell_type": "markdown",
   "id": "6c321010-8f07-4637-9e74-08be26838283",
   "metadata": {
    "id": "6c321010-8f07-4637-9e74-08be26838283"
   },
   "source": [
    "## 1.1 Analyse Univariée"
   ]
  },
  {
   "cell_type": "markdown",
   "id": "08ad0196-96f8-40a5-88b5-5be3a24ffa49",
   "metadata": {
    "id": "08ad0196-96f8-40a5-88b5-5be3a24ffa49"
   },
   "source": [
    "Number of Floors"
   ]
  },
  {
   "cell_type": "code",
   "execution_count": null,
   "id": "4a105340-0575-4b63-aa24-5ace12eb7854",
   "metadata": {
    "colab": {
     "base_uri": "https://localhost:8080/"
    },
    "executionInfo": {
     "elapsed": 273,
     "status": "ok",
     "timestamp": 1691092555316,
     "user": {
      "displayName": "MarcD",
      "userId": "07072845009722943265"
     },
     "user_tz": -120
    },
    "id": "4a105340-0575-4b63-aa24-5ace12eb7854",
    "outputId": "544af219-fb11-4dbc-a1c7-35cd953be4fe"
   },
   "outputs": [],
   "source": [
    "df.NumberofFloors.value_counts()"
   ]
  },
  {
   "cell_type": "code",
   "execution_count": null,
   "id": "272b7701-4f16-4b00-a871-47ab00ef718c",
   "metadata": {
    "id": "272b7701-4f16-4b00-a871-47ab00ef718c",
    "outputId": "d8ebf631-2318-49c6-fc33-a67986c10a66"
   },
   "outputs": [],
   "source": [
    "sns.boxplot(df.NumberofFloors)"
   ]
  },
  {
   "cell_type": "code",
   "execution_count": null,
   "id": "348b0625-261c-4cbd-93bc-3b4407628dca",
   "metadata": {
    "id": "348b0625-261c-4cbd-93bc-3b4407628dca",
    "outputId": "07649d0c-64d1-4f0d-fe50-947ece9e3551"
   },
   "outputs": [],
   "source": [
    "df[df.NumberofFloors > 40 ].index"
   ]
  },
  {
   "cell_type": "markdown",
   "id": "ca83f486-7060-4d54-bf17-b22d5a0ef53a",
   "metadata": {
    "id": "ca83f486-7060-4d54-bf17-b22d5a0ef53a"
   },
   "source": [
    "Number of Buildings"
   ]
  },
  {
   "cell_type": "code",
   "execution_count": null,
   "id": "ff3f108a-d956-4008-a4aa-fd7a271cd9ea",
   "metadata": {
    "id": "ff3f108a-d956-4008-a4aa-fd7a271cd9ea",
    "outputId": "e4a1a2ec-25e4-40d7-adc1-428499a6294c"
   },
   "outputs": [],
   "source": [
    "df.NumberofBuildings.value_counts()"
   ]
  },
  {
   "cell_type": "code",
   "execution_count": null,
   "id": "902f6a60-6525-4c75-96d7-314f0a5e51f9",
   "metadata": {
    "id": "902f6a60-6525-4c75-96d7-314f0a5e51f9",
    "outputId": "2e7d068f-a7a7-4944-8c5a-074ef29648a8"
   },
   "outputs": [],
   "source": [
    "df[df.NumberofBuildings > 5].index"
   ]
  },
  {
   "cell_type": "markdown",
   "id": "c585a1be-f67d-4baf-8209-14d7e72716ad",
   "metadata": {
    "id": "c585a1be-f67d-4baf-8209-14d7e72716ad"
   },
   "source": [
    "PropertyGFA"
   ]
  },
  {
   "cell_type": "code",
   "execution_count": null,
   "id": "e6046d43-acbd-4e34-9136-8ef268bd7f85",
   "metadata": {
    "id": "e6046d43-acbd-4e34-9136-8ef268bd7f85",
    "outputId": "c42ac57a-e48c-4389-fdea-9341002cfec7"
   },
   "outputs": [],
   "source": [
    "plt.boxplot(df.PropertyGFATotal, vert=False)"
   ]
  },
  {
   "cell_type": "code",
   "execution_count": null,
   "id": "328181b8-d717-4c62-b037-6bc9d57562e6",
   "metadata": {
    "id": "328181b8-d717-4c62-b037-6bc9d57562e6",
    "outputId": "43a6dadd-aba3-4e4d-f593-ff041aadf6b0"
   },
   "outputs": [],
   "source": [
    "df[df.PropertyGFATotal > 1500000].sort_values(by='PropertyGFATotal')"
   ]
  },
  {
   "cell_type": "markdown",
   "id": "4abdc7fb-3cb7-4c3e-ae8c-771369fdff2f",
   "metadata": {
    "id": "4abdc7fb-3cb7-4c3e-ae8c-771369fdff2f"
   },
   "source": [
    "PropertyGFAParking"
   ]
  },
  {
   "cell_type": "code",
   "execution_count": null,
   "id": "e53da8cb-c4aa-4e73-a351-4c95ecebc00b",
   "metadata": {
    "id": "e53da8cb-c4aa-4e73-a351-4c95ecebc00b",
    "outputId": "22b11790-3b87-48f3-fb75-7903d268c5aa"
   },
   "outputs": [],
   "source": [
    "df.PropertyGFAParking.value_counts()"
   ]
  },
  {
   "cell_type": "code",
   "execution_count": null,
   "id": "a0814386-4fce-4c32-89d1-4d52fbe18078",
   "metadata": {
    "id": "a0814386-4fce-4c32-89d1-4d52fbe18078",
    "outputId": "c102ef24-8cc9-4232-ae5e-876a7a4e08e9"
   },
   "outputs": [],
   "source": [
    "sns.boxplot(df['PropertyGFAParking'])"
   ]
  },
  {
   "cell_type": "code",
   "execution_count": null,
   "id": "025b95a9-c3e4-4cc6-b2a6-da3e8a1d91eb",
   "metadata": {
    "id": "025b95a9-c3e4-4cc6-b2a6-da3e8a1d91eb",
    "outputId": "6ad2164a-6664-4547-db15-635399416648"
   },
   "outputs": [],
   "source": [
    "df[df.PropertyGFAParking >  200000 ].index"
   ]
  },
  {
   "cell_type": "markdown",
   "id": "49b02845-3d3b-4225-b53a-64f74e91e895",
   "metadata": {
    "id": "49b02845-3d3b-4225-b53a-64f74e91e895"
   },
   "source": [
    "PropertyGFABuilding(s)"
   ]
  },
  {
   "cell_type": "code",
   "execution_count": null,
   "id": "19f68378-e58c-4c6e-b756-8876eeb5ea6a",
   "metadata": {
    "id": "19f68378-e58c-4c6e-b756-8876eeb5ea6a",
    "outputId": "fd2d5c8f-721c-4aae-fa26-bd8525a9e42a"
   },
   "outputs": [],
   "source": [
    "df[df['PropertyGFABuildings'] > 1500000].sort_values(by='PropertyGFABuildings', ascending=False).index"
   ]
  },
  {
   "cell_type": "markdown",
   "id": "ae4c7546-1725-4afb-9c5f-3b9a3a550762",
   "metadata": {
    "id": "ae4c7546-1725-4afb-9c5f-3b9a3a550762"
   },
   "source": [
    "SiteEUI(kBtu/sf)"
   ]
  },
  {
   "cell_type": "code",
   "execution_count": null,
   "id": "8e266a12-d070-4b1d-84b4-57cdd592d9d4",
   "metadata": {
    "id": "8e266a12-d070-4b1d-84b4-57cdd592d9d4",
    "outputId": "55127b43-021e-4adb-da45-2a34592ed525"
   },
   "outputs": [],
   "source": [
    "sns.boxplot(df['SiteEUI(kBtu/sf)'])"
   ]
  },
  {
   "cell_type": "code",
   "execution_count": null,
   "id": "96694f39-9157-4ccc-bba6-16490496dce2",
   "metadata": {
    "id": "96694f39-9157-4ccc-bba6-16490496dce2",
    "outputId": "cd7207fa-45c4-4787-bba2-7bf6cd1a6cf4"
   },
   "outputs": [],
   "source": [
    "df[df['SiteEUI(kBtu/sf)'] > 500 ].sort_values(by='SiteEUI(kBtu/sf)', ascending=False).index"
   ]
  },
  {
   "cell_type": "markdown",
   "id": "cbf5944e-a3a1-4be1-a883-630e0ffbb6b0",
   "metadata": {
    "id": "cbf5944e-a3a1-4be1-a883-630e0ffbb6b0"
   },
   "source": [
    "SiteEUIWN(kBtu/sf)"
   ]
  },
  {
   "cell_type": "code",
   "execution_count": null,
   "id": "b5ef9387-e5f8-4089-9aae-ad2d10164c06",
   "metadata": {
    "id": "b5ef9387-e5f8-4089-9aae-ad2d10164c06",
    "outputId": "a216cbbb-98cc-4989-e90f-cdec02de15b3"
   },
   "outputs": [],
   "source": [
    "sns.boxplot(df['SiteEUIWN(kBtu/sf)'])"
   ]
  },
  {
   "cell_type": "code",
   "execution_count": null,
   "id": "16cc31b7-0434-4335-9195-58187f3144be",
   "metadata": {
    "id": "16cc31b7-0434-4335-9195-58187f3144be",
    "outputId": "78947c59-7806-47d2-ccaa-94ff92d37d34"
   },
   "outputs": [],
   "source": [
    "df[df['SiteEUIWN(kBtu/sf)'] > 500 ].sort_values(by='SiteEUIWN(kBtu/sf)', ascending=False).index"
   ]
  },
  {
   "cell_type": "markdown",
   "id": "ff97f14b-b55d-41ba-8322-b93e351570c0",
   "metadata": {
    "id": "ff97f14b-b55d-41ba-8322-b93e351570c0"
   },
   "source": [
    " 'SiteEnergyUse(kBtu)',"
   ]
  },
  {
   "cell_type": "code",
   "execution_count": null,
   "id": "cb14aa20-32e6-4c0f-a7af-c8c0173608ae",
   "metadata": {
    "id": "cb14aa20-32e6-4c0f-a7af-c8c0173608ae",
    "outputId": "f69f1eed-0397-45db-9dfb-229745e7f6c9"
   },
   "outputs": [],
   "source": [
    "sns.boxplot(df['SiteEnergyUse(kBtu)'])"
   ]
  },
  {
   "cell_type": "code",
   "execution_count": null,
   "id": "9792a0f3-e64b-45d9-99d9-7db0b07f5873",
   "metadata": {
    "id": "9792a0f3-e64b-45d9-99d9-7db0b07f5873",
    "outputId": "e84dad62-4049-4b90-b476-1edb94ffd189"
   },
   "outputs": [],
   "source": [
    "df[df['SiteEnergyUse(kBtu)'] > 200000000 ].sort_values(by='SiteEnergyUse(kBtu)', ascending=False).index"
   ]
  },
  {
   "cell_type": "markdown",
   "id": "3f6a1a15-3037-44c1-aa41-e94c81cf4fee",
   "metadata": {
    "id": "3f6a1a15-3037-44c1-aa41-e94c81cf4fee"
   },
   "source": [
    "'SteamUse(kBtu)'"
   ]
  },
  {
   "cell_type": "code",
   "execution_count": null,
   "id": "1eb55b3e-dbbe-4b20-a8cf-8083660c85f1",
   "metadata": {
    "id": "1eb55b3e-dbbe-4b20-a8cf-8083660c85f1",
    "outputId": "76ded3c9-ac2d-4e38-942b-e8ecff1f42f7"
   },
   "outputs": [],
   "source": [
    "sns.boxplot(df['SteamUse(kBtu)'])"
   ]
  },
  {
   "cell_type": "code",
   "execution_count": null,
   "id": "0fb2aee7-2cc2-45a2-a327-653df3bd0451",
   "metadata": {
    "id": "0fb2aee7-2cc2-45a2-a327-653df3bd0451",
    "outputId": "5a767872-63fe-49c8-8fc5-6e7a348d67b7"
   },
   "outputs": [],
   "source": [
    "df[df['SteamUse(kBtu)'] > 20000000 ].sort_values(by='SteamUse(kBtu)', ascending=False).index"
   ]
  },
  {
   "cell_type": "code",
   "execution_count": null,
   "id": "0b2ed19d-52e2-4298-ae5d-a501637c05d3",
   "metadata": {
    "id": "0b2ed19d-52e2-4298-ae5d-a501637c05d3",
    "outputId": "ca83c5ad-4d45-47a2-e5f5-fca8e1234183"
   },
   "outputs": [],
   "source": [
    "df[df['SteamUse(kBtu)'] == 0].shape"
   ]
  },
  {
   "cell_type": "markdown",
   "id": "445df791-6e38-4c20-8846-2aadad5244fb",
   "metadata": {
    "id": "445df791-6e38-4c20-8846-2aadad5244fb"
   },
   "source": [
    "Electricity(kWh)"
   ]
  },
  {
   "cell_type": "code",
   "execution_count": null,
   "id": "34c92895-f052-4d4c-be9c-101d3f880b69",
   "metadata": {
    "id": "34c92895-f052-4d4c-be9c-101d3f880b69",
    "outputId": "0c2a8e41-701c-49b4-ace3-34c6bedd863f"
   },
   "outputs": [],
   "source": [
    "sns.boxplot(df[\"Electricity(kWh)\"])"
   ]
  },
  {
   "cell_type": "code",
   "execution_count": null,
   "id": "6dda5ad8-ddc8-482d-a27c-8d5555b18318",
   "metadata": {
    "id": "6dda5ad8-ddc8-482d-a27c-8d5555b18318",
    "outputId": "f4ac3a99-b809-4848-ff00-449f20e54299"
   },
   "outputs": [],
   "source": [
    "df[df['Electricity(kWh)'] > 25000000 ].sort_values(by='Electricity(kWh)', ascending=False).index"
   ]
  },
  {
   "cell_type": "markdown",
   "id": "5f8f7f15-b933-44bb-95e4-ef7d5d1fa2e8",
   "metadata": {
    "id": "5f8f7f15-b933-44bb-95e4-ef7d5d1fa2e8"
   },
   "source": [
    "Natural Gas (therms and kBtu)"
   ]
  },
  {
   "cell_type": "code",
   "execution_count": null,
   "id": "2a6fd5c2-6f10-4547-ab3f-4b67a2276222",
   "metadata": {
    "id": "2a6fd5c2-6f10-4547-ab3f-4b67a2276222",
    "outputId": "283b1f0d-f1ef-468f-ffee-f1f181b67fa3"
   },
   "outputs": [],
   "source": [
    "sns.boxplot(df['NaturalGas(therms)'])"
   ]
  },
  {
   "cell_type": "code",
   "execution_count": null,
   "id": "040ff638-8aca-42fb-8f1b-307797067db6",
   "metadata": {
    "id": "040ff638-8aca-42fb-8f1b-307797067db6",
    "outputId": "e7634c92-0a26-4602-ccd8-b38b209f05e7"
   },
   "outputs": [],
   "source": [
    "df[df['NaturalGas(therms)'] > 500000 ].sort_values(by='NaturalGas(therms)', ascending=False).index"
   ]
  },
  {
   "cell_type": "markdown",
   "id": "fe76c758-4323-4083-b0d5-90882aca486e",
   "metadata": {
    "id": "fe76c758-4323-4083-b0d5-90882aca486e"
   },
   "source": [
    "ComplianceStatus"
   ]
  },
  {
   "cell_type": "code",
   "execution_count": null,
   "id": "57bf303c-e452-4dfa-bdda-4139e56c181f",
   "metadata": {
    "id": "57bf303c-e452-4dfa-bdda-4139e56c181f",
    "outputId": "677f5f0d-5af9-407e-d2a9-a6c49e22a2b8"
   },
   "outputs": [],
   "source": [
    "df.ComplianceStatus.value_counts()"
   ]
  },
  {
   "cell_type": "markdown",
   "id": "9775d60a-2f9c-4678-9ff5-a92ab4a3629a",
   "metadata": {
    "id": "9775d60a-2f9c-4678-9ff5-a92ab4a3629a"
   },
   "source": [
    "TotalGHGEmissions & GHGEmissionsIntensity"
   ]
  },
  {
   "cell_type": "code",
   "execution_count": null,
   "id": "6184c8bf-16c5-4355-9ede-f92b4b71c934",
   "metadata": {
    "id": "6184c8bf-16c5-4355-9ede-f92b4b71c934",
    "outputId": "72f3a091-b3b6-47d4-ca09-3430ea204605"
   },
   "outputs": [],
   "source": [
    "sns.boxplot(df['TotalGHGEmissions'])"
   ]
  },
  {
   "cell_type": "code",
   "execution_count": null,
   "id": "cc4038fe-13d7-45c6-b2cd-f89cbdd59902",
   "metadata": {
    "id": "cc4038fe-13d7-45c6-b2cd-f89cbdd59902",
    "outputId": "a795af28-3012-430a-d497-b404be2bc944"
   },
   "outputs": [],
   "source": [
    "df[df['TotalGHGEmissions'] > 5000 ].sort_values(by='TotalGHGEmissions', ascending=False).index"
   ]
  },
  {
   "cell_type": "code",
   "execution_count": null,
   "id": "3b88f400-7483-44c3-814e-9b8608b3aea8",
   "metadata": {
    "id": "3b88f400-7483-44c3-814e-9b8608b3aea8",
    "outputId": "1f478741-6d3d-4ca2-94de-3e2e8c1878db"
   },
   "outputs": [],
   "source": [
    "sns.boxplot(df['GHGEmissionsIntensity'])"
   ]
  },
  {
   "cell_type": "code",
   "execution_count": null,
   "id": "d125ed09-2fee-4e9a-ba03-d991b6295f74",
   "metadata": {
    "id": "d125ed09-2fee-4e9a-ba03-d991b6295f74",
    "outputId": "a8b2a1fb-4af9-4e1b-ea1e-4ead00d5d725"
   },
   "outputs": [],
   "source": [
    "df[df['GHGEmissionsIntensity'] > 14 ].sort_values(by='GHGEmissionsIntensity', ascending=False).index"
   ]
  },
  {
   "cell_type": "code",
   "execution_count": null,
   "id": "6646da9c-5114-43c3-a925-942d7e091a19",
   "metadata": {
    "id": "6646da9c-5114-43c3-a925-942d7e091a19",
    "outputId": "3d9b0a4d-7f88-4ab7-e778-8891dc266b27"
   },
   "outputs": [],
   "source": [
    "sns.boxplot(df[df.BuildingType.isin(['Campus','Hospital'])]['GHGEmissionsIntensity'].values)"
   ]
  },
  {
   "cell_type": "code",
   "execution_count": null,
   "id": "4e0efdf0-5c1e-463e-9134-6f07f127e224",
   "metadata": {
    "id": "4e0efdf0-5c1e-463e-9134-6f07f127e224",
    "outputId": "5388b83e-b8a0-48c3-8bed-5da0a12911bf"
   },
   "outputs": [],
   "source": [
    "df.PrimaryPropertyType.unique()"
   ]
  },
  {
   "cell_type": "code",
   "execution_count": null,
   "id": "fe801bb4-6fc4-43d7-88c2-ff7b68a203e2",
   "metadata": {
    "id": "fe801bb4-6fc4-43d7-88c2-ff7b68a203e2",
    "outputId": "a3308c32-8d5f-4aed-def2-5581264de6cd"
   },
   "outputs": [],
   "source": [
    "df.loc[df.PrimaryPropertyType.isin(['Mixed Use Property'])].sort_values(by='GHGEmissionsIntensity', ascending = False)"
   ]
  },
  {
   "cell_type": "markdown",
   "id": "2f7b4329-2ec5-45c3-a8f7-78ccce256d86",
   "metadata": {
    "id": "2f7b4329-2ec5-45c3-a8f7-78ccce256d86"
   },
   "source": [
    "## 1.2 Analyse Bivariée"
   ]
  },
  {
   "cell_type": "code",
   "execution_count": null,
   "id": "df097b41-5cc3-428f-b495-07dc14055f90",
   "metadata": {
    "id": "df097b41-5cc3-428f-b495-07dc14055f90"
   },
   "outputs": [],
   "source": [
    "def boxplot_test(col,target, violin = False):\n",
    "  print(f\"\\n Distribution de {target} et  {col}\")\n",
    "  freq_col = pd.DataFrame(df[[target,col]])\n",
    "  freq_col[col] = freq_col[col].astype('str')\n",
    "  print(df[col].value_counts())\n",
    "  sns.color_palette(\"Set2\")\n",
    "  if violin :\n",
    "    sns.violinplot(x=freq_col[target],y=freq_col[col], palette=\"pastel\")\n",
    "  else :\n",
    "    sns.boxplot(x=freq_col[target],y=freq_col[col], palette=\"Set2\",showfliers=False)\n",
    "  plt.title(col)\n",
    "  plt.show()"
   ]
  },
  {
   "cell_type": "code",
   "execution_count": null,
   "id": "f0edcbf4-d944-4dde-8630-af70dda1a9e6",
   "metadata": {
    "id": "f0edcbf4-d944-4dde-8630-af70dda1a9e6"
   },
   "outputs": [],
   "source": [
    "def scatter_test(col,target):\n",
    "    sns.color_palette(\"Set2\")\n",
    "    freq_col = pd.DataFrame(df[[target,col]])\n",
    "    sns.scatterplot(y=freq_col[target],x=freq_col[col])\n",
    "    plt.title(col)\n",
    "    plt.show()"
   ]
  },
  {
   "cell_type": "code",
   "execution_count": null,
   "id": "c87a618d-b04c-4438-9757-a9148eab6150",
   "metadata": {
    "id": "c87a618d-b04c-4438-9757-a9148eab6150"
   },
   "outputs": [],
   "source": [
    "# 'Latitude', 'Longitude',\n",
    "cols_num = [\n",
    "       'SteamUse(kBtu)','Electricity(kBtu)',\n",
    "       'NaturalGas(kBtu)','PropertyGFATotal', 'PropertyGFAParking','PropertyGFABuildings']\n",
    "cols_categ = ['Neighborhood','BuildingType', 'PrimaryPropertyType','YearBuilt', 'NumberofBuildings',\n",
    "       'NumberofFloors','decennie']\n",
    "\n",
    "ord_categ = ['NumberofFloors','decennie','YearBuilt']"
   ]
  },
  {
   "cell_type": "code",
   "execution_count": null,
   "id": "6e587ba9-338e-484e-9f45-4016bed972e6",
   "metadata": {
    "id": "6e587ba9-338e-484e-9f45-4016bed972e6",
    "outputId": "ea357b4a-ebe4-4aaa-8de5-bc506e7bbf3b",
    "scrolled": true
   },
   "outputs": [],
   "source": [
    "for col_num in cols_num :\n",
    "    scatter_test(col_num,'SiteEnergyUse(kBtu)')"
   ]
  },
  {
   "cell_type": "code",
   "execution_count": null,
   "id": "b51cbd9a-96b5-441a-9431-b1934e8ea1cd",
   "metadata": {
    "id": "b51cbd9a-96b5-441a-9431-b1934e8ea1cd",
    "outputId": "9a865e67-ab49-4c7b-8f50-5e444872487b",
    "scrolled": true
   },
   "outputs": [],
   "source": [
    "for col_categ in cols_categ :\n",
    "    scatter_test(col_categ,'SiteEUI(kBtu/sf)')"
   ]
  },
  {
   "cell_type": "code",
   "execution_count": null,
   "id": "44f3081a-9e43-4e87-8ba4-48009caf2587",
   "metadata": {
    "id": "44f3081a-9e43-4e87-8ba4-48009caf2587",
    "outputId": "083a17c9-3b7a-413b-e66d-e571e06fd42e",
    "scrolled": true
   },
   "outputs": [],
   "source": [
    "for col_categ in cols_categ :\n",
    "    boxplot_test(col_categ,'TotalGHGEmissions')"
   ]
  },
  {
   "cell_type": "code",
   "execution_count": null,
   "id": "c91ccec8-b0fa-4463-9c01-3eeacd9cfa1c",
   "metadata": {
    "id": "c91ccec8-b0fa-4463-9c01-3eeacd9cfa1c",
    "outputId": "63581d46-e382-4c5a-e6ef-e854f454bbde",
    "scrolled": true
   },
   "outputs": [],
   "source": [
    "for col_ord in ord_categ :\n",
    "    scatter_test(col_ord,'SiteEnergyUse(kBtu)')"
   ]
  },
  {
   "cell_type": "code",
   "execution_count": null,
   "id": "3d2a2f95-5620-4f67-9924-75edda9303f9",
   "metadata": {
    "id": "3d2a2f95-5620-4f67-9924-75edda9303f9",
    "jupyter": {
     "source_hidden": true
    }
   },
   "outputs": [],
   "source": [
    "larg_columns = ['LargestPropertyUseType_Adult Education',\n",
    "       'LargestPropertyUseType_Automobile Dealership',\n",
    "       'LargestPropertyUseType_Bank Branch',\n",
    "       'LargestPropertyUseType_College/University',\n",
    "       'LargestPropertyUseType_Courthouse',\n",
    "       'LargestPropertyUseType_Data Center',\n",
    "       'LargestPropertyUseType_Distribution Center',\n",
    "       'LargestPropertyUseType_Financial Office',\n",
    "       'LargestPropertyUseType_Fire Station',\n",
    "       'LargestPropertyUseType_Fitness Center/Health Club/Gym',\n",
    "       'LargestPropertyUseType_Food Service',\n",
    "       'LargestPropertyUseType_Hospital (General Medical & Surgical)',\n",
    "       'LargestPropertyUseType_Hotel', 'LargestPropertyUseType_K-12 School',\n",
    "       'LargestPropertyUseType_Laboratory', 'LargestPropertyUseType_Library',\n",
    "       'LargestPropertyUseType_Lifestyle Center',\n",
    "       'LargestPropertyUseType_Manufacturing/Industrial Plant',\n",
    "       'LargestPropertyUseType_Medical Office',\n",
    "       'LargestPropertyUseType_Movie Theater',\n",
    "       'LargestPropertyUseType_Multifamily Housing',\n",
    "       'LargestPropertyUseType_Museum',\n",
    "       'LargestPropertyUseType_Non-Refrigerated Warehouse',\n",
    "       'LargestPropertyUseType_Office', 'LargestPropertyUseType_Other',\n",
    "       'LargestPropertyUseType_Other - Education',\n",
    "       'LargestPropertyUseType_Other - Entertainment/Public Assembly',\n",
    "       'LargestPropertyUseType_Other - Lodging/Residential',\n",
    "       'LargestPropertyUseType_Other - Mall',\n",
    "       'LargestPropertyUseType_Other - Public Services',\n",
    "       'LargestPropertyUseType_Other - Recreation',\n",
    "       'LargestPropertyUseType_Other - Restaurant/Bar',\n",
    "       'LargestPropertyUseType_Other - Services',\n",
    "       'LargestPropertyUseType_Other - Utility',\n",
    "       'LargestPropertyUseType_Other/Specialty Hospital',\n",
    "       'LargestPropertyUseType_Parking',\n",
    "       'LargestPropertyUseType_Performing Arts',\n",
    "       'LargestPropertyUseType_Personal Services (Health/Beauty, Dry Cleaning, etc)',\n",
    "       'LargestPropertyUseType_Police Station',\n",
    "       'LargestPropertyUseType_Pre-school/Daycare',\n",
    "       'LargestPropertyUseType_Prison/Incarceration',\n",
    "       'LargestPropertyUseType_Refrigerated Warehouse',\n",
    "       'LargestPropertyUseType_Repair Services (Vehicle, Shoe, Locksmith, etc)',\n",
    "       'LargestPropertyUseType_Residence Hall/Dormitory',\n",
    "       'LargestPropertyUseType_Residential Care Facility',\n",
    "       'LargestPropertyUseType_Restaurant',\n",
    "       'LargestPropertyUseType_Retail Store',\n",
    "       'LargestPropertyUseType_Self-Storage Facility',\n",
    "       'LargestPropertyUseType_Senior Care Community',\n",
    "       'LargestPropertyUseType_Social/Meeting Hall',\n",
    "       'LargestPropertyUseType_Strip Mall',\n",
    "       'LargestPropertyUseType_Supermarket/Grocery Store',\n",
    "       'LargestPropertyUseType_Urgent Care/Clinic/Other Outpatient',\n",
    "       'LargestPropertyUseType_Wholesale Club/Supercenter',\n",
    "       'LargestPropertyUseType_Worship Facility']"
   ]
  },
  {
   "cell_type": "code",
   "execution_count": null,
   "id": "a1c05777-564e-464c-acc1-74b362a8a429",
   "metadata": {
    "id": "a1c05777-564e-464c-acc1-74b362a8a429",
    "outputId": "44d8f959-effb-494c-cfae-bf0b31f83d31",
    "scrolled": true
   },
   "outputs": [],
   "source": [
    "for col in list_type :\n",
    "    scatter_test(col,'GHGEmissionsIntensity')"
   ]
  },
  {
   "cell_type": "markdown",
   "id": "e2ef73b7-82ea-433d-8b2f-317b59ea67e3",
   "metadata": {
    "id": "e2ef73b7-82ea-433d-8b2f-317b59ea67e3"
   },
   "source": [
    "# 2. OLS"
   ]
  },
  {
   "cell_type": "code",
   "execution_count": 18,
   "id": "5703ee28-9411-4f92-820c-8d076643543b",
   "metadata": {
    "id": "5703ee28-9411-4f92-820c-8d076643543b"
   },
   "outputs": [],
   "source": [
    "def format_col(str):\n",
    "    \"\"\"\n",
    "    Formate les colonnes du dataframe\n",
    "    \"\"\"\n",
    "    str = str.replace(\"\"\"'\"\"\",\"\")\n",
    "    str = str.replace(\"\"\"\\n\"\"\",\"\")\n",
    "    str = str.replace(\"\"\"/\"\"\",\"\")\n",
    "    str = str.replace(\"\"\" \"\"\",\"_\")\n",
    "    str = str.replace(\"-\",\"_\")\n",
    "    str = str.replace(\"(\",\"\")\n",
    "    str = str.replace(\")\",\"\")\n",
    "    str = str.replace(\",\",\"_\")\n",
    "    str = str.replace(\"&\",\"and\")\n",
    "    return str"
   ]
  },
  {
   "cell_type": "code",
   "execution_count": 19,
   "id": "247def3e-8689-4051-86a3-fd0af835977f",
   "metadata": {
    "id": "247def3e-8689-4051-86a3-fd0af835977f"
   },
   "outputs": [],
   "source": [
    "def ols_auto(df_ols,list_cols,target,return_last_arg1=False):\n",
    "    \"\"\"\n",
    "    df : DataFrame cleaned up ( no NaN and categorical must be encoded)\n",
    "    list_cols : List of columns  ex : list(df_ols.columns)\n",
    "    target : String of the col target ex:  'target'\n",
    "    return_last_arg1 : renvoi du dernier arg1 (str) pour peaufiner l'anova\n",
    "    \"\"\"\n",
    "    # conversion en liste\n",
    "    if type(list_cols) != list :\n",
    "      try:\n",
    "        list_cols_asList = list(list_cols)\n",
    "      except:\n",
    "        print(\"Le second argument n'est pas convertissable en Liste Python ! \")\n",
    "    else:\n",
    "      list_cols_asList = list_cols.copy()\n",
    "\n",
    "    # définition du df de travail\n",
    "    df_test = df_ols[list_cols_asList].copy()\n",
    "\n",
    "    # conversion en float des colonnes concernées\n",
    "    for col in df_test.columns:\n",
    "        try:\n",
    "            df_test.loc[:,col] = df_test[col].astype(float,errors='ignore')\n",
    "        except: # !!!  fonctionnalité d'erreur non testée pas testée\n",
    "            print('Error : could not convert column : ',col,' to float')\n",
    "    while True :\n",
    "        # A REVOIR :  pour retirer un élément à chaque itération  ( utiliser regex ou autre ? )\n",
    "        # construction de l'argument 1 ( chaine de caractere) dans la fonction ols\n",
    "        str2=\"\"\n",
    "        for col in list_cols_asList :\n",
    "            if col == target:\n",
    "                pass\n",
    "            else:\n",
    "                str2+= (\" + \" + col )\n",
    "        format_str= str2[2:]\n",
    "        ols_arg1 = target +\" ~ \"+format_str + \" -1 \"\n",
    "        # realisation de l'ols\n",
    "        test_reg = ols(ols_arg1, data=df_test).fit()\n",
    "        #print(i,test_reg.pvalues.idxmax(),test_reg.pvalues.max())\n",
    "        # si p value max est inférieure à 5 % , break\n",
    "        if  test_reg.pvalues.max() < 0.05:\n",
    "            break\n",
    "        else:\n",
    "            list_cols_asList.remove(test_reg.pvalues.idxmax())\n",
    "    if return_last_arg1 :\n",
    "      return test_reg, ols_arg1\n",
    "    return test_reg"
   ]
  },
  {
   "cell_type": "code",
   "execution_count": 20,
   "id": "64011426-6818-4e51-a5c6-186054a042c6",
   "metadata": {
    "id": "64011426-6818-4e51-a5c6-186054a042c6"
   },
   "outputs": [],
   "source": [
    "ols_df = df.copy()\n",
    "ols_df = pd.get_dummies(ols_df, columns=['Neighborhood'], drop_first=True)\n",
    "# cols unusable\n",
    "cols_unusable = ['NumberofBuildings','NumberofFloors','YearBuilt','BuildingType','PrimaryPropertyType','SiteEUIWN(kBtu/sf)','LargestPropertyUseType',\n",
    "       'LargestPropertyUseTypeGFA', 'SecondLargestPropertyUseType',\n",
    "       'SecondLargestPropertyUseTypeGFA', 'ThirdLargestPropertyUseType',\n",
    "       'ThirdLargestPropertyUseTypeGFA','PropertyGFATotal','PropertyGFAParking','PropertyGFABuildings','ListOfAllPropertyUseTypes','SiteEUI(kBtu/sf)','SiteEUI(kBtu/sf)','SourceEUI(kBtu/sf)','SourceEUIWN(kBtu/sf)','Latitude', 'Longitude','SiteEnergyUse(kBtu)', 'SteamUse(kBtu)','Electricity(kWh)','Electricity(kBtu)','NaturalGas(therms)','NaturalGas(kBtu)','ComplianceStatus','GHGEmissionsIntensity']\n",
    "ols_df.drop(columns=cols_unusable, inplace=True)\n",
    "# renaming columns to perform ols\n",
    "for col in ols_df.columns:\n",
    "    col_formatted = format_col(col)\n",
    "    ols_df.rename(columns={col:col_formatted},inplace=True)"
   ]
  },
  {
   "cell_type": "markdown",
   "id": "5eef1158-2baf-4d05-95fc-91de60060d64",
   "metadata": {
    "id": "5eef1158-2baf-4d05-95fc-91de60060d64"
   },
   "source": [
    "### 2.1 GHG : Anova"
   ]
  },
  {
   "cell_type": "markdown",
   "id": "f3b4f5fc-fdde-4ad0-b80d-686ec5732254",
   "metadata": {
    "id": "f3b4f5fc-fdde-4ad0-b80d-686ec5732254"
   },
   "source": [
    "['Neighborhood','BuildingType', 'PrimaryPropertyType','YearBuilt', 'NumberofBuildings',\n",
    "       'NumberofFloors',\n",
    "       'PropertyGFABuilding(s)',\n",
    "       'ComplianceStatus',\n",
    "       'Outlier']"
   ]
  },
  {
   "cell_type": "code",
   "execution_count": 21,
   "id": "d06fefdd-537c-4d03-8c7d-96db4e34e43e",
   "metadata": {
    "id": "d06fefdd-537c-4d03-8c7d-96db4e34e43e"
   },
   "outputs": [],
   "source": [
    "olsGHG_df = ols_df.copy()\n",
    "#manually drop the SiteEnergyUsekBtu\n",
    "olsGHG_df.drop(columns=['SiteEnergyUseWNkBtu'], inplace=True)"
   ]
  },
  {
   "cell_type": "code",
   "execution_count": 23,
   "id": "b6e5f53c-cabb-460d-b5d4-fca213306f19",
   "metadata": {
    "colab": {
     "base_uri": "https://localhost:8080/"
    },
    "executionInfo": {
     "elapsed": 2111,
     "status": "ok",
     "timestamp": 1691088926943,
     "user": {
      "displayName": "MarcD",
      "userId": "07072845009722943265"
     },
     "user_tz": -120
    },
    "id": "b6e5f53c-cabb-460d-b5d4-fca213306f19",
    "outputId": "5d99873e-f331-432d-90d8-ec440719543c",
    "scrolled": true
   },
   "outputs": [
    {
     "name": "stdout",
     "output_type": "stream",
     "text": [
      "                                 OLS Regression Results                                \n",
      "=======================================================================================\n",
      "Dep. Variable:      TotalGHGEmissions   R-squared (uncentered):                   0.914\n",
      "Model:                            OLS   Adj. R-squared (uncentered):              0.912\n",
      "Method:                 Least Squares   F-statistic:                              625.1\n",
      "Date:                Fri, 04 Aug 2023   Prob (F-statistic):                        0.00\n",
      "Time:                        08:48:23   Log-Likelihood:                         -10705.\n",
      "No. Observations:                1623   AIC:                                  2.146e+04\n",
      "Df Residuals:                    1596   BIC:                                  2.161e+04\n",
      "Df Model:                          27                                                  \n",
      "Covariance Type:            nonrobust                                                  \n",
      "=========================================================================================================\n",
      "                                            coef    std err          t      P>|t|      [0.025      0.975]\n",
      "---------------------------------------------------------------------------------------------------------\n",
      "is_campus                               100.9400     32.022      3.152      0.002      38.131     163.749\n",
      "p_gas                                     5.9368      0.620      9.568      0.000       4.720       7.154\n",
      "p_elec                                    2.5677      0.483      5.315      0.000       1.620       3.515\n",
      "p_steam                                   9.3314      0.800     11.659      0.000       7.762      10.901\n",
      "WN_ratio                               -307.0644     46.225     -6.643      0.000    -397.733    -216.396\n",
      "Data_Center                               0.0079      0.001     11.467      0.000       0.007       0.009\n",
      "Office                                    0.0009      9e-05     10.163      0.000       0.001       0.001\n",
      "Non_Refrigerated_Warehouse                0.0005      0.000      3.444      0.001       0.000       0.001\n",
      "K_12_School                               0.0010      0.000      5.505      0.000       0.001       0.001\n",
      "Retail_Store                              0.0005      0.000      3.395      0.001       0.000       0.001\n",
      "Other                                     0.0025      0.000     20.411      0.000       0.002       0.003\n",
      "Hotel                                     0.0026      0.000     23.079      0.000       0.002       0.003\n",
      "Distribution_Center                       0.0010      0.000      3.009      0.003       0.000       0.002\n",
      "SupermarketGrocery_Store                  0.0035      0.001      6.749      0.000       0.002       0.004\n",
      "Medical_Office                            0.0027      0.000     13.523      0.000       0.002       0.003\n",
      "Other___Recreation                        0.0014      0.000      4.782      0.000       0.001       0.002\n",
      "Parking                                   0.0004      0.000      2.922      0.004       0.000       0.001\n",
      "CollegeUniversity                         0.0020   9.75e-05     20.167      0.000       0.002       0.002\n",
      "Other___EntertainmentPublic_Assembly      0.0009   9.86e-05      9.192      0.000       0.001       0.001\n",
      "Senior_Care_Community                     0.0021      0.000      9.937      0.000       0.002       0.003\n",
      "Laboratory                                0.0067      0.000     16.607      0.000       0.006       0.008\n",
      "SocialMeeting_Hall                        0.0041      0.002      1.996      0.046    7.04e-05       0.008\n",
      "Hospital_General_Medical_and_Surgical     0.0074   7.79e-05     95.318      0.000       0.007       0.008\n",
      "Multifamily_Housing                       0.0012      0.000      2.843      0.005       0.000       0.002\n",
      "Strip_Mall                                0.0021      0.001      2.840      0.005       0.001       0.004\n",
      "floor_building                        -8.488e-06   1.53e-06     -5.552      0.000   -1.15e-05   -5.49e-06\n",
      "ratio_GFAdecennie                        -0.0003   9.83e-05     -2.838      0.005      -0.000   -8.61e-05\n",
      "==============================================================================\n",
      "Omnibus:                     1666.637   Durbin-Watson:                   1.854\n",
      "Prob(Omnibus):                  0.000   Jarque-Bera (JB):           291758.444\n",
      "Skew:                           4.509   Prob(JB):                         0.00\n",
      "Kurtosis:                      68.062   Cond. No.                     6.28e+07\n",
      "==============================================================================\n",
      "\n",
      "Notes:\n",
      "[1] R² is computed without centering (uncentered) since the model does not contain a constant.\n",
      "[2] Standard Errors assume that the covariance matrix of the errors is correctly specified.\n",
      "[3] The condition number is large, 6.28e+07. This might indicate that there are\n",
      "strong multicollinearity or other numerical problems.\n"
     ]
    }
   ],
   "source": [
    "GHG_reg, arg1 = ols_auto(olsGHG_df,olsGHG_df.columns,'TotalGHGEmissions', return_last_arg1=True)\n",
    "print(GHG_reg.summary())"
   ]
  },
  {
   "cell_type": "code",
   "execution_count": 24,
   "id": "8da8a05b-93b3-4632-a440-1b9afecc3dbc",
   "metadata": {
    "colab": {
     "base_uri": "https://localhost:8080/",
     "height": 70
    },
    "executionInfo": {
     "elapsed": 222,
     "status": "ok",
     "timestamp": 1691088932106,
     "user": {
      "displayName": "MarcD",
      "userId": "07072845009722943265"
     },
     "user_tz": -120
    },
    "id": "8da8a05b-93b3-4632-a440-1b9afecc3dbc",
    "outputId": "7dddb6b3-9d58-44a4-c9e3-1408acab4fe4"
   },
   "outputs": [
    {
     "data": {
      "text/plain": [
       "\" is_campus ',' p_gas ',' p_elec ',' p_steam ',' WN_ratio ',' Data_Center ',' Office ',' Non_Refrigerated_Warehouse ',' K_12_School ',' Retail_Store ',' Other ',' Hotel ',' Distribution_Center ',' SupermarketGrocery_Store ',' Medical_Office ',' Other___Recreation ',' Parking ',' CollegeUniversity ',' Other___EntertainmentPublic_Assembly ',' Senior_Care_Community ',' Laboratory ',' SocialMeeting_Hall ',' Hospital_General_Medical_and_Surgical ',' Multifamily_Housing ',' Strip_Mall ',' floor_building ',' ratio_GFAdecennie \""
      ]
     },
     "execution_count": 24,
     "metadata": {},
     "output_type": "execute_result"
    }
   ],
   "source": [
    "# remplacement des + par , pour pouvoir intégrer ces colonnes à une liste facilement\n",
    "arg1[20:-3].replace('+',\"','\")"
   ]
  },
  {
   "cell_type": "markdown",
   "id": "ed7b68e0-f5fc-40d3-8162-b41d33c38c76",
   "metadata": {
    "id": "ed7b68e0-f5fc-40d3-8162-b41d33c38c76"
   },
   "source": [
    "## 2.2 SiteEnergyUse(kBtu) : Anova"
   ]
  },
  {
   "cell_type": "code",
   "execution_count": 25,
   "id": "4a659f8a-6747-4c09-96b1-daef6f9a0a5b",
   "metadata": {
    "id": "4a659f8a-6747-4c09-96b1-daef6f9a0a5b"
   },
   "outputs": [],
   "source": [
    "ols_energy_df = ols_df.copy()\n",
    "ols_energy_df.drop(columns=['TotalGHGEmissions','p_gas','p_elec','p_steam'], inplace = True)"
   ]
  },
  {
   "cell_type": "code",
   "execution_count": 26,
   "id": "dd268349-0354-4877-87d0-3a7385809932",
   "metadata": {
    "colab": {
     "base_uri": "https://localhost:8080/"
    },
    "executionInfo": {
     "elapsed": 1634,
     "status": "ok",
     "timestamp": 1691088937470,
     "user": {
      "displayName": "MarcD",
      "userId": "07072845009722943265"
     },
     "user_tz": -120
    },
    "id": "dd268349-0354-4877-87d0-3a7385809932",
    "outputId": "3981ef9f-d238-4a03-9309-0c77cc7de692"
   },
   "outputs": [
    {
     "name": "stdout",
     "output_type": "stream",
     "text": [
      "                                 OLS Regression Results                                 \n",
      "========================================================================================\n",
      "Dep. Variable:     SiteEnergyUseWNkBtu   R-squared (uncentered):                   0.905\n",
      "Model:                             OLS   Adj. R-squared (uncentered):              0.904\n",
      "Method:                  Least Squares   F-statistic:                              565.1\n",
      "Date:                 Fri, 04 Aug 2023   Prob (F-statistic):                        0.00\n",
      "Time:                         08:49:31   Log-Likelihood:                         -27733.\n",
      "No. Observations:                 1623   AIC:                                  5.552e+04\n",
      "Df Residuals:                     1596   BIC:                                  5.567e+04\n",
      "Df Model:                           27                                                  \n",
      "Covariance Type:             nonrobust                                                  \n",
      "=========================================================================================================\n",
      "                                            coef    std err          t      P>|t|      [0.025      0.975]\n",
      "---------------------------------------------------------------------------------------------------------\n",
      "is_campus                              5.008e+06   1.15e+06      4.348      0.000    2.75e+06    7.27e+06\n",
      "decennie                              -1.707e+05   5.51e+04     -3.099      0.002   -2.79e+05   -6.26e+04\n",
      "WN_ratio                               1.585e+06   3.97e+05      3.991      0.000    8.06e+05    2.36e+06\n",
      "Data_Center                            1063.3453     24.636     43.162      0.000    1015.023    1111.668\n",
      "Office                                   64.4744      3.061     21.064      0.000      58.471      70.478\n",
      "Non_Refrigerated_Warehouse               17.5099      6.101      2.870      0.004       5.542      29.478\n",
      "K_12_School                              38.2812      6.186      6.188      0.000      26.147      50.415\n",
      "Retail_Store                             35.0105      5.744      6.095      0.000      23.743      46.278\n",
      "Other                                   106.7092      4.336     24.609      0.000      98.204     115.214\n",
      "Hotel                                    95.8448      3.990     24.019      0.000      88.018     103.672\n",
      "Distribution_Center                      35.5057     12.022      2.953      0.003      11.925      59.086\n",
      "SupermarketGrocery_Store                168.4148     18.528      9.090      0.000     132.073     204.757\n",
      "Medical_Office                          116.9355      6.862     17.040      0.000     103.475     130.396\n",
      "Other___Recreation                       52.7987     10.886      4.850      0.000      31.447      74.151\n",
      "CollegeUniversity                        75.9686      3.477     21.848      0.000      69.148      82.789\n",
      "Other___EntertainmentPublic_Assembly     48.6905      3.556     13.694      0.000      41.716      55.665\n",
      "Senior_Care_Community                    78.6413      7.617     10.324      0.000      63.701      93.582\n",
      "Laboratory                              258.9579     14.562     17.783      0.000     230.396     287.520\n",
      "Restaurant                              131.7837     40.677      3.240      0.001      51.998     211.569\n",
      "Refrigerated_Warehouse                  106.3916     22.518      4.725      0.000      62.224     150.559\n",
      "SocialMeeting_Hall                      225.4369     73.966      3.048      0.002      80.355     370.518\n",
      "Hospital_General_Medical_and_Surgical   207.5048      2.664     77.905      0.000     202.280     212.729\n",
      "Multifamily_Housing                      78.9644     14.646      5.392      0.000      50.237     107.692\n",
      "Strip_Mall                               96.7376     26.591      3.638      0.000      44.580     148.895\n",
      "floor_building                           -0.2319      0.054     -4.255      0.000      -0.339      -0.125\n",
      "ratio_GFAdecennie                       -10.0198      3.624     -2.765      0.006     -17.128      -2.912\n",
      "Neighborhood_northeast                 1.312e+06   6.38e+05      2.057      0.040     6.1e+04    2.56e+06\n",
      "==============================================================================\n",
      "Omnibus:                     1314.786   Durbin-Watson:                   1.937\n",
      "Prob(Omnibus):                  0.000   Jarque-Bera (JB):           125206.837\n",
      "Skew:                           3.153   Prob(JB):                         0.00\n",
      "Kurtosis:                      45.564   Cond. No.                     4.34e+07\n",
      "==============================================================================\n",
      "\n",
      "Notes:\n",
      "[1] R² is computed without centering (uncentered) since the model does not contain a constant.\n",
      "[2] Standard Errors assume that the covariance matrix of the errors is correctly specified.\n",
      "[3] The condition number is large, 4.34e+07. This might indicate that there are\n",
      "strong multicollinearity or other numerical problems.\n"
     ]
    }
   ],
   "source": [
    "energy_reg, arg_energy = ols_auto(ols_energy_df,ols_energy_df.columns,'SiteEnergyUseWNkBtu',return_last_arg1=True)\n",
    "print(energy_reg.summary())"
   ]
  },
  {
   "cell_type": "code",
   "execution_count": 27,
   "id": "01a1ecfe-1540-4851-9835-4991a0a975d7",
   "metadata": {
    "colab": {
     "base_uri": "https://localhost:8080/",
     "height": 70
    },
    "executionInfo": {
     "elapsed": 244,
     "status": "ok",
     "timestamp": 1691088975344,
     "user": {
      "displayName": "MarcD",
      "userId": "07072845009722943265"
     },
     "user_tz": -120
    },
    "id": "01a1ecfe-1540-4851-9835-4991a0a975d7",
    "outputId": "2afb3770-72fd-4b45-a9fb-c3b3483dea17"
   },
   "outputs": [
    {
     "data": {
      "text/plain": [
       "\" is_campus ',' decennie ',' WN_ratio ',' Data_Center ',' Office ',' Non_Refrigerated_Warehouse ',' K_12_School ',' Retail_Store ',' Other ',' Hotel ',' Distribution_Center ',' SupermarketGrocery_Store ',' Medical_Office ',' Other___Recreation ',' CollegeUniversity ',' Other___EntertainmentPublic_Assembly ',' Senior_Care_Community ',' Laboratory ',' Restaurant ',' Refrigerated_Warehouse ',' SocialMeeting_Hall ',' Hospital_General_Medical_and_Surgical ',' Multifamily_Housing ',' Strip_Mall ',' floor_building ',' ratio_GFAdecennie ',' Neighborhood_northeast \""
      ]
     },
     "execution_count": 27,
     "metadata": {},
     "output_type": "execute_result"
    }
   ],
   "source": [
    "arg_energy[22:-3].replace('+',\"','\")"
   ]
  }
 ],
 "metadata": {
  "colab": {
   "provenance": [],
   "toc_visible": true
  },
  "kernelspec": {
   "display_name": "Python 3 (ipykernel)",
   "language": "python",
   "name": "python3"
  },
  "language_info": {
   "codemirror_mode": {
    "name": "ipython",
    "version": 3
   },
   "file_extension": ".py",
   "mimetype": "text/x-python",
   "name": "python",
   "nbconvert_exporter": "python",
   "pygments_lexer": "ipython3",
   "version": "3.11.4"
  }
 },
 "nbformat": 4,
 "nbformat_minor": 5
}
