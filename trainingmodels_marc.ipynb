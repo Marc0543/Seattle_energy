{
 "cells": [
  {
   "cell_type": "code",
   "execution_count": 1,
   "id": "a37e6dfa-1283-4790-87bc-bae12b576afa",
   "metadata": {
    "scrolled": true
   },
   "outputs": [],
   "source": [
    "import pandas as pd\n",
    "import numpy as np\n",
    "import matplotlib.pyplot as plt\n",
    "import seaborn as sns\n",
    "from scipy import stats\n",
    "from category_encoders import MEstimateEncoder\n",
    "import sklearn\n",
    "sklearn.set_config(transform_output=\"pandas\")\n",
    "from scipy import stats\n",
    "from statsmodels.formula.api import ols\n",
    "from sklearn.model_selection import train_test_split, GridSearchCV\n",
    "from sklearn.ensemble import RandomForestRegressor\n",
    "from sklearn.linear_model import LinearRegression\n",
    "import sklearn.metrics as metrics"
   ]
  },
  {
   "cell_type": "code",
   "execution_count": 2,
   "id": "af14d78b-4591-41a7-8945-0cf8a19f8561",
   "metadata": {},
   "outputs": [],
   "source": [
    "%%capture\n",
    "\n",
    "%run cleaning_marc_final.ipynb ;"
   ]
  },
  {
   "cell_type": "markdown",
   "id": "f87c9285-1b8c-4f96-8a52-c09f96f23db4",
   "metadata": {
    "id": "6b35246a-896b-45ad-8822-57c138832a27"
   },
   "source": [
    "# 3.  Predictions : TotalGHGEmissions"
   ]
  },
  {
   "cell_type": "code",
   "execution_count": 4,
   "id": "3da64fb3-6da7-4565-ba30-c46b916c2ce2",
   "metadata": {
    "colab": {
     "base_uri": "https://localhost:8080/"
    },
    "executionInfo": {
     "elapsed": 354,
     "status": "ok",
     "timestamp": 1691090143776,
     "user": {
      "displayName": "MarcD",
      "userId": "07072845009722943265"
     },
     "user_tz": -120
    },
    "id": "27ae92ba-92c2-4217-bce9-69f6fc6490ca",
    "outputId": "de8f13e7-3d1a-4e88-fba6-c90455003098"
   },
   "outputs": [],
   "source": [
    "possible_features = ['floor_building', 'is_campus ',' p_gas ',' p_elec ',' p_steam ',' WN_ratio ',' Data_Center ',' Other ',' Hotel ',' SupermarketGrocery_Store ',' Medical_Office ',' Other___Recreation ',' Senior_Care_Community ',' Laboratory ',' Hospital_General_Medical_and_Surgical']\n",
    "i = 0\n",
    "while i < len(possible_features):\n",
    "    possible_features[i] = possible_features[i].strip()\n",
    "    i+=1"
   ]
  },
  {
   "cell_type": "code",
   "execution_count": 5,
   "id": "a5e8130d-910c-40b7-9826-7edb98bf9036",
   "metadata": {
    "id": "33ac2886-3c62-44ff-a9b4-de53a67ffce7"
   },
   "outputs": [],
   "source": [
    "features = ['NumberofBuildings' , 'NumberofFloors' , 'is_laboratory' , 'is_hospital' , 'p_gas' , 'p_steam' , 'PropertyGFABuildings' , 'LargestPropertyUseType_SupermarketGrocery_Store' , 'LargestPropertyUseType_Senior_Care_Community' ,'LargestPropertyUseType_Data_Center' , 'LargestPropertyUseType_Hotel']\n",
    "# a corriger\n",
    "X_GHG = ols_df[possible_features].to_numpy()\n",
    "y_GHG = ols_df['TotalGHGEmissions'].to_numpy()\n",
    "X_train_GHG, X_test_GHG , y_train_GHG, y_test_GHG = train_test_split(X_GHG,y_GHG,test_size=0.2, random_state=33)"
   ]
  },
  {
   "cell_type": "code",
   "execution_count": 6,
   "id": "8237c3b1-4bbd-4f92-a786-b6a902d5c154",
   "metadata": {
    "colab": {
     "base_uri": "https://localhost:8080/",
     "height": 118
    },
    "executionInfo": {
     "elapsed": 30428,
     "status": "ok",
     "timestamp": 1691089074116,
     "user": {
      "displayName": "MarcD",
      "userId": "07072845009722943265"
     },
     "user_tz": -120
    },
    "id": "8cf99f0c-264b-415a-a1b5-2052b9c87677",
    "outputId": "0eaffb70-19c5-4de4-bd88-73f2ad8044e3"
   },
   "outputs": [
    {
     "data": {
      "text/html": [
       "<style>#sk-container-id-1 {color: black;}#sk-container-id-1 pre{padding: 0;}#sk-container-id-1 div.sk-toggleable {background-color: white;}#sk-container-id-1 label.sk-toggleable__label {cursor: pointer;display: block;width: 100%;margin-bottom: 0;padding: 0.3em;box-sizing: border-box;text-align: center;}#sk-container-id-1 label.sk-toggleable__label-arrow:before {content: \"▸\";float: left;margin-right: 0.25em;color: #696969;}#sk-container-id-1 label.sk-toggleable__label-arrow:hover:before {color: black;}#sk-container-id-1 div.sk-estimator:hover label.sk-toggleable__label-arrow:before {color: black;}#sk-container-id-1 div.sk-toggleable__content {max-height: 0;max-width: 0;overflow: hidden;text-align: left;background-color: #f0f8ff;}#sk-container-id-1 div.sk-toggleable__content pre {margin: 0.2em;color: black;border-radius: 0.25em;background-color: #f0f8ff;}#sk-container-id-1 input.sk-toggleable__control:checked~div.sk-toggleable__content {max-height: 200px;max-width: 100%;overflow: auto;}#sk-container-id-1 input.sk-toggleable__control:checked~label.sk-toggleable__label-arrow:before {content: \"▾\";}#sk-container-id-1 div.sk-estimator input.sk-toggleable__control:checked~label.sk-toggleable__label {background-color: #d4ebff;}#sk-container-id-1 div.sk-label input.sk-toggleable__control:checked~label.sk-toggleable__label {background-color: #d4ebff;}#sk-container-id-1 input.sk-hidden--visually {border: 0;clip: rect(1px 1px 1px 1px);clip: rect(1px, 1px, 1px, 1px);height: 1px;margin: -1px;overflow: hidden;padding: 0;position: absolute;width: 1px;}#sk-container-id-1 div.sk-estimator {font-family: monospace;background-color: #f0f8ff;border: 1px dotted black;border-radius: 0.25em;box-sizing: border-box;margin-bottom: 0.5em;}#sk-container-id-1 div.sk-estimator:hover {background-color: #d4ebff;}#sk-container-id-1 div.sk-parallel-item::after {content: \"\";width: 100%;border-bottom: 1px solid gray;flex-grow: 1;}#sk-container-id-1 div.sk-label:hover label.sk-toggleable__label {background-color: #d4ebff;}#sk-container-id-1 div.sk-serial::before {content: \"\";position: absolute;border-left: 1px solid gray;box-sizing: border-box;top: 0;bottom: 0;left: 50%;z-index: 0;}#sk-container-id-1 div.sk-serial {display: flex;flex-direction: column;align-items: center;background-color: white;padding-right: 0.2em;padding-left: 0.2em;position: relative;}#sk-container-id-1 div.sk-item {position: relative;z-index: 1;}#sk-container-id-1 div.sk-parallel {display: flex;align-items: stretch;justify-content: center;background-color: white;position: relative;}#sk-container-id-1 div.sk-item::before, #sk-container-id-1 div.sk-parallel-item::before {content: \"\";position: absolute;border-left: 1px solid gray;box-sizing: border-box;top: 0;bottom: 0;left: 50%;z-index: -1;}#sk-container-id-1 div.sk-parallel-item {display: flex;flex-direction: column;z-index: 1;position: relative;background-color: white;}#sk-container-id-1 div.sk-parallel-item:first-child::after {align-self: flex-end;width: 50%;}#sk-container-id-1 div.sk-parallel-item:last-child::after {align-self: flex-start;width: 50%;}#sk-container-id-1 div.sk-parallel-item:only-child::after {width: 0;}#sk-container-id-1 div.sk-dashed-wrapped {border: 1px dashed gray;margin: 0 0.4em 0.5em 0.4em;box-sizing: border-box;padding-bottom: 0.4em;background-color: white;}#sk-container-id-1 div.sk-label label {font-family: monospace;font-weight: bold;display: inline-block;line-height: 1.2em;}#sk-container-id-1 div.sk-label-container {text-align: center;}#sk-container-id-1 div.sk-container {/* jupyter's `normalize.less` sets `[hidden] { display: none; }` but bootstrap.min.css set `[hidden] { display: none !important; }` so we also need the `!important` here to be able to override the default hidden behavior on the sphinx rendered scikit-learn.org. See: https://github.com/scikit-learn/scikit-learn/issues/21755 */display: inline-block !important;position: relative;}#sk-container-id-1 div.sk-text-repr-fallback {display: none;}</style><div id=\"sk-container-id-1\" class=\"sk-top-container\"><div class=\"sk-text-repr-fallback\"><pre>GridSearchCV(cv=5, estimator=RandomForestRegressor(),\n",
       "             param_grid={&#x27;max_depth&#x27;: [1, 2, 3, 4, 5, 6, 7, 8, 9],\n",
       "                         &#x27;n_estimators&#x27;: [1, 2, 3, 4, 5, 6, 7, 8, 9, 10, 11, 12,\n",
       "                                          13, 14, 15, 16, 17, 18, 19]},\n",
       "             scoring=&#x27;r2&#x27;)</pre><b>In a Jupyter environment, please rerun this cell to show the HTML representation or trust the notebook. <br />On GitHub, the HTML representation is unable to render, please try loading this page with nbviewer.org.</b></div><div class=\"sk-container\" hidden><div class=\"sk-item sk-dashed-wrapped\"><div class=\"sk-label-container\"><div class=\"sk-label sk-toggleable\"><input class=\"sk-toggleable__control sk-hidden--visually\" id=\"sk-estimator-id-1\" type=\"checkbox\" ><label for=\"sk-estimator-id-1\" class=\"sk-toggleable__label sk-toggleable__label-arrow\">GridSearchCV</label><div class=\"sk-toggleable__content\"><pre>GridSearchCV(cv=5, estimator=RandomForestRegressor(),\n",
       "             param_grid={&#x27;max_depth&#x27;: [1, 2, 3, 4, 5, 6, 7, 8, 9],\n",
       "                         &#x27;n_estimators&#x27;: [1, 2, 3, 4, 5, 6, 7, 8, 9, 10, 11, 12,\n",
       "                                          13, 14, 15, 16, 17, 18, 19]},\n",
       "             scoring=&#x27;r2&#x27;)</pre></div></div></div><div class=\"sk-parallel\"><div class=\"sk-parallel-item\"><div class=\"sk-item\"><div class=\"sk-label-container\"><div class=\"sk-label sk-toggleable\"><input class=\"sk-toggleable__control sk-hidden--visually\" id=\"sk-estimator-id-2\" type=\"checkbox\" ><label for=\"sk-estimator-id-2\" class=\"sk-toggleable__label sk-toggleable__label-arrow\">estimator: RandomForestRegressor</label><div class=\"sk-toggleable__content\"><pre>RandomForestRegressor()</pre></div></div></div><div class=\"sk-serial\"><div class=\"sk-item\"><div class=\"sk-estimator sk-toggleable\"><input class=\"sk-toggleable__control sk-hidden--visually\" id=\"sk-estimator-id-3\" type=\"checkbox\" ><label for=\"sk-estimator-id-3\" class=\"sk-toggleable__label sk-toggleable__label-arrow\">RandomForestRegressor</label><div class=\"sk-toggleable__content\"><pre>RandomForestRegressor()</pre></div></div></div></div></div></div></div></div></div></div>"
      ],
      "text/plain": [
       "GridSearchCV(cv=5, estimator=RandomForestRegressor(),\n",
       "             param_grid={'max_depth': [1, 2, 3, 4, 5, 6, 7, 8, 9],\n",
       "                         'n_estimators': [1, 2, 3, 4, 5, 6, 7, 8, 9, 10, 11, 12,\n",
       "                                          13, 14, 15, 16, 17, 18, 19]},\n",
       "             scoring='r2')"
      ]
     },
     "execution_count": 6,
     "metadata": {},
     "output_type": "execute_result"
    }
   ],
   "source": [
    "rf = RandomForestRegressor()\n",
    "param_rf = {'n_estimators':[i for i in range(1,20,1)],\n",
    "           'max_depth':[i for i in range(1,10,1)]}\n",
    "regr = GridSearchCV(rf,param_grid=param_rf,scoring='r2',cv=5,refit=True)\n",
    "regr.fit(X_train_GHG,y_train_GHG)"
   ]
  },
  {
   "cell_type": "code",
   "execution_count": 7,
   "id": "19592d92-b765-4050-a9dd-21278fc948a2",
   "metadata": {
    "colab": {
     "base_uri": "https://localhost:8080/"
    },
    "executionInfo": {
     "elapsed": 236,
     "status": "ok",
     "timestamp": 1691089078122,
     "user": {
      "displayName": "MarcD",
      "userId": "07072845009722943265"
     },
     "user_tz": -120
    },
    "id": "3f511e0d-ffc9-4fa9-a050-2d53187f417a",
    "outputId": "4eca5db5-aa7e-4d3a-8ded-2700d3d20498"
   },
   "outputs": [
    {
     "data": {
      "text/plain": [
       "0.9554280717183412"
      ]
     },
     "execution_count": 7,
     "metadata": {},
     "output_type": "execute_result"
    }
   ],
   "source": [
    "regr.score(X_train_GHG,y_train_GHG)"
   ]
  },
  {
   "cell_type": "code",
   "execution_count": 8,
   "id": "1cd71231-c1d4-43a4-bc7c-318ac0152172",
   "metadata": {
    "colab": {
     "base_uri": "https://localhost:8080/"
    },
    "executionInfo": {
     "elapsed": 259,
     "status": "ok",
     "timestamp": 1691089080093,
     "user": {
      "displayName": "MarcD",
      "userId": "07072845009722943265"
     },
     "user_tz": -120
    },
    "id": "4dbe86ca-5029-4d7f-a67a-832478bb7581",
    "outputId": "a141fe7b-eba9-4a40-bb29-97af6e3bf187"
   },
   "outputs": [
    {
     "data": {
      "text/plain": [
       "{'max_depth': 9, 'n_estimators': 17}"
      ]
     },
     "execution_count": 8,
     "metadata": {},
     "output_type": "execute_result"
    }
   ],
   "source": [
    "params = regr.best_params_\n",
    "params"
   ]
  },
  {
   "cell_type": "code",
   "execution_count": 9,
   "id": "072efcf0-f6f9-4e39-804f-eba8f79bc62b",
   "metadata": {
    "colab": {
     "base_uri": "https://localhost:8080/"
    },
    "executionInfo": {
     "elapsed": 236,
     "status": "ok",
     "timestamp": 1691089081482,
     "user": {
      "displayName": "MarcD",
      "userId": "07072845009722943265"
     },
     "user_tz": -120
    },
    "id": "28c0db5e-4558-4910-aeaa-8865660b8093",
    "outputId": "4dfe68b0-2ac7-461c-ee96-9895eaf4c1ee"
   },
   "outputs": [
    {
     "data": {
      "text/plain": [
       "0.8069399487042216"
      ]
     },
     "execution_count": 9,
     "metadata": {},
     "output_type": "execute_result"
    }
   ],
   "source": [
    "final_rf = RandomForestRegressor(n_estimators = params['n_estimators'],max_depth=params['max_depth'])\n",
    "final_rf.fit(X_train_GHG,y_train_GHG)\n",
    "metrics.r2_score(y_test_GHG,final_rf.predict(X_test_GHG))"
   ]
  },
  {
   "cell_type": "code",
   "execution_count": 35,
   "id": "57d74919-2e45-4d43-9ce9-a90cc9c29213",
   "metadata": {
    "colab": {
     "base_uri": "https://localhost:8080/",
     "height": 524
    },
    "executionInfo": {
     "elapsed": 1062,
     "status": "ok",
     "timestamp": 1691089092753,
     "user": {
      "displayName": "MarcD",
      "userId": "07072845009722943265"
     },
     "user_tz": -120
    },
    "id": "37f4b5dc-6860-4b25-a22f-e3c095ded5b3",
    "outputId": "1bafa562-e289-4617-c0b2-7aa101599192",
    "scrolled": true
   },
   "outputs": [
    {
     "data": {
      "text/plain": [
       "[<matplotlib.lines.Line2D at 0x1bb746eff90>]"
      ]
     },
     "execution_count": 35,
     "metadata": {},
     "output_type": "execute_result"
    },
    {
     "data": {
      "image/png": "[encoded data removed]",
      "text/plain": [
       "<Figure size 640x480 with 1 Axes>"
      ]
     },
     "metadata": {},
     "output_type": "display_data"
    }
   ],
   "source": [
    "plt.plot(y_train_GHG)"
   ]
  },
  {
   "cell_type": "code",
   "execution_count": 36,
   "id": "08c4a1ea-b1ee-422c-8d68-5ddae8ea1786",
   "metadata": {
    "colab": {
     "base_uri": "https://localhost:8080/",
     "height": 524
    },
    "executionInfo": {
     "elapsed": 858,
     "status": "ok",
     "timestamp": 1691089094687,
     "user": {
      "displayName": "MarcD",
      "userId": "07072845009722943265"
     },
     "user_tz": -120
    },
    "id": "477e9965-2e40-4d45-a09d-e139b1625d25",
    "outputId": "2ae6aad7-7e0a-445b-e7d8-db31489e6816",
    "scrolled": true
   },
   "outputs": [
    {
     "data": {
      "text/plain": [
       "[<matplotlib.lines.Line2D at 0x1bb74b506d0>]"
      ]
     },
     "execution_count": 36,
     "metadata": {},
     "output_type": "execute_result"
    },
    {
     "data": {
      "image/png": "[encoded data removed]",
      "text/plain": [
       "<Figure size 640x480 with 1 Axes>"
      ]
     },
     "metadata": {},
     "output_type": "display_data"
    }
   ],
   "source": [
    "plt.plot(y_test_GHG)"
   ]
  },
  {
   "cell_type": "markdown",
   "id": "ba5f6b4d-dba4-4117-809d-6c857f01ae13",
   "metadata": {
    "id": "01961344-e524-49c5-b370-158987fead3b"
   },
   "source": [
    "# 4.  Prediction : SiteEnergyUsekBtu"
   ]
  },
  {
   "cell_type": "code",
   "execution_count": 10,
   "id": "8bd82b19-509e-4b99-8c7a-cc6be1d28200",
   "metadata": {
    "id": "cdd6acd0-7081-4016-8ef9-6810bfd30c32"
   },
   "outputs": [],
   "source": [
    "possible_features_E = ['Neighborhood_northeast','floor_building',' is_campus ',' decennie ',' Data_Center ',' Office ',' Non_Refrigerated_Warehouse ',' K_12_School ',' Retail_Store ',' Other ',' Hotel ',' Distribution_Center ',' SupermarketGrocery_Store ',' Medical_Office ',' Other___Recreation ',' CollegeUniversity ',' Other___EntertainmentPublic_Assembly ',' Senior_Care_Community ',' Laboratory ',' Restaurant ',' Refrigerated_Warehouse ',' SocialMeeting_Hall ',' Hospital_General_Medical_and_Surgical ',' Multifamily_Housing ',' Strip_Mall' ]\n",
    "i = 0\n",
    "while i < len(possible_features_E):\n",
    "    possible_features_E[i] = possible_features_E[i].strip()\n",
    "    i+=1"
   ]
  },
  {
   "cell_type": "code",
   "execution_count": 11,
   "id": "57d7a8d6-2b50-4a46-b2d4-f05611abc8eb",
   "metadata": {
    "id": "e0b75428-2767-46a8-9e66-079e23438aad"
   },
   "outputs": [],
   "source": [
    "#features = ['WN_ratio', 'YearBuilt' ,'NumberofBuildings', 'is_laboratory','LargestPropertyUseType_Hospital_General_Medical_and_Surgical', 'is_campus' , 'PropertyGFABuildings' , 'LargestPropertyUseType_SupermarketGrocery_Store','LargestPropertyUseType_Data_Center' , 'LargestPropertyUseType_Hotel']\n",
    "# a corriger\n",
    "X_energy = ols_df[possible_features_E]\n",
    "y_energy = ols_df['SiteEnergyUseWNkBtu']"
   ]
  },
  {
   "cell_type": "markdown",
   "id": "220f3486-569e-4547-a962-4f8eccd7f02b",
   "metadata": {},
   "source": [
    "## 4.0 ACP"
   ]
  },
  {
   "cell_type": "code",
   "execution_count": 12,
   "id": "57442d60-ece3-4553-b446-a099a571fcde",
   "metadata": {
    "id": "96f307ef-d752-47e7-9d4c-4268095266cb"
   },
   "outputs": [],
   "source": [
    "from IPython.display import display\n",
    "from sklearn.feature_selection import mutual_info_regression\n",
    "\n",
    "\n",
    "\n",
    "plt.rc(\"figure\", autolayout=True)\n",
    "plt.rc(\n",
    "    \"axes\",\n",
    "    labelweight=\"bold\",\n",
    "    labelsize=\"large\",\n",
    "    titleweight=\"bold\",\n",
    "    titlesize=14,\n",
    "    titlepad=10,\n",
    ")\n",
    "\n",
    "\n",
    "def plot_variance(pca, width=8, dpi=100):\n",
    "    # Create figure\n",
    "    fig, axs = plt.subplots(1, 2)\n",
    "    n = pca.n_components_\n",
    "    grid = np.arange(1, n + 1)\n",
    "    # Explained variance\n",
    "    evr = pca.explained_variance_ratio_\n",
    "    axs[0].bar(grid, evr)\n",
    "    axs[0].set(\n",
    "        xlabel=\"Component\", title=\"% Explained Variance\", ylim=(0.0, 1.0)\n",
    "    )\n",
    "    # Cumulative Variance\n",
    "    cv = np.cumsum(evr)\n",
    "    axs[1].plot(np.r_[0, grid], np.r_[0, cv], \"o-\")\n",
    "    axs[1].set(\n",
    "        xlabel=\"Component\", title=\"% Cumulative Variance\", ylim=(0.0, 1.0)\n",
    "    )\n",
    "    # Set up figure\n",
    "    fig.set(figwidth=8, dpi=100)\n",
    "    return axs\n",
    "\n",
    "\n",
    "\n",
    "def make_mi_scores(X, y, discrete_features):\n",
    "    mi_scores = mutual_info_regression(X, y, discrete_features=discrete_features)\n",
    "    mi_scores = pd.Series(mi_scores, name=\"MI Scores\", index=X.columns)\n",
    "    mi_scores = mi_scores.sort_values(ascending=False)\n",
    "    return mi_scores\n"
   ]
  },
  {
   "cell_type": "code",
   "execution_count": 13,
   "id": "e4c0a862-5fd9-4013-a9e3-b1396c8e1ab9",
   "metadata": {
    "id": "570e685c-70df-4121-9ecd-024e7df4d385"
   },
   "outputs": [],
   "source": [
    "X_scaled = (X_energy - X_energy.mean(axis=0)) / X_energy.std(axis=0)"
   ]
  },
  {
   "cell_type": "code",
   "execution_count": 15,
   "id": "709d55a6-0363-4517-bbe8-70d1f5032eb0",
   "metadata": {
    "colab": {
     "base_uri": "https://localhost:8080/",
     "height": 386
    },
    "executionInfo": {
     "elapsed": 4,
     "status": "ok",
     "timestamp": 1691091396209,
     "user": {
      "displayName": "MarcD",
      "userId": "07072845009722943265"
     },
     "user_tz": -120
    },
    "id": "6e5b2136-33c2-4f4e-90a0-61b35a3a1165",
    "outputId": "ce860ee7-3358-4e33-b618-aea9a9c2a138"
   },
   "outputs": [
    {
     "data": {
      "text/html": [
       "<div>\n",
       "<style scoped>\n",
       "    .dataframe tbody tr th:only-of-type {\n",
       "        vertical-align: middle;\n",
       "    }\n",
       "\n",
       "    .dataframe tbody tr th {\n",
       "        vertical-align: top;\n",
       "    }\n",
       "\n",
       "    .dataframe thead th {\n",
       "        text-align: right;\n",
       "    }\n",
       "</style>\n",
       "<table border=\"1\" class=\"dataframe\">\n",
       "  <thead>\n",
       "    <tr style=\"text-align: right;\">\n",
       "      <th></th>\n",
       "      <th>pca0</th>\n",
       "      <th>pca1</th>\n",
       "      <th>pca2</th>\n",
       "      <th>pca3</th>\n",
       "      <th>pca4</th>\n",
       "      <th>pca5</th>\n",
       "      <th>pca6</th>\n",
       "      <th>pca7</th>\n",
       "      <th>pca8</th>\n",
       "      <th>pca9</th>\n",
       "      <th>...</th>\n",
       "      <th>pca15</th>\n",
       "      <th>pca16</th>\n",
       "      <th>pca17</th>\n",
       "      <th>pca18</th>\n",
       "      <th>pca19</th>\n",
       "      <th>pca20</th>\n",
       "      <th>pca21</th>\n",
       "      <th>pca22</th>\n",
       "      <th>pca23</th>\n",
       "      <th>pca24</th>\n",
       "    </tr>\n",
       "  </thead>\n",
       "  <tbody>\n",
       "    <tr>\n",
       "      <th>0</th>\n",
       "      <td>-0.198466</td>\n",
       "      <td>-0.044483</td>\n",
       "      <td>-0.232122</td>\n",
       "      <td>0.437879</td>\n",
       "      <td>1.286144</td>\n",
       "      <td>-0.957238</td>\n",
       "      <td>0.115130</td>\n",
       "      <td>0.129386</td>\n",
       "      <td>-0.105071</td>\n",
       "      <td>-0.457875</td>\n",
       "      <td>...</td>\n",
       "      <td>0.139883</td>\n",
       "      <td>0.282538</td>\n",
       "      <td>-0.819918</td>\n",
       "      <td>-0.537148</td>\n",
       "      <td>0.003870</td>\n",
       "      <td>-0.452418</td>\n",
       "      <td>0.836741</td>\n",
       "      <td>0.044753</td>\n",
       "      <td>0.054722</td>\n",
       "      <td>-0.102109</td>\n",
       "    </tr>\n",
       "    <tr>\n",
       "      <th>1</th>\n",
       "      <td>0.313025</td>\n",
       "      <td>-0.170366</td>\n",
       "      <td>-0.348245</td>\n",
       "      <td>0.089387</td>\n",
       "      <td>1.490966</td>\n",
       "      <td>0.352723</td>\n",
       "      <td>0.211818</td>\n",
       "      <td>0.224993</td>\n",
       "      <td>-0.435949</td>\n",
       "      <td>-0.026770</td>\n",
       "      <td>...</td>\n",
       "      <td>-0.246536</td>\n",
       "      <td>-0.052504</td>\n",
       "      <td>-0.542318</td>\n",
       "      <td>-0.881754</td>\n",
       "      <td>0.489871</td>\n",
       "      <td>-0.417689</td>\n",
       "      <td>-0.748900</td>\n",
       "      <td>-0.095720</td>\n",
       "      <td>0.189418</td>\n",
       "      <td>0.061759</td>\n",
       "    </tr>\n",
       "    <tr>\n",
       "      <th>2</th>\n",
       "      <td>5.460704</td>\n",
       "      <td>-0.097844</td>\n",
       "      <td>-1.219177</td>\n",
       "      <td>-1.151030</td>\n",
       "      <td>10.676398</td>\n",
       "      <td>-2.088826</td>\n",
       "      <td>3.102097</td>\n",
       "      <td>1.748262</td>\n",
       "      <td>-1.642274</td>\n",
       "      <td>-2.101700</td>\n",
       "      <td>...</td>\n",
       "      <td>0.209655</td>\n",
       "      <td>1.175941</td>\n",
       "      <td>-3.097885</td>\n",
       "      <td>-7.312606</td>\n",
       "      <td>2.448407</td>\n",
       "      <td>-5.543282</td>\n",
       "      <td>4.106079</td>\n",
       "      <td>0.161730</td>\n",
       "      <td>-0.891124</td>\n",
       "      <td>0.944399</td>\n",
       "    </tr>\n",
       "    <tr>\n",
       "      <th>3</th>\n",
       "      <td>-0.328987</td>\n",
       "      <td>-0.038001</td>\n",
       "      <td>-0.191942</td>\n",
       "      <td>0.468740</td>\n",
       "      <td>0.900529</td>\n",
       "      <td>-0.897030</td>\n",
       "      <td>0.000537</td>\n",
       "      <td>0.064965</td>\n",
       "      <td>-0.047624</td>\n",
       "      <td>-0.381775</td>\n",
       "      <td>...</td>\n",
       "      <td>0.136387</td>\n",
       "      <td>0.237787</td>\n",
       "      <td>-0.716630</td>\n",
       "      <td>-0.274558</td>\n",
       "      <td>-0.086455</td>\n",
       "      <td>-0.258486</td>\n",
       "      <td>0.695289</td>\n",
       "      <td>0.041412</td>\n",
       "      <td>0.089153</td>\n",
       "      <td>-0.050798</td>\n",
       "    </tr>\n",
       "    <tr>\n",
       "      <th>4</th>\n",
       "      <td>0.352106</td>\n",
       "      <td>-0.073589</td>\n",
       "      <td>-0.463443</td>\n",
       "      <td>-0.393163</td>\n",
       "      <td>1.813624</td>\n",
       "      <td>-0.152663</td>\n",
       "      <td>0.291044</td>\n",
       "      <td>0.238326</td>\n",
       "      <td>-0.287215</td>\n",
       "      <td>-0.256628</td>\n",
       "      <td>...</td>\n",
       "      <td>-0.019436</td>\n",
       "      <td>0.219079</td>\n",
       "      <td>-0.568525</td>\n",
       "      <td>-1.052734</td>\n",
       "      <td>0.372968</td>\n",
       "      <td>-1.239694</td>\n",
       "      <td>0.022872</td>\n",
       "      <td>-0.003363</td>\n",
       "      <td>0.134883</td>\n",
       "      <td>-0.005524</td>\n",
       "    </tr>\n",
       "  </tbody>\n",
       "</table>\n",
       "<p>5 rows × 25 columns</p>\n",
       "</div>"
      ],
      "text/plain": [
       "       pca0      pca1      pca2      pca3       pca4      pca5      pca6  \\\n",
       "0 -0.198466 -0.044483 -0.232122  0.437879   1.286144 -0.957238  0.115130   \n",
       "1  0.313025 -0.170366 -0.348245  0.089387   1.490966  0.352723  0.211818   \n",
       "2  5.460704 -0.097844 -1.219177 -1.151030  10.676398 -2.088826  3.102097   \n",
       "3 -0.328987 -0.038001 -0.191942  0.468740   0.900529 -0.897030  0.000537   \n",
       "4  0.352106 -0.073589 -0.463443 -0.393163   1.813624 -0.152663  0.291044   \n",
       "\n",
       "       pca7      pca8      pca9  ...     pca15     pca16     pca17     pca18  \\\n",
       "0  0.129386 -0.105071 -0.457875  ...  0.139883  0.282538 -0.819918 -0.537148   \n",
       "1  0.224993 -0.435949 -0.026770  ... -0.246536 -0.052504 -0.542318 -0.881754   \n",
       "2  1.748262 -1.642274 -2.101700  ...  0.209655  1.175941 -3.097885 -7.312606   \n",
       "3  0.064965 -0.047624 -0.381775  ...  0.136387  0.237787 -0.716630 -0.274558   \n",
       "4  0.238326 -0.287215 -0.256628  ... -0.019436  0.219079 -0.568525 -1.052734   \n",
       "\n",
       "      pca19     pca20     pca21     pca22     pca23     pca24  \n",
       "0  0.003870 -0.452418  0.836741  0.044753  0.054722 -0.102109  \n",
       "1  0.489871 -0.417689 -0.748900 -0.095720  0.189418  0.061759  \n",
       "2  2.448407 -5.543282  4.106079  0.161730 -0.891124  0.944399  \n",
       "3 -0.086455 -0.258486  0.695289  0.041412  0.089153 -0.050798  \n",
       "4  0.372968 -1.239694  0.022872 -0.003363  0.134883 -0.005524  \n",
       "\n",
       "[5 rows x 25 columns]"
      ]
     },
     "execution_count": 15,
     "metadata": {},
     "output_type": "execute_result"
    }
   ],
   "source": [
    "from sklearn.decomposition import PCA\n",
    "\n",
    "# Create principal components\n",
    "pca = PCA()\n",
    "X_pca = pca.fit_transform(X_scaled)\n",
    "\n",
    "# Convert to dataframe\n",
    "component_names = [f\"PC{i+1}\" for i in range(0,X_pca.shape[1])]\n",
    "X_pca_df = pd.DataFrame(X_pca, columns=component_names)\n",
    "\n",
    "X_pca.head()"
   ]
  },
  {
   "cell_type": "code",
   "execution_count": 16,
   "id": "8624cdda-3fd7-4fde-a669-57037597e3e4",
   "metadata": {
    "colab": {
     "base_uri": "https://localhost:8080/"
    },
    "executionInfo": {
     "elapsed": 5,
     "status": "ok",
     "timestamp": 1691091436713,
     "user": {
      "displayName": "MarcD",
      "userId": "07072845009722943265"
     },
     "user_tz": -120
    },
    "id": "c2fa9729-c8c1-44f0-a343-9778ee9a69d3",
    "outputId": "bd2ee312-284b-4c65-d300-863b0b9bf011",
    "scrolled": true
   },
   "outputs": [
    {
     "data": {
      "text/html": [
       "<div>\n",
       "<style scoped>\n",
       "    .dataframe tbody tr th:only-of-type {\n",
       "        vertical-align: middle;\n",
       "    }\n",
       "\n",
       "    .dataframe tbody tr th {\n",
       "        vertical-align: top;\n",
       "    }\n",
       "\n",
       "    .dataframe thead th {\n",
       "        text-align: right;\n",
       "    }\n",
       "</style>\n",
       "<table border=\"1\" class=\"dataframe\">\n",
       "  <thead>\n",
       "    <tr style=\"text-align: right;\">\n",
       "      <th></th>\n",
       "      <th>PC1</th>\n",
       "      <th>PC2</th>\n",
       "      <th>PC3</th>\n",
       "      <th>PC4</th>\n",
       "      <th>PC5</th>\n",
       "      <th>PC6</th>\n",
       "      <th>PC7</th>\n",
       "      <th>PC8</th>\n",
       "      <th>PC9</th>\n",
       "      <th>PC10</th>\n",
       "      <th>...</th>\n",
       "      <th>PC16</th>\n",
       "      <th>PC17</th>\n",
       "      <th>PC18</th>\n",
       "      <th>PC19</th>\n",
       "      <th>PC20</th>\n",
       "      <th>PC21</th>\n",
       "      <th>PC22</th>\n",
       "      <th>PC23</th>\n",
       "      <th>PC24</th>\n",
       "      <th>PC25</th>\n",
       "    </tr>\n",
       "  </thead>\n",
       "  <tbody>\n",
       "    <tr>\n",
       "      <th>Neighborhood_northeast</th>\n",
       "      <td>-0.074713</td>\n",
       "      <td>-0.096615</td>\n",
       "      <td>-0.059279</td>\n",
       "      <td>-0.138077</td>\n",
       "      <td>-0.243087</td>\n",
       "      <td>0.096785</td>\n",
       "      <td>0.589182</td>\n",
       "      <td>0.109442</td>\n",
       "      <td>0.040835</td>\n",
       "      <td>-0.074643</td>\n",
       "      <td>...</td>\n",
       "      <td>0.084403</td>\n",
       "      <td>0.011922</td>\n",
       "      <td>0.154647</td>\n",
       "      <td>-0.432248</td>\n",
       "      <td>-0.473535</td>\n",
       "      <td>0.236695</td>\n",
       "      <td>0.050951</td>\n",
       "      <td>0.035943</td>\n",
       "      <td>-0.032784</td>\n",
       "      <td>-0.025613</td>\n",
       "    </tr>\n",
       "    <tr>\n",
       "      <th>floor_building</th>\n",
       "      <td>0.670383</td>\n",
       "      <td>0.039005</td>\n",
       "      <td>0.048108</td>\n",
       "      <td>-0.053379</td>\n",
       "      <td>-0.042750</td>\n",
       "      <td>-0.120957</td>\n",
       "      <td>0.044248</td>\n",
       "      <td>0.003205</td>\n",
       "      <td>-0.010031</td>\n",
       "      <td>-0.005801</td>\n",
       "      <td>...</td>\n",
       "      <td>0.037916</td>\n",
       "      <td>-0.034132</td>\n",
       "      <td>-0.016941</td>\n",
       "      <td>-0.049983</td>\n",
       "      <td>0.002726</td>\n",
       "      <td>0.042521</td>\n",
       "      <td>0.193878</td>\n",
       "      <td>0.024721</td>\n",
       "      <td>-0.063523</td>\n",
       "      <td>0.686207</td>\n",
       "    </tr>\n",
       "    <tr>\n",
       "      <th>is_campus</th>\n",
       "      <td>-0.034816</td>\n",
       "      <td>-0.376438</td>\n",
       "      <td>0.577947</td>\n",
       "      <td>-0.145998</td>\n",
       "      <td>0.020254</td>\n",
       "      <td>0.013098</td>\n",
       "      <td>0.004542</td>\n",
       "      <td>0.003287</td>\n",
       "      <td>0.003713</td>\n",
       "      <td>0.011800</td>\n",
       "      <td>...</td>\n",
       "      <td>-0.016880</td>\n",
       "      <td>-0.011833</td>\n",
       "      <td>0.049071</td>\n",
       "      <td>0.007628</td>\n",
       "      <td>0.000344</td>\n",
       "      <td>-0.040907</td>\n",
       "      <td>0.092838</td>\n",
       "      <td>-0.692625</td>\n",
       "      <td>-0.089250</td>\n",
       "      <td>0.002336</td>\n",
       "    </tr>\n",
       "    <tr>\n",
       "      <th>decennie</th>\n",
       "      <td>-0.185079</td>\n",
       "      <td>0.012814</td>\n",
       "      <td>0.100258</td>\n",
       "      <td>0.432317</td>\n",
       "      <td>-0.017792</td>\n",
       "      <td>-0.488737</td>\n",
       "      <td>-0.013715</td>\n",
       "      <td>-0.014020</td>\n",
       "      <td>0.058893</td>\n",
       "      <td>-0.164612</td>\n",
       "      <td>...</td>\n",
       "      <td>0.091318</td>\n",
       "      <td>0.065297</td>\n",
       "      <td>-0.211815</td>\n",
       "      <td>0.095052</td>\n",
       "      <td>-0.138476</td>\n",
       "      <td>0.296239</td>\n",
       "      <td>0.554099</td>\n",
       "      <td>0.029686</td>\n",
       "      <td>-0.070736</td>\n",
       "      <td>-0.064184</td>\n",
       "    </tr>\n",
       "    <tr>\n",
       "      <th>Data_Center</th>\n",
       "      <td>0.067985</td>\n",
       "      <td>0.005219</td>\n",
       "      <td>-0.025538</td>\n",
       "      <td>-0.062862</td>\n",
       "      <td>-0.130746</td>\n",
       "      <td>-0.094250</td>\n",
       "      <td>-0.040266</td>\n",
       "      <td>-0.100411</td>\n",
       "      <td>0.034735</td>\n",
       "      <td>0.045405</td>\n",
       "      <td>...</td>\n",
       "      <td>-0.055920</td>\n",
       "      <td>0.040565</td>\n",
       "      <td>0.127856</td>\n",
       "      <td>-0.007414</td>\n",
       "      <td>0.102453</td>\n",
       "      <td>0.051502</td>\n",
       "      <td>0.071315</td>\n",
       "      <td>0.003379</td>\n",
       "      <td>-0.029232</td>\n",
       "      <td>-0.011339</td>\n",
       "    </tr>\n",
       "    <tr>\n",
       "      <th>Office</th>\n",
       "      <td>0.646198</td>\n",
       "      <td>0.077862</td>\n",
       "      <td>0.043396</td>\n",
       "      <td>-0.037906</td>\n",
       "      <td>-0.248540</td>\n",
       "      <td>-0.135559</td>\n",
       "      <td>-0.031108</td>\n",
       "      <td>-0.051841</td>\n",
       "      <td>0.041824</td>\n",
       "      <td>-0.016845</td>\n",
       "      <td>...</td>\n",
       "      <td>-0.003505</td>\n",
       "      <td>-0.016064</td>\n",
       "      <td>-0.057250</td>\n",
       "      <td>-0.001552</td>\n",
       "      <td>-0.030559</td>\n",
       "      <td>0.062357</td>\n",
       "      <td>-0.040426</td>\n",
       "      <td>-0.058855</td>\n",
       "      <td>0.020519</td>\n",
       "      <td>-0.678793</td>\n",
       "    </tr>\n",
       "    <tr>\n",
       "      <th>Non_Refrigerated_Warehouse</th>\n",
       "      <td>-0.068017</td>\n",
       "      <td>0.594728</td>\n",
       "      <td>0.339018</td>\n",
       "      <td>-0.037778</td>\n",
       "      <td>0.005023</td>\n",
       "      <td>0.081596</td>\n",
       "      <td>0.094946</td>\n",
       "      <td>0.036912</td>\n",
       "      <td>0.001302</td>\n",
       "      <td>-0.011750</td>\n",
       "      <td>...</td>\n",
       "      <td>-0.001562</td>\n",
       "      <td>0.005348</td>\n",
       "      <td>-0.013747</td>\n",
       "      <td>0.011436</td>\n",
       "      <td>-0.011070</td>\n",
       "      <td>-0.027732</td>\n",
       "      <td>-0.098735</td>\n",
       "      <td>0.049614</td>\n",
       "      <td>-0.696294</td>\n",
       "      <td>-0.019805</td>\n",
       "    </tr>\n",
       "    <tr>\n",
       "      <th>K_12_School</th>\n",
       "      <td>-0.068339</td>\n",
       "      <td>-0.076629</td>\n",
       "      <td>-0.103474</td>\n",
       "      <td>-0.255558</td>\n",
       "      <td>-0.133771</td>\n",
       "      <td>0.105302</td>\n",
       "      <td>0.175815</td>\n",
       "      <td>-0.268833</td>\n",
       "      <td>-0.594644</td>\n",
       "      <td>-0.193283</td>\n",
       "      <td>...</td>\n",
       "      <td>-0.070376</td>\n",
       "      <td>-0.072011</td>\n",
       "      <td>0.117927</td>\n",
       "      <td>0.056127</td>\n",
       "      <td>0.364229</td>\n",
       "      <td>0.175859</td>\n",
       "      <td>0.290419</td>\n",
       "      <td>0.057235</td>\n",
       "      <td>-0.101884</td>\n",
       "      <td>-0.059926</td>\n",
       "    </tr>\n",
       "    <tr>\n",
       "      <th>Retail_Store</th>\n",
       "      <td>0.041126</td>\n",
       "      <td>-0.012099</td>\n",
       "      <td>0.046537</td>\n",
       "      <td>0.336636</td>\n",
       "      <td>-0.117831</td>\n",
       "      <td>0.182067</td>\n",
       "      <td>0.113247</td>\n",
       "      <td>-0.162045</td>\n",
       "      <td>0.342236</td>\n",
       "      <td>-0.205434</td>\n",
       "      <td>...</td>\n",
       "      <td>0.160294</td>\n",
       "      <td>0.506333</td>\n",
       "      <td>0.379403</td>\n",
       "      <td>-0.157581</td>\n",
       "      <td>0.402618</td>\n",
       "      <td>-0.051912</td>\n",
       "      <td>0.004755</td>\n",
       "      <td>-0.016151</td>\n",
       "      <td>0.019305</td>\n",
       "      <td>0.012052</td>\n",
       "    </tr>\n",
       "    <tr>\n",
       "      <th>Other</th>\n",
       "      <td>0.136097</td>\n",
       "      <td>-0.161685</td>\n",
       "      <td>0.170501</td>\n",
       "      <td>0.393152</td>\n",
       "      <td>-0.010055</td>\n",
       "      <td>0.461044</td>\n",
       "      <td>0.048771</td>\n",
       "      <td>0.048582</td>\n",
       "      <td>-0.121699</td>\n",
       "      <td>0.054486</td>\n",
       "      <td>...</td>\n",
       "      <td>-0.099532</td>\n",
       "      <td>-0.211257</td>\n",
       "      <td>0.191041</td>\n",
       "      <td>0.238992</td>\n",
       "      <td>-0.209662</td>\n",
       "      <td>-0.349504</td>\n",
       "      <td>0.349765</td>\n",
       "      <td>0.247824</td>\n",
       "      <td>-0.056724</td>\n",
       "      <td>-0.095741</td>\n",
       "    </tr>\n",
       "    <tr>\n",
       "      <th>Hotel</th>\n",
       "      <td>0.130030</td>\n",
       "      <td>-0.016342</td>\n",
       "      <td>-0.074821</td>\n",
       "      <td>-0.045118</td>\n",
       "      <td>0.660783</td>\n",
       "      <td>-0.085722</td>\n",
       "      <td>0.188577</td>\n",
       "      <td>0.108976</td>\n",
       "      <td>-0.096198</td>\n",
       "      <td>-0.128458</td>\n",
       "      <td>...</td>\n",
       "      <td>0.000753</td>\n",
       "      <td>0.080673</td>\n",
       "      <td>-0.173111</td>\n",
       "      <td>-0.439156</td>\n",
       "      <td>0.153038</td>\n",
       "      <td>-0.335191</td>\n",
       "      <td>0.213741</td>\n",
       "      <td>0.002294</td>\n",
       "      <td>-0.049794</td>\n",
       "      <td>-0.180962</td>\n",
       "    </tr>\n",
       "    <tr>\n",
       "      <th>Distribution_Center</th>\n",
       "      <td>-0.052357</td>\n",
       "      <td>0.114529</td>\n",
       "      <td>0.010500</td>\n",
       "      <td>-0.018603</td>\n",
       "      <td>0.056892</td>\n",
       "      <td>-0.127509</td>\n",
       "      <td>-0.288612</td>\n",
       "      <td>-0.153761</td>\n",
       "      <td>-0.067381</td>\n",
       "      <td>0.135026</td>\n",
       "      <td>...</td>\n",
       "      <td>-0.000832</td>\n",
       "      <td>-0.037167</td>\n",
       "      <td>0.308119</td>\n",
       "      <td>-0.202805</td>\n",
       "      <td>0.099281</td>\n",
       "      <td>0.134344</td>\n",
       "      <td>0.121521</td>\n",
       "      <td>0.000701</td>\n",
       "      <td>-0.100093</td>\n",
       "      <td>-0.029868</td>\n",
       "    </tr>\n",
       "    <tr>\n",
       "      <th>SupermarketGrocery_Store</th>\n",
       "      <td>-0.033561</td>\n",
       "      <td>-0.023734</td>\n",
       "      <td>-0.117369</td>\n",
       "      <td>-0.166191</td>\n",
       "      <td>0.088909</td>\n",
       "      <td>0.285463</td>\n",
       "      <td>0.015250</td>\n",
       "      <td>-0.270216</td>\n",
       "      <td>0.599614</td>\n",
       "      <td>0.250061</td>\n",
       "      <td>...</td>\n",
       "      <td>-0.108032</td>\n",
       "      <td>-0.333711</td>\n",
       "      <td>-0.179800</td>\n",
       "      <td>-0.098637</td>\n",
       "      <td>0.126318</td>\n",
       "      <td>0.170835</td>\n",
       "      <td>0.309616</td>\n",
       "      <td>0.003084</td>\n",
       "      <td>-0.088139</td>\n",
       "      <td>-0.037487</td>\n",
       "    </tr>\n",
       "    <tr>\n",
       "      <th>Medical_Office</th>\n",
       "      <td>-0.006271</td>\n",
       "      <td>-0.026336</td>\n",
       "      <td>-0.067566</td>\n",
       "      <td>-0.071583</td>\n",
       "      <td>-0.075929</td>\n",
       "      <td>0.117105</td>\n",
       "      <td>-0.205665</td>\n",
       "      <td>0.573214</td>\n",
       "      <td>0.079129</td>\n",
       "      <td>-0.264855</td>\n",
       "      <td>...</td>\n",
       "      <td>0.535438</td>\n",
       "      <td>-0.372036</td>\n",
       "      <td>0.107424</td>\n",
       "      <td>-0.031770</td>\n",
       "      <td>0.239381</td>\n",
       "      <td>0.102568</td>\n",
       "      <td>0.085195</td>\n",
       "      <td>-0.016406</td>\n",
       "      <td>-0.054119</td>\n",
       "      <td>-0.046294</td>\n",
       "    </tr>\n",
       "    <tr>\n",
       "      <th>Other___Recreation</th>\n",
       "      <td>-0.032334</td>\n",
       "      <td>-0.026745</td>\n",
       "      <td>-0.047917</td>\n",
       "      <td>-0.021068</td>\n",
       "      <td>-0.162579</td>\n",
       "      <td>-0.146609</td>\n",
       "      <td>0.479797</td>\n",
       "      <td>0.323959</td>\n",
       "      <td>0.111817</td>\n",
       "      <td>0.219460</td>\n",
       "      <td>...</td>\n",
       "      <td>-0.145704</td>\n",
       "      <td>0.062889</td>\n",
       "      <td>-0.219341</td>\n",
       "      <td>0.328939</td>\n",
       "      <td>0.416555</td>\n",
       "      <td>-0.073253</td>\n",
       "      <td>0.034606</td>\n",
       "      <td>-0.010525</td>\n",
       "      <td>-0.022058</td>\n",
       "      <td>-0.009490</td>\n",
       "    </tr>\n",
       "    <tr>\n",
       "      <th>CollegeUniversity</th>\n",
       "      <td>-0.023852</td>\n",
       "      <td>-0.325016</td>\n",
       "      <td>0.565451</td>\n",
       "      <td>-0.226902</td>\n",
       "      <td>0.043240</td>\n",
       "      <td>-0.127534</td>\n",
       "      <td>-0.029651</td>\n",
       "      <td>-0.019952</td>\n",
       "      <td>0.079906</td>\n",
       "      <td>0.022599</td>\n",
       "      <td>...</td>\n",
       "      <td>0.065280</td>\n",
       "      <td>0.032640</td>\n",
       "      <td>-0.058552</td>\n",
       "      <td>-0.076206</td>\n",
       "      <td>0.126088</td>\n",
       "      <td>0.103558</td>\n",
       "      <td>-0.122394</td>\n",
       "      <td>0.660137</td>\n",
       "      <td>0.052535</td>\n",
       "      <td>-0.033479</td>\n",
       "    </tr>\n",
       "    <tr>\n",
       "      <th>Other___EntertainmentPublic_Assembly</th>\n",
       "      <td>0.026036</td>\n",
       "      <td>-0.014039</td>\n",
       "      <td>-0.023535</td>\n",
       "      <td>0.008298</td>\n",
       "      <td>0.041167</td>\n",
       "      <td>0.121678</td>\n",
       "      <td>-0.015720</td>\n",
       "      <td>0.133319</td>\n",
       "      <td>-0.217635</td>\n",
       "      <td>0.699570</td>\n",
       "      <td>...</td>\n",
       "      <td>0.442484</td>\n",
       "      <td>0.353967</td>\n",
       "      <td>-0.050415</td>\n",
       "      <td>-0.013520</td>\n",
       "      <td>-0.039892</td>\n",
       "      <td>0.080950</td>\n",
       "      <td>0.131499</td>\n",
       "      <td>-0.005850</td>\n",
       "      <td>-0.024676</td>\n",
       "      <td>-0.047481</td>\n",
       "    </tr>\n",
       "    <tr>\n",
       "      <th>Senior_Care_Community</th>\n",
       "      <td>0.014554</td>\n",
       "      <td>-0.002736</td>\n",
       "      <td>-0.041297</td>\n",
       "      <td>-0.073573</td>\n",
       "      <td>0.011837</td>\n",
       "      <td>0.016841</td>\n",
       "      <td>-0.136417</td>\n",
       "      <td>-0.045428</td>\n",
       "      <td>-0.049452</td>\n",
       "      <td>0.210268</td>\n",
       "      <td>...</td>\n",
       "      <td>-0.029116</td>\n",
       "      <td>0.032077</td>\n",
       "      <td>0.098012</td>\n",
       "      <td>-0.064829</td>\n",
       "      <td>0.016734</td>\n",
       "      <td>0.119680</td>\n",
       "      <td>0.111872</td>\n",
       "      <td>-0.000092</td>\n",
       "      <td>-0.035326</td>\n",
       "      <td>-0.052330</td>\n",
       "    </tr>\n",
       "    <tr>\n",
       "      <th>Laboratory</th>\n",
       "      <td>0.015392</td>\n",
       "      <td>-0.025934</td>\n",
       "      <td>-0.033523</td>\n",
       "      <td>-0.163960</td>\n",
       "      <td>-0.048715</td>\n",
       "      <td>0.186022</td>\n",
       "      <td>-0.315823</td>\n",
       "      <td>0.500975</td>\n",
       "      <td>0.039458</td>\n",
       "      <td>-0.087699</td>\n",
       "      <td>...</td>\n",
       "      <td>-0.551269</td>\n",
       "      <td>0.395605</td>\n",
       "      <td>0.010449</td>\n",
       "      <td>-0.081237</td>\n",
       "      <td>-0.064178</td>\n",
       "      <td>0.180967</td>\n",
       "      <td>0.207773</td>\n",
       "      <td>0.051163</td>\n",
       "      <td>-0.049276</td>\n",
       "      <td>-0.010577</td>\n",
       "    </tr>\n",
       "    <tr>\n",
       "      <th>Restaurant</th>\n",
       "      <td>0.123890</td>\n",
       "      <td>-0.087640</td>\n",
       "      <td>0.079382</td>\n",
       "      <td>0.496864</td>\n",
       "      <td>0.203721</td>\n",
       "      <td>0.229357</td>\n",
       "      <td>0.076350</td>\n",
       "      <td>0.067373</td>\n",
       "      <td>-0.189343</td>\n",
       "      <td>0.060164</td>\n",
       "      <td>...</td>\n",
       "      <td>-0.168525</td>\n",
       "      <td>-0.165974</td>\n",
       "      <td>-0.167030</td>\n",
       "      <td>-0.164180</td>\n",
       "      <td>0.181853</td>\n",
       "      <td>0.555527</td>\n",
       "      <td>-0.337506</td>\n",
       "      <td>-0.067505</td>\n",
       "      <td>-0.018920</td>\n",
       "      <td>0.017351</td>\n",
       "    </tr>\n",
       "    <tr>\n",
       "      <th>Refrigerated_Warehouse</th>\n",
       "      <td>-0.049390</td>\n",
       "      <td>0.569956</td>\n",
       "      <td>0.358284</td>\n",
       "      <td>-0.059955</td>\n",
       "      <td>0.034882</td>\n",
       "      <td>0.116464</td>\n",
       "      <td>0.107437</td>\n",
       "      <td>0.063942</td>\n",
       "      <td>-0.047764</td>\n",
       "      <td>0.029289</td>\n",
       "      <td>...</td>\n",
       "      <td>-0.037374</td>\n",
       "      <td>-0.081401</td>\n",
       "      <td>0.050307</td>\n",
       "      <td>-0.049769</td>\n",
       "      <td>0.060889</td>\n",
       "      <td>0.069661</td>\n",
       "      <td>0.182259</td>\n",
       "      <td>-0.051885</td>\n",
       "      <td>0.669385</td>\n",
       "      <td>0.007192</td>\n",
       "    </tr>\n",
       "    <tr>\n",
       "      <th>SocialMeeting_Hall</th>\n",
       "      <td>-0.042294</td>\n",
       "      <td>-0.027004</td>\n",
       "      <td>-0.008729</td>\n",
       "      <td>0.158892</td>\n",
       "      <td>-0.017668</td>\n",
       "      <td>-0.413096</td>\n",
       "      <td>0.085097</td>\n",
       "      <td>0.213656</td>\n",
       "      <td>0.019764</td>\n",
       "      <td>0.317950</td>\n",
       "      <td>...</td>\n",
       "      <td>-0.272783</td>\n",
       "      <td>-0.312778</td>\n",
       "      <td>0.514870</td>\n",
       "      <td>-0.186466</td>\n",
       "      <td>0.089815</td>\n",
       "      <td>-0.130419</td>\n",
       "      <td>-0.058619</td>\n",
       "      <td>0.021375</td>\n",
       "      <td>-0.025460</td>\n",
       "      <td>-0.011226</td>\n",
       "    </tr>\n",
       "    <tr>\n",
       "      <th>Hospital_General_Medical_and_Surgical</th>\n",
       "      <td>-0.005561</td>\n",
       "      <td>-0.013227</td>\n",
       "      <td>-0.043965</td>\n",
       "      <td>-0.065987</td>\n",
       "      <td>-0.052697</td>\n",
       "      <td>0.043064</td>\n",
       "      <td>0.100712</td>\n",
       "      <td>0.022595</td>\n",
       "      <td>0.001045</td>\n",
       "      <td>0.035234</td>\n",
       "      <td>...</td>\n",
       "      <td>-0.085792</td>\n",
       "      <td>-0.015259</td>\n",
       "      <td>0.029254</td>\n",
       "      <td>0.064621</td>\n",
       "      <td>0.184037</td>\n",
       "      <td>0.057282</td>\n",
       "      <td>0.091961</td>\n",
       "      <td>-0.005086</td>\n",
       "      <td>-0.032408</td>\n",
       "      <td>-0.032179</td>\n",
       "    </tr>\n",
       "    <tr>\n",
       "      <th>Multifamily_Housing</th>\n",
       "      <td>0.120332</td>\n",
       "      <td>0.000210</td>\n",
       "      <td>-0.058711</td>\n",
       "      <td>-0.171606</td>\n",
       "      <td>0.543419</td>\n",
       "      <td>-0.036228</td>\n",
       "      <td>0.183211</td>\n",
       "      <td>0.024401</td>\n",
       "      <td>0.132861</td>\n",
       "      <td>-0.079642</td>\n",
       "      <td>...</td>\n",
       "      <td>0.053180</td>\n",
       "      <td>0.085390</td>\n",
       "      <td>0.418008</td>\n",
       "      <td>0.521497</td>\n",
       "      <td>-0.157014</td>\n",
       "      <td>0.329762</td>\n",
       "      <td>-0.035295</td>\n",
       "      <td>0.005927</td>\n",
       "      <td>-0.005155</td>\n",
       "      <td>-0.069993</td>\n",
       "    </tr>\n",
       "    <tr>\n",
       "      <th>Strip_Mall</th>\n",
       "      <td>-0.013785</td>\n",
       "      <td>-0.004441</td>\n",
       "      <td>-0.033123</td>\n",
       "      <td>-0.030298</td>\n",
       "      <td>0.020506</td>\n",
       "      <td>-0.002013</td>\n",
       "      <td>-0.116541</td>\n",
       "      <td>-0.064265</td>\n",
       "      <td>-0.015220</td>\n",
       "      <td>0.107716</td>\n",
       "      <td>...</td>\n",
       "      <td>0.018124</td>\n",
       "      <td>-0.033645</td>\n",
       "      <td>0.103363</td>\n",
       "      <td>-0.078912</td>\n",
       "      <td>0.031556</td>\n",
       "      <td>0.085640</td>\n",
       "      <td>0.089479</td>\n",
       "      <td>0.000700</td>\n",
       "      <td>-0.031034</td>\n",
       "      <td>-0.015425</td>\n",
       "    </tr>\n",
       "  </tbody>\n",
       "</table>\n",
       "<p>25 rows × 25 columns</p>\n",
       "</div>"
      ],
      "text/plain": [
       "                                            PC1       PC2       PC3       PC4  \\\n",
       "Neighborhood_northeast                -0.074713 -0.096615 -0.059279 -0.138077   \n",
       "floor_building                         0.670383  0.039005  0.048108 -0.053379   \n",
       "is_campus                             -0.034816 -0.376438  0.577947 -0.145998   \n",
       "decennie                              -0.185079  0.012814  0.100258  0.432317   \n",
       "Data_Center                            0.067985  0.005219 -0.025538 -0.062862   \n",
       "Office                                 0.646198  0.077862  0.043396 -0.037906   \n",
       "Non_Refrigerated_Warehouse            -0.068017  0.594728  0.339018 -0.037778   \n",
       "K_12_School                           -0.068339 -0.076629 -0.103474 -0.255558   \n",
       "Retail_Store                           0.041126 -0.012099  0.046537  0.336636   \n",
       "Other                                  0.136097 -0.161685  0.170501  0.393152   \n",
       "Hotel                                  0.130030 -0.016342 -0.074821 -0.045118   \n",
       "Distribution_Center                   -0.052357  0.114529  0.010500 -0.018603   \n",
       "SupermarketGrocery_Store              -0.033561 -0.023734 -0.117369 -0.166191   \n",
       "Medical_Office                        -0.006271 -0.026336 -0.067566 -0.071583   \n",
       "Other___Recreation                    -0.032334 -0.026745 -0.047917 -0.021068   \n",
       "CollegeUniversity                     -0.023852 -0.325016  0.565451 -0.226902   \n",
       "Other___EntertainmentPublic_Assembly   0.026036 -0.014039 -0.023535  0.008298   \n",
       "Senior_Care_Community                  0.014554 -0.002736 -0.041297 -0.073573   \n",
       "Laboratory                             0.015392 -0.025934 -0.033523 -0.163960   \n",
       "Restaurant                             0.123890 -0.087640  0.079382  0.496864   \n",
       "Refrigerated_Warehouse                -0.049390  0.569956  0.358284 -0.059955   \n",
       "SocialMeeting_Hall                    -0.042294 -0.027004 -0.008729  0.158892   \n",
       "Hospital_General_Medical_and_Surgical -0.005561 -0.013227 -0.043965 -0.065987   \n",
       "Multifamily_Housing                    0.120332  0.000210 -0.058711 -0.171606   \n",
       "Strip_Mall                            -0.013785 -0.004441 -0.033123 -0.030298   \n",
       "\n",
       "                                            PC5       PC6       PC7       PC8  \\\n",
       "Neighborhood_northeast                -0.243087  0.096785  0.589182  0.109442   \n",
       "floor_building                        -0.042750 -0.120957  0.044248  0.003205   \n",
       "is_campus                              0.020254  0.013098  0.004542  0.003287   \n",
       "decennie                              -0.017792 -0.488737 -0.013715 -0.014020   \n",
       "Data_Center                           -0.130746 -0.094250 -0.040266 -0.100411   \n",
       "Office                                -0.248540 -0.135559 -0.031108 -0.051841   \n",
       "Non_Refrigerated_Warehouse             0.005023  0.081596  0.094946  0.036912   \n",
       "K_12_School                           -0.133771  0.105302  0.175815 -0.268833   \n",
       "Retail_Store                          -0.117831  0.182067  0.113247 -0.162045   \n",
       "Other                                 -0.010055  0.461044  0.048771  0.048582   \n",
       "Hotel                                  0.660783 -0.085722  0.188577  0.108976   \n",
       "Distribution_Center                    0.056892 -0.127509 -0.288612 -0.153761   \n",
       "SupermarketGrocery_Store               0.088909  0.285463  0.015250 -0.270216   \n",
       "Medical_Office                        -0.075929  0.117105 -0.205665  0.573214   \n",
       "Other___Recreation                    -0.162579 -0.146609  0.479797  0.323959   \n",
       "CollegeUniversity                      0.043240 -0.127534 -0.029651 -0.019952   \n",
       "Other___EntertainmentPublic_Assembly   0.041167  0.121678 -0.015720  0.133319   \n",
       "Senior_Care_Community                  0.011837  0.016841 -0.136417 -0.045428   \n",
       "Laboratory                            -0.048715  0.186022 -0.315823  0.500975   \n",
       "Restaurant                             0.203721  0.229357  0.076350  0.067373   \n",
       "Refrigerated_Warehouse                 0.034882  0.116464  0.107437  0.063942   \n",
       "SocialMeeting_Hall                    -0.017668 -0.413096  0.085097  0.213656   \n",
       "Hospital_General_Medical_and_Surgical -0.052697  0.043064  0.100712  0.022595   \n",
       "Multifamily_Housing                    0.543419 -0.036228  0.183211  0.024401   \n",
       "Strip_Mall                             0.020506 -0.002013 -0.116541 -0.064265   \n",
       "\n",
       "                                            PC9      PC10  ...      PC16  \\\n",
       "Neighborhood_northeast                 0.040835 -0.074643  ...  0.084403   \n",
       "floor_building                        -0.010031 -0.005801  ...  0.037916   \n",
       "is_campus                              0.003713  0.011800  ... -0.016880   \n",
       "decennie                               0.058893 -0.164612  ...  0.091318   \n",
       "Data_Center                            0.034735  0.045405  ... -0.055920   \n",
       "Office                                 0.041824 -0.016845  ... -0.003505   \n",
       "Non_Refrigerated_Warehouse             0.001302 -0.011750  ... -0.001562   \n",
       "K_12_School                           -0.594644 -0.193283  ... -0.070376   \n",
       "Retail_Store                           0.342236 -0.205434  ...  0.160294   \n",
       "Other                                 -0.121699  0.054486  ... -0.099532   \n",
       "Hotel                                 -0.096198 -0.128458  ...  0.000753   \n",
       "Distribution_Center                   -0.067381  0.135026  ... -0.000832   \n",
       "SupermarketGrocery_Store               0.599614  0.250061  ... -0.108032   \n",
       "Medical_Office                         0.079129 -0.264855  ...  0.535438   \n",
       "Other___Recreation                     0.111817  0.219460  ... -0.145704   \n",
       "CollegeUniversity                      0.079906  0.022599  ...  0.065280   \n",
       "Other___EntertainmentPublic_Assembly  -0.217635  0.699570  ...  0.442484   \n",
       "Senior_Care_Community                 -0.049452  0.210268  ... -0.029116   \n",
       "Laboratory                             0.039458 -0.087699  ... -0.551269   \n",
       "Restaurant                            -0.189343  0.060164  ... -0.168525   \n",
       "Refrigerated_Warehouse                -0.047764  0.029289  ... -0.037374   \n",
       "SocialMeeting_Hall                     0.019764  0.317950  ... -0.272783   \n",
       "Hospital_General_Medical_and_Surgical  0.001045  0.035234  ... -0.085792   \n",
       "Multifamily_Housing                    0.132861 -0.079642  ...  0.053180   \n",
       "Strip_Mall                            -0.015220  0.107716  ...  0.018124   \n",
       "\n",
       "                                           PC17      PC18      PC19      PC20  \\\n",
       "Neighborhood_northeast                 0.011922  0.154647 -0.432248 -0.473535   \n",
       "floor_building                        -0.034132 -0.016941 -0.049983  0.002726   \n",
       "is_campus                             -0.011833  0.049071  0.007628  0.000344   \n",
       "decennie                               0.065297 -0.211815  0.095052 -0.138476   \n",
       "Data_Center                            0.040565  0.127856 -0.007414  0.102453   \n",
       "Office                                -0.016064 -0.057250 -0.001552 -0.030559   \n",
       "Non_Refrigerated_Warehouse             0.005348 -0.013747  0.011436 -0.011070   \n",
       "K_12_School                           -0.072011  0.117927  0.056127  0.364229   \n",
       "Retail_Store                           0.506333  0.379403 -0.157581  0.402618   \n",
       "Other                                 -0.211257  0.191041  0.238992 -0.209662   \n",
       "Hotel                                  0.080673 -0.173111 -0.439156  0.153038   \n",
       "Distribution_Center                   -0.037167  0.308119 -0.202805  0.099281   \n",
       "SupermarketGrocery_Store              -0.333711 -0.179800 -0.098637  0.126318   \n",
       "Medical_Office                        -0.372036  0.107424 -0.031770  0.239381   \n",
       "Other___Recreation                     0.062889 -0.219341  0.328939  0.416555   \n",
       "CollegeUniversity                      0.032640 -0.058552 -0.076206  0.126088   \n",
       "Other___EntertainmentPublic_Assembly   0.353967 -0.050415 -0.013520 -0.039892   \n",
       "Senior_Care_Community                  0.032077  0.098012 -0.064829  0.016734   \n",
       "Laboratory                             0.395605  0.010449 -0.081237 -0.064178   \n",
       "Restaurant                            -0.165974 -0.167030 -0.164180  0.181853   \n",
       "Refrigerated_Warehouse                -0.081401  0.050307 -0.049769  0.060889   \n",
       "SocialMeeting_Hall                    -0.312778  0.514870 -0.186466  0.089815   \n",
       "Hospital_General_Medical_and_Surgical -0.015259  0.029254  0.064621  0.184037   \n",
       "Multifamily_Housing                    0.085390  0.418008  0.521497 -0.157014   \n",
       "Strip_Mall                            -0.033645  0.103363 -0.078912  0.031556   \n",
       "\n",
       "                                           PC21      PC22      PC23      PC24  \\\n",
       "Neighborhood_northeast                 0.236695  0.050951  0.035943 -0.032784   \n",
       "floor_building                         0.042521  0.193878  0.024721 -0.063523   \n",
       "is_campus                             -0.040907  0.092838 -0.692625 -0.089250   \n",
       "decennie                               0.296239  0.554099  0.029686 -0.070736   \n",
       "Data_Center                            0.051502  0.071315  0.003379 -0.029232   \n",
       "Office                                 0.062357 -0.040426 -0.058855  0.020519   \n",
       "Non_Refrigerated_Warehouse            -0.027732 -0.098735  0.049614 -0.696294   \n",
       "K_12_School                            0.175859  0.290419  0.057235 -0.101884   \n",
       "Retail_Store                          -0.051912  0.004755 -0.016151  0.019305   \n",
       "Other                                 -0.349504  0.349765  0.247824 -0.056724   \n",
       "Hotel                                 -0.335191  0.213741  0.002294 -0.049794   \n",
       "Distribution_Center                    0.134344  0.121521  0.000701 -0.100093   \n",
       "SupermarketGrocery_Store               0.170835  0.309616  0.003084 -0.088139   \n",
       "Medical_Office                         0.102568  0.085195 -0.016406 -0.054119   \n",
       "Other___Recreation                    -0.073253  0.034606 -0.010525 -0.022058   \n",
       "CollegeUniversity                      0.103558 -0.122394  0.660137  0.052535   \n",
       "Other___EntertainmentPublic_Assembly   0.080950  0.131499 -0.005850 -0.024676   \n",
       "Senior_Care_Community                  0.119680  0.111872 -0.000092 -0.035326   \n",
       "Laboratory                             0.180967  0.207773  0.051163 -0.049276   \n",
       "Restaurant                             0.555527 -0.337506 -0.067505 -0.018920   \n",
       "Refrigerated_Warehouse                 0.069661  0.182259 -0.051885  0.669385   \n",
       "SocialMeeting_Hall                    -0.130419 -0.058619  0.021375 -0.025460   \n",
       "Hospital_General_Medical_and_Surgical  0.057282  0.091961 -0.005086 -0.032408   \n",
       "Multifamily_Housing                    0.329762 -0.035295  0.005927 -0.005155   \n",
       "Strip_Mall                             0.085640  0.089479  0.000700 -0.031034   \n",
       "\n",
       "                                           PC25  \n",
       "Neighborhood_northeast                -0.025613  \n",
       "floor_building                         0.686207  \n",
       "is_campus                              0.002336  \n",
       "decennie                              -0.064184  \n",
       "Data_Center                           -0.011339  \n",
       "Office                                -0.678793  \n",
       "Non_Refrigerated_Warehouse            -0.019805  \n",
       "K_12_School                           -0.059926  \n",
       "Retail_Store                           0.012052  \n",
       "Other                                 -0.095741  \n",
       "Hotel                                 -0.180962  \n",
       "Distribution_Center                   -0.029868  \n",
       "SupermarketGrocery_Store              -0.037487  \n",
       "Medical_Office                        -0.046294  \n",
       "Other___Recreation                    -0.009490  \n",
       "CollegeUniversity                     -0.033479  \n",
       "Other___EntertainmentPublic_Assembly  -0.047481  \n",
       "Senior_Care_Community                 -0.052330  \n",
       "Laboratory                            -0.010577  \n",
       "Restaurant                             0.017351  \n",
       "Refrigerated_Warehouse                 0.007192  \n",
       "SocialMeeting_Hall                    -0.011226  \n",
       "Hospital_General_Medical_and_Surgical -0.032179  \n",
       "Multifamily_Housing                   -0.069993  \n",
       "Strip_Mall                            -0.015425  \n",
       "\n",
       "[25 rows x 25 columns]"
      ]
     },
     "execution_count": 16,
     "metadata": {},
     "output_type": "execute_result"
    }
   ],
   "source": [
    "loadings = pd.DataFrame(\n",
    "    pca.components_.T,  # transpose the matrix of loadings\n",
    "    columns=component_names,  # so the columns are the principal components\n",
    "    index=X_energy.columns,  # and the rows are the original features\n",
    ")\n",
    "loadings"
   ]
  },
  {
   "cell_type": "code",
   "execution_count": 17,
   "id": "d86843de-3857-4586-86af-874f41dbc09c",
   "metadata": {
    "colab": {
     "base_uri": "https://localhost:8080/",
     "height": 559
    },
    "executionInfo": {
     "elapsed": 1316,
     "status": "ok",
     "timestamp": 1691091414228,
     "user": {
      "displayName": "MarcD",
      "userId": "07072845009722943265"
     },
     "user_tz": -120
    },
    "id": "382525c4-7d8d-4f73-be2f-ba41f38ae06f",
    "outputId": "6de26cee-d983-406a-bcd2-ba0c4dd668b4"
   },
   "outputs": [
    {
     "data": {
      "text/plain": [
       "array([<Axes: title={'center': '% Explained Variance'}, xlabel='Component'>,\n",
       "       <Axes: title={'center': '% Cumulative Variance'}, xlabel='Component'>],\n",
       "      dtype=object)"
      ]
     },
     "execution_count": 17,
     "metadata": {},
     "output_type": "execute_result"
    },
    {
     "data": {
      "image/png": "[encoded data removed]",
      "text/plain": [
       "<Figure size 800x480 with 2 Axes>"
      ]
     },
     "metadata": {},
     "output_type": "display_data"
    }
   ],
   "source": [
    "plot_variance(pca)"
   ]
  },
  {
   "cell_type": "code",
   "execution_count": 18,
   "id": "9f6764e2-2349-4090-9943-106e953add96",
   "metadata": {
    "colab": {
     "base_uri": "https://localhost:8080/"
    },
    "executionInfo": {
     "elapsed": 447,
     "status": "ok",
     "timestamp": 1691091417924,
     "user": {
      "displayName": "MarcD",
      "userId": "07072845009722943265"
     },
     "user_tz": -120
    },
    "id": "797393d9-b664-429e-a88f-6129ed670798",
    "outputId": "69940157-edfc-4114-dc45-7a03adf1be7a"
   },
   "outputs": [
    {
     "data": {
      "text/plain": [
       "pca4     0.303086\n",
       "pca0     0.295480\n",
       "pca14    0.248142\n",
       "pca24    0.235329\n",
       "pca22    0.209703\n",
       "pca1     0.209439\n",
       "pca7     0.206113\n",
       "pca5     0.191880\n",
       "pca16    0.168363\n",
       "pca15    0.168251\n",
       "pca10    0.152901\n",
       "pca11    0.145607\n",
       "pca6     0.144577\n",
       "pca9     0.142530\n",
       "pca19    0.138140\n",
       "pca3     0.129245\n",
       "pca12    0.124304\n",
       "pca17    0.123975\n",
       "pca8     0.122718\n",
       "pca2     0.117971\n",
       "pca13    0.113305\n",
       "pca20    0.107932\n",
       "pca18    0.106243\n",
       "pca21    0.103865\n",
       "pca23    0.097209\n",
       "Name: MI Scores, dtype: float64"
      ]
     },
     "execution_count": 18,
     "metadata": {},
     "output_type": "execute_result"
    }
   ],
   "source": [
    "mi_scores = make_mi_scores(X_pca, y_energy, discrete_features=False)\n",
    "mi_scores"
   ]
  },
  {
   "cell_type": "code",
   "execution_count": 19,
   "id": "3eec4093-e417-4ed7-a735-28cf5158dc0f",
   "metadata": {},
   "outputs": [
    {
     "data": {
      "text/html": [
       "<style>#sk-container-id-2 {color: black;}#sk-container-id-2 pre{padding: 0;}#sk-container-id-2 div.sk-toggleable {background-color: white;}#sk-container-id-2 label.sk-toggleable__label {cursor: pointer;display: block;width: 100%;margin-bottom: 0;padding: 0.3em;box-sizing: border-box;text-align: center;}#sk-container-id-2 label.sk-toggleable__label-arrow:before {content: \"▸\";float: left;margin-right: 0.25em;color: #696969;}#sk-container-id-2 label.sk-toggleable__label-arrow:hover:before {color: black;}#sk-container-id-2 div.sk-estimator:hover label.sk-toggleable__label-arrow:before {color: black;}#sk-container-id-2 div.sk-toggleable__content {max-height: 0;max-width: 0;overflow: hidden;text-align: left;background-color: #f0f8ff;}#sk-container-id-2 div.sk-toggleable__content pre {margin: 0.2em;color: black;border-radius: 0.25em;background-color: #f0f8ff;}#sk-container-id-2 input.sk-toggleable__control:checked~div.sk-toggleable__content {max-height: 200px;max-width: 100%;overflow: auto;}#sk-container-id-2 input.sk-toggleable__control:checked~label.sk-toggleable__label-arrow:before {content: \"▾\";}#sk-container-id-2 div.sk-estimator input.sk-toggleable__control:checked~label.sk-toggleable__label {background-color: #d4ebff;}#sk-container-id-2 div.sk-label input.sk-toggleable__control:checked~label.sk-toggleable__label {background-color: #d4ebff;}#sk-container-id-2 input.sk-hidden--visually {border: 0;clip: rect(1px 1px 1px 1px);clip: rect(1px, 1px, 1px, 1px);height: 1px;margin: -1px;overflow: hidden;padding: 0;position: absolute;width: 1px;}#sk-container-id-2 div.sk-estimator {font-family: monospace;background-color: #f0f8ff;border: 1px dotted black;border-radius: 0.25em;box-sizing: border-box;margin-bottom: 0.5em;}#sk-container-id-2 div.sk-estimator:hover {background-color: #d4ebff;}#sk-container-id-2 div.sk-parallel-item::after {content: \"\";width: 100%;border-bottom: 1px solid gray;flex-grow: 1;}#sk-container-id-2 div.sk-label:hover label.sk-toggleable__label {background-color: #d4ebff;}#sk-container-id-2 div.sk-serial::before {content: \"\";position: absolute;border-left: 1px solid gray;box-sizing: border-box;top: 0;bottom: 0;left: 50%;z-index: 0;}#sk-container-id-2 div.sk-serial {display: flex;flex-direction: column;align-items: center;background-color: white;padding-right: 0.2em;padding-left: 0.2em;position: relative;}#sk-container-id-2 div.sk-item {position: relative;z-index: 1;}#sk-container-id-2 div.sk-parallel {display: flex;align-items: stretch;justify-content: center;background-color: white;position: relative;}#sk-container-id-2 div.sk-item::before, #sk-container-id-2 div.sk-parallel-item::before {content: \"\";position: absolute;border-left: 1px solid gray;box-sizing: border-box;top: 0;bottom: 0;left: 50%;z-index: -1;}#sk-container-id-2 div.sk-parallel-item {display: flex;flex-direction: column;z-index: 1;position: relative;background-color: white;}#sk-container-id-2 div.sk-parallel-item:first-child::after {align-self: flex-end;width: 50%;}#sk-container-id-2 div.sk-parallel-item:last-child::after {align-self: flex-start;width: 50%;}#sk-container-id-2 div.sk-parallel-item:only-child::after {width: 0;}#sk-container-id-2 div.sk-dashed-wrapped {border: 1px dashed gray;margin: 0 0.4em 0.5em 0.4em;box-sizing: border-box;padding-bottom: 0.4em;background-color: white;}#sk-container-id-2 div.sk-label label {font-family: monospace;font-weight: bold;display: inline-block;line-height: 1.2em;}#sk-container-id-2 div.sk-label-container {text-align: center;}#sk-container-id-2 div.sk-container {/* jupyter's `normalize.less` sets `[hidden] { display: none; }` but bootstrap.min.css set `[hidden] { display: none !important; }` so we also need the `!important` here to be able to override the default hidden behavior on the sphinx rendered scikit-learn.org. See: https://github.com/scikit-learn/scikit-learn/issues/21755 */display: inline-block !important;position: relative;}#sk-container-id-2 div.sk-text-repr-fallback {display: none;}</style><div id=\"sk-container-id-2\" class=\"sk-top-container\"><div class=\"sk-text-repr-fallback\"><pre>PCA(n_components=5)</pre><b>In a Jupyter environment, please rerun this cell to show the HTML representation or trust the notebook. <br />On GitHub, the HTML representation is unable to render, please try loading this page with nbviewer.org.</b></div><div class=\"sk-container\" hidden><div class=\"sk-item\"><div class=\"sk-estimator sk-toggleable\"><input class=\"sk-toggleable__control sk-hidden--visually\" id=\"sk-estimator-id-4\" type=\"checkbox\" checked><label for=\"sk-estimator-id-4\" class=\"sk-toggleable__label sk-toggleable__label-arrow\">PCA</label><div class=\"sk-toggleable__content\"><pre>PCA(n_components=5)</pre></div></div></div></div></div>"
      ],
      "text/plain": [
       "PCA(n_components=5)"
      ]
     },
     "execution_count": 19,
     "metadata": {},
     "output_type": "execute_result"
    }
   ],
   "source": [
    "# nécessaires pour la réalisation d'une ACP \n",
    "from sklearn import preprocessing\n",
    "from sklearn import decomposition\n",
    "\n",
    "#On choisit ici 2 composantes\n",
    "pca = decomposition.PCA(n_components=5)\n",
    "pca.fit(X_scaled)"
   ]
  },
  {
   "cell_type": "code",
   "execution_count": 20,
   "id": "623575c1-ceb5-4f8e-ab57-2bcc8f0ea105",
   "metadata": {},
   "outputs": [
    {
     "name": "stdout",
     "output_type": "stream",
     "text": [
      "[0.0773172  0.05904301 0.05608592 0.04971353 0.04467717]\n",
      "proportion de variance expliquée :  0.28683683241987745\n"
     ]
    }
   ],
   "source": [
    "# On affiche le pourcentage de variance expliquée par chacune des composantes ainsi que leur somme\n",
    "print(pca.explained_variance_ratio_)\n",
    "print('proportion de variance expliquée : ',pca.explained_variance_ratio_.sum())"
   ]
  },
  {
   "cell_type": "code",
   "execution_count": 21,
   "id": "0287a679-8ce8-4c39-91a0-28be565274d2",
   "metadata": {
    "scrolled": true
   },
   "outputs": [
    {
     "data": {
      "text/plain": [
       "(-0.7, 0.7)"
      ]
     },
     "execution_count": 21,
     "metadata": {},
     "output_type": "execute_result"
    },
    {
     "data": {
      "image/png": "[encoded data removed]",
      "text/plain": [
       "<Figure size 640x480 with 1 Axes>"
      ]
     },
     "metadata": {},
     "output_type": "display_data"
    }
   ],
   "source": [
    "pcs = pca.components_\n",
    "\n",
    "for i, (x, y) in enumerate(zip(pcs[0, :], pcs[1, :])):\n",
    "    # Afficher un segment de l'origine au point (x, y)\n",
    "    plt.plot([0, x], [0, y], color='k')\n",
    "    # Afficher le nom (data.columns[i]) de la performance\n",
    "    plt.text(x, y, X_scaled.columns[i], fontsize='14')\n",
    "\n",
    "# Afficher une ligne horizontale y=0\n",
    "plt.plot([-0.7, 0.7], [0, 0], color='grey', ls='--')\n",
    "\n",
    "# Afficher une ligne verticale x=0\n",
    "plt.plot([0, 0], [-0.7, 0.7], color='grey', ls='--')\n",
    "\n",
    "plt.xlim([-0.7, 0.7])\n",
    "plt.ylim([-0.7, 0.7])"
   ]
  },
  {
   "cell_type": "code",
   "execution_count": 22,
   "id": "b6f492fe-a276-4d81-968c-55f97002d515",
   "metadata": {
    "id": "a9011d45-ed59-4d00-aa14-ece4f81b8cdc"
   },
   "outputs": [
    {
     "name": "stderr",
     "output_type": "stream",
     "text": [
      "C:\\Users\\Utilisateur\\AppData\\Local\\Temp\\ipykernel_9804\\4111145773.py:2: SettingWithCopyWarning: \n",
      "A value is trying to be set on a copy of a slice from a DataFrame.\n",
      "Try using .loc[row_indexer,col_indexer] = value instead\n",
      "\n",
      "See the caveats in the documentation: https://pandas.pydata.org/pandas-docs/stable/user_guide/indexing.html#returning-a-view-versus-a-copy\n",
      "  X_energy['PC1'] =X_pca['pca1'].values\n",
      "C:\\Users\\Utilisateur\\AppData\\Local\\Temp\\ipykernel_9804\\4111145773.py:3: SettingWithCopyWarning: \n",
      "A value is trying to be set on a copy of a slice from a DataFrame.\n",
      "Try using .loc[row_indexer,col_indexer] = value instead\n",
      "\n",
      "See the caveats in the documentation: https://pandas.pydata.org/pandas-docs/stable/user_guide/indexing.html#returning-a-view-versus-a-copy\n",
      "  X_energy['PC4'] =X_pca['pca4'].values\n"
     ]
    }
   ],
   "source": [
    "# ajout de pca14 à X_energy\n",
    "X_energy['PC1'] =X_pca['pca1'].values\n",
    "X_energy['PC4'] =X_pca['pca4'].values"
   ]
  },
  {
   "cell_type": "markdown",
   "id": "5e73c62d-90c5-4a43-83f1-def1921a12af",
   "metadata": {
    "id": "89b0f060-67c2-4dfc-a879-3819ad40c992"
   },
   "source": [
    "## 4.1 train test séparation"
   ]
  },
  {
   "cell_type": "code",
   "execution_count": 23,
   "id": "74e106a1-9131-46cd-a04f-fe27a353bf6a",
   "metadata": {
    "id": "96b61009-f1f9-4905-a6ff-aa9b7c72bbb1"
   },
   "outputs": [],
   "source": [
    "X_train_energy, X_test_energy , y_train_energy, y_test_energy = train_test_split(X_energy,y_energy,test_size=0.2, random_state=12)"
   ]
  },
  {
   "cell_type": "markdown",
   "id": "ca0739da-cf98-4493-b2a5-8fe2c3644bd9",
   "metadata": {
    "id": "9f40455c-7f5a-449e-87e5-ba181a7c7321"
   },
   "source": [
    "## 4.2 target encoding ??"
   ]
  },
  {
   "cell_type": "code",
   "execution_count": 24,
   "id": "cab44faa-8545-4291-8601-d17cb731c9a3",
   "metadata": {
    "colab": {
     "base_uri": "https://localhost:8080/"
    },
    "executionInfo": {
     "elapsed": 7205,
     "status": "ok",
     "timestamp": 1691091135041,
     "user": {
      "displayName": "MarcD",
      "userId": "07072845009722943265"
     },
     "user_tz": -120
    },
    "id": "da7935bc-c18a-4d71-b44d-c7d3c03074f1",
    "outputId": "1c8cb759-cd14-4fcc-e6e0-851cade14001"
   },
   "outputs": [],
   "source": [
    "from category_encoders import MEstimateEncoder\n",
    "\n",
    "# Create the encoder instance. Choose m to control noise.\n",
    "encoder = MEstimateEncoder(cols=[\"Neighborhood_northeast\"], m=5.0)\n",
    "\n",
    "# Fit the encoder on the encoding split.\n",
    "encoder.fit(X_train_energy, y_train_energy)\n",
    "\n",
    "# Encode the Zipcode column to create the final training data\n",
    "X_train_energy_encoded = encoder.transform(X_train_energy)\n",
    "X_test_energy_encoded = encoder.transform(X_test_energy)"
   ]
  },
  {
   "cell_type": "markdown",
   "id": "c74aa58a-3182-4918-a59a-898ae9f046ec",
   "metadata": {
    "id": "31458daa-4a33-4521-8585-a1dfa2a60bfa"
   },
   "source": [
    "## 4.3 model et predictions"
   ]
  },
  {
   "cell_type": "code",
   "execution_count": 25,
   "id": "a9da92fa-8831-44ad-a2ac-1f9f874d37ff",
   "metadata": {
    "colab": {
     "base_uri": "https://localhost:8080/",
     "height": 118
    },
    "executionInfo": {
     "elapsed": 46146,
     "status": "ok",
     "timestamp": 1691091321053,
     "user": {
      "displayName": "MarcD",
      "userId": "07072845009722943265"
     },
     "user_tz": -120
    },
    "id": "b5e0a049-4136-4615-84aa-27ba2670551a",
    "outputId": "271ebee5-f18b-47b5-d400-69ccffbeba54"
   },
   "outputs": [
    {
     "data": {
      "text/html": [
       "<style>#sk-container-id-3 {color: black;}#sk-container-id-3 pre{padding: 0;}#sk-container-id-3 div.sk-toggleable {background-color: white;}#sk-container-id-3 label.sk-toggleable__label {cursor: pointer;display: block;width: 100%;margin-bottom: 0;padding: 0.3em;box-sizing: border-box;text-align: center;}#sk-container-id-3 label.sk-toggleable__label-arrow:before {content: \"▸\";float: left;margin-right: 0.25em;color: #696969;}#sk-container-id-3 label.sk-toggleable__label-arrow:hover:before {color: black;}#sk-container-id-3 div.sk-estimator:hover label.sk-toggleable__label-arrow:before {color: black;}#sk-container-id-3 div.sk-toggleable__content {max-height: 0;max-width: 0;overflow: hidden;text-align: left;background-color: #f0f8ff;}#sk-container-id-3 div.sk-toggleable__content pre {margin: 0.2em;color: black;border-radius: 0.25em;background-color: #f0f8ff;}#sk-container-id-3 input.sk-toggleable__control:checked~div.sk-toggleable__content {max-height: 200px;max-width: 100%;overflow: auto;}#sk-container-id-3 input.sk-toggleable__control:checked~label.sk-toggleable__label-arrow:before {content: \"▾\";}#sk-container-id-3 div.sk-estimator input.sk-toggleable__control:checked~label.sk-toggleable__label {background-color: #d4ebff;}#sk-container-id-3 div.sk-label input.sk-toggleable__control:checked~label.sk-toggleable__label {background-color: #d4ebff;}#sk-container-id-3 input.sk-hidden--visually {border: 0;clip: rect(1px 1px 1px 1px);clip: rect(1px, 1px, 1px, 1px);height: 1px;margin: -1px;overflow: hidden;padding: 0;position: absolute;width: 1px;}#sk-container-id-3 div.sk-estimator {font-family: monospace;background-color: #f0f8ff;border: 1px dotted black;border-radius: 0.25em;box-sizing: border-box;margin-bottom: 0.5em;}#sk-container-id-3 div.sk-estimator:hover {background-color: #d4ebff;}#sk-container-id-3 div.sk-parallel-item::after {content: \"\";width: 100%;border-bottom: 1px solid gray;flex-grow: 1;}#sk-container-id-3 div.sk-label:hover label.sk-toggleable__label {background-color: #d4ebff;}#sk-container-id-3 div.sk-serial::before {content: \"\";position: absolute;border-left: 1px solid gray;box-sizing: border-box;top: 0;bottom: 0;left: 50%;z-index: 0;}#sk-container-id-3 div.sk-serial {display: flex;flex-direction: column;align-items: center;background-color: white;padding-right: 0.2em;padding-left: 0.2em;position: relative;}#sk-container-id-3 div.sk-item {position: relative;z-index: 1;}#sk-container-id-3 div.sk-parallel {display: flex;align-items: stretch;justify-content: center;background-color: white;position: relative;}#sk-container-id-3 div.sk-item::before, #sk-container-id-3 div.sk-parallel-item::before {content: \"\";position: absolute;border-left: 1px solid gray;box-sizing: border-box;top: 0;bottom: 0;left: 50%;z-index: -1;}#sk-container-id-3 div.sk-parallel-item {display: flex;flex-direction: column;z-index: 1;position: relative;background-color: white;}#sk-container-id-3 div.sk-parallel-item:first-child::after {align-self: flex-end;width: 50%;}#sk-container-id-3 div.sk-parallel-item:last-child::after {align-self: flex-start;width: 50%;}#sk-container-id-3 div.sk-parallel-item:only-child::after {width: 0;}#sk-container-id-3 div.sk-dashed-wrapped {border: 1px dashed gray;margin: 0 0.4em 0.5em 0.4em;box-sizing: border-box;padding-bottom: 0.4em;background-color: white;}#sk-container-id-3 div.sk-label label {font-family: monospace;font-weight: bold;display: inline-block;line-height: 1.2em;}#sk-container-id-3 div.sk-label-container {text-align: center;}#sk-container-id-3 div.sk-container {/* jupyter's `normalize.less` sets `[hidden] { display: none; }` but bootstrap.min.css set `[hidden] { display: none !important; }` so we also need the `!important` here to be able to override the default hidden behavior on the sphinx rendered scikit-learn.org. See: https://github.com/scikit-learn/scikit-learn/issues/21755 */display: inline-block !important;position: relative;}#sk-container-id-3 div.sk-text-repr-fallback {display: none;}</style><div id=\"sk-container-id-3\" class=\"sk-top-container\"><div class=\"sk-text-repr-fallback\"><pre>GridSearchCV(cv=5, estimator=RandomForestRegressor(),\n",
       "             param_grid={&#x27;max_depth&#x27;: [1, 2, 3, 4, 5, 6, 7, 8, 9],\n",
       "                         &#x27;n_estimators&#x27;: [1, 2, 3, 4, 5, 6, 7, 8, 9, 10, 11, 12,\n",
       "                                          13, 14, 15, 16, 17, 18, 19]},\n",
       "             scoring=&#x27;r2&#x27;)</pre><b>In a Jupyter environment, please rerun this cell to show the HTML representation or trust the notebook. <br />On GitHub, the HTML representation is unable to render, please try loading this page with nbviewer.org.</b></div><div class=\"sk-container\" hidden><div class=\"sk-item sk-dashed-wrapped\"><div class=\"sk-label-container\"><div class=\"sk-label sk-toggleable\"><input class=\"sk-toggleable__control sk-hidden--visually\" id=\"sk-estimator-id-5\" type=\"checkbox\" ><label for=\"sk-estimator-id-5\" class=\"sk-toggleable__label sk-toggleable__label-arrow\">GridSearchCV</label><div class=\"sk-toggleable__content\"><pre>GridSearchCV(cv=5, estimator=RandomForestRegressor(),\n",
       "             param_grid={&#x27;max_depth&#x27;: [1, 2, 3, 4, 5, 6, 7, 8, 9],\n",
       "                         &#x27;n_estimators&#x27;: [1, 2, 3, 4, 5, 6, 7, 8, 9, 10, 11, 12,\n",
       "                                          13, 14, 15, 16, 17, 18, 19]},\n",
       "             scoring=&#x27;r2&#x27;)</pre></div></div></div><div class=\"sk-parallel\"><div class=\"sk-parallel-item\"><div class=\"sk-item\"><div class=\"sk-label-container\"><div class=\"sk-label sk-toggleable\"><input class=\"sk-toggleable__control sk-hidden--visually\" id=\"sk-estimator-id-6\" type=\"checkbox\" ><label for=\"sk-estimator-id-6\" class=\"sk-toggleable__label sk-toggleable__label-arrow\">estimator: RandomForestRegressor</label><div class=\"sk-toggleable__content\"><pre>RandomForestRegressor()</pre></div></div></div><div class=\"sk-serial\"><div class=\"sk-item\"><div class=\"sk-estimator sk-toggleable\"><input class=\"sk-toggleable__control sk-hidden--visually\" id=\"sk-estimator-id-7\" type=\"checkbox\" ><label for=\"sk-estimator-id-7\" class=\"sk-toggleable__label sk-toggleable__label-arrow\">RandomForestRegressor</label><div class=\"sk-toggleable__content\"><pre>RandomForestRegressor()</pre></div></div></div></div></div></div></div></div></div></div>"
      ],
      "text/plain": [
       "GridSearchCV(cv=5, estimator=RandomForestRegressor(),\n",
       "             param_grid={'max_depth': [1, 2, 3, 4, 5, 6, 7, 8, 9],\n",
       "                         'n_estimators': [1, 2, 3, 4, 5, 6, 7, 8, 9, 10, 11, 12,\n",
       "                                          13, 14, 15, 16, 17, 18, 19]},\n",
       "             scoring='r2')"
      ]
     },
     "execution_count": 25,
     "metadata": {},
     "output_type": "execute_result"
    }
   ],
   "source": [
    "rf = RandomForestRegressor()\n",
    "param_rf = {'n_estimators':[i for i in range(1,20,1)],\n",
    "           'max_depth':[i for i in range(1,10,1)]}\n",
    "regr = GridSearchCV(rf,param_grid=param_rf,scoring='r2',cv=5,refit=True)\n",
    "regr.fit(X_train_energy,y_train_energy)"
   ]
  },
  {
   "cell_type": "code",
   "execution_count": 26,
   "id": "a75a6477-f11c-4039-9ca0-ea33a99629c2",
   "metadata": {
    "id": "8a80eebf-51af-4d66-bca1-dad189efc797"
   },
   "outputs": [],
   "source": [
    "# rs = 12 : 0.7164 ( sans target & pca14); 0.73 avec (NumberofBuildings encoded)\n",
    "# rs = 20 : 0.36 ( \"decennie + nbr buildings\") , 0.41\n",
    "# rs = 42 : 0.57( sans target & pca14), 0.62(pca14), 0.632(target + pca 14)"
   ]
  },
  {
   "cell_type": "code",
   "execution_count": 27,
   "id": "2a853574-a37c-4622-9221-f457fe7b1121",
   "metadata": {
    "colab": {
     "base_uri": "https://localhost:8080/"
    },
    "executionInfo": {
     "elapsed": 283,
     "status": "ok",
     "timestamp": 1691091334298,
     "user": {
      "displayName": "MarcD",
      "userId": "07072845009722943265"
     },
     "user_tz": -120
    },
    "id": "6072f959-6a45-4437-99ee-dbd1aa1b7c55",
    "outputId": "cb4962d2-fd65-4fde-8ef3-3720c2804df6"
   },
   "outputs": [
    {
     "data": {
      "text/plain": [
       "0.9476106433601691"
      ]
     },
     "execution_count": 27,
     "metadata": {},
     "output_type": "execute_result"
    }
   ],
   "source": [
    "regr.score(X_train_energy,y_train_energy)"
   ]
  },
  {
   "cell_type": "code",
   "execution_count": 28,
   "id": "62b61897-e5d4-431f-809d-6472fe89445c",
   "metadata": {
    "colab": {
     "base_uri": "https://localhost:8080/"
    },
    "executionInfo": {
     "elapsed": 229,
     "status": "ok",
     "timestamp": 1691091335461,
     "user": {
      "displayName": "MarcD",
      "userId": "07072845009722943265"
     },
     "user_tz": -120
    },
    "id": "228b90d3-3d5e-49be-ac34-7b2ee89eaaa0",
    "outputId": "62174585-5cc4-4dd0-b591-145114426b71"
   },
   "outputs": [
    {
     "data": {
      "text/plain": [
       "{'max_depth': 9, 'n_estimators': 12}"
      ]
     },
     "execution_count": 28,
     "metadata": {},
     "output_type": "execute_result"
    }
   ],
   "source": [
    "params = regr.best_params_\n",
    "params"
   ]
  },
  {
   "cell_type": "code",
   "execution_count": 29,
   "id": "3626a666-cf8e-4c14-aca4-4bd15b35e414",
   "metadata": {
    "colab": {
     "base_uri": "https://localhost:8080/"
    },
    "executionInfo": {
     "elapsed": 263,
     "status": "ok",
     "timestamp": 1691091337450,
     "user": {
      "displayName": "MarcD",
      "userId": "07072845009722943265"
     },
     "user_tz": -120
    },
    "id": "b5e8c2e5-3d9a-45e9-bddf-2dc8b950c805",
    "outputId": "1a8ab2a8-5d16-475f-f92f-4bbcbf8501ad"
   },
   "outputs": [
    {
     "data": {
      "text/plain": [
       "0.6298216141661173"
      ]
     },
     "execution_count": 29,
     "metadata": {},
     "output_type": "execute_result"
    }
   ],
   "source": [
    "final_rf = RandomForestRegressor(n_estimators = params['n_estimators'],max_depth=params['max_depth'])\n",
    "final_rf.fit(X_train_energy,y_train_energy)\n",
    "metrics.r2_score(y_test_energy,final_rf.predict(X_test_energy))"
   ]
  },
  {
   "cell_type": "code",
   "execution_count": 36,
   "id": "19522419-df0b-4334-9d25-0fe02f788125",
   "metadata": {},
   "outputs": [
    {
     "data": {
      "text/html": [
       "<div>\n",
       "<style scoped>\n",
       "    .dataframe tbody tr th:only-of-type {\n",
       "        vertical-align: middle;\n",
       "    }\n",
       "\n",
       "    .dataframe tbody tr th {\n",
       "        vertical-align: top;\n",
       "    }\n",
       "\n",
       "    .dataframe thead th {\n",
       "        text-align: right;\n",
       "    }\n",
       "</style>\n",
       "<table border=\"1\" class=\"dataframe\">\n",
       "  <thead>\n",
       "    <tr style=\"text-align: right;\">\n",
       "      <th></th>\n",
       "      <th>SiteEnergyUseWNkBtu</th>\n",
       "      <th>preds</th>\n",
       "      <th>diff</th>\n",
       "    </tr>\n",
       "  </thead>\n",
       "  <tbody>\n",
       "    <tr>\n",
       "      <th>829</th>\n",
       "      <td>2.736926e+06</td>\n",
       "      <td>4.377539e+06</td>\n",
       "      <td>1.640612e+06</td>\n",
       "    </tr>\n",
       "    <tr>\n",
       "      <th>780</th>\n",
       "      <td>5.506681e+05</td>\n",
       "      <td>2.218600e+06</td>\n",
       "      <td>1.667932e+06</td>\n",
       "    </tr>\n",
       "    <tr>\n",
       "      <th>1025</th>\n",
       "      <td>1.542945e+06</td>\n",
       "      <td>7.275777e+06</td>\n",
       "      <td>5.732832e+06</td>\n",
       "    </tr>\n",
       "    <tr>\n",
       "      <th>1120</th>\n",
       "      <td>1.419585e+06</td>\n",
       "      <td>2.218600e+06</td>\n",
       "      <td>7.990149e+05</td>\n",
       "    </tr>\n",
       "    <tr>\n",
       "      <th>982</th>\n",
       "      <td>4.719842e+06</td>\n",
       "      <td>2.218600e+06</td>\n",
       "      <td>-2.501241e+06</td>\n",
       "    </tr>\n",
       "    <tr>\n",
       "      <th>...</th>\n",
       "      <td>...</td>\n",
       "      <td>...</td>\n",
       "      <td>...</td>\n",
       "    </tr>\n",
       "    <tr>\n",
       "      <th>432</th>\n",
       "      <td>1.901429e+06</td>\n",
       "      <td>2.888324e+06</td>\n",
       "      <td>9.868945e+05</td>\n",
       "    </tr>\n",
       "    <tr>\n",
       "      <th>2205</th>\n",
       "      <td>1.094718e+05</td>\n",
       "      <td>2.218600e+06</td>\n",
       "      <td>2.109128e+06</td>\n",
       "    </tr>\n",
       "    <tr>\n",
       "      <th>1903</th>\n",
       "      <td>5.578879e+05</td>\n",
       "      <td>2.218600e+06</td>\n",
       "      <td>1.660712e+06</td>\n",
       "    </tr>\n",
       "    <tr>\n",
       "      <th>370</th>\n",
       "      <td>5.413418e+06</td>\n",
       "      <td>4.527892e+06</td>\n",
       "      <td>-8.855265e+05</td>\n",
       "    </tr>\n",
       "    <tr>\n",
       "      <th>1272</th>\n",
       "      <td>7.419337e+06</td>\n",
       "      <td>2.218600e+06</td>\n",
       "      <td>-5.200737e+06</td>\n",
       "    </tr>\n",
       "  </tbody>\n",
       "</table>\n",
       "<p>325 rows × 3 columns</p>\n",
       "</div>"
      ],
      "text/plain": [
       "      SiteEnergyUseWNkBtu         preds          diff\n",
       "829          2.736926e+06  4.377539e+06  1.640612e+06\n",
       "780          5.506681e+05  2.218600e+06  1.667932e+06\n",
       "1025         1.542945e+06  7.275777e+06  5.732832e+06\n",
       "1120         1.419585e+06  2.218600e+06  7.990149e+05\n",
       "982          4.719842e+06  2.218600e+06 -2.501241e+06\n",
       "...                   ...           ...           ...\n",
       "432          1.901429e+06  2.888324e+06  9.868945e+05\n",
       "2205         1.094718e+05  2.218600e+06  2.109128e+06\n",
       "1903         5.578879e+05  2.218600e+06  1.660712e+06\n",
       "370          5.413418e+06  4.527892e+06 -8.855265e+05\n",
       "1272         7.419337e+06  2.218600e+06 -5.200737e+06\n",
       "\n",
       "[325 rows x 3 columns]"
      ]
     },
     "execution_count": 36,
     "metadata": {},
     "output_type": "execute_result"
    }
   ],
   "source": [
    "res_energy"
   ]
  },
  {
   "cell_type": "code",
   "execution_count": 41,
   "id": "195ec6bb-989a-4b58-8649-e241ce6af7a8",
   "metadata": {
    "id": "2e766a16-a109-4562-a4bf-405a0f5bb7a9",
    "outputId": "25d5e067-9db6-4152-9699-a7f4ef6132ef",
    "scrolled": true
   },
   "outputs": [
    {
     "data": {
      "text/plain": [
       "<matplotlib.collections.PathCollection at 0x18877fc8950>"
      ]
     },
     "execution_count": 41,
     "metadata": {},
     "output_type": "execute_result"
    },
    {
     "data": {
      "image/png": "[encoded data removed]",
      "text/plain": [
       "<Figure size 640x480 with 1 Axes>"
      ]
     },
     "metadata": {},
     "output_type": "display_data"
    }
   ],
   "source": [
    "res_energy = pd.DataFrame(y_test_energy)\n",
    "res_energy['preds'] = final_rf.predict(X_test_energy)\n",
    "res_energy['diff'] = res_energy.apply(lambda x : x['preds'] - x['SiteEnergyUseWNkBtu'] , axis =1 )\n",
    "plt.scatter(x = res_energy.index,y = res_energy['diff'])"
   ]
  }
 ],
 "metadata": {
  "kernelspec": {
   "display_name": "Python 3 (ipykernel)",
   "language": "python",
   "name": "python3"
  },
  "language_info": {
   "codemirror_mode": {
    "name": "ipython",
    "version": 3
   },
   "file_extension": ".py",
   "mimetype": "text/x-python",
   "name": "python",
   "nbconvert_exporter": "python",
   "pygments_lexer": "ipython3",
   "version": "3.11.4"
  }
 },
 "nbformat": 4,
 "nbformat_minor": 5
}
