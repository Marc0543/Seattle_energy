{
 "cells": [
  {
   "cell_type": "markdown",
   "id": "b714b827-5978-41a0-8955-5ee621646017",
   "metadata": {
    "id": "b714b827-5978-41a0-8955-5ee621646017"
   },
   "source": [
    "Prédire les émissions de CO2 et la consommation totale d’énergie de bâtiments non destinés à l’habitation à partir de relevés de la ville seattle\n",
    "TARGET : SiteEnergyUseWN(kBtu) & GHGEmissions <br>\n",
    "Obtenir un modèle pour l'énergie avec un R2 de plus de 0,75 sur le jeu de test et plus de 0,7 pour le CO2"
   ]
  },
  {
   "cell_type": "code",
   "execution_count": 1,
   "id": "7a78e72b-acd5-41e7-aeda-cf13febc0fbb",
   "metadata": {
    "colab": {
     "base_uri": "https://localhost:8080/",
     "height": 383
    },
    "executionInfo": {
     "elapsed": 1600,
     "status": "error",
     "timestamp": 1691125451660,
     "user": {
      "displayName": "MarcD",
      "userId": "07072845009722943265"
     },
     "user_tz": -120
    },
    "id": "7a78e72b-acd5-41e7-aeda-cf13febc0fbb",
    "outputId": "8ab22396-6a9f-4633-f10c-fdb8c33a912a"
   },
   "outputs": [],
   "source": [
    "import pandas as pd\n",
    "import numpy as np\n",
    "import matplotlib.pyplot as plt\n",
    "import seaborn as sns\n",
    "from scipy import stats\n",
    "from category_encoders import MEstimateEncoder\n",
    "import sklearn\n",
    "sklearn.set_config(transform_output=\"pandas\")\n",
    "from scipy import stats\n",
    "from statsmodels.formula.api import ols\n",
    "from sklearn.model_selection import train_test_split, GridSearchCV\n",
    "from sklearn.ensemble import RandomForestRegressor\n",
    "from sklearn.linear_model import LinearRegression\n",
    "import sklearn.metrics as metrics"
   ]
  },
  {
   "cell_type": "markdown",
   "id": "641578b3-f459-4102-a24e-3061925ff6b9",
   "metadata": {
    "id": "641578b3-f459-4102-a24e-3061925ff6b9"
   },
   "source": [
    "# 0. Nettoyage"
   ]
  },
  {
   "cell_type": "markdown",
   "id": "7d5275f4-5b27-4ff1-bd22-603f8e0af700",
   "metadata": {
    "id": "7d5275f4-5b27-4ff1-bd22-603f8e0af700"
   },
   "source": [
    "## 0.1 Import du df et nettoyage"
   ]
  },
  {
   "cell_type": "code",
   "execution_count": 2,
   "id": "9a51d670-e973-4c9b-85da-bc9147b830f1",
   "metadata": {
    "executionInfo": {
     "elapsed": 4,
     "status": "ok",
     "timestamp": 1691125464193,
     "user": {
      "displayName": "MarcD",
      "userId": "07072845009722943265"
     },
     "user_tz": -120
    },
    "id": "9a51d670-e973-4c9b-85da-bc9147b830f1"
   },
   "outputs": [],
   "source": [
    "def nettoyage():\n",
    "    df = pd.read_csv('2016-building-energy-benchmarking.csv')\n",
    "    # drop any multi family buildings, only non residential are targeted\n",
    "    propertytype_dropped = ['Mid-Rise Multifamily','High-Rise Multifamily','Low-Rise Multifamily','Residence Hall']\n",
    "    df = df[~df.PrimaryPropertyType.isin(propertytype_dropped)]\n",
    "    buildingtype_dropped = ['Multifamily MR (5-9)','Multifamily HR (10+)','Multifamily LR (1-4)']\n",
    "    df = df[~df.BuildingType.isin(buildingtype_dropped)]\n",
    "    # col homogoneous or unable to use # here it is decided to drop the EnergyStar Score ?\n",
    "    cols_to_drop = ['CouncilDistrictCode','PropertyName','OSEBuildingID', 'City', 'State', 'DataYear', 'ZipCode', 'TaxParcelIdentificationNumber',\n",
    "'YearsENERGYSTARCertified', 'Comments', 'DefaultData','Outlier','ENERGYSTARScore','Address']\n",
    "    df.drop(columns=cols_to_drop, inplace=True)\n",
    "    # too many missing data on these rows\n",
    "    df.drop(index=[578,2670,30,1361,304],inplace=True)\n",
    "    # renaming PropertyGFABuilding(s) to avoid bugs for the anova\n",
    "    df.rename(columns={\"PropertyGFABuilding(s)\":\"PropertyGFABuildings\"}, inplace=True)\n",
    "    # SiteEUIWN(kBtu/sf) imputing data by the coeff diff between WN and not WN\n",
    "    df.loc[563,'SiteEUIWN(kBtu/sf)'] = df['SiteEUIWN(kBtu/sf)'].mean() / df['SiteEUI(kBtu/sf)'].mean() * 39.5\n",
    "    df.loc[563,'SiteEnergyUseWN(kBtu)'] = df['SiteEnergyUse(kBtu)'].mean() / df['SiteEnergyUseWN(kBtu)'].mean() * 5177270.5\n",
    "    # LargestPropertyUseType  not filled in , imputing by research on the activity of the company\n",
    "    df.loc[1147,'LargestPropertyUseType'] = 'Hotel'\n",
    "    df.loc[2414,'LargestPropertyUseType'] = 'Office'\n",
    "    df.loc[2459,'LargestPropertyUseType'] = 'Restaurant'\n",
    "    df.loc[353,'LargestPropertyUseType'] = 'Self-Storage Facility'\n",
    "    # LargestPropertyUseTypeGFA not filled in, imputing the real GFA if one building else dividing totalGFA by number of buildings\n",
    "    df.loc[1147,'LargestPropertyUseTypeGFA'] = 61721\n",
    "    df.loc[2414,'LargestPropertyUseTypeGFA'] = 48350\n",
    "    df.loc[2459,'LargestPropertyUseTypeGFA'] = 28800\n",
    "    df.loc[353,'LargestPropertyUseTypeGFA'] = 55722\n",
    "    # missing data from compliance\n",
    "    idx_missingdata = df[df['ComplianceStatus'] ==  'Missing Data'].index\n",
    "    df.drop(index=idx_missingdata, inplace=True)\n",
    "    # fixing typos issues within the neighborhood column\n",
    "    df.Neighborhood = df.Neighborhood.map(lambda x: x.lower())\n",
    "    df.loc[3370,'Neighborhood'] = 'delridge'\n",
    "    df.loc[1328,'PrimaryPropertyType'] = 'Hotel'\n",
    "    # pour les WN non renseignés, imputation par multiplication de leur normal par le ratio de la moyenne\n",
    "    for idx in df[df['SiteEUIWN(kBtu/sf)'] == 0].index :\n",
    "        df.loc[idx,'SiteEUIWN(kBtu/sf)'] = (df['SiteEUIWN(kBtu/sf)'].mean() / df['SiteEUI(kBtu/sf)'].mean()) * df.loc[idx,'SiteEUI(kBtu/sf)']\n",
    "    # GFA columns : imputing NaN by 0\n",
    "    df['SecondLargestPropertyUseTypeGFA'] = df['SecondLargestPropertyUseTypeGFA'].fillna(0)\n",
    "    df['ThirdLargestPropertyUseTypeGFA'] = df['ThirdLargestPropertyUseTypeGFA'].fillna(0)\n",
    "    # SiteEnergyUseWN not filled in , mean imputing because weathered was filled in\n",
    "    for idx in df[df['SiteEnergyUseWN(kBtu)'] == 0].index:\n",
    "        df.loc[idx,'SiteEnergyUseWN(kBtu)'] = (df['SiteEUIWN(kBtu/sf)'].mean() / df['SiteEUI(kBtu/sf)'].mean()) * df.loc[idx,'SiteEnergyUse(kBtu)']\n",
    "    # incorrect number of buildings of 0\n",
    "    idx_build0 = df[df.NumberofBuildings == 0].index\n",
    "    for idx in idx_build0:\n",
    "        df.loc[idx,'NumberofBuildings'] = 1\n",
    "    return df"
   ]
  },
  {
   "cell_type": "code",
   "execution_count": 3,
   "id": "022870b9-7fd3-4163-b62c-0705ebcacbbb",
   "metadata": {
    "executionInfo": {
     "elapsed": 392,
     "status": "ok",
     "timestamp": 1691125976713,
     "user": {
      "displayName": "MarcD",
      "userId": "07072845009722943265"
     },
     "user_tz": -120
    },
    "id": "022870b9-7fd3-4163-b62c-0705ebcacbbb"
   },
   "outputs": [],
   "source": [
    "def preprocess(df):\n",
    "    # skyscraper feature\n",
    "    #df['skyscraper'] = df.NumberofFloors > 8\n",
    "    # OH functions ,if it is labo or a campus/univeristy or an hospital\n",
    "\n",
    "    # laboratoire ?\n",
    "    def is_labo(x):\n",
    "        if x['PrimaryPropertyType'] == 'Laboratory':\n",
    "            return 1\n",
    "        elif x['LargestPropertyUseType'] == 'Laboratory'  :\n",
    "            return 1\n",
    "        else :\n",
    "            return 0\n",
    "\n",
    "    df['is_laboratory'] = df.apply(is_labo, axis=1)\n",
    "\n",
    "    # campus ou université ?\n",
    "    def is_campus(x):\n",
    "        if x['BuildingType'] == 'Campus':\n",
    "            return 1\n",
    "        elif x['PrimaryPropertyType'] == 'University':\n",
    "            return 1\n",
    "        else :\n",
    "            return 0\n",
    "\n",
    "    df['is_campus'] = df.apply(is_campus, axis=1)\n",
    "\n",
    "    # hopital ?\n",
    "    def is_hospital(x):\n",
    "        if x == 'Hospital':\n",
    "            return 1\n",
    "        else :\n",
    "            return 0\n",
    "    #df['is_hospital'] = df.PrimaryPropertyType.map(is_hospital)\n",
    "    #df.loc[2482, 'is_hospital'] = False # cas particulier\n",
    "\n",
    "    # decennie est bof, essayer par trentaine d'année  ?\n",
    "    df['decennie'] = df.YearBuilt.map(lambda x :  (2017 - x) // 10 ) + 1\n",
    "\n",
    "    # calcul du pourcentage de source d'énergie\n",
    "    def p_gas(x):\n",
    "        if x['SiteEnergyUseWN(kBtu)'] != 0:\n",
    "            return x['NaturalGas(kBtu)'] / x['SiteEnergyUseWN(kBtu)'] *100\n",
    "        else :\n",
    "            return 0\n",
    "    df['p_gas'] = df.apply(p_gas,axis=1)\n",
    "\n",
    "    def p_elec(x):\n",
    "        if x['SiteEnergyUseWN(kBtu)'] != 0:\n",
    "            return x['Electricity(kBtu)'] / x['SiteEnergyUseWN(kBtu)'] *100\n",
    "        else :\n",
    "            return 0\n",
    "    df['p_elec'] = df.apply(p_elec,axis=1)\n",
    "    def p_steam(x):\n",
    "        if x['SiteEnergyUseWN(kBtu)'] != 0:\n",
    "            return x['SteamUse(kBtu)'] / x['SiteEnergyUseWN(kBtu)'] *100\n",
    "        else :\n",
    "            return 0\n",
    "    df['p_steam'] = df.apply(p_steam,axis=1)\n",
    "    # colonne de différence entre WN et normal\n",
    "    df['WN_ratio'] = df['SiteEUIWN(kBtu/sf)'] / df['SiteEUI(kBtu/sf)']\n",
    "    # get_dummies sur largestype\n",
    "    #df = pd.get_dummies(df,columns=['LargestPropertyUseType'])\n",
    "    # outlier ? 35 ?\n",
    "    df.drop(index=[3274,35], inplace = True)\n",
    "    return df"
   ]
  },
  {
   "cell_type": "code",
   "execution_count": 4,
   "id": "9f0f2654-8053-4e6a-a010-b414d429f74a",
   "metadata": {
    "executionInfo": {
     "elapsed": 324,
     "status": "ok",
     "timestamp": 1691125979911,
     "user": {
      "displayName": "MarcD",
      "userId": "07072845009722943265"
     },
     "user_tz": -120
    },
    "id": "9f0f2654-8053-4e6a-a010-b414d429f74a"
   },
   "outputs": [],
   "source": [
    "df=preprocess(nettoyage())"
   ]
  },
  {
   "cell_type": "markdown",
   "id": "573e098c-cb19-498b-b5c9-8958b14f1249",
   "metadata": {
    "id": "573e098c-cb19-498b-b5c9-8958b14f1249"
   },
   "source": [
    "## 0.2 Modification des Use Type et GFA's ( METTRE TOUT LE CODE DANS UNE FONCTION A APPELER )\n"
   ]
  },
  {
   "cell_type": "code",
   "execution_count": 5,
   "id": "1b8a8f2a-94d7-4b87-90fb-a7b8ffe8f488",
   "metadata": {
    "id": "1b8a8f2a-94d7-4b87-90fb-a7b8ffe8f488"
   },
   "outputs": [],
   "source": [
    "# colonnes sur lesquelles on va transformer\n",
    "cols_to_transform = ['LargestPropertyUseType','LargestPropertyUseTypeGFA','SecondLargestPropertyUseType', 'SecondLargestPropertyUseTypeGFA','ThirdLargestPropertyUseType', 'ThirdLargestPropertyUseTypeGFA']\n",
    "# DataFrame de travail\n",
    "df_merging = df[cols_to_transform].copy()"
   ]
  },
  {
   "cell_type": "code",
   "execution_count": 6,
   "id": "393c880d-9617-4bfa-a0b5-ae97e0bf0a76",
   "metadata": {
    "id": "393c880d-9617-4bfa-a0b5-ae97e0bf0a76"
   },
   "outputs": [],
   "source": [
    "# bins\n",
    "list_type = ['Data Center','Fitness Center/Health Club/Gym','Office', 'Non-Refrigerated Warehouse', 'K-12 School', 'Retail Store',\n",
    "       'Other', 'Hotel', 'Worship Facility', 'Distribution Center',\n",
    "       'Supermarket/Grocery Store', 'Medical Office', 'Other - Recreation',\n",
    "       'Parking', 'Self-Storage Facility', 'College/University',\n",
    "       'Other - Entertainment/Public Assembly', 'Senior Care Community',\n",
    "       'Laboratory', 'Restaurant', 'Refrigerated Warehouse',\n",
    "       'Social/Meeting Hall', 'Hospital (General Medical & Surgical)',\n",
    "       'Multifamily Housing', 'Manufacturing/Industrial Plant',\n",
    "       'Repair Services (Vehicle, Shoe, Locksmith, etc)', 'Strip Mall']\n",
    "# mapping des colonnes UseType avec la liste de dessus\n",
    "def categs1(x):\n",
    "    if x in list_type:\n",
    "        return x\n",
    "    else :\n",
    "        return 'Other'\n",
    "df_merging['categs1'] = df_merging.LargestPropertyUseType.map(categs1)\n",
    "\n",
    "def categs2(x):\n",
    "    if x in list_type:\n",
    "        return x\n",
    "    elif x!= 0 :\n",
    "        return 'Other'\n",
    "df_merging['categs2'] = df_merging.SecondLargestPropertyUseType.map(categs2)\n",
    "\n",
    "def categs3(x):\n",
    "    if x in list_type:\n",
    "        return x\n",
    "    elif x!= 0 :\n",
    "        return 'Other'\n",
    "df_merging['categs3'] = df_merging.ThirdLargestPropertyUseType.map(categs3)"
   ]
  },
  {
   "cell_type": "code",
   "execution_count": 7,
   "id": "92b6e3db-d6f8-4e63-821b-d6d2a7565ff7",
   "metadata": {
    "id": "92b6e3db-d6f8-4e63-821b-d6d2a7565ff7",
    "scrolled": true
   },
   "outputs": [],
   "source": [
    "# OH\n",
    "df_merging = pd.get_dummies(df_merging,columns=['categs1'])\n",
    "# liste des colonnes OH'ed\n",
    "largest_cols = []\n",
    "for col in df_merging.columns :\n",
    "    if 'categs1_' in col:\n",
    "        largest_cols.append(col)\n",
    "# !!! code dégueu :  boucle qui assigne la valeur GFA au type d'Use\n",
    "for col in largest_cols:\n",
    "    def transformGFA(x):\n",
    "        if x[col] == True:\n",
    "            return x['LargestPropertyUseTypeGFA']\n",
    "        else :\n",
    "            return 0\n",
    "    df_merging[col+'1'] = df_merging.apply(transformGFA, axis=1)"
   ]
  },
  {
   "cell_type": "code",
   "execution_count": 8,
   "id": "58e2ee76-065d-4ea1-98bc-f7ddcac22d83",
   "metadata": {
    "id": "58e2ee76-065d-4ea1-98bc-f7ddcac22d83"
   },
   "outputs": [],
   "source": [
    "# belote pour le second\n",
    "\n",
    "df_merging = pd.get_dummies(df_merging,columns=['categs2'])\n",
    "\n",
    "second_cols = []\n",
    "for col in df_merging.columns :\n",
    "    if 'categs2_' in col:\n",
    "        second_cols.append(col)\n",
    "for col in second_cols:\n",
    "    def secondtransformGFA(x):\n",
    "        if x[col] == True:\n",
    "            return x['SecondLargestPropertyUseTypeGFA']\n",
    "        else :\n",
    "            return 0\n",
    "    df_merging[col+'2'] = df_merging.apply(secondtransformGFA, axis=1)"
   ]
  },
  {
   "cell_type": "code",
   "execution_count": 9,
   "id": "9623f570-1e5f-4cb5-abb3-fbbb9a387556",
   "metadata": {
    "id": "9623f570-1e5f-4cb5-abb3-fbbb9a387556"
   },
   "outputs": [],
   "source": [
    "# rebelote , faire une fonction serait pas mal ....\n",
    "df_merging = pd.get_dummies(df_merging,columns=['categs3'])\n",
    "\n",
    "third_cols = []\n",
    "for col in df_merging.columns :\n",
    "    if 'categs3_' in col:\n",
    "        third_cols.append(col)\n",
    "for col in third_cols:\n",
    "    def thirdtransformGFA(x):\n",
    "        if x[col] == True:\n",
    "            return x['ThirdLargestPropertyUseTypeGFA']\n",
    "        else :\n",
    "            return 0\n",
    "    df_merging[col+'3'] = df_merging.apply(thirdtransformGFA, axis=1)"
   ]
  },
  {
   "cell_type": "code",
   "execution_count": 10,
   "id": "de4774d0-0ec1-4a08-a1ee-7d8db8f1c249",
   "metadata": {
    "id": "de4774d0-0ec1-4a08-a1ee-7d8db8f1c249",
    "scrolled": true
   },
   "outputs": [
    {
     "name": "stderr",
     "output_type": "stream",
     "text": [
      "C:\\Users\\Utilisateur\\AppData\\Local\\Temp\\ipykernel_11576\\3487616290.py:6: PerformanceWarning: DataFrame is highly fragmented.  This is usually the result of calling `frame.insert` many times, which has poor performance.  Consider joining all columns at once using pd.concat(axis=1) instead. To get a de-fragmented frame, use `newframe = frame.copy()`\n",
      "  df_merging[categ] = df_merging['categs1_'+categ+'1'] +  df_merging['categs2_'+categ+'2'] + df_merging['categs3_'+categ+'3']\n",
      "C:\\Users\\Utilisateur\\AppData\\Local\\Temp\\ipykernel_11576\\3487616290.py:6: PerformanceWarning: DataFrame is highly fragmented.  This is usually the result of calling `frame.insert` many times, which has poor performance.  Consider joining all columns at once using pd.concat(axis=1) instead. To get a de-fragmented frame, use `newframe = frame.copy()`\n",
      "  df_merging[categ] = df_merging['categs1_'+categ+'1'] +  df_merging['categs2_'+categ+'2'] + df_merging['categs3_'+categ+'3']\n",
      "C:\\Users\\Utilisateur\\AppData\\Local\\Temp\\ipykernel_11576\\3487616290.py:15: PerformanceWarning: DataFrame is highly fragmented.  This is usually the result of calling `frame.insert` many times, which has poor performance.  Consider joining all columns at once using pd.concat(axis=1) instead. To get a de-fragmented frame, use `newframe = frame.copy()`\n",
      "  df_merging[categ] = df_merging['categs1_'+categ+'1'] +  df_merging['categs2_'+categ+'2']\n",
      "C:\\Users\\Utilisateur\\AppData\\Local\\Temp\\ipykernel_11576\\3487616290.py:6: PerformanceWarning: DataFrame is highly fragmented.  This is usually the result of calling `frame.insert` many times, which has poor performance.  Consider joining all columns at once using pd.concat(axis=1) instead. To get a de-fragmented frame, use `newframe = frame.copy()`\n",
      "  df_merging[categ] = df_merging['categs1_'+categ+'1'] +  df_merging['categs2_'+categ+'2'] + df_merging['categs3_'+categ+'3']\n",
      "C:\\Users\\Utilisateur\\AppData\\Local\\Temp\\ipykernel_11576\\3487616290.py:6: PerformanceWarning: DataFrame is highly fragmented.  This is usually the result of calling `frame.insert` many times, which has poor performance.  Consider joining all columns at once using pd.concat(axis=1) instead. To get a de-fragmented frame, use `newframe = frame.copy()`\n",
      "  df_merging[categ] = df_merging['categs1_'+categ+'1'] +  df_merging['categs2_'+categ+'2'] + df_merging['categs3_'+categ+'3']\n",
      "C:\\Users\\Utilisateur\\AppData\\Local\\Temp\\ipykernel_11576\\3487616290.py:15: PerformanceWarning: DataFrame is highly fragmented.  This is usually the result of calling `frame.insert` many times, which has poor performance.  Consider joining all columns at once using pd.concat(axis=1) instead. To get a de-fragmented frame, use `newframe = frame.copy()`\n",
      "  df_merging[categ] = df_merging['categs1_'+categ+'1'] +  df_merging['categs2_'+categ+'2']\n",
      "C:\\Users\\Utilisateur\\AppData\\Local\\Temp\\ipykernel_11576\\3487616290.py:8: PerformanceWarning: DataFrame is highly fragmented.  This is usually the result of calling `frame.insert` many times, which has poor performance.  Consider joining all columns at once using pd.concat(axis=1) instead. To get a de-fragmented frame, use `newframe = frame.copy()`\n",
      "  df_merging[categ] =  df_merging['categs1_'+categ+'1'] + df_merging['categs3_'+categ+'3']\n"
     ]
    }
   ],
   "source": [
    "# somme des valeurs des GFa/UseType en une colonne\n",
    "for categ in list_type:\n",
    "        if 'categs3_'+categ+'3' in df_merging.columns :\n",
    "            if 'categs1_'+categ+'1' in df_merging.columns:\n",
    "                if 'categs2_'+categ+'2' in df_merging.columns:\n",
    "                    df_merging[categ] = df_merging['categs1_'+categ+'1'] +  df_merging['categs2_'+categ+'2'] + df_merging['categs3_'+categ+'3']\n",
    "                else :\n",
    "                    df_merging[categ] =  df_merging['categs1_'+categ+'1'] + df_merging['categs3_'+categ+'3']\n",
    "            elif 'categs2_'+categ+'2' in df_merging.columns:\n",
    "                    df_merging[categ] = df_merging['categs2_'+categ+'2'] + df_merging['categs3_'+categ+'3']\n",
    "            else :\n",
    "                df_merging[categ] = df_merging['categs3_'+categ+'3']\n",
    "        elif 'categs2_'+categ+'2' in df_merging.columns :\n",
    "            if 'categs1_'+categ+'1' in df_merging.columns:\n",
    "                df_merging[categ] = df_merging['categs1_'+categ+'1'] +  df_merging['categs2_'+categ+'2']\n",
    "            else :\n",
    "                df_merging[categ] = df_merging['categs2_'+categ+'2']\n",
    "        else :\n",
    "            df_merging[categ] = df_merging['categs1_'+categ+'1']"
   ]
  },
  {
   "cell_type": "code",
   "execution_count": 11,
   "id": "18301e25-67cc-46d0-babd-69cebe3a4f36",
   "metadata": {
    "id": "18301e25-67cc-46d0-babd-69cebe3a4f36"
   },
   "outputs": [],
   "source": [
    "# ajout de ces colonnes au df principal\n",
    "df = df.merge(df_merging[list_type], left_index=True, right_index=True, how='outer')"
   ]
  },
  {
   "cell_type": "markdown",
   "id": "S4oNKBWZpYb2",
   "metadata": {
    "id": "S4oNKBWZpYb2"
   },
   "source": [
    "## 0.3 Colonne Etages/Surface"
   ]
  },
  {
   "cell_type": "code",
   "execution_count": 12,
   "id": "H_R3tCWZu7Hk",
   "metadata": {
    "executionInfo": {
     "elapsed": 408,
     "status": "ok",
     "timestamp": 1691126029860,
     "user": {
      "displayName": "MarcD",
      "userId": "07072845009722943265"
     },
     "user_tz": -120
    },
    "id": "H_R3tCWZu7Hk"
   },
   "outputs": [],
   "source": [
    "df.NumberofFloors = df.NumberofFloors + 1"
   ]
  },
  {
   "cell_type": "code",
   "execution_count": 13,
   "id": "chliR5wopUrz",
   "metadata": {
    "executionInfo": {
     "elapsed": 4,
     "status": "ok",
     "timestamp": 1691126030280,
     "user": {
      "displayName": "MarcD",
      "userId": "07072845009722943265"
     },
     "user_tz": -120
    },
    "id": "chliR5wopUrz"
   },
   "outputs": [],
   "source": [
    "df['floor_building'] =   df.NumberofFloors /  df.NumberofBuildings * df.PropertyGFABuildings"
   ]
  },
  {
   "cell_type": "code",
   "execution_count": 14,
   "id": "jp60py_6sj16",
   "metadata": {
    "colab": {
     "base_uri": "https://localhost:8080/"
    },
    "executionInfo": {
     "elapsed": 7,
     "status": "ok",
     "timestamp": 1691126031809,
     "user": {
      "displayName": "MarcD",
      "userId": "07072845009722943265"
     },
     "user_tz": -120
    },
    "id": "jp60py_6sj16",
    "outputId": "8ea0800a-aa7c-4211-84e2-398c45d85a11"
   },
   "outputs": [
    {
     "data": {
      "text/plain": [
       "False"
      ]
     },
     "execution_count": 14,
     "metadata": {},
     "output_type": "execute_result"
    }
   ],
   "source": [
    "np.isinf(df['floor_building'].values).any()"
   ]
  },
  {
   "cell_type": "code",
   "execution_count": 15,
   "id": "gmvGtTcJsYBH",
   "metadata": {
    "colab": {
     "base_uri": "https://localhost:8080/"
    },
    "executionInfo": {
     "elapsed": 411,
     "status": "ok",
     "timestamp": 1691126034261,
     "user": {
      "displayName": "MarcD",
      "userId": "07072845009722943265"
     },
     "user_tz": -120
    },
    "id": "gmvGtTcJsYBH",
    "outputId": "a12b6e2a-bc67-434e-c521-13a705928995"
   },
   "outputs": [
    {
     "data": {
      "text/plain": [
       "PearsonRResult(statistic=0.3422661238718632, pvalue=8.008086581330382e-46)"
      ]
     },
     "execution_count": 15,
     "metadata": {},
     "output_type": "execute_result"
    }
   ],
   "source": [
    "stats.pearsonr(df['SiteEnergyUseWN(kBtu)'],df['floor_building'])"
   ]
  },
  {
   "cell_type": "markdown",
   "id": "7I1RAyHO-Nci",
   "metadata": {
    "id": "7I1RAyHO-Nci"
   },
   "source": [
    "## 0.4 Colonne Ratio decennie et GFABuildings"
   ]
  },
  {
   "cell_type": "code",
   "execution_count": 16,
   "id": "0IoUKURJ93XE",
   "metadata": {
    "colab": {
     "base_uri": "https://localhost:8080/"
    },
    "executionInfo": {
     "elapsed": 424,
     "status": "ok",
     "timestamp": 1691127038093,
     "user": {
      "displayName": "MarcD",
      "userId": "07072845009722943265"
     },
     "user_tz": -120
    },
    "id": "0IoUKURJ93XE",
    "outputId": "fbc30e12-a437-4990-d98e-ab45d9bfac5d"
   },
   "outputs": [
    {
     "data": {
      "text/plain": [
       "PearsonRResult(statistic=0.4939915008938631, pvalue=1.3536302766741733e-100)"
      ]
     },
     "execution_count": 16,
     "metadata": {},
     "output_type": "execute_result"
    }
   ],
   "source": [
    " df['ratio_GFAdecennie'] =  df['PropertyGFABuildings'] / df['decennie']\n",
    " stats.pearsonr( df['ratio_GFAdecennie'], df['SiteEnergyUse(kBtu)'])"
   ]
  },
  {
   "cell_type": "markdown",
   "id": "42b12d82-094b-4f11-9bf3-2d76971c6f1a",
   "metadata": {
    "id": "42b12d82-094b-4f11-9bf3-2d76971c6f1a"
   },
   "source": [
    "# 1. EDA"
   ]
  },
  {
   "cell_type": "code",
   "execution_count": 17,
   "id": "a15acf53-bef4-4ced-842e-eb345c765af1",
   "metadata": {
    "id": "a15acf53-bef4-4ced-842e-eb345c765af1",
    "outputId": "f7f8cddc-8714-43e3-b002-83034f291de0"
   },
   "outputs": [
    {
     "data": {
      "text/html": [
       "<div>\n",
       "<style scoped>\n",
       "    .dataframe tbody tr th:only-of-type {\n",
       "        vertical-align: middle;\n",
       "    }\n",
       "\n",
       "    .dataframe tbody tr th {\n",
       "        vertical-align: top;\n",
       "    }\n",
       "\n",
       "    .dataframe thead th {\n",
       "        text-align: right;\n",
       "    }\n",
       "</style>\n",
       "<table border=\"1\" class=\"dataframe\">\n",
       "  <thead>\n",
       "    <tr style=\"text-align: right;\">\n",
       "      <th></th>\n",
       "      <th>BuildingType</th>\n",
       "      <th>PrimaryPropertyType</th>\n",
       "      <th>Neighborhood</th>\n",
       "      <th>Latitude</th>\n",
       "      <th>Longitude</th>\n",
       "      <th>YearBuilt</th>\n",
       "      <th>NumberofBuildings</th>\n",
       "      <th>NumberofFloors</th>\n",
       "      <th>PropertyGFATotal</th>\n",
       "      <th>PropertyGFAParking</th>\n",
       "      <th>...</th>\n",
       "      <th>Restaurant</th>\n",
       "      <th>Refrigerated Warehouse</th>\n",
       "      <th>Social/Meeting Hall</th>\n",
       "      <th>Hospital (General Medical &amp; Surgical)</th>\n",
       "      <th>Multifamily Housing</th>\n",
       "      <th>Manufacturing/Industrial Plant</th>\n",
       "      <th>Repair Services (Vehicle, Shoe, Locksmith, etc)</th>\n",
       "      <th>Strip Mall</th>\n",
       "      <th>floor_building</th>\n",
       "      <th>ratio_GFAdecennie</th>\n",
       "    </tr>\n",
       "  </thead>\n",
       "  <tbody>\n",
       "    <tr>\n",
       "      <th>count</th>\n",
       "      <td>1623</td>\n",
       "      <td>1623</td>\n",
       "      <td>1623</td>\n",
       "      <td>1623.000000</td>\n",
       "      <td>1623.000000</td>\n",
       "      <td>1623.000000</td>\n",
       "      <td>1623.000000</td>\n",
       "      <td>1623.000000</td>\n",
       "      <td>1.623000e+03</td>\n",
       "      <td>1623.000000</td>\n",
       "      <td>...</td>\n",
       "      <td>1623.000000</td>\n",
       "      <td>1623.000000</td>\n",
       "      <td>1623.000000</td>\n",
       "      <td>1.623000e+03</td>\n",
       "      <td>1623.000000</td>\n",
       "      <td>1623.000000</td>\n",
       "      <td>1623.000000</td>\n",
       "      <td>1623.000000</td>\n",
       "      <td>1.623000e+03</td>\n",
       "      <td>1.623000e+03</td>\n",
       "    </tr>\n",
       "    <tr>\n",
       "      <th>unique</th>\n",
       "      <td>5</td>\n",
       "      <td>20</td>\n",
       "      <td>13</td>\n",
       "      <td>NaN</td>\n",
       "      <td>NaN</td>\n",
       "      <td>NaN</td>\n",
       "      <td>NaN</td>\n",
       "      <td>NaN</td>\n",
       "      <td>NaN</td>\n",
       "      <td>NaN</td>\n",
       "      <td>...</td>\n",
       "      <td>NaN</td>\n",
       "      <td>NaN</td>\n",
       "      <td>NaN</td>\n",
       "      <td>NaN</td>\n",
       "      <td>NaN</td>\n",
       "      <td>NaN</td>\n",
       "      <td>NaN</td>\n",
       "      <td>NaN</td>\n",
       "      <td>NaN</td>\n",
       "      <td>NaN</td>\n",
       "    </tr>\n",
       "    <tr>\n",
       "      <th>top</th>\n",
       "      <td>NonResidential</td>\n",
       "      <td>Small- and Mid-Sized Office</td>\n",
       "      <td>downtown</td>\n",
       "      <td>NaN</td>\n",
       "      <td>NaN</td>\n",
       "      <td>NaN</td>\n",
       "      <td>NaN</td>\n",
       "      <td>NaN</td>\n",
       "      <td>NaN</td>\n",
       "      <td>NaN</td>\n",
       "      <td>...</td>\n",
       "      <td>NaN</td>\n",
       "      <td>NaN</td>\n",
       "      <td>NaN</td>\n",
       "      <td>NaN</td>\n",
       "      <td>NaN</td>\n",
       "      <td>NaN</td>\n",
       "      <td>NaN</td>\n",
       "      <td>NaN</td>\n",
       "      <td>NaN</td>\n",
       "      <td>NaN</td>\n",
       "    </tr>\n",
       "    <tr>\n",
       "      <th>freq</th>\n",
       "      <td>1433</td>\n",
       "      <td>291</td>\n",
       "      <td>356</td>\n",
       "      <td>NaN</td>\n",
       "      <td>NaN</td>\n",
       "      <td>NaN</td>\n",
       "      <td>NaN</td>\n",
       "      <td>NaN</td>\n",
       "      <td>NaN</td>\n",
       "      <td>NaN</td>\n",
       "      <td>...</td>\n",
       "      <td>NaN</td>\n",
       "      <td>NaN</td>\n",
       "      <td>NaN</td>\n",
       "      <td>NaN</td>\n",
       "      <td>NaN</td>\n",
       "      <td>NaN</td>\n",
       "      <td>NaN</td>\n",
       "      <td>NaN</td>\n",
       "      <td>NaN</td>\n",
       "      <td>NaN</td>\n",
       "    </tr>\n",
       "    <tr>\n",
       "      <th>mean</th>\n",
       "      <td>NaN</td>\n",
       "      <td>NaN</td>\n",
       "      <td>NaN</td>\n",
       "      <td>47.615395</td>\n",
       "      <td>-122.333076</td>\n",
       "      <td>1961.868762</td>\n",
       "      <td>1.137400</td>\n",
       "      <td>5.154652</td>\n",
       "      <td>1.133305e+05</td>\n",
       "      <td>13189.457794</td>\n",
       "      <td>...</td>\n",
       "      <td>581.269871</td>\n",
       "      <td>479.824399</td>\n",
       "      <td>184.394948</td>\n",
       "      <td>4.276194e+03</td>\n",
       "      <td>914.300062</td>\n",
       "      <td>212.905730</td>\n",
       "      <td>164.792976</td>\n",
       "      <td>320.123845</td>\n",
       "      <td>1.169724e+06</td>\n",
       "      <td>3.319688e+04</td>\n",
       "    </tr>\n",
       "    <tr>\n",
       "      <th>std</th>\n",
       "      <td>NaN</td>\n",
       "      <td>NaN</td>\n",
       "      <td>NaN</td>\n",
       "      <td>0.048115</td>\n",
       "      <td>0.024540</td>\n",
       "      <td>32.725920</td>\n",
       "      <td>1.157285</td>\n",
       "      <td>6.636882</td>\n",
       "      <td>1.934699e+05</td>\n",
       "      <td>42795.282265</td>\n",
       "      <td>...</td>\n",
       "      <td>4063.564915</td>\n",
       "      <td>7927.631642</td>\n",
       "      <td>2170.424024</td>\n",
       "      <td>6.611172e+04</td>\n",
       "      <td>12829.145674</td>\n",
       "      <td>3973.460564</td>\n",
       "      <td>2508.132536</td>\n",
       "      <td>6018.664487</td>\n",
       "      <td>5.902557e+06</td>\n",
       "      <td>8.083713e+04</td>\n",
       "    </tr>\n",
       "    <tr>\n",
       "      <th>min</th>\n",
       "      <td>NaN</td>\n",
       "      <td>NaN</td>\n",
       "      <td>NaN</td>\n",
       "      <td>47.499170</td>\n",
       "      <td>-122.411820</td>\n",
       "      <td>1900.000000</td>\n",
       "      <td>1.000000</td>\n",
       "      <td>1.000000</td>\n",
       "      <td>1.128500e+04</td>\n",
       "      <td>0.000000</td>\n",
       "      <td>...</td>\n",
       "      <td>0.000000</td>\n",
       "      <td>0.000000</td>\n",
       "      <td>0.000000</td>\n",
       "      <td>0.000000e+00</td>\n",
       "      <td>0.000000</td>\n",
       "      <td>0.000000</td>\n",
       "      <td>0.000000</td>\n",
       "      <td>0.000000</td>\n",
       "      <td>9.266400e+03</td>\n",
       "      <td>6.060000e+02</td>\n",
       "    </tr>\n",
       "    <tr>\n",
       "      <th>25%</th>\n",
       "      <td>NaN</td>\n",
       "      <td>NaN</td>\n",
       "      <td>NaN</td>\n",
       "      <td>47.584690</td>\n",
       "      <td>-122.343260</td>\n",
       "      <td>1930.000000</td>\n",
       "      <td>1.000000</td>\n",
       "      <td>2.000000</td>\n",
       "      <td>2.940850e+04</td>\n",
       "      <td>0.000000</td>\n",
       "      <td>...</td>\n",
       "      <td>0.000000</td>\n",
       "      <td>0.000000</td>\n",
       "      <td>0.000000</td>\n",
       "      <td>0.000000e+00</td>\n",
       "      <td>0.000000</td>\n",
       "      <td>0.000000</td>\n",
       "      <td>0.000000</td>\n",
       "      <td>0.000000</td>\n",
       "      <td>7.776000e+04</td>\n",
       "      <td>4.404131e+03</td>\n",
       "    </tr>\n",
       "    <tr>\n",
       "      <th>50%</th>\n",
       "      <td>NaN</td>\n",
       "      <td>NaN</td>\n",
       "      <td>NaN</td>\n",
       "      <td>47.612170</td>\n",
       "      <td>-122.333050</td>\n",
       "      <td>1965.000000</td>\n",
       "      <td>1.000000</td>\n",
       "      <td>3.000000</td>\n",
       "      <td>4.906600e+04</td>\n",
       "      <td>0.000000</td>\n",
       "      <td>...</td>\n",
       "      <td>0.000000</td>\n",
       "      <td>0.000000</td>\n",
       "      <td>0.000000</td>\n",
       "      <td>0.000000e+00</td>\n",
       "      <td>0.000000</td>\n",
       "      <td>0.000000</td>\n",
       "      <td>0.000000</td>\n",
       "      <td>0.000000</td>\n",
       "      <td>1.477560e+05</td>\n",
       "      <td>8.636250e+03</td>\n",
       "    </tr>\n",
       "    <tr>\n",
       "      <th>75%</th>\n",
       "      <td>NaN</td>\n",
       "      <td>NaN</td>\n",
       "      <td>NaN</td>\n",
       "      <td>47.648655</td>\n",
       "      <td>-122.322110</td>\n",
       "      <td>1989.000000</td>\n",
       "      <td>1.000000</td>\n",
       "      <td>5.000000</td>\n",
       "      <td>1.042255e+05</td>\n",
       "      <td>0.000000</td>\n",
       "      <td>...</td>\n",
       "      <td>0.000000</td>\n",
       "      <td>0.000000</td>\n",
       "      <td>0.000000</td>\n",
       "      <td>0.000000e+00</td>\n",
       "      <td>0.000000</td>\n",
       "      <td>0.000000</td>\n",
       "      <td>0.000000</td>\n",
       "      <td>0.000000</td>\n",
       "      <td>4.106775e+05</td>\n",
       "      <td>2.499232e+04</td>\n",
       "    </tr>\n",
       "    <tr>\n",
       "      <th>max</th>\n",
       "      <td>NaN</td>\n",
       "      <td>NaN</td>\n",
       "      <td>NaN</td>\n",
       "      <td>47.733870</td>\n",
       "      <td>-122.258640</td>\n",
       "      <td>2015.000000</td>\n",
       "      <td>27.000000</td>\n",
       "      <td>100.000000</td>\n",
       "      <td>2.200000e+06</td>\n",
       "      <td>512608.000000</td>\n",
       "      <td>...</td>\n",
       "      <td>80000.000000</td>\n",
       "      <td>276000.000000</td>\n",
       "      <td>49000.000000</td>\n",
       "      <td>1.639334e+06</td>\n",
       "      <td>340236.000000</td>\n",
       "      <td>142901.000000</td>\n",
       "      <td>68359.000000</td>\n",
       "      <td>146363.000000</td>\n",
       "      <td>1.257271e+08</td>\n",
       "      <td>1.004813e+06</td>\n",
       "    </tr>\n",
       "  </tbody>\n",
       "</table>\n",
       "<p>11 rows × 68 columns</p>\n",
       "</div>"
      ],
      "text/plain": [
       "          BuildingType          PrimaryPropertyType Neighborhood     Latitude  \\\n",
       "count             1623                         1623         1623  1623.000000   \n",
       "unique               5                           20           13          NaN   \n",
       "top     NonResidential  Small- and Mid-Sized Office     downtown          NaN   \n",
       "freq              1433                          291          356          NaN   \n",
       "mean               NaN                          NaN          NaN    47.615395   \n",
       "std                NaN                          NaN          NaN     0.048115   \n",
       "min                NaN                          NaN          NaN    47.499170   \n",
       "25%                NaN                          NaN          NaN    47.584690   \n",
       "50%                NaN                          NaN          NaN    47.612170   \n",
       "75%                NaN                          NaN          NaN    47.648655   \n",
       "max                NaN                          NaN          NaN    47.733870   \n",
       "\n",
       "          Longitude    YearBuilt  NumberofBuildings  NumberofFloors  \\\n",
       "count   1623.000000  1623.000000        1623.000000     1623.000000   \n",
       "unique          NaN          NaN                NaN             NaN   \n",
       "top             NaN          NaN                NaN             NaN   \n",
       "freq            NaN          NaN                NaN             NaN   \n",
       "mean    -122.333076  1961.868762           1.137400        5.154652   \n",
       "std        0.024540    32.725920           1.157285        6.636882   \n",
       "min     -122.411820  1900.000000           1.000000        1.000000   \n",
       "25%     -122.343260  1930.000000           1.000000        2.000000   \n",
       "50%     -122.333050  1965.000000           1.000000        3.000000   \n",
       "75%     -122.322110  1989.000000           1.000000        5.000000   \n",
       "max     -122.258640  2015.000000          27.000000      100.000000   \n",
       "\n",
       "        PropertyGFATotal  PropertyGFAParking  ...    Restaurant  \\\n",
       "count       1.623000e+03         1623.000000  ...   1623.000000   \n",
       "unique               NaN                 NaN  ...           NaN   \n",
       "top                  NaN                 NaN  ...           NaN   \n",
       "freq                 NaN                 NaN  ...           NaN   \n",
       "mean        1.133305e+05        13189.457794  ...    581.269871   \n",
       "std         1.934699e+05        42795.282265  ...   4063.564915   \n",
       "min         1.128500e+04            0.000000  ...      0.000000   \n",
       "25%         2.940850e+04            0.000000  ...      0.000000   \n",
       "50%         4.906600e+04            0.000000  ...      0.000000   \n",
       "75%         1.042255e+05            0.000000  ...      0.000000   \n",
       "max         2.200000e+06       512608.000000  ...  80000.000000   \n",
       "\n",
       "       Refrigerated Warehouse Social/Meeting Hall  \\\n",
       "count             1623.000000         1623.000000   \n",
       "unique                    NaN                 NaN   \n",
       "top                       NaN                 NaN   \n",
       "freq                      NaN                 NaN   \n",
       "mean               479.824399          184.394948   \n",
       "std               7927.631642         2170.424024   \n",
       "min                  0.000000            0.000000   \n",
       "25%                  0.000000            0.000000   \n",
       "50%                  0.000000            0.000000   \n",
       "75%                  0.000000            0.000000   \n",
       "max             276000.000000        49000.000000   \n",
       "\n",
       "        Hospital (General Medical & Surgical) Multifamily Housing  \\\n",
       "count                            1.623000e+03         1623.000000   \n",
       "unique                                    NaN                 NaN   \n",
       "top                                       NaN                 NaN   \n",
       "freq                                      NaN                 NaN   \n",
       "mean                             4.276194e+03          914.300062   \n",
       "std                              6.611172e+04        12829.145674   \n",
       "min                              0.000000e+00            0.000000   \n",
       "25%                              0.000000e+00            0.000000   \n",
       "50%                              0.000000e+00            0.000000   \n",
       "75%                              0.000000e+00            0.000000   \n",
       "max                              1.639334e+06       340236.000000   \n",
       "\n",
       "        Manufacturing/Industrial Plant  \\\n",
       "count                      1623.000000   \n",
       "unique                             NaN   \n",
       "top                                NaN   \n",
       "freq                               NaN   \n",
       "mean                        212.905730   \n",
       "std                        3973.460564   \n",
       "min                           0.000000   \n",
       "25%                           0.000000   \n",
       "50%                           0.000000   \n",
       "75%                           0.000000   \n",
       "max                      142901.000000   \n",
       "\n",
       "       Repair Services (Vehicle, Shoe, Locksmith, etc)     Strip Mall  \\\n",
       "count                                      1623.000000    1623.000000   \n",
       "unique                                             NaN            NaN   \n",
       "top                                                NaN            NaN   \n",
       "freq                                               NaN            NaN   \n",
       "mean                                        164.792976     320.123845   \n",
       "std                                        2508.132536    6018.664487   \n",
       "min                                           0.000000       0.000000   \n",
       "25%                                           0.000000       0.000000   \n",
       "50%                                           0.000000       0.000000   \n",
       "75%                                           0.000000       0.000000   \n",
       "max                                       68359.000000  146363.000000   \n",
       "\n",
       "        floor_building  ratio_GFAdecennie  \n",
       "count     1.623000e+03       1.623000e+03  \n",
       "unique             NaN                NaN  \n",
       "top                NaN                NaN  \n",
       "freq               NaN                NaN  \n",
       "mean      1.169724e+06       3.319688e+04  \n",
       "std       5.902557e+06       8.083713e+04  \n",
       "min       9.266400e+03       6.060000e+02  \n",
       "25%       7.776000e+04       4.404131e+03  \n",
       "50%       1.477560e+05       8.636250e+03  \n",
       "75%       4.106775e+05       2.499232e+04  \n",
       "max       1.257271e+08       1.004813e+06  \n",
       "\n",
       "[11 rows x 68 columns]"
      ]
     },
     "execution_count": 17,
     "metadata": {},
     "output_type": "execute_result"
    }
   ],
   "source": [
    "df.describe(include ='all')"
   ]
  },
  {
   "cell_type": "markdown",
   "id": "98a43532-74e3-44fa-b3c6-150d0db4962f",
   "metadata": {
    "id": "98a43532-74e3-44fa-b3c6-150d0db4962f"
   },
   "source": [
    "Valeurs Nulles"
   ]
  },
  {
   "cell_type": "code",
   "execution_count": null,
   "id": "87a3daf3-50c8-4e8f-ab7d-f988a7f23c76",
   "metadata": {
    "id": "87a3daf3-50c8-4e8f-ab7d-f988a7f23c76"
   },
   "outputs": [],
   "source": [
    "# to drop : OSEBuildingID, City, State, DataYear, ZipCode, TaxParcelIdentificationNumber,\n",
    "#       'SecondLargestPropertyUseType', 'SecondLargestPropertyUseTypeGFA',\n",
    "#       'ThirdLargestPropertyUseType', 'ThirdLargestPropertyUseTypeGFA',\n",
    "#       'YearsENERGYSTARCertified', 'Comments'\n",
    "# pending : Adress\n",
    "# ? ? : PropertyName,\n",
    "# To transform : ?  : Neighborhood, Latitude, Longitude, by a K-means ?\n",
    "# YearBuilt : refaire des catégories ( ancien batiment, ? ,  récent, neuf) ?\n",
    "# NumberofBuildings  , regarder si c'est proportionnel\n",
    "#"
   ]
  },
  {
   "cell_type": "markdown",
   "id": "6c321010-8f07-4637-9e74-08be26838283",
   "metadata": {
    "id": "6c321010-8f07-4637-9e74-08be26838283"
   },
   "source": [
    "## 1.1 Analyse Univariée"
   ]
  },
  {
   "cell_type": "markdown",
   "id": "08ad0196-96f8-40a5-88b5-5be3a24ffa49",
   "metadata": {
    "id": "08ad0196-96f8-40a5-88b5-5be3a24ffa49"
   },
   "source": [
    "Number of Floors"
   ]
  },
  {
   "cell_type": "code",
   "execution_count": null,
   "id": "4a105340-0575-4b63-aa24-5ace12eb7854",
   "metadata": {
    "colab": {
     "base_uri": "https://localhost:8080/"
    },
    "executionInfo": {
     "elapsed": 273,
     "status": "ok",
     "timestamp": 1691092555316,
     "user": {
      "displayName": "MarcD",
      "userId": "07072845009722943265"
     },
     "user_tz": -120
    },
    "id": "4a105340-0575-4b63-aa24-5ace12eb7854",
    "outputId": "544af219-fb11-4dbc-a1c7-35cd953be4fe"
   },
   "outputs": [],
   "source": [
    "df.NumberofFloors.value_counts()"
   ]
  },
  {
   "cell_type": "code",
   "execution_count": null,
   "id": "272b7701-4f16-4b00-a871-47ab00ef718c",
   "metadata": {
    "id": "272b7701-4f16-4b00-a871-47ab00ef718c",
    "outputId": "d8ebf631-2318-49c6-fc33-a67986c10a66"
   },
   "outputs": [],
   "source": [
    "sns.boxplot(df.NumberofFloors)"
   ]
  },
  {
   "cell_type": "code",
   "execution_count": null,
   "id": "348b0625-261c-4cbd-93bc-3b4407628dca",
   "metadata": {
    "id": "348b0625-261c-4cbd-93bc-3b4407628dca",
    "outputId": "07649d0c-64d1-4f0d-fe50-947ece9e3551"
   },
   "outputs": [],
   "source": [
    "df[df.NumberofFloors > 40 ].index"
   ]
  },
  {
   "cell_type": "markdown",
   "id": "ca83f486-7060-4d54-bf17-b22d5a0ef53a",
   "metadata": {
    "id": "ca83f486-7060-4d54-bf17-b22d5a0ef53a"
   },
   "source": [
    "Number of Buildings"
   ]
  },
  {
   "cell_type": "code",
   "execution_count": null,
   "id": "ff3f108a-d956-4008-a4aa-fd7a271cd9ea",
   "metadata": {
    "id": "ff3f108a-d956-4008-a4aa-fd7a271cd9ea",
    "outputId": "e4a1a2ec-25e4-40d7-adc1-428499a6294c"
   },
   "outputs": [],
   "source": [
    "df.NumberofBuildings.value_counts()"
   ]
  },
  {
   "cell_type": "code",
   "execution_count": null,
   "id": "902f6a60-6525-4c75-96d7-314f0a5e51f9",
   "metadata": {
    "id": "902f6a60-6525-4c75-96d7-314f0a5e51f9",
    "outputId": "2e7d068f-a7a7-4944-8c5a-074ef29648a8"
   },
   "outputs": [],
   "source": [
    "df[df.NumberofBuildings > 5].index"
   ]
  },
  {
   "cell_type": "markdown",
   "id": "c585a1be-f67d-4baf-8209-14d7e72716ad",
   "metadata": {
    "id": "c585a1be-f67d-4baf-8209-14d7e72716ad"
   },
   "source": [
    "PropertyGFA"
   ]
  },
  {
   "cell_type": "code",
   "execution_count": null,
   "id": "e6046d43-acbd-4e34-9136-8ef268bd7f85",
   "metadata": {
    "id": "e6046d43-acbd-4e34-9136-8ef268bd7f85",
    "outputId": "c42ac57a-e48c-4389-fdea-9341002cfec7"
   },
   "outputs": [],
   "source": [
    "plt.boxplot(df.PropertyGFATotal, vert=False)"
   ]
  },
  {
   "cell_type": "code",
   "execution_count": null,
   "id": "328181b8-d717-4c62-b037-6bc9d57562e6",
   "metadata": {
    "id": "328181b8-d717-4c62-b037-6bc9d57562e6",
    "outputId": "43a6dadd-aba3-4e4d-f593-ff041aadf6b0"
   },
   "outputs": [],
   "source": [
    "df[df.PropertyGFATotal > 1500000].sort_values(by='PropertyGFATotal')"
   ]
  },
  {
   "cell_type": "markdown",
   "id": "4abdc7fb-3cb7-4c3e-ae8c-771369fdff2f",
   "metadata": {
    "id": "4abdc7fb-3cb7-4c3e-ae8c-771369fdff2f"
   },
   "source": [
    "PropertyGFAParking"
   ]
  },
  {
   "cell_type": "code",
   "execution_count": null,
   "id": "e53da8cb-c4aa-4e73-a351-4c95ecebc00b",
   "metadata": {
    "id": "e53da8cb-c4aa-4e73-a351-4c95ecebc00b",
    "outputId": "22b11790-3b87-48f3-fb75-7903d268c5aa"
   },
   "outputs": [],
   "source": [
    "df.PropertyGFAParking.value_counts()"
   ]
  },
  {
   "cell_type": "code",
   "execution_count": null,
   "id": "a0814386-4fce-4c32-89d1-4d52fbe18078",
   "metadata": {
    "id": "a0814386-4fce-4c32-89d1-4d52fbe18078",
    "outputId": "c102ef24-8cc9-4232-ae5e-876a7a4e08e9"
   },
   "outputs": [],
   "source": [
    "sns.boxplot(df['PropertyGFAParking'])"
   ]
  },
  {
   "cell_type": "code",
   "execution_count": null,
   "id": "025b95a9-c3e4-4cc6-b2a6-da3e8a1d91eb",
   "metadata": {
    "id": "025b95a9-c3e4-4cc6-b2a6-da3e8a1d91eb",
    "outputId": "6ad2164a-6664-4547-db15-635399416648"
   },
   "outputs": [],
   "source": [
    "df[df.PropertyGFAParking >  200000 ].index"
   ]
  },
  {
   "cell_type": "markdown",
   "id": "49b02845-3d3b-4225-b53a-64f74e91e895",
   "metadata": {
    "id": "49b02845-3d3b-4225-b53a-64f74e91e895"
   },
   "source": [
    "PropertyGFABuilding(s)"
   ]
  },
  {
   "cell_type": "code",
   "execution_count": null,
   "id": "19f68378-e58c-4c6e-b756-8876eeb5ea6a",
   "metadata": {
    "id": "19f68378-e58c-4c6e-b756-8876eeb5ea6a",
    "outputId": "fd2d5c8f-721c-4aae-fa26-bd8525a9e42a"
   },
   "outputs": [],
   "source": [
    "df[df['PropertyGFABuildings'] > 1500000].sort_values(by='PropertyGFABuildings', ascending=False).index"
   ]
  },
  {
   "cell_type": "markdown",
   "id": "ae4c7546-1725-4afb-9c5f-3b9a3a550762",
   "metadata": {
    "id": "ae4c7546-1725-4afb-9c5f-3b9a3a550762"
   },
   "source": [
    "SiteEUI(kBtu/sf)"
   ]
  },
  {
   "cell_type": "code",
   "execution_count": null,
   "id": "8e266a12-d070-4b1d-84b4-57cdd592d9d4",
   "metadata": {
    "id": "8e266a12-d070-4b1d-84b4-57cdd592d9d4",
    "outputId": "55127b43-021e-4adb-da45-2a34592ed525"
   },
   "outputs": [],
   "source": [
    "sns.boxplot(df['SiteEUI(kBtu/sf)'])"
   ]
  },
  {
   "cell_type": "code",
   "execution_count": null,
   "id": "96694f39-9157-4ccc-bba6-16490496dce2",
   "metadata": {
    "id": "96694f39-9157-4ccc-bba6-16490496dce2",
    "outputId": "cd7207fa-45c4-4787-bba2-7bf6cd1a6cf4"
   },
   "outputs": [],
   "source": [
    "df[df['SiteEUI(kBtu/sf)'] > 500 ].sort_values(by='SiteEUI(kBtu/sf)', ascending=False).index"
   ]
  },
  {
   "cell_type": "markdown",
   "id": "cbf5944e-a3a1-4be1-a883-630e0ffbb6b0",
   "metadata": {
    "id": "cbf5944e-a3a1-4be1-a883-630e0ffbb6b0"
   },
   "source": [
    "SiteEUIWN(kBtu/sf)"
   ]
  },
  {
   "cell_type": "code",
   "execution_count": null,
   "id": "b5ef9387-e5f8-4089-9aae-ad2d10164c06",
   "metadata": {
    "id": "b5ef9387-e5f8-4089-9aae-ad2d10164c06",
    "outputId": "a216cbbb-98cc-4989-e90f-cdec02de15b3"
   },
   "outputs": [],
   "source": [
    "sns.boxplot(df['SiteEUIWN(kBtu/sf)'])"
   ]
  },
  {
   "cell_type": "code",
   "execution_count": null,
   "id": "16cc31b7-0434-4335-9195-58187f3144be",
   "metadata": {
    "id": "16cc31b7-0434-4335-9195-58187f3144be",
    "outputId": "78947c59-7806-47d2-ccaa-94ff92d37d34"
   },
   "outputs": [],
   "source": [
    "df[df['SiteEUIWN(kBtu/sf)'] > 500 ].sort_values(by='SiteEUIWN(kBtu/sf)', ascending=False).index"
   ]
  },
  {
   "cell_type": "markdown",
   "id": "ff97f14b-b55d-41ba-8322-b93e351570c0",
   "metadata": {
    "id": "ff97f14b-b55d-41ba-8322-b93e351570c0"
   },
   "source": [
    " 'SiteEnergyUse(kBtu)',"
   ]
  },
  {
   "cell_type": "code",
   "execution_count": null,
   "id": "cb14aa20-32e6-4c0f-a7af-c8c0173608ae",
   "metadata": {
    "id": "cb14aa20-32e6-4c0f-a7af-c8c0173608ae",
    "outputId": "f69f1eed-0397-45db-9dfb-229745e7f6c9"
   },
   "outputs": [],
   "source": [
    "sns.boxplot(df['SiteEnergyUse(kBtu)'])"
   ]
  },
  {
   "cell_type": "code",
   "execution_count": null,
   "id": "9792a0f3-e64b-45d9-99d9-7db0b07f5873",
   "metadata": {
    "id": "9792a0f3-e64b-45d9-99d9-7db0b07f5873",
    "outputId": "e84dad62-4049-4b90-b476-1edb94ffd189"
   },
   "outputs": [],
   "source": [
    "df[df['SiteEnergyUse(kBtu)'] > 200000000 ].sort_values(by='SiteEnergyUse(kBtu)', ascending=False).index"
   ]
  },
  {
   "cell_type": "markdown",
   "id": "3f6a1a15-3037-44c1-aa41-e94c81cf4fee",
   "metadata": {
    "id": "3f6a1a15-3037-44c1-aa41-e94c81cf4fee"
   },
   "source": [
    "'SteamUse(kBtu)'"
   ]
  },
  {
   "cell_type": "code",
   "execution_count": null,
   "id": "1eb55b3e-dbbe-4b20-a8cf-8083660c85f1",
   "metadata": {
    "id": "1eb55b3e-dbbe-4b20-a8cf-8083660c85f1",
    "outputId": "76ded3c9-ac2d-4e38-942b-e8ecff1f42f7"
   },
   "outputs": [],
   "source": [
    "sns.boxplot(df['SteamUse(kBtu)'])"
   ]
  },
  {
   "cell_type": "code",
   "execution_count": null,
   "id": "0fb2aee7-2cc2-45a2-a327-653df3bd0451",
   "metadata": {
    "id": "0fb2aee7-2cc2-45a2-a327-653df3bd0451",
    "outputId": "5a767872-63fe-49c8-8fc5-6e7a348d67b7"
   },
   "outputs": [],
   "source": [
    "df[df['SteamUse(kBtu)'] > 20000000 ].sort_values(by='SteamUse(kBtu)', ascending=False).index"
   ]
  },
  {
   "cell_type": "code",
   "execution_count": null,
   "id": "0b2ed19d-52e2-4298-ae5d-a501637c05d3",
   "metadata": {
    "id": "0b2ed19d-52e2-4298-ae5d-a501637c05d3",
    "outputId": "ca83c5ad-4d45-47a2-e5f5-fca8e1234183"
   },
   "outputs": [],
   "source": [
    "df[df['SteamUse(kBtu)'] == 0].shape"
   ]
  },
  {
   "cell_type": "markdown",
   "id": "445df791-6e38-4c20-8846-2aadad5244fb",
   "metadata": {
    "id": "445df791-6e38-4c20-8846-2aadad5244fb"
   },
   "source": [
    "Electricity(kWh)"
   ]
  },
  {
   "cell_type": "code",
   "execution_count": null,
   "id": "34c92895-f052-4d4c-be9c-101d3f880b69",
   "metadata": {
    "id": "34c92895-f052-4d4c-be9c-101d3f880b69",
    "outputId": "0c2a8e41-701c-49b4-ace3-34c6bedd863f"
   },
   "outputs": [],
   "source": [
    "sns.boxplot(df[\"Electricity(kWh)\"])"
   ]
  },
  {
   "cell_type": "code",
   "execution_count": null,
   "id": "6dda5ad8-ddc8-482d-a27c-8d5555b18318",
   "metadata": {
    "id": "6dda5ad8-ddc8-482d-a27c-8d5555b18318",
    "outputId": "f4ac3a99-b809-4848-ff00-449f20e54299"
   },
   "outputs": [],
   "source": [
    "df[df['Electricity(kWh)'] > 25000000 ].sort_values(by='Electricity(kWh)', ascending=False).index"
   ]
  },
  {
   "cell_type": "markdown",
   "id": "5f8f7f15-b933-44bb-95e4-ef7d5d1fa2e8",
   "metadata": {
    "id": "5f8f7f15-b933-44bb-95e4-ef7d5d1fa2e8"
   },
   "source": [
    "Natural Gas (therms and kBtu)"
   ]
  },
  {
   "cell_type": "code",
   "execution_count": null,
   "id": "2a6fd5c2-6f10-4547-ab3f-4b67a2276222",
   "metadata": {
    "id": "2a6fd5c2-6f10-4547-ab3f-4b67a2276222",
    "outputId": "283b1f0d-f1ef-468f-ffee-f1f181b67fa3"
   },
   "outputs": [],
   "source": [
    "sns.boxplot(df['NaturalGas(therms)'])"
   ]
  },
  {
   "cell_type": "code",
   "execution_count": null,
   "id": "040ff638-8aca-42fb-8f1b-307797067db6",
   "metadata": {
    "id": "040ff638-8aca-42fb-8f1b-307797067db6",
    "outputId": "e7634c92-0a26-4602-ccd8-b38b209f05e7"
   },
   "outputs": [],
   "source": [
    "df[df['NaturalGas(therms)'] > 500000 ].sort_values(by='NaturalGas(therms)', ascending=False).index"
   ]
  },
  {
   "cell_type": "markdown",
   "id": "fe76c758-4323-4083-b0d5-90882aca486e",
   "metadata": {
    "id": "fe76c758-4323-4083-b0d5-90882aca486e"
   },
   "source": [
    "ComplianceStatus"
   ]
  },
  {
   "cell_type": "code",
   "execution_count": null,
   "id": "57bf303c-e452-4dfa-bdda-4139e56c181f",
   "metadata": {
    "id": "57bf303c-e452-4dfa-bdda-4139e56c181f",
    "outputId": "677f5f0d-5af9-407e-d2a9-a6c49e22a2b8"
   },
   "outputs": [],
   "source": [
    "df.ComplianceStatus.value_counts()"
   ]
  },
  {
   "cell_type": "markdown",
   "id": "9775d60a-2f9c-4678-9ff5-a92ab4a3629a",
   "metadata": {
    "id": "9775d60a-2f9c-4678-9ff5-a92ab4a3629a"
   },
   "source": [
    "TotalGHGEmissions & GHGEmissionsIntensity"
   ]
  },
  {
   "cell_type": "code",
   "execution_count": null,
   "id": "6184c8bf-16c5-4355-9ede-f92b4b71c934",
   "metadata": {
    "id": "6184c8bf-16c5-4355-9ede-f92b4b71c934",
    "outputId": "72f3a091-b3b6-47d4-ca09-3430ea204605"
   },
   "outputs": [],
   "source": [
    "sns.boxplot(df['TotalGHGEmissions'])"
   ]
  },
  {
   "cell_type": "code",
   "execution_count": null,
   "id": "cc4038fe-13d7-45c6-b2cd-f89cbdd59902",
   "metadata": {
    "id": "cc4038fe-13d7-45c6-b2cd-f89cbdd59902",
    "outputId": "a795af28-3012-430a-d497-b404be2bc944"
   },
   "outputs": [],
   "source": [
    "df[df['TotalGHGEmissions'] > 5000 ].sort_values(by='TotalGHGEmissions', ascending=False).index"
   ]
  },
  {
   "cell_type": "code",
   "execution_count": null,
   "id": "3b88f400-7483-44c3-814e-9b8608b3aea8",
   "metadata": {
    "id": "3b88f400-7483-44c3-814e-9b8608b3aea8",
    "outputId": "1f478741-6d3d-4ca2-94de-3e2e8c1878db"
   },
   "outputs": [],
   "source": [
    "sns.boxplot(df['GHGEmissionsIntensity'])"
   ]
  },
  {
   "cell_type": "code",
   "execution_count": null,
   "id": "d125ed09-2fee-4e9a-ba03-d991b6295f74",
   "metadata": {
    "id": "d125ed09-2fee-4e9a-ba03-d991b6295f74",
    "outputId": "a8b2a1fb-4af9-4e1b-ea1e-4ead00d5d725"
   },
   "outputs": [],
   "source": [
    "df[df['GHGEmissionsIntensity'] > 14 ].sort_values(by='GHGEmissionsIntensity', ascending=False).index"
   ]
  },
  {
   "cell_type": "code",
   "execution_count": null,
   "id": "6646da9c-5114-43c3-a925-942d7e091a19",
   "metadata": {
    "id": "6646da9c-5114-43c3-a925-942d7e091a19",
    "outputId": "3d9b0a4d-7f88-4ab7-e778-8891dc266b27"
   },
   "outputs": [],
   "source": [
    "sns.boxplot(df[df.BuildingType.isin(['Campus','Hospital'])]['GHGEmissionsIntensity'].values)"
   ]
  },
  {
   "cell_type": "code",
   "execution_count": null,
   "id": "4e0efdf0-5c1e-463e-9134-6f07f127e224",
   "metadata": {
    "id": "4e0efdf0-5c1e-463e-9134-6f07f127e224",
    "outputId": "5388b83e-b8a0-48c3-8bed-5da0a12911bf"
   },
   "outputs": [],
   "source": [
    "df.PrimaryPropertyType.unique()"
   ]
  },
  {
   "cell_type": "code",
   "execution_count": null,
   "id": "fe801bb4-6fc4-43d7-88c2-ff7b68a203e2",
   "metadata": {
    "id": "fe801bb4-6fc4-43d7-88c2-ff7b68a203e2",
    "outputId": "a3308c32-8d5f-4aed-def2-5581264de6cd"
   },
   "outputs": [],
   "source": [
    "df.loc[df.PrimaryPropertyType.isin(['Mixed Use Property'])].sort_values(by='GHGEmissionsIntensity', ascending = False)"
   ]
  },
  {
   "cell_type": "markdown",
   "id": "2f7b4329-2ec5-45c3-a8f7-78ccce256d86",
   "metadata": {
    "id": "2f7b4329-2ec5-45c3-a8f7-78ccce256d86"
   },
   "source": [
    "## 1.2 Analyse Bivariée"
   ]
  },
  {
   "cell_type": "code",
   "execution_count": null,
   "id": "df097b41-5cc3-428f-b495-07dc14055f90",
   "metadata": {
    "id": "df097b41-5cc3-428f-b495-07dc14055f90"
   },
   "outputs": [],
   "source": [
    "def boxplot_test(col,target, violin = False):\n",
    "  print(f\"\\n Distribution de {target} et  {col}\")\n",
    "  freq_col = pd.DataFrame(df[[target,col]])\n",
    "  freq_col[col] = freq_col[col].astype('str')\n",
    "  print(df[col].value_counts())\n",
    "  sns.color_palette(\"Set2\")\n",
    "  if violin :\n",
    "    sns.violinplot(x=freq_col[target],y=freq_col[col], palette=\"pastel\")\n",
    "  else :\n",
    "    sns.boxplot(x=freq_col[target],y=freq_col[col], palette=\"Set2\",showfliers=False)\n",
    "  plt.title(col)\n",
    "  plt.show()"
   ]
  },
  {
   "cell_type": "code",
   "execution_count": null,
   "id": "f0edcbf4-d944-4dde-8630-af70dda1a9e6",
   "metadata": {
    "id": "f0edcbf4-d944-4dde-8630-af70dda1a9e6"
   },
   "outputs": [],
   "source": [
    "def scatter_test(col,target):\n",
    "    sns.color_palette(\"Set2\")\n",
    "    freq_col = pd.DataFrame(df[[target,col]])\n",
    "    sns.scatterplot(y=freq_col[target],x=freq_col[col])\n",
    "    plt.title(col)\n",
    "    plt.show()"
   ]
  },
  {
   "cell_type": "code",
   "execution_count": null,
   "id": "c87a618d-b04c-4438-9757-a9148eab6150",
   "metadata": {
    "id": "c87a618d-b04c-4438-9757-a9148eab6150"
   },
   "outputs": [],
   "source": [
    "# 'Latitude', 'Longitude',\n",
    "cols_num = [\n",
    "       'SteamUse(kBtu)','Electricity(kBtu)',\n",
    "       'NaturalGas(kBtu)','PropertyGFATotal', 'PropertyGFAParking','PropertyGFABuildings']\n",
    "cols_categ = ['Neighborhood','BuildingType', 'PrimaryPropertyType','YearBuilt', 'NumberofBuildings',\n",
    "       'NumberofFloors','decennie']\n",
    "\n",
    "ord_categ = ['NumberofFloors','decennie','YearBuilt']"
   ]
  },
  {
   "cell_type": "code",
   "execution_count": null,
   "id": "6e587ba9-338e-484e-9f45-4016bed972e6",
   "metadata": {
    "id": "6e587ba9-338e-484e-9f45-4016bed972e6",
    "outputId": "ea357b4a-ebe4-4aaa-8de5-bc506e7bbf3b",
    "scrolled": true
   },
   "outputs": [],
   "source": [
    "for col_num in cols_num :\n",
    "    scatter_test(col_num,'SiteEnergyUse(kBtu)')"
   ]
  },
  {
   "cell_type": "code",
   "execution_count": null,
   "id": "b51cbd9a-96b5-441a-9431-b1934e8ea1cd",
   "metadata": {
    "id": "b51cbd9a-96b5-441a-9431-b1934e8ea1cd",
    "outputId": "9a865e67-ab49-4c7b-8f50-5e444872487b",
    "scrolled": true
   },
   "outputs": [],
   "source": [
    "for col_categ in cols_categ :\n",
    "    scatter_test(col_categ,'SiteEUI(kBtu/sf)')"
   ]
  },
  {
   "cell_type": "code",
   "execution_count": null,
   "id": "44f3081a-9e43-4e87-8ba4-48009caf2587",
   "metadata": {
    "id": "44f3081a-9e43-4e87-8ba4-48009caf2587",
    "outputId": "083a17c9-3b7a-413b-e66d-e571e06fd42e",
    "scrolled": true
   },
   "outputs": [],
   "source": [
    "for col_categ in cols_categ :\n",
    "    boxplot_test(col_categ,'TotalGHGEmissions')"
   ]
  },
  {
   "cell_type": "code",
   "execution_count": null,
   "id": "c91ccec8-b0fa-4463-9c01-3eeacd9cfa1c",
   "metadata": {
    "id": "c91ccec8-b0fa-4463-9c01-3eeacd9cfa1c",
    "outputId": "63581d46-e382-4c5a-e6ef-e854f454bbde",
    "scrolled": true
   },
   "outputs": [],
   "source": [
    "for col_ord in ord_categ :\n",
    "    scatter_test(col_ord,'SiteEnergyUse(kBtu)')"
   ]
  },
  {
   "cell_type": "code",
   "execution_count": null,
   "id": "3d2a2f95-5620-4f67-9924-75edda9303f9",
   "metadata": {
    "id": "3d2a2f95-5620-4f67-9924-75edda9303f9",
    "jupyter": {
     "source_hidden": true
    }
   },
   "outputs": [],
   "source": [
    "larg_columns = ['LargestPropertyUseType_Adult Education',\n",
    "       'LargestPropertyUseType_Automobile Dealership',\n",
    "       'LargestPropertyUseType_Bank Branch',\n",
    "       'LargestPropertyUseType_College/University',\n",
    "       'LargestPropertyUseType_Courthouse',\n",
    "       'LargestPropertyUseType_Data Center',\n",
    "       'LargestPropertyUseType_Distribution Center',\n",
    "       'LargestPropertyUseType_Financial Office',\n",
    "       'LargestPropertyUseType_Fire Station',\n",
    "       'LargestPropertyUseType_Fitness Center/Health Club/Gym',\n",
    "       'LargestPropertyUseType_Food Service',\n",
    "       'LargestPropertyUseType_Hospital (General Medical & Surgical)',\n",
    "       'LargestPropertyUseType_Hotel', 'LargestPropertyUseType_K-12 School',\n",
    "       'LargestPropertyUseType_Laboratory', 'LargestPropertyUseType_Library',\n",
    "       'LargestPropertyUseType_Lifestyle Center',\n",
    "       'LargestPropertyUseType_Manufacturing/Industrial Plant',\n",
    "       'LargestPropertyUseType_Medical Office',\n",
    "       'LargestPropertyUseType_Movie Theater',\n",
    "       'LargestPropertyUseType_Multifamily Housing',\n",
    "       'LargestPropertyUseType_Museum',\n",
    "       'LargestPropertyUseType_Non-Refrigerated Warehouse',\n",
    "       'LargestPropertyUseType_Office', 'LargestPropertyUseType_Other',\n",
    "       'LargestPropertyUseType_Other - Education',\n",
    "       'LargestPropertyUseType_Other - Entertainment/Public Assembly',\n",
    "       'LargestPropertyUseType_Other - Lodging/Residential',\n",
    "       'LargestPropertyUseType_Other - Mall',\n",
    "       'LargestPropertyUseType_Other - Public Services',\n",
    "       'LargestPropertyUseType_Other - Recreation',\n",
    "       'LargestPropertyUseType_Other - Restaurant/Bar',\n",
    "       'LargestPropertyUseType_Other - Services',\n",
    "       'LargestPropertyUseType_Other - Utility',\n",
    "       'LargestPropertyUseType_Other/Specialty Hospital',\n",
    "       'LargestPropertyUseType_Parking',\n",
    "       'LargestPropertyUseType_Performing Arts',\n",
    "       'LargestPropertyUseType_Personal Services (Health/Beauty, Dry Cleaning, etc)',\n",
    "       'LargestPropertyUseType_Police Station',\n",
    "       'LargestPropertyUseType_Pre-school/Daycare',\n",
    "       'LargestPropertyUseType_Prison/Incarceration',\n",
    "       'LargestPropertyUseType_Refrigerated Warehouse',\n",
    "       'LargestPropertyUseType_Repair Services (Vehicle, Shoe, Locksmith, etc)',\n",
    "       'LargestPropertyUseType_Residence Hall/Dormitory',\n",
    "       'LargestPropertyUseType_Residential Care Facility',\n",
    "       'LargestPropertyUseType_Restaurant',\n",
    "       'LargestPropertyUseType_Retail Store',\n",
    "       'LargestPropertyUseType_Self-Storage Facility',\n",
    "       'LargestPropertyUseType_Senior Care Community',\n",
    "       'LargestPropertyUseType_Social/Meeting Hall',\n",
    "       'LargestPropertyUseType_Strip Mall',\n",
    "       'LargestPropertyUseType_Supermarket/Grocery Store',\n",
    "       'LargestPropertyUseType_Urgent Care/Clinic/Other Outpatient',\n",
    "       'LargestPropertyUseType_Wholesale Club/Supercenter',\n",
    "       'LargestPropertyUseType_Worship Facility']"
   ]
  },
  {
   "cell_type": "code",
   "execution_count": null,
   "id": "a1c05777-564e-464c-acc1-74b362a8a429",
   "metadata": {
    "id": "a1c05777-564e-464c-acc1-74b362a8a429",
    "outputId": "44d8f959-effb-494c-cfae-bf0b31f83d31",
    "scrolled": true
   },
   "outputs": [],
   "source": [
    "for col in list_type :\n",
    "    scatter_test(col,'GHGEmissionsIntensity')"
   ]
  },
  {
   "cell_type": "markdown",
   "id": "e2ef73b7-82ea-433d-8b2f-317b59ea67e3",
   "metadata": {
    "id": "e2ef73b7-82ea-433d-8b2f-317b59ea67e3"
   },
   "source": [
    "# 2. OLS"
   ]
  },
  {
   "cell_type": "code",
   "execution_count": 18,
   "id": "5703ee28-9411-4f92-820c-8d076643543b",
   "metadata": {
    "id": "5703ee28-9411-4f92-820c-8d076643543b"
   },
   "outputs": [],
   "source": [
    "def format_col(str):\n",
    "    \"\"\"\n",
    "    Formate les colonnes du dataframe\n",
    "    \"\"\"\n",
    "    str = str.replace(\"\"\"'\"\"\",\"\")\n",
    "    str = str.replace(\"\"\"\\n\"\"\",\"\")\n",
    "    str = str.replace(\"\"\"/\"\"\",\"\")\n",
    "    str = str.replace(\"\"\" \"\"\",\"_\")\n",
    "    str = str.replace(\"-\",\"_\")\n",
    "    str = str.replace(\"(\",\"\")\n",
    "    str = str.replace(\")\",\"\")\n",
    "    str = str.replace(\",\",\"_\")\n",
    "    str = str.replace(\"&\",\"and\")\n",
    "    return str"
   ]
  },
  {
   "cell_type": "code",
   "execution_count": 19,
   "id": "247def3e-8689-4051-86a3-fd0af835977f",
   "metadata": {
    "id": "247def3e-8689-4051-86a3-fd0af835977f"
   },
   "outputs": [],
   "source": [
    "def ols_auto(df_ols,list_cols,target,return_last_arg1=False):\n",
    "    \"\"\"\n",
    "    df : DataFrame cleaned up ( no NaN and categorical must be encoded)\n",
    "    list_cols : List of columns  ex : list(df_ols.columns)\n",
    "    target : String of the col target ex:  'target'\n",
    "    return_last_arg1 : renvoi du dernier arg1 (str) pour peaufiner l'anova\n",
    "    \"\"\"\n",
    "    # conversion en liste\n",
    "    if type(list_cols) != list :\n",
    "      try:\n",
    "        list_cols_asList = list(list_cols)\n",
    "      except:\n",
    "        print(\"Le second argument n'est pas convertissable en Liste Python ! \")\n",
    "    else:\n",
    "      list_cols_asList = list_cols.copy()\n",
    "\n",
    "    # définition du df de travail\n",
    "    df_test = df_ols[list_cols_asList].copy()\n",
    "\n",
    "    # conversion en float des colonnes concernées\n",
    "    for col in df_test.columns:\n",
    "        try:\n",
    "            df_test.loc[:,col] = df_test[col].astype(float,errors='ignore')\n",
    "        except: # !!!  fonctionnalité d'erreur non testée pas testée\n",
    "            print('Error : could not convert column : ',col,' to float')\n",
    "    while True :\n",
    "        # A REVOIR :  pour retirer un élément à chaque itération  ( utiliser regex ou autre ? )\n",
    "        # construction de l'argument 1 ( chaine de caractere) dans la fonction ols\n",
    "        str2=\"\"\n",
    "        for col in list_cols_asList :\n",
    "            if col == target:\n",
    "                pass\n",
    "            else:\n",
    "                str2+= (\" + \" + col )\n",
    "        format_str= str2[2:]\n",
    "        ols_arg1 = target +\" ~ \"+format_str + \" -1 \"\n",
    "        # realisation de l'ols\n",
    "        test_reg = ols(ols_arg1, data=df_test).fit()\n",
    "        #print(i,test_reg.pvalues.idxmax(),test_reg.pvalues.max())\n",
    "        # si p value max est inférieure à 5 % , break\n",
    "        if  test_reg.pvalues.max() < 0.05:\n",
    "            break\n",
    "        else:\n",
    "            list_cols_asList.remove(test_reg.pvalues.idxmax())\n",
    "    if return_last_arg1 :\n",
    "      return test_reg, ols_arg1\n",
    "    return test_reg"
   ]
  },
  {
   "cell_type": "code",
   "execution_count": 20,
   "id": "64011426-6818-4e51-a5c6-186054a042c6",
   "metadata": {
    "id": "64011426-6818-4e51-a5c6-186054a042c6"
   },
   "outputs": [],
   "source": [
    "ols_df = df.copy()\n",
    "ols_df = pd.get_dummies(ols_df, columns=['Neighborhood'], drop_first=True)\n",
    "# cols unusable\n",
    "cols_unusable = ['NumberofBuildings','NumberofFloors','YearBuilt','BuildingType','PrimaryPropertyType','SiteEUIWN(kBtu/sf)','LargestPropertyUseType',\n",
    "       'LargestPropertyUseTypeGFA', 'SecondLargestPropertyUseType',\n",
    "       'SecondLargestPropertyUseTypeGFA', 'ThirdLargestPropertyUseType',\n",
    "       'ThirdLargestPropertyUseTypeGFA','PropertyGFATotal','PropertyGFAParking','PropertyGFABuildings','ListOfAllPropertyUseTypes','SiteEUI(kBtu/sf)','SiteEUI(kBtu/sf)','SourceEUI(kBtu/sf)','SourceEUIWN(kBtu/sf)','Latitude', 'Longitude','SiteEnergyUse(kBtu)', 'SteamUse(kBtu)','Electricity(kWh)','Electricity(kBtu)','NaturalGas(therms)','NaturalGas(kBtu)','ComplianceStatus','GHGEmissionsIntensity']\n",
    "ols_df.drop(columns=cols_unusable, inplace=True)\n",
    "# renaming columns to perform ols\n",
    "for col in ols_df.columns:\n",
    "    col_formatted = format_col(col)\n",
    "    ols_df.rename(columns={col:col_formatted},inplace=True)"
   ]
  },
  {
   "cell_type": "markdown",
   "id": "5eef1158-2baf-4d05-95fc-91de60060d64",
   "metadata": {
    "id": "5eef1158-2baf-4d05-95fc-91de60060d64"
   },
   "source": [
    "### 2.1 GHG : Anova"
   ]
  },
  {
   "cell_type": "markdown",
   "id": "f3b4f5fc-fdde-4ad0-b80d-686ec5732254",
   "metadata": {
    "id": "f3b4f5fc-fdde-4ad0-b80d-686ec5732254"
   },
   "source": [
    "['Neighborhood','BuildingType', 'PrimaryPropertyType','YearBuilt', 'NumberofBuildings',\n",
    "       'NumberofFloors',\n",
    "       'PropertyGFABuilding(s)',\n",
    "       'ComplianceStatus',\n",
    "       'Outlier']"
   ]
  },
  {
   "cell_type": "code",
   "execution_count": 21,
   "id": "d06fefdd-537c-4d03-8c7d-96db4e34e43e",
   "metadata": {
    "id": "d06fefdd-537c-4d03-8c7d-96db4e34e43e"
   },
   "outputs": [],
   "source": [
    "olsGHG_df = ols_df.copy()\n",
    "#manually drop the SiteEnergyUsekBtu\n",
    "olsGHG_df.drop(columns=['SiteEnergyUseWNkBtu'], inplace=True)"
   ]
  },
  {
   "cell_type": "code",
   "execution_count": 23,
   "id": "b6e5f53c-cabb-460d-b5d4-fca213306f19",
   "metadata": {
    "colab": {
     "base_uri": "https://localhost:8080/"
    },
    "executionInfo": {
     "elapsed": 2111,
     "status": "ok",
     "timestamp": 1691088926943,
     "user": {
      "displayName": "MarcD",
      "userId": "07072845009722943265"
     },
     "user_tz": -120
    },
    "id": "b6e5f53c-cabb-460d-b5d4-fca213306f19",
    "outputId": "5d99873e-f331-432d-90d8-ec440719543c",
    "scrolled": true
   },
   "outputs": [
    {
     "name": "stdout",
     "output_type": "stream",
     "text": [
      "                                 OLS Regression Results                                \n",
      "=======================================================================================\n",
      "Dep. Variable:      TotalGHGEmissions   R-squared (uncentered):                   0.914\n",
      "Model:                            OLS   Adj. R-squared (uncentered):              0.912\n",
      "Method:                 Least Squares   F-statistic:                              625.1\n",
      "Date:                Fri, 04 Aug 2023   Prob (F-statistic):                        0.00\n",
      "Time:                        08:48:23   Log-Likelihood:                         -10705.\n",
      "No. Observations:                1623   AIC:                                  2.146e+04\n",
      "Df Residuals:                    1596   BIC:                                  2.161e+04\n",
      "Df Model:                          27                                                  \n",
      "Covariance Type:            nonrobust                                                  \n",
      "=========================================================================================================\n",
      "                                            coef    std err          t      P>|t|      [0.025      0.975]\n",
      "---------------------------------------------------------------------------------------------------------\n",
      "is_campus                               100.9400     32.022      3.152      0.002      38.131     163.749\n",
      "p_gas                                     5.9368      0.620      9.568      0.000       4.720       7.154\n",
      "p_elec                                    2.5677      0.483      5.315      0.000       1.620       3.515\n",
      "p_steam                                   9.3314      0.800     11.659      0.000       7.762      10.901\n",
      "WN_ratio                               -307.0644     46.225     -6.643      0.000    -397.733    -216.396\n",
      "Data_Center                               0.0079      0.001     11.467      0.000       0.007       0.009\n",
      "Office                                    0.0009      9e-05     10.163      0.000       0.001       0.001\n",
      "Non_Refrigerated_Warehouse                0.0005      0.000      3.444      0.001       0.000       0.001\n",
      "K_12_School                               0.0010      0.000      5.505      0.000       0.001       0.001\n",
      "Retail_Store                              0.0005      0.000      3.395      0.001       0.000       0.001\n",
      "Other                                     0.0025      0.000     20.411      0.000       0.002       0.003\n",
      "Hotel                                     0.0026      0.000     23.079      0.000       0.002       0.003\n",
      "Distribution_Center                       0.0010      0.000      3.009      0.003       0.000       0.002\n",
      "SupermarketGrocery_Store                  0.0035      0.001      6.749      0.000       0.002       0.004\n",
      "Medical_Office                            0.0027      0.000     13.523      0.000       0.002       0.003\n",
      "Other___Recreation                        0.0014      0.000      4.782      0.000       0.001       0.002\n",
      "Parking                                   0.0004      0.000      2.922      0.004       0.000       0.001\n",
      "CollegeUniversity                         0.0020   9.75e-05     20.167      0.000       0.002       0.002\n",
      "Other___EntertainmentPublic_Assembly      0.0009   9.86e-05      9.192      0.000       0.001       0.001\n",
      "Senior_Care_Community                     0.0021      0.000      9.937      0.000       0.002       0.003\n",
      "Laboratory                                0.0067      0.000     16.607      0.000       0.006       0.008\n",
      "SocialMeeting_Hall                        0.0041      0.002      1.996      0.046    7.04e-05       0.008\n",
      "Hospital_General_Medical_and_Surgical     0.0074   7.79e-05     95.318      0.000       0.007       0.008\n",
      "Multifamily_Housing                       0.0012      0.000      2.843      0.005       0.000       0.002\n",
      "Strip_Mall                                0.0021      0.001      2.840      0.005       0.001       0.004\n",
      "floor_building                        -8.488e-06   1.53e-06     -5.552      0.000   -1.15e-05   -5.49e-06\n",
      "ratio_GFAdecennie                        -0.0003   9.83e-05     -2.838      0.005      -0.000   -8.61e-05\n",
      "==============================================================================\n",
      "Omnibus:                     1666.637   Durbin-Watson:                   1.854\n",
      "Prob(Omnibus):                  0.000   Jarque-Bera (JB):           291758.444\n",
      "Skew:                           4.509   Prob(JB):                         0.00\n",
      "Kurtosis:                      68.062   Cond. No.                     6.28e+07\n",
      "==============================================================================\n",
      "\n",
      "Notes:\n",
      "[1] R² is computed without centering (uncentered) since the model does not contain a constant.\n",
      "[2] Standard Errors assume that the covariance matrix of the errors is correctly specified.\n",
      "[3] The condition number is large, 6.28e+07. This might indicate that there are\n",
      "strong multicollinearity or other numerical problems.\n"
     ]
    }
   ],
   "source": [
    "GHG_reg, arg1 = ols_auto(olsGHG_df,olsGHG_df.columns,'TotalGHGEmissions', return_last_arg1=True)\n",
    "print(GHG_reg.summary())"
   ]
  },
  {
   "cell_type": "code",
   "execution_count": 24,
   "id": "8da8a05b-93b3-4632-a440-1b9afecc3dbc",
   "metadata": {
    "colab": {
     "base_uri": "https://localhost:8080/",
     "height": 70
    },
    "executionInfo": {
     "elapsed": 222,
     "status": "ok",
     "timestamp": 1691088932106,
     "user": {
      "displayName": "MarcD",
      "userId": "07072845009722943265"
     },
     "user_tz": -120
    },
    "id": "8da8a05b-93b3-4632-a440-1b9afecc3dbc",
    "outputId": "7dddb6b3-9d58-44a4-c9e3-1408acab4fe4"
   },
   "outputs": [
    {
     "data": {
      "text/plain": [
       "\" is_campus ',' p_gas ',' p_elec ',' p_steam ',' WN_ratio ',' Data_Center ',' Office ',' Non_Refrigerated_Warehouse ',' K_12_School ',' Retail_Store ',' Other ',' Hotel ',' Distribution_Center ',' SupermarketGrocery_Store ',' Medical_Office ',' Other___Recreation ',' Parking ',' CollegeUniversity ',' Other___EntertainmentPublic_Assembly ',' Senior_Care_Community ',' Laboratory ',' SocialMeeting_Hall ',' Hospital_General_Medical_and_Surgical ',' Multifamily_Housing ',' Strip_Mall ',' floor_building ',' ratio_GFAdecennie \""
      ]
     },
     "execution_count": 24,
     "metadata": {},
     "output_type": "execute_result"
    }
   ],
   "source": [
    "# remplacement des + par , pour pouvoir intégrer ces colonnes à une liste facilement\n",
    "arg1[20:-3].replace('+',\"','\")"
   ]
  },
  {
   "cell_type": "markdown",
   "id": "ed7b68e0-f5fc-40d3-8162-b41d33c38c76",
   "metadata": {
    "id": "ed7b68e0-f5fc-40d3-8162-b41d33c38c76"
   },
   "source": [
    "## 2.2 SiteEnergyUse(kBtu) : Anova"
   ]
  },
  {
   "cell_type": "code",
   "execution_count": 25,
   "id": "4a659f8a-6747-4c09-96b1-daef6f9a0a5b",
   "metadata": {
    "id": "4a659f8a-6747-4c09-96b1-daef6f9a0a5b"
   },
   "outputs": [],
   "source": [
    "ols_energy_df = ols_df.copy()\n",
    "ols_energy_df.drop(columns=['TotalGHGEmissions','p_gas','p_elec','p_steam'], inplace = True)"
   ]
  },
  {
   "cell_type": "code",
   "execution_count": 26,
   "id": "dd268349-0354-4877-87d0-3a7385809932",
   "metadata": {
    "colab": {
     "base_uri": "https://localhost:8080/"
    },
    "executionInfo": {
     "elapsed": 1634,
     "status": "ok",
     "timestamp": 1691088937470,
     "user": {
      "displayName": "MarcD",
      "userId": "07072845009722943265"
     },
     "user_tz": -120
    },
    "id": "dd268349-0354-4877-87d0-3a7385809932",
    "outputId": "3981ef9f-d238-4a03-9309-0c77cc7de692"
   },
   "outputs": [
    {
     "name": "stdout",
     "output_type": "stream",
     "text": [
      "                                 OLS Regression Results                                 \n",
      "========================================================================================\n",
      "Dep. Variable:     SiteEnergyUseWNkBtu   R-squared (uncentered):                   0.905\n",
      "Model:                             OLS   Adj. R-squared (uncentered):              0.904\n",
      "Method:                  Least Squares   F-statistic:                              565.1\n",
      "Date:                 Fri, 04 Aug 2023   Prob (F-statistic):                        0.00\n",
      "Time:                         08:49:31   Log-Likelihood:                         -27733.\n",
      "No. Observations:                 1623   AIC:                                  5.552e+04\n",
      "Df Residuals:                     1596   BIC:                                  5.567e+04\n",
      "Df Model:                           27                                                  \n",
      "Covariance Type:             nonrobust                                                  \n",
      "=========================================================================================================\n",
      "                                            coef    std err          t      P>|t|      [0.025      0.975]\n",
      "---------------------------------------------------------------------------------------------------------\n",
      "is_campus                              5.008e+06   1.15e+06      4.348      0.000    2.75e+06    7.27e+06\n",
      "decennie                              -1.707e+05   5.51e+04     -3.099      0.002   -2.79e+05   -6.26e+04\n",
      "WN_ratio                               1.585e+06   3.97e+05      3.991      0.000    8.06e+05    2.36e+06\n",
      "Data_Center                            1063.3453     24.636     43.162      0.000    1015.023    1111.668\n",
      "Office                                   64.4744      3.061     21.064      0.000      58.471      70.478\n",
      "Non_Refrigerated_Warehouse               17.5099      6.101      2.870      0.004       5.542      29.478\n",
      "K_12_School                              38.2812      6.186      6.188      0.000      26.147      50.415\n",
      "Retail_Store                             35.0105      5.744      6.095      0.000      23.743      46.278\n",
      "Other                                   106.7092      4.336     24.609      0.000      98.204     115.214\n",
      "Hotel                                    95.8448      3.990     24.019      0.000      88.018     103.672\n",
      "Distribution_Center                      35.5057     12.022      2.953      0.003      11.925      59.086\n",
      "SupermarketGrocery_Store                168.4148     18.528      9.090      0.000     132.073     204.757\n",
      "Medical_Office                          116.9355      6.862     17.040      0.000     103.475     130.396\n",
      "Other___Recreation                       52.7987     10.886      4.850      0.000      31.447      74.151\n",
      "CollegeUniversity                        75.9686      3.477     21.848      0.000      69.148      82.789\n",
      "Other___EntertainmentPublic_Assembly     48.6905      3.556     13.694      0.000      41.716      55.665\n",
      "Senior_Care_Community                    78.6413      7.617     10.324      0.000      63.701      93.582\n",
      "Laboratory                              258.9579     14.562     17.783      0.000     230.396     287.520\n",
      "Restaurant                              131.7837     40.677      3.240      0.001      51.998     211.569\n",
      "Refrigerated_Warehouse                  106.3916     22.518      4.725      0.000      62.224     150.559\n",
      "SocialMeeting_Hall                      225.4369     73.966      3.048      0.002      80.355     370.518\n",
      "Hospital_General_Medical_and_Surgical   207.5048      2.664     77.905      0.000     202.280     212.729\n",
      "Multifamily_Housing                      78.9644     14.646      5.392      0.000      50.237     107.692\n",
      "Strip_Mall                               96.7376     26.591      3.638      0.000      44.580     148.895\n",
      "floor_building                           -0.2319      0.054     -4.255      0.000      -0.339      -0.125\n",
      "ratio_GFAdecennie                       -10.0198      3.624     -2.765      0.006     -17.128      -2.912\n",
      "Neighborhood_northeast                 1.312e+06   6.38e+05      2.057      0.040     6.1e+04    2.56e+06\n",
      "==============================================================================\n",
      "Omnibus:                     1314.786   Durbin-Watson:                   1.937\n",
      "Prob(Omnibus):                  0.000   Jarque-Bera (JB):           125206.837\n",
      "Skew:                           3.153   Prob(JB):                         0.00\n",
      "Kurtosis:                      45.564   Cond. No.                     4.34e+07\n",
      "==============================================================================\n",
      "\n",
      "Notes:\n",
      "[1] R² is computed without centering (uncentered) since the model does not contain a constant.\n",
      "[2] Standard Errors assume that the covariance matrix of the errors is correctly specified.\n",
      "[3] The condition number is large, 4.34e+07. This might indicate that there are\n",
      "strong multicollinearity or other numerical problems.\n"
     ]
    }
   ],
   "source": [
    "energy_reg, arg_energy = ols_auto(ols_energy_df,ols_energy_df.columns,'SiteEnergyUseWNkBtu',return_last_arg1=True)\n",
    "print(energy_reg.summary())"
   ]
  },
  {
   "cell_type": "code",
   "execution_count": 27,
   "id": "01a1ecfe-1540-4851-9835-4991a0a975d7",
   "metadata": {
    "colab": {
     "base_uri": "https://localhost:8080/",
     "height": 70
    },
    "executionInfo": {
     "elapsed": 244,
     "status": "ok",
     "timestamp": 1691088975344,
     "user": {
      "displayName": "MarcD",
      "userId": "07072845009722943265"
     },
     "user_tz": -120
    },
    "id": "01a1ecfe-1540-4851-9835-4991a0a975d7",
    "outputId": "2afb3770-72fd-4b45-a9fb-c3b3483dea17"
   },
   "outputs": [
    {
     "data": {
      "text/plain": [
       "\" is_campus ',' decennie ',' WN_ratio ',' Data_Center ',' Office ',' Non_Refrigerated_Warehouse ',' K_12_School ',' Retail_Store ',' Other ',' Hotel ',' Distribution_Center ',' SupermarketGrocery_Store ',' Medical_Office ',' Other___Recreation ',' CollegeUniversity ',' Other___EntertainmentPublic_Assembly ',' Senior_Care_Community ',' Laboratory ',' Restaurant ',' Refrigerated_Warehouse ',' SocialMeeting_Hall ',' Hospital_General_Medical_and_Surgical ',' Multifamily_Housing ',' Strip_Mall ',' floor_building ',' ratio_GFAdecennie ',' Neighborhood_northeast \""
      ]
     },
     "execution_count": 27,
     "metadata": {},
     "output_type": "execute_result"
    }
   ],
   "source": [
    "arg_energy[22:-3].replace('+',\"','\")"
   ]
  },
  {
   "cell_type": "markdown",
   "id": "6b35246a-896b-45ad-8822-57c138832a27",
   "metadata": {
    "id": "6b35246a-896b-45ad-8822-57c138832a27",
    "jupyter": {
     "source_hidden": true
    }
   },
   "source": [
    "# 3.  Predictions : TotalGHGEmissions"
   ]
  },
  {
   "cell_type": "code",
   "execution_count": 29,
   "id": "27ae92ba-92c2-4217-bce9-69f6fc6490ca",
   "metadata": {
    "colab": {
     "base_uri": "https://localhost:8080/"
    },
    "executionInfo": {
     "elapsed": 354,
     "status": "ok",
     "timestamp": 1691090143776,
     "user": {
      "displayName": "MarcD",
      "userId": "07072845009722943265"
     },
     "user_tz": -120
    },
    "id": "27ae92ba-92c2-4217-bce9-69f6fc6490ca",
    "outputId": "de8f13e7-3d1a-4e88-fba6-c90455003098"
   },
   "outputs": [],
   "source": [
    "possible_features = ['floor_building', 'is_campus ',' p_gas ',' p_elec ',' p_steam ',' WN_ratio ',' Data_Center ',' Other ',' Hotel ',' SupermarketGrocery_Store ',' Medical_Office ',' Other___Recreation ',' Senior_Care_Community ',' Laboratory ',' Hospital_General_Medical_and_Surgical']\n",
    "i = 0\n",
    "while i < len(possible_features):\n",
    "    possible_features[i] = possible_features[i].strip()\n",
    "    i+=1"
   ]
  },
  {
   "cell_type": "code",
   "execution_count": 30,
   "id": "33ac2886-3c62-44ff-a9b4-de53a67ffce7",
   "metadata": {
    "id": "33ac2886-3c62-44ff-a9b4-de53a67ffce7"
   },
   "outputs": [],
   "source": [
    "features = ['NumberofBuildings' , 'NumberofFloors' , 'is_laboratory' , 'is_hospital' , 'p_gas' , 'p_steam' , 'PropertyGFABuildings' , 'LargestPropertyUseType_SupermarketGrocery_Store' , 'LargestPropertyUseType_Senior_Care_Community' ,'LargestPropertyUseType_Data_Center' , 'LargestPropertyUseType_Hotel']\n",
    "# a corriger\n",
    "X_GHG = ols_df[possible_features].to_numpy()\n",
    "y_GHG = ols_df['TotalGHGEmissions'].to_numpy()\n",
    "X_train_GHG, X_test_GHG , y_train_GHG, y_test_GHG = train_test_split(X_GHG,y_GHG,test_size=0.2, random_state=33)"
   ]
  },
  {
   "cell_type": "code",
   "execution_count": 31,
   "id": "8cf99f0c-264b-415a-a1b5-2052b9c87677",
   "metadata": {
    "colab": {
     "base_uri": "https://localhost:8080/",
     "height": 118
    },
    "executionInfo": {
     "elapsed": 30428,
     "status": "ok",
     "timestamp": 1691089074116,
     "user": {
      "displayName": "MarcD",
      "userId": "07072845009722943265"
     },
     "user_tz": -120
    },
    "id": "8cf99f0c-264b-415a-a1b5-2052b9c87677",
    "outputId": "0eaffb70-19c5-4de4-bd88-73f2ad8044e3"
   },
   "outputs": [
    {
     "data": {
      "text/html": [
       "<style>#sk-container-id-1 {color: black;}#sk-container-id-1 pre{padding: 0;}#sk-container-id-1 div.sk-toggleable {background-color: white;}#sk-container-id-1 label.sk-toggleable__label {cursor: pointer;display: block;width: 100%;margin-bottom: 0;padding: 0.3em;box-sizing: border-box;text-align: center;}#sk-container-id-1 label.sk-toggleable__label-arrow:before {content: \"▸\";float: left;margin-right: 0.25em;color: #696969;}#sk-container-id-1 label.sk-toggleable__label-arrow:hover:before {color: black;}#sk-container-id-1 div.sk-estimator:hover label.sk-toggleable__label-arrow:before {color: black;}#sk-container-id-1 div.sk-toggleable__content {max-height: 0;max-width: 0;overflow: hidden;text-align: left;background-color: #f0f8ff;}#sk-container-id-1 div.sk-toggleable__content pre {margin: 0.2em;color: black;border-radius: 0.25em;background-color: #f0f8ff;}#sk-container-id-1 input.sk-toggleable__control:checked~div.sk-toggleable__content {max-height: 200px;max-width: 100%;overflow: auto;}#sk-container-id-1 input.sk-toggleable__control:checked~label.sk-toggleable__label-arrow:before {content: \"▾\";}#sk-container-id-1 div.sk-estimator input.sk-toggleable__control:checked~label.sk-toggleable__label {background-color: #d4ebff;}#sk-container-id-1 div.sk-label input.sk-toggleable__control:checked~label.sk-toggleable__label {background-color: #d4ebff;}#sk-container-id-1 input.sk-hidden--visually {border: 0;clip: rect(1px 1px 1px 1px);clip: rect(1px, 1px, 1px, 1px);height: 1px;margin: -1px;overflow: hidden;padding: 0;position: absolute;width: 1px;}#sk-container-id-1 div.sk-estimator {font-family: monospace;background-color: #f0f8ff;border: 1px dotted black;border-radius: 0.25em;box-sizing: border-box;margin-bottom: 0.5em;}#sk-container-id-1 div.sk-estimator:hover {background-color: #d4ebff;}#sk-container-id-1 div.sk-parallel-item::after {content: \"\";width: 100%;border-bottom: 1px solid gray;flex-grow: 1;}#sk-container-id-1 div.sk-label:hover label.sk-toggleable__label {background-color: #d4ebff;}#sk-container-id-1 div.sk-serial::before {content: \"\";position: absolute;border-left: 1px solid gray;box-sizing: border-box;top: 0;bottom: 0;left: 50%;z-index: 0;}#sk-container-id-1 div.sk-serial {display: flex;flex-direction: column;align-items: center;background-color: white;padding-right: 0.2em;padding-left: 0.2em;position: relative;}#sk-container-id-1 div.sk-item {position: relative;z-index: 1;}#sk-container-id-1 div.sk-parallel {display: flex;align-items: stretch;justify-content: center;background-color: white;position: relative;}#sk-container-id-1 div.sk-item::before, #sk-container-id-1 div.sk-parallel-item::before {content: \"\";position: absolute;border-left: 1px solid gray;box-sizing: border-box;top: 0;bottom: 0;left: 50%;z-index: -1;}#sk-container-id-1 div.sk-parallel-item {display: flex;flex-direction: column;z-index: 1;position: relative;background-color: white;}#sk-container-id-1 div.sk-parallel-item:first-child::after {align-self: flex-end;width: 50%;}#sk-container-id-1 div.sk-parallel-item:last-child::after {align-self: flex-start;width: 50%;}#sk-container-id-1 div.sk-parallel-item:only-child::after {width: 0;}#sk-container-id-1 div.sk-dashed-wrapped {border: 1px dashed gray;margin: 0 0.4em 0.5em 0.4em;box-sizing: border-box;padding-bottom: 0.4em;background-color: white;}#sk-container-id-1 div.sk-label label {font-family: monospace;font-weight: bold;display: inline-block;line-height: 1.2em;}#sk-container-id-1 div.sk-label-container {text-align: center;}#sk-container-id-1 div.sk-container {/* jupyter's `normalize.less` sets `[hidden] { display: none; }` but bootstrap.min.css set `[hidden] { display: none !important; }` so we also need the `!important` here to be able to override the default hidden behavior on the sphinx rendered scikit-learn.org. See: https://github.com/scikit-learn/scikit-learn/issues/21755 */display: inline-block !important;position: relative;}#sk-container-id-1 div.sk-text-repr-fallback {display: none;}</style><div id=\"sk-container-id-1\" class=\"sk-top-container\"><div class=\"sk-text-repr-fallback\"><pre>GridSearchCV(cv=5, estimator=RandomForestRegressor(),\n",
       "             param_grid={&#x27;max_depth&#x27;: [1, 2, 3, 4, 5, 6, 7, 8, 9],\n",
       "                         &#x27;n_estimators&#x27;: [1, 2, 3, 4, 5, 6, 7, 8, 9, 10, 11, 12,\n",
       "                                          13, 14, 15, 16, 17, 18, 19]},\n",
       "             scoring=&#x27;r2&#x27;)</pre><b>In a Jupyter environment, please rerun this cell to show the HTML representation or trust the notebook. <br />On GitHub, the HTML representation is unable to render, please try loading this page with nbviewer.org.</b></div><div class=\"sk-container\" hidden><div class=\"sk-item sk-dashed-wrapped\"><div class=\"sk-label-container\"><div class=\"sk-label sk-toggleable\"><input class=\"sk-toggleable__control sk-hidden--visually\" id=\"sk-estimator-id-1\" type=\"checkbox\" ><label for=\"sk-estimator-id-1\" class=\"sk-toggleable__label sk-toggleable__label-arrow\">GridSearchCV</label><div class=\"sk-toggleable__content\"><pre>GridSearchCV(cv=5, estimator=RandomForestRegressor(),\n",
       "             param_grid={&#x27;max_depth&#x27;: [1, 2, 3, 4, 5, 6, 7, 8, 9],\n",
       "                         &#x27;n_estimators&#x27;: [1, 2, 3, 4, 5, 6, 7, 8, 9, 10, 11, 12,\n",
       "                                          13, 14, 15, 16, 17, 18, 19]},\n",
       "             scoring=&#x27;r2&#x27;)</pre></div></div></div><div class=\"sk-parallel\"><div class=\"sk-parallel-item\"><div class=\"sk-item\"><div class=\"sk-label-container\"><div class=\"sk-label sk-toggleable\"><input class=\"sk-toggleable__control sk-hidden--visually\" id=\"sk-estimator-id-2\" type=\"checkbox\" ><label for=\"sk-estimator-id-2\" class=\"sk-toggleable__label sk-toggleable__label-arrow\">estimator: RandomForestRegressor</label><div class=\"sk-toggleable__content\"><pre>RandomForestRegressor()</pre></div></div></div><div class=\"sk-serial\"><div class=\"sk-item\"><div class=\"sk-estimator sk-toggleable\"><input class=\"sk-toggleable__control sk-hidden--visually\" id=\"sk-estimator-id-3\" type=\"checkbox\" ><label for=\"sk-estimator-id-3\" class=\"sk-toggleable__label sk-toggleable__label-arrow\">RandomForestRegressor</label><div class=\"sk-toggleable__content\"><pre>RandomForestRegressor()</pre></div></div></div></div></div></div></div></div></div></div>"
      ],
      "text/plain": [
       "GridSearchCV(cv=5, estimator=RandomForestRegressor(),\n",
       "             param_grid={'max_depth': [1, 2, 3, 4, 5, 6, 7, 8, 9],\n",
       "                         'n_estimators': [1, 2, 3, 4, 5, 6, 7, 8, 9, 10, 11, 12,\n",
       "                                          13, 14, 15, 16, 17, 18, 19]},\n",
       "             scoring='r2')"
      ]
     },
     "execution_count": 31,
     "metadata": {},
     "output_type": "execute_result"
    }
   ],
   "source": [
    "rf = RandomForestRegressor()\n",
    "param_rf = {'n_estimators':[i for i in range(1,20,1)],\n",
    "           'max_depth':[i for i in range(1,10,1)]}\n",
    "regr = GridSearchCV(rf,param_grid=param_rf,scoring='r2',cv=5,refit=True)\n",
    "regr.fit(X_train_GHG,y_train_GHG)"
   ]
  },
  {
   "cell_type": "code",
   "execution_count": 32,
   "id": "3f511e0d-ffc9-4fa9-a050-2d53187f417a",
   "metadata": {
    "colab": {
     "base_uri": "https://localhost:8080/"
    },
    "executionInfo": {
     "elapsed": 236,
     "status": "ok",
     "timestamp": 1691089078122,
     "user": {
      "displayName": "MarcD",
      "userId": "07072845009722943265"
     },
     "user_tz": -120
    },
    "id": "3f511e0d-ffc9-4fa9-a050-2d53187f417a",
    "outputId": "4eca5db5-aa7e-4d3a-8ded-2700d3d20498"
   },
   "outputs": [
    {
     "data": {
      "text/plain": [
       "0.9276991345110219"
      ]
     },
     "execution_count": 32,
     "metadata": {},
     "output_type": "execute_result"
    }
   ],
   "source": [
    "regr.score(X_train_GHG,y_train_GHG)"
   ]
  },
  {
   "cell_type": "code",
   "execution_count": 33,
   "id": "4dbe86ca-5029-4d7f-a67a-832478bb7581",
   "metadata": {
    "colab": {
     "base_uri": "https://localhost:8080/"
    },
    "executionInfo": {
     "elapsed": 259,
     "status": "ok",
     "timestamp": 1691089080093,
     "user": {
      "displayName": "MarcD",
      "userId": "07072845009722943265"
     },
     "user_tz": -120
    },
    "id": "4dbe86ca-5029-4d7f-a67a-832478bb7581",
    "outputId": "a141fe7b-eba9-4a40-bb29-97af6e3bf187"
   },
   "outputs": [
    {
     "data": {
      "text/plain": [
       "{'max_depth': 8, 'n_estimators': 10}"
      ]
     },
     "execution_count": 33,
     "metadata": {},
     "output_type": "execute_result"
    }
   ],
   "source": [
    "params = regr.best_params_\n",
    "params"
   ]
  },
  {
   "cell_type": "code",
   "execution_count": 34,
   "id": "28c0db5e-4558-4910-aeaa-8865660b8093",
   "metadata": {
    "colab": {
     "base_uri": "https://localhost:8080/"
    },
    "executionInfo": {
     "elapsed": 236,
     "status": "ok",
     "timestamp": 1691089081482,
     "user": {
      "displayName": "MarcD",
      "userId": "07072845009722943265"
     },
     "user_tz": -120
    },
    "id": "28c0db5e-4558-4910-aeaa-8865660b8093",
    "outputId": "4dfe68b0-2ac7-461c-ee96-9895eaf4c1ee"
   },
   "outputs": [
    {
     "data": {
      "text/plain": [
       "0.7694118212325385"
      ]
     },
     "execution_count": 34,
     "metadata": {},
     "output_type": "execute_result"
    }
   ],
   "source": [
    "final_rf = RandomForestRegressor(n_estimators = params['n_estimators'],max_depth=params['max_depth'])\n",
    "final_rf.fit(X_train_GHG,y_train_GHG)\n",
    "metrics.r2_score(y_test_GHG,final_rf.predict(X_test_GHG))"
   ]
  },
  {
   "cell_type": "code",
   "execution_count": 35,
   "id": "37f4b5dc-6860-4b25-a22f-e3c095ded5b3",
   "metadata": {
    "colab": {
     "base_uri": "https://localhost:8080/",
     "height": 524
    },
    "executionInfo": {
     "elapsed": 1062,
     "status": "ok",
     "timestamp": 1691089092753,
     "user": {
      "displayName": "MarcD",
      "userId": "07072845009722943265"
     },
     "user_tz": -120
    },
    "id": "37f4b5dc-6860-4b25-a22f-e3c095ded5b3",
    "outputId": "1bafa562-e289-4617-c0b2-7aa101599192",
    "scrolled": true
   },
   "outputs": [
    {
     "data": {
      "text/plain": [
       "[<matplotlib.lines.Line2D at 0x1bb746eff90>]"
      ]
     },
     "execution_count": 35,
     "metadata": {},
     "output_type": "execute_result"
    },
    {
     "data": {
      "image/png": "[encoded data removed]",
      "text/plain": [
       "<Figure size 640x480 with 1 Axes>"
      ]
     },
     "metadata": {},
     "output_type": "display_data"
    }
   ],
   "source": [
    "plt.plot(y_train_GHG)"
   ]
  },
  {
   "cell_type": "code",
   "execution_count": 36,
   "id": "477e9965-2e40-4d45-a09d-e139b1625d25",
   "metadata": {
    "colab": {
     "base_uri": "https://localhost:8080/",
     "height": 524
    },
    "executionInfo": {
     "elapsed": 858,
     "status": "ok",
     "timestamp": 1691089094687,
     "user": {
      "displayName": "MarcD",
      "userId": "07072845009722943265"
     },
     "user_tz": -120
    },
    "id": "477e9965-2e40-4d45-a09d-e139b1625d25",
    "outputId": "2ae6aad7-7e0a-445b-e7d8-db31489e6816",
    "scrolled": true
   },
   "outputs": [
    {
     "data": {
      "text/plain": [
       "[<matplotlib.lines.Line2D at 0x1bb74b506d0>]"
      ]
     },
     "execution_count": 36,
     "metadata": {},
     "output_type": "execute_result"
    },
    {
     "data": {
      "image/png": "[encoded data removed]",
      "text/plain": [
       "<Figure size 640x480 with 1 Axes>"
      ]
     },
     "metadata": {},
     "output_type": "display_data"
    }
   ],
   "source": [
    "plt.plot(y_test_GHG)"
   ]
  },
  {
   "cell_type": "markdown",
   "id": "01961344-e524-49c5-b370-158987fead3b",
   "metadata": {
    "id": "01961344-e524-49c5-b370-158987fead3b"
   },
   "source": [
    "# 4.  Prediction : SiteEnergyUsekBtu"
   ]
  },
  {
   "cell_type": "code",
   "execution_count": 37,
   "id": "cdd6acd0-7081-4016-8ef9-6810bfd30c32",
   "metadata": {
    "id": "cdd6acd0-7081-4016-8ef9-6810bfd30c32"
   },
   "outputs": [],
   "source": [
    "possible_features_E = ['Neighborhood_northeast','floor_building',' is_campus ',' decennie ',' Data_Center ',' Office ',' Non_Refrigerated_Warehouse ',' K_12_School ',' Retail_Store ',' Other ',' Hotel ',' Distribution_Center ',' SupermarketGrocery_Store ',' Medical_Office ',' Other___Recreation ',' CollegeUniversity ',' Other___EntertainmentPublic_Assembly ',' Senior_Care_Community ',' Laboratory ',' Restaurant ',' Refrigerated_Warehouse ',' SocialMeeting_Hall ',' Hospital_General_Medical_and_Surgical ',' Multifamily_Housing ',' Strip_Mall' ]\n",
    "i = 0\n",
    "while i < len(possible_features_E):\n",
    "    possible_features_E[i] = possible_features_E[i].strip()\n",
    "    i+=1"
   ]
  },
  {
   "cell_type": "code",
   "execution_count": 38,
   "id": "e0b75428-2767-46a8-9e66-079e23438aad",
   "metadata": {
    "id": "e0b75428-2767-46a8-9e66-079e23438aad"
   },
   "outputs": [],
   "source": [
    "#features = ['WN_ratio', 'YearBuilt' ,'NumberofBuildings', 'is_laboratory','LargestPropertyUseType_Hospital_General_Medical_and_Surgical', 'is_campus' , 'PropertyGFABuildings' , 'LargestPropertyUseType_SupermarketGrocery_Store','LargestPropertyUseType_Data_Center' , 'LargestPropertyUseType_Hotel']\n",
    "# a corriger\n",
    "X_energy = ols_df[possible_features_E]\n",
    "y_energy = ols_df['SiteEnergyUseWNkBtu']"
   ]
  },
  {
   "cell_type": "markdown",
   "id": "2bb76f03-bc82-4e05-99d6-e82267d98d91",
   "metadata": {},
   "source": [
    "## 4.0 ACP"
   ]
  },
  {
   "cell_type": "code",
   "execution_count": 39,
   "id": "96f307ef-d752-47e7-9d4c-4268095266cb",
   "metadata": {
    "id": "96f307ef-d752-47e7-9d4c-4268095266cb"
   },
   "outputs": [],
   "source": [
    "from IPython.display import display\n",
    "from sklearn.feature_selection import mutual_info_regression\n",
    "\n",
    "\n",
    "\n",
    "plt.rc(\"figure\", autolayout=True)\n",
    "plt.rc(\n",
    "    \"axes\",\n",
    "    labelweight=\"bold\",\n",
    "    labelsize=\"large\",\n",
    "    titleweight=\"bold\",\n",
    "    titlesize=14,\n",
    "    titlepad=10,\n",
    ")\n",
    "\n",
    "\n",
    "def plot_variance(pca, width=8, dpi=100):\n",
    "    # Create figure\n",
    "    fig, axs = plt.subplots(1, 2)\n",
    "    n = pca.n_components_\n",
    "    grid = np.arange(1, n + 1)\n",
    "    # Explained variance\n",
    "    evr = pca.explained_variance_ratio_\n",
    "    axs[0].bar(grid, evr)\n",
    "    axs[0].set(\n",
    "        xlabel=\"Component\", title=\"% Explained Variance\", ylim=(0.0, 1.0)\n",
    "    )\n",
    "    # Cumulative Variance\n",
    "    cv = np.cumsum(evr)\n",
    "    axs[1].plot(np.r_[0, grid], np.r_[0, cv], \"o-\")\n",
    "    axs[1].set(\n",
    "        xlabel=\"Component\", title=\"% Cumulative Variance\", ylim=(0.0, 1.0)\n",
    "    )\n",
    "    # Set up figure\n",
    "    fig.set(figwidth=8, dpi=100)\n",
    "    return axs\n",
    "\n",
    "\n",
    "\n",
    "def make_mi_scores(X, y, discrete_features):\n",
    "    mi_scores = mutual_info_regression(X, y, discrete_features=discrete_features)\n",
    "    mi_scores = pd.Series(mi_scores, name=\"MI Scores\", index=X.columns)\n",
    "    mi_scores = mi_scores.sort_values(ascending=False)\n",
    "    return mi_scores\n"
   ]
  },
  {
   "cell_type": "code",
   "execution_count": 40,
   "id": "570e685c-70df-4121-9ecd-024e7df4d385",
   "metadata": {
    "id": "570e685c-70df-4121-9ecd-024e7df4d385"
   },
   "outputs": [],
   "source": [
    "X_scaled = (X_energy - X_energy.mean(axis=0)) / X_energy.std(axis=0)"
   ]
  },
  {
   "cell_type": "code",
   "execution_count": 47,
   "id": "cbc4cce0-9508-47fb-8eed-1e7bfab6ac7c",
   "metadata": {},
   "outputs": [
    {
     "data": {
      "text/html": [
       "<div>\n",
       "<style scoped>\n",
       "    .dataframe tbody tr th:only-of-type {\n",
       "        vertical-align: middle;\n",
       "    }\n",
       "\n",
       "    .dataframe tbody tr th {\n",
       "        vertical-align: top;\n",
       "    }\n",
       "\n",
       "    .dataframe thead th {\n",
       "        text-align: right;\n",
       "    }\n",
       "</style>\n",
       "<table border=\"1\" class=\"dataframe\">\n",
       "  <thead>\n",
       "    <tr style=\"text-align: right;\">\n",
       "      <th></th>\n",
       "      <th>pca0</th>\n",
       "      <th>pca1</th>\n",
       "      <th>pca2</th>\n",
       "      <th>pca3</th>\n",
       "      <th>pca4</th>\n",
       "      <th>pca5</th>\n",
       "      <th>pca6</th>\n",
       "      <th>pca7</th>\n",
       "      <th>pca8</th>\n",
       "      <th>pca9</th>\n",
       "      <th>...</th>\n",
       "      <th>pca15</th>\n",
       "      <th>pca16</th>\n",
       "      <th>pca17</th>\n",
       "      <th>pca18</th>\n",
       "      <th>pca19</th>\n",
       "      <th>pca20</th>\n",
       "      <th>pca21</th>\n",
       "      <th>pca22</th>\n",
       "      <th>pca23</th>\n",
       "      <th>pca24</th>\n",
       "    </tr>\n",
       "  </thead>\n",
       "  <tbody>\n",
       "    <tr>\n",
       "      <th>0</th>\n",
       "      <td>-0.198466</td>\n",
       "      <td>-0.044483</td>\n",
       "      <td>-0.232122</td>\n",
       "      <td>0.437879</td>\n",
       "      <td>1.286144</td>\n",
       "      <td>-0.957238</td>\n",
       "      <td>0.115130</td>\n",
       "      <td>0.129386</td>\n",
       "      <td>-0.105071</td>\n",
       "      <td>-0.457875</td>\n",
       "      <td>...</td>\n",
       "      <td>0.139883</td>\n",
       "      <td>0.282538</td>\n",
       "      <td>-0.819918</td>\n",
       "      <td>-0.537148</td>\n",
       "      <td>0.003870</td>\n",
       "      <td>-0.452418</td>\n",
       "      <td>0.836741</td>\n",
       "      <td>0.044753</td>\n",
       "      <td>0.054722</td>\n",
       "      <td>-0.102109</td>\n",
       "    </tr>\n",
       "    <tr>\n",
       "      <th>1</th>\n",
       "      <td>0.313025</td>\n",
       "      <td>-0.170366</td>\n",
       "      <td>-0.348245</td>\n",
       "      <td>0.089387</td>\n",
       "      <td>1.490966</td>\n",
       "      <td>0.352723</td>\n",
       "      <td>0.211818</td>\n",
       "      <td>0.224993</td>\n",
       "      <td>-0.435949</td>\n",
       "      <td>-0.026770</td>\n",
       "      <td>...</td>\n",
       "      <td>-0.246536</td>\n",
       "      <td>-0.052504</td>\n",
       "      <td>-0.542318</td>\n",
       "      <td>-0.881754</td>\n",
       "      <td>0.489871</td>\n",
       "      <td>-0.417689</td>\n",
       "      <td>-0.748900</td>\n",
       "      <td>-0.095720</td>\n",
       "      <td>0.189418</td>\n",
       "      <td>0.061759</td>\n",
       "    </tr>\n",
       "    <tr>\n",
       "      <th>2</th>\n",
       "      <td>5.460704</td>\n",
       "      <td>-0.097844</td>\n",
       "      <td>-1.219177</td>\n",
       "      <td>-1.151030</td>\n",
       "      <td>10.676398</td>\n",
       "      <td>-2.088826</td>\n",
       "      <td>3.102097</td>\n",
       "      <td>1.748262</td>\n",
       "      <td>-1.642274</td>\n",
       "      <td>-2.101700</td>\n",
       "      <td>...</td>\n",
       "      <td>0.209655</td>\n",
       "      <td>1.175941</td>\n",
       "      <td>-3.097885</td>\n",
       "      <td>-7.312606</td>\n",
       "      <td>2.448407</td>\n",
       "      <td>-5.543282</td>\n",
       "      <td>4.106079</td>\n",
       "      <td>0.161730</td>\n",
       "      <td>-0.891124</td>\n",
       "      <td>0.944399</td>\n",
       "    </tr>\n",
       "    <tr>\n",
       "      <th>3</th>\n",
       "      <td>-0.328987</td>\n",
       "      <td>-0.038001</td>\n",
       "      <td>-0.191942</td>\n",
       "      <td>0.468740</td>\n",
       "      <td>0.900529</td>\n",
       "      <td>-0.897030</td>\n",
       "      <td>0.000537</td>\n",
       "      <td>0.064965</td>\n",
       "      <td>-0.047624</td>\n",
       "      <td>-0.381775</td>\n",
       "      <td>...</td>\n",
       "      <td>0.136387</td>\n",
       "      <td>0.237787</td>\n",
       "      <td>-0.716630</td>\n",
       "      <td>-0.274558</td>\n",
       "      <td>-0.086455</td>\n",
       "      <td>-0.258486</td>\n",
       "      <td>0.695289</td>\n",
       "      <td>0.041412</td>\n",
       "      <td>0.089153</td>\n",
       "      <td>-0.050798</td>\n",
       "    </tr>\n",
       "    <tr>\n",
       "      <th>4</th>\n",
       "      <td>0.352106</td>\n",
       "      <td>-0.073589</td>\n",
       "      <td>-0.463443</td>\n",
       "      <td>-0.393163</td>\n",
       "      <td>1.813624</td>\n",
       "      <td>-0.152663</td>\n",
       "      <td>0.291044</td>\n",
       "      <td>0.238326</td>\n",
       "      <td>-0.287215</td>\n",
       "      <td>-0.256628</td>\n",
       "      <td>...</td>\n",
       "      <td>-0.019436</td>\n",
       "      <td>0.219079</td>\n",
       "      <td>-0.568525</td>\n",
       "      <td>-1.052734</td>\n",
       "      <td>0.372968</td>\n",
       "      <td>-1.239694</td>\n",
       "      <td>0.022872</td>\n",
       "      <td>-0.003363</td>\n",
       "      <td>0.134883</td>\n",
       "      <td>-0.005524</td>\n",
       "    </tr>\n",
       "    <tr>\n",
       "      <th>...</th>\n",
       "      <td>...</td>\n",
       "      <td>...</td>\n",
       "      <td>...</td>\n",
       "      <td>...</td>\n",
       "      <td>...</td>\n",
       "      <td>...</td>\n",
       "      <td>...</td>\n",
       "      <td>...</td>\n",
       "      <td>...</td>\n",
       "      <td>...</td>\n",
       "      <td>...</td>\n",
       "      <td>...</td>\n",
       "      <td>...</td>\n",
       "      <td>...</td>\n",
       "      <td>...</td>\n",
       "      <td>...</td>\n",
       "      <td>...</td>\n",
       "      <td>...</td>\n",
       "      <td>...</td>\n",
       "      <td>...</td>\n",
       "      <td>...</td>\n",
       "    </tr>\n",
       "    <tr>\n",
       "      <th>3371</th>\n",
       "      <td>-0.116177</td>\n",
       "      <td>-0.039772</td>\n",
       "      <td>-0.306250</td>\n",
       "      <td>-0.388090</td>\n",
       "      <td>0.037644</td>\n",
       "      <td>0.255319</td>\n",
       "      <td>-0.229482</td>\n",
       "      <td>-0.056022</td>\n",
       "      <td>-0.039305</td>\n",
       "      <td>0.138067</td>\n",
       "      <td>...</td>\n",
       "      <td>-0.063246</td>\n",
       "      <td>-0.006315</td>\n",
       "      <td>-0.039923</td>\n",
       "      <td>0.113517</td>\n",
       "      <td>0.000657</td>\n",
       "      <td>-0.440091</td>\n",
       "      <td>-0.792561</td>\n",
       "      <td>-0.033509</td>\n",
       "      <td>0.314909</td>\n",
       "      <td>0.181298</td>\n",
       "    </tr>\n",
       "    <tr>\n",
       "      <th>3372</th>\n",
       "      <td>-0.160552</td>\n",
       "      <td>-0.080589</td>\n",
       "      <td>-0.393005</td>\n",
       "      <td>-0.538359</td>\n",
       "      <td>-0.107615</td>\n",
       "      <td>0.258656</td>\n",
       "      <td>0.297753</td>\n",
       "      <td>0.304547</td>\n",
       "      <td>0.059648</td>\n",
       "      <td>0.427540</td>\n",
       "      <td>...</td>\n",
       "      <td>-0.248424</td>\n",
       "      <td>0.043600</td>\n",
       "      <td>-0.207385</td>\n",
       "      <td>0.441129</td>\n",
       "      <td>0.497149</td>\n",
       "      <td>-0.615758</td>\n",
       "      <td>-0.918920</td>\n",
       "      <td>-0.047849</td>\n",
       "      <td>0.310301</td>\n",
       "      <td>0.261100</td>\n",
       "    </tr>\n",
       "    <tr>\n",
       "      <th>3373</th>\n",
       "      <td>-0.311364</td>\n",
       "      <td>-0.053711</td>\n",
       "      <td>-0.274413</td>\n",
       "      <td>-0.132489</td>\n",
       "      <td>-0.031120</td>\n",
       "      <td>-0.102873</td>\n",
       "      <td>0.011760</td>\n",
       "      <td>0.107134</td>\n",
       "      <td>0.049575</td>\n",
       "      <td>0.152515</td>\n",
       "      <td>...</td>\n",
       "      <td>-0.082233</td>\n",
       "      <td>0.067270</td>\n",
       "      <td>-0.275305</td>\n",
       "      <td>0.340287</td>\n",
       "      <td>0.133591</td>\n",
       "      <td>-0.304196</td>\n",
       "      <td>-0.434085</td>\n",
       "      <td>-0.014832</td>\n",
       "      <td>0.258499</td>\n",
       "      <td>0.207380</td>\n",
       "    </tr>\n",
       "    <tr>\n",
       "      <th>3374</th>\n",
       "      <td>-0.194982</td>\n",
       "      <td>-0.061627</td>\n",
       "      <td>-0.330066</td>\n",
       "      <td>-0.388962</td>\n",
       "      <td>-0.009638</td>\n",
       "      <td>0.209132</td>\n",
       "      <td>-0.011220</td>\n",
       "      <td>0.094687</td>\n",
       "      <td>0.004922</td>\n",
       "      <td>0.238537</td>\n",
       "      <td>...</td>\n",
       "      <td>-0.129174</td>\n",
       "      <td>0.020907</td>\n",
       "      <td>-0.129817</td>\n",
       "      <td>0.263521</td>\n",
       "      <td>0.187491</td>\n",
       "      <td>-0.483377</td>\n",
       "      <td>-0.768655</td>\n",
       "      <td>-0.029200</td>\n",
       "      <td>0.302227</td>\n",
       "      <td>0.246069</td>\n",
       "    </tr>\n",
       "    <tr>\n",
       "      <th>3375</th>\n",
       "      <td>-0.476594</td>\n",
       "      <td>-0.047626</td>\n",
       "      <td>-0.180585</td>\n",
       "      <td>0.270969</td>\n",
       "      <td>-0.055249</td>\n",
       "      <td>-0.542545</td>\n",
       "      <td>0.023025</td>\n",
       "      <td>0.110785</td>\n",
       "      <td>0.105095</td>\n",
       "      <td>0.014265</td>\n",
       "      <td>...</td>\n",
       "      <td>-0.008486</td>\n",
       "      <td>0.123861</td>\n",
       "      <td>-0.473292</td>\n",
       "      <td>0.448628</td>\n",
       "      <td>0.021143</td>\n",
       "      <td>-0.047212</td>\n",
       "      <td>0.082145</td>\n",
       "      <td>0.018521</td>\n",
       "      <td>0.191380</td>\n",
       "      <td>0.147046</td>\n",
       "    </tr>\n",
       "  </tbody>\n",
       "</table>\n",
       "<p>1623 rows × 25 columns</p>\n",
       "</div>"
      ],
      "text/plain": [
       "          pca0      pca1      pca2      pca3       pca4      pca5      pca6  \\\n",
       "0    -0.198466 -0.044483 -0.232122  0.437879   1.286144 -0.957238  0.115130   \n",
       "1     0.313025 -0.170366 -0.348245  0.089387   1.490966  0.352723  0.211818   \n",
       "2     5.460704 -0.097844 -1.219177 -1.151030  10.676398 -2.088826  3.102097   \n",
       "3    -0.328987 -0.038001 -0.191942  0.468740   0.900529 -0.897030  0.000537   \n",
       "4     0.352106 -0.073589 -0.463443 -0.393163   1.813624 -0.152663  0.291044   \n",
       "...        ...       ...       ...       ...        ...       ...       ...   \n",
       "3371 -0.116177 -0.039772 -0.306250 -0.388090   0.037644  0.255319 -0.229482   \n",
       "3372 -0.160552 -0.080589 -0.393005 -0.538359  -0.107615  0.258656  0.297753   \n",
       "3373 -0.311364 -0.053711 -0.274413 -0.132489  -0.031120 -0.102873  0.011760   \n",
       "3374 -0.194982 -0.061627 -0.330066 -0.388962  -0.009638  0.209132 -0.011220   \n",
       "3375 -0.476594 -0.047626 -0.180585  0.270969  -0.055249 -0.542545  0.023025   \n",
       "\n",
       "          pca7      pca8      pca9  ...     pca15     pca16     pca17  \\\n",
       "0     0.129386 -0.105071 -0.457875  ...  0.139883  0.282538 -0.819918   \n",
       "1     0.224993 -0.435949 -0.026770  ... -0.246536 -0.052504 -0.542318   \n",
       "2     1.748262 -1.642274 -2.101700  ...  0.209655  1.175941 -3.097885   \n",
       "3     0.064965 -0.047624 -0.381775  ...  0.136387  0.237787 -0.716630   \n",
       "4     0.238326 -0.287215 -0.256628  ... -0.019436  0.219079 -0.568525   \n",
       "...        ...       ...       ...  ...       ...       ...       ...   \n",
       "3371 -0.056022 -0.039305  0.138067  ... -0.063246 -0.006315 -0.039923   \n",
       "3372  0.304547  0.059648  0.427540  ... -0.248424  0.043600 -0.207385   \n",
       "3373  0.107134  0.049575  0.152515  ... -0.082233  0.067270 -0.275305   \n",
       "3374  0.094687  0.004922  0.238537  ... -0.129174  0.020907 -0.129817   \n",
       "3375  0.110785  0.105095  0.014265  ... -0.008486  0.123861 -0.473292   \n",
       "\n",
       "         pca18     pca19     pca20     pca21     pca22     pca23     pca24  \n",
       "0    -0.537148  0.003870 -0.452418  0.836741  0.044753  0.054722 -0.102109  \n",
       "1    -0.881754  0.489871 -0.417689 -0.748900 -0.095720  0.189418  0.061759  \n",
       "2    -7.312606  2.448407 -5.543282  4.106079  0.161730 -0.891124  0.944399  \n",
       "3    -0.274558 -0.086455 -0.258486  0.695289  0.041412  0.089153 -0.050798  \n",
       "4    -1.052734  0.372968 -1.239694  0.022872 -0.003363  0.134883 -0.005524  \n",
       "...        ...       ...       ...       ...       ...       ...       ...  \n",
       "3371  0.113517  0.000657 -0.440091 -0.792561 -0.033509  0.314909  0.181298  \n",
       "3372  0.441129  0.497149 -0.615758 -0.918920 -0.047849  0.310301  0.261100  \n",
       "3373  0.340287  0.133591 -0.304196 -0.434085 -0.014832  0.258499  0.207380  \n",
       "3374  0.263521  0.187491 -0.483377 -0.768655 -0.029200  0.302227  0.246069  \n",
       "3375  0.448628  0.021143 -0.047212  0.082145  0.018521  0.191380  0.147046  \n",
       "\n",
       "[1623 rows x 25 columns]"
      ]
     },
     "execution_count": 47,
     "metadata": {},
     "output_type": "execute_result"
    }
   ],
   "source": [
    "X_pca"
   ]
  },
  {
   "cell_type": "code",
   "execution_count": 48,
   "id": "6e5b2136-33c2-4f4e-90a0-61b35a3a1165",
   "metadata": {
    "colab": {
     "base_uri": "https://localhost:8080/",
     "height": 386
    },
    "executionInfo": {
     "elapsed": 4,
     "status": "ok",
     "timestamp": 1691091396209,
     "user": {
      "displayName": "MarcD",
      "userId": "07072845009722943265"
     },
     "user_tz": -120
    },
    "id": "6e5b2136-33c2-4f4e-90a0-61b35a3a1165",
    "outputId": "ce860ee7-3358-4e33-b618-aea9a9c2a138"
   },
   "outputs": [
    {
     "data": {
      "text/html": [
       "<div>\n",
       "<style scoped>\n",
       "    .dataframe tbody tr th:only-of-type {\n",
       "        vertical-align: middle;\n",
       "    }\n",
       "\n",
       "    .dataframe tbody tr th {\n",
       "        vertical-align: top;\n",
       "    }\n",
       "\n",
       "    .dataframe thead th {\n",
       "        text-align: right;\n",
       "    }\n",
       "</style>\n",
       "<table border=\"1\" class=\"dataframe\">\n",
       "  <thead>\n",
       "    <tr style=\"text-align: right;\">\n",
       "      <th></th>\n",
       "      <th>pca0</th>\n",
       "      <th>pca1</th>\n",
       "      <th>pca2</th>\n",
       "      <th>pca3</th>\n",
       "      <th>pca4</th>\n",
       "      <th>pca5</th>\n",
       "      <th>pca6</th>\n",
       "      <th>pca7</th>\n",
       "      <th>pca8</th>\n",
       "      <th>pca9</th>\n",
       "      <th>...</th>\n",
       "      <th>pca15</th>\n",
       "      <th>pca16</th>\n",
       "      <th>pca17</th>\n",
       "      <th>pca18</th>\n",
       "      <th>pca19</th>\n",
       "      <th>pca20</th>\n",
       "      <th>pca21</th>\n",
       "      <th>pca22</th>\n",
       "      <th>pca23</th>\n",
       "      <th>pca24</th>\n",
       "    </tr>\n",
       "  </thead>\n",
       "  <tbody>\n",
       "    <tr>\n",
       "      <th>0</th>\n",
       "      <td>-0.198466</td>\n",
       "      <td>-0.044483</td>\n",
       "      <td>-0.232122</td>\n",
       "      <td>0.437879</td>\n",
       "      <td>1.286144</td>\n",
       "      <td>-0.957238</td>\n",
       "      <td>0.115130</td>\n",
       "      <td>0.129386</td>\n",
       "      <td>-0.105071</td>\n",
       "      <td>-0.457875</td>\n",
       "      <td>...</td>\n",
       "      <td>0.139883</td>\n",
       "      <td>0.282538</td>\n",
       "      <td>-0.819918</td>\n",
       "      <td>-0.537148</td>\n",
       "      <td>0.003870</td>\n",
       "      <td>-0.452418</td>\n",
       "      <td>0.836741</td>\n",
       "      <td>0.044753</td>\n",
       "      <td>0.054722</td>\n",
       "      <td>-0.102109</td>\n",
       "    </tr>\n",
       "    <tr>\n",
       "      <th>1</th>\n",
       "      <td>0.313025</td>\n",
       "      <td>-0.170366</td>\n",
       "      <td>-0.348245</td>\n",
       "      <td>0.089387</td>\n",
       "      <td>1.490966</td>\n",
       "      <td>0.352723</td>\n",
       "      <td>0.211818</td>\n",
       "      <td>0.224993</td>\n",
       "      <td>-0.435949</td>\n",
       "      <td>-0.026770</td>\n",
       "      <td>...</td>\n",
       "      <td>-0.246536</td>\n",
       "      <td>-0.052504</td>\n",
       "      <td>-0.542318</td>\n",
       "      <td>-0.881754</td>\n",
       "      <td>0.489871</td>\n",
       "      <td>-0.417689</td>\n",
       "      <td>-0.748900</td>\n",
       "      <td>-0.095720</td>\n",
       "      <td>0.189418</td>\n",
       "      <td>0.061759</td>\n",
       "    </tr>\n",
       "    <tr>\n",
       "      <th>2</th>\n",
       "      <td>5.460704</td>\n",
       "      <td>-0.097844</td>\n",
       "      <td>-1.219177</td>\n",
       "      <td>-1.151030</td>\n",
       "      <td>10.676398</td>\n",
       "      <td>-2.088826</td>\n",
       "      <td>3.102097</td>\n",
       "      <td>1.748262</td>\n",
       "      <td>-1.642274</td>\n",
       "      <td>-2.101700</td>\n",
       "      <td>...</td>\n",
       "      <td>0.209655</td>\n",
       "      <td>1.175941</td>\n",
       "      <td>-3.097885</td>\n",
       "      <td>-7.312606</td>\n",
       "      <td>2.448407</td>\n",
       "      <td>-5.543282</td>\n",
       "      <td>4.106079</td>\n",
       "      <td>0.161730</td>\n",
       "      <td>-0.891124</td>\n",
       "      <td>0.944399</td>\n",
       "    </tr>\n",
       "    <tr>\n",
       "      <th>3</th>\n",
       "      <td>-0.328987</td>\n",
       "      <td>-0.038001</td>\n",
       "      <td>-0.191942</td>\n",
       "      <td>0.468740</td>\n",
       "      <td>0.900529</td>\n",
       "      <td>-0.897030</td>\n",
       "      <td>0.000537</td>\n",
       "      <td>0.064965</td>\n",
       "      <td>-0.047624</td>\n",
       "      <td>-0.381775</td>\n",
       "      <td>...</td>\n",
       "      <td>0.136387</td>\n",
       "      <td>0.237787</td>\n",
       "      <td>-0.716630</td>\n",
       "      <td>-0.274558</td>\n",
       "      <td>-0.086455</td>\n",
       "      <td>-0.258486</td>\n",
       "      <td>0.695289</td>\n",
       "      <td>0.041412</td>\n",
       "      <td>0.089153</td>\n",
       "      <td>-0.050798</td>\n",
       "    </tr>\n",
       "    <tr>\n",
       "      <th>4</th>\n",
       "      <td>0.352106</td>\n",
       "      <td>-0.073589</td>\n",
       "      <td>-0.463443</td>\n",
       "      <td>-0.393163</td>\n",
       "      <td>1.813624</td>\n",
       "      <td>-0.152663</td>\n",
       "      <td>0.291044</td>\n",
       "      <td>0.238326</td>\n",
       "      <td>-0.287215</td>\n",
       "      <td>-0.256628</td>\n",
       "      <td>...</td>\n",
       "      <td>-0.019436</td>\n",
       "      <td>0.219079</td>\n",
       "      <td>-0.568525</td>\n",
       "      <td>-1.052734</td>\n",
       "      <td>0.372968</td>\n",
       "      <td>-1.239694</td>\n",
       "      <td>0.022872</td>\n",
       "      <td>-0.003363</td>\n",
       "      <td>0.134883</td>\n",
       "      <td>-0.005524</td>\n",
       "    </tr>\n",
       "  </tbody>\n",
       "</table>\n",
       "<p>5 rows × 25 columns</p>\n",
       "</div>"
      ],
      "text/plain": [
       "       pca0      pca1      pca2      pca3       pca4      pca5      pca6  \\\n",
       "0 -0.198466 -0.044483 -0.232122  0.437879   1.286144 -0.957238  0.115130   \n",
       "1  0.313025 -0.170366 -0.348245  0.089387   1.490966  0.352723  0.211818   \n",
       "2  5.460704 -0.097844 -1.219177 -1.151030  10.676398 -2.088826  3.102097   \n",
       "3 -0.328987 -0.038001 -0.191942  0.468740   0.900529 -0.897030  0.000537   \n",
       "4  0.352106 -0.073589 -0.463443 -0.393163   1.813624 -0.152663  0.291044   \n",
       "\n",
       "       pca7      pca8      pca9  ...     pca15     pca16     pca17     pca18  \\\n",
       "0  0.129386 -0.105071 -0.457875  ...  0.139883  0.282538 -0.819918 -0.537148   \n",
       "1  0.224993 -0.435949 -0.026770  ... -0.246536 -0.052504 -0.542318 -0.881754   \n",
       "2  1.748262 -1.642274 -2.101700  ...  0.209655  1.175941 -3.097885 -7.312606   \n",
       "3  0.064965 -0.047624 -0.381775  ...  0.136387  0.237787 -0.716630 -0.274558   \n",
       "4  0.238326 -0.287215 -0.256628  ... -0.019436  0.219079 -0.568525 -1.052734   \n",
       "\n",
       "      pca19     pca20     pca21     pca22     pca23     pca24  \n",
       "0  0.003870 -0.452418  0.836741  0.044753  0.054722 -0.102109  \n",
       "1  0.489871 -0.417689 -0.748900 -0.095720  0.189418  0.061759  \n",
       "2  2.448407 -5.543282  4.106079  0.161730 -0.891124  0.944399  \n",
       "3 -0.086455 -0.258486  0.695289  0.041412  0.089153 -0.050798  \n",
       "4  0.372968 -1.239694  0.022872 -0.003363  0.134883 -0.005524  \n",
       "\n",
       "[5 rows x 25 columns]"
      ]
     },
     "execution_count": 48,
     "metadata": {},
     "output_type": "execute_result"
    }
   ],
   "source": [
    "from sklearn.decomposition import PCA\n",
    "\n",
    "# Create principal components\n",
    "pca = PCA()\n",
    "X_pca = pca.fit_transform(X_scaled)\n",
    "\n",
    "# Convert to dataframe\n",
    "component_names = [f\"PC{i+1}\" for i in range(0,X_pca.shape[1])]\n",
    "X_pca_df = pd.DataFrame(X_pca, columns=component_names)\n",
    "\n",
    "X_pca.head()"
   ]
  },
  {
   "cell_type": "code",
   "execution_count": 50,
   "id": "c2fa9729-c8c1-44f0-a343-9778ee9a69d3",
   "metadata": {
    "colab": {
     "base_uri": "https://localhost:8080/"
    },
    "executionInfo": {
     "elapsed": 5,
     "status": "ok",
     "timestamp": 1691091436713,
     "user": {
      "displayName": "MarcD",
      "userId": "07072845009722943265"
     },
     "user_tz": -120
    },
    "id": "c2fa9729-c8c1-44f0-a343-9778ee9a69d3",
    "outputId": "bd2ee312-284b-4c65-d300-863b0b9bf011",
    "scrolled": true
   },
   "outputs": [
    {
     "data": {
      "text/html": [
       "<div>\n",
       "<style scoped>\n",
       "    .dataframe tbody tr th:only-of-type {\n",
       "        vertical-align: middle;\n",
       "    }\n",
       "\n",
       "    .dataframe tbody tr th {\n",
       "        vertical-align: top;\n",
       "    }\n",
       "\n",
       "    .dataframe thead th {\n",
       "        text-align: right;\n",
       "    }\n",
       "</style>\n",
       "<table border=\"1\" class=\"dataframe\">\n",
       "  <thead>\n",
       "    <tr style=\"text-align: right;\">\n",
       "      <th></th>\n",
       "      <th>PC1</th>\n",
       "      <th>PC2</th>\n",
       "      <th>PC3</th>\n",
       "      <th>PC4</th>\n",
       "      <th>PC5</th>\n",
       "      <th>PC6</th>\n",
       "      <th>PC7</th>\n",
       "      <th>PC8</th>\n",
       "      <th>PC9</th>\n",
       "      <th>PC10</th>\n",
       "      <th>...</th>\n",
       "      <th>PC16</th>\n",
       "      <th>PC17</th>\n",
       "      <th>PC18</th>\n",
       "      <th>PC19</th>\n",
       "      <th>PC20</th>\n",
       "      <th>PC21</th>\n",
       "      <th>PC22</th>\n",
       "      <th>PC23</th>\n",
       "      <th>PC24</th>\n",
       "      <th>PC25</th>\n",
       "    </tr>\n",
       "  </thead>\n",
       "  <tbody>\n",
       "    <tr>\n",
       "      <th>Neighborhood_northeast</th>\n",
       "      <td>-0.074713</td>\n",
       "      <td>-0.096615</td>\n",
       "      <td>-0.059279</td>\n",
       "      <td>-0.138077</td>\n",
       "      <td>-0.243087</td>\n",
       "      <td>0.096785</td>\n",
       "      <td>0.589182</td>\n",
       "      <td>0.109442</td>\n",
       "      <td>0.040835</td>\n",
       "      <td>-0.074643</td>\n",
       "      <td>...</td>\n",
       "      <td>0.084403</td>\n",
       "      <td>0.011922</td>\n",
       "      <td>0.154647</td>\n",
       "      <td>-0.432248</td>\n",
       "      <td>-0.473535</td>\n",
       "      <td>0.236695</td>\n",
       "      <td>0.050951</td>\n",
       "      <td>0.035943</td>\n",
       "      <td>-0.032784</td>\n",
       "      <td>-0.025613</td>\n",
       "    </tr>\n",
       "    <tr>\n",
       "      <th>floor_building</th>\n",
       "      <td>0.670383</td>\n",
       "      <td>0.039005</td>\n",
       "      <td>0.048108</td>\n",
       "      <td>-0.053379</td>\n",
       "      <td>-0.042750</td>\n",
       "      <td>-0.120957</td>\n",
       "      <td>0.044248</td>\n",
       "      <td>0.003205</td>\n",
       "      <td>-0.010031</td>\n",
       "      <td>-0.005801</td>\n",
       "      <td>...</td>\n",
       "      <td>0.037916</td>\n",
       "      <td>-0.034132</td>\n",
       "      <td>-0.016941</td>\n",
       "      <td>-0.049983</td>\n",
       "      <td>0.002726</td>\n",
       "      <td>0.042521</td>\n",
       "      <td>0.193878</td>\n",
       "      <td>0.024721</td>\n",
       "      <td>-0.063523</td>\n",
       "      <td>0.686207</td>\n",
       "    </tr>\n",
       "    <tr>\n",
       "      <th>is_campus</th>\n",
       "      <td>-0.034816</td>\n",
       "      <td>-0.376438</td>\n",
       "      <td>0.577947</td>\n",
       "      <td>-0.145998</td>\n",
       "      <td>0.020254</td>\n",
       "      <td>0.013098</td>\n",
       "      <td>0.004542</td>\n",
       "      <td>0.003287</td>\n",
       "      <td>0.003713</td>\n",
       "      <td>0.011800</td>\n",
       "      <td>...</td>\n",
       "      <td>-0.016880</td>\n",
       "      <td>-0.011833</td>\n",
       "      <td>0.049071</td>\n",
       "      <td>0.007628</td>\n",
       "      <td>0.000344</td>\n",
       "      <td>-0.040907</td>\n",
       "      <td>0.092838</td>\n",
       "      <td>-0.692625</td>\n",
       "      <td>-0.089250</td>\n",
       "      <td>0.002336</td>\n",
       "    </tr>\n",
       "    <tr>\n",
       "      <th>decennie</th>\n",
       "      <td>-0.185079</td>\n",
       "      <td>0.012814</td>\n",
       "      <td>0.100258</td>\n",
       "      <td>0.432317</td>\n",
       "      <td>-0.017792</td>\n",
       "      <td>-0.488737</td>\n",
       "      <td>-0.013715</td>\n",
       "      <td>-0.014020</td>\n",
       "      <td>0.058893</td>\n",
       "      <td>-0.164612</td>\n",
       "      <td>...</td>\n",
       "      <td>0.091318</td>\n",
       "      <td>0.065297</td>\n",
       "      <td>-0.211815</td>\n",
       "      <td>0.095052</td>\n",
       "      <td>-0.138476</td>\n",
       "      <td>0.296239</td>\n",
       "      <td>0.554099</td>\n",
       "      <td>0.029686</td>\n",
       "      <td>-0.070736</td>\n",
       "      <td>-0.064184</td>\n",
       "    </tr>\n",
       "    <tr>\n",
       "      <th>Data_Center</th>\n",
       "      <td>0.067985</td>\n",
       "      <td>0.005219</td>\n",
       "      <td>-0.025538</td>\n",
       "      <td>-0.062862</td>\n",
       "      <td>-0.130746</td>\n",
       "      <td>-0.094250</td>\n",
       "      <td>-0.040266</td>\n",
       "      <td>-0.100411</td>\n",
       "      <td>0.034735</td>\n",
       "      <td>0.045405</td>\n",
       "      <td>...</td>\n",
       "      <td>-0.055920</td>\n",
       "      <td>0.040565</td>\n",
       "      <td>0.127856</td>\n",
       "      <td>-0.007414</td>\n",
       "      <td>0.102453</td>\n",
       "      <td>0.051502</td>\n",
       "      <td>0.071315</td>\n",
       "      <td>0.003379</td>\n",
       "      <td>-0.029232</td>\n",
       "      <td>-0.011339</td>\n",
       "    </tr>\n",
       "    <tr>\n",
       "      <th>Office</th>\n",
       "      <td>0.646198</td>\n",
       "      <td>0.077862</td>\n",
       "      <td>0.043396</td>\n",
       "      <td>-0.037906</td>\n",
       "      <td>-0.248540</td>\n",
       "      <td>-0.135559</td>\n",
       "      <td>-0.031108</td>\n",
       "      <td>-0.051841</td>\n",
       "      <td>0.041824</td>\n",
       "      <td>-0.016845</td>\n",
       "      <td>...</td>\n",
       "      <td>-0.003505</td>\n",
       "      <td>-0.016064</td>\n",
       "      <td>-0.057250</td>\n",
       "      <td>-0.001552</td>\n",
       "      <td>-0.030559</td>\n",
       "      <td>0.062357</td>\n",
       "      <td>-0.040426</td>\n",
       "      <td>-0.058855</td>\n",
       "      <td>0.020519</td>\n",
       "      <td>-0.678793</td>\n",
       "    </tr>\n",
       "    <tr>\n",
       "      <th>Non_Refrigerated_Warehouse</th>\n",
       "      <td>-0.068017</td>\n",
       "      <td>0.594728</td>\n",
       "      <td>0.339018</td>\n",
       "      <td>-0.037778</td>\n",
       "      <td>0.005023</td>\n",
       "      <td>0.081596</td>\n",
       "      <td>0.094946</td>\n",
       "      <td>0.036912</td>\n",
       "      <td>0.001302</td>\n",
       "      <td>-0.011750</td>\n",
       "      <td>...</td>\n",
       "      <td>-0.001562</td>\n",
       "      <td>0.005348</td>\n",
       "      <td>-0.013747</td>\n",
       "      <td>0.011436</td>\n",
       "      <td>-0.011070</td>\n",
       "      <td>-0.027732</td>\n",
       "      <td>-0.098735</td>\n",
       "      <td>0.049614</td>\n",
       "      <td>-0.696294</td>\n",
       "      <td>-0.019805</td>\n",
       "    </tr>\n",
       "    <tr>\n",
       "      <th>K_12_School</th>\n",
       "      <td>-0.068339</td>\n",
       "      <td>-0.076629</td>\n",
       "      <td>-0.103474</td>\n",
       "      <td>-0.255558</td>\n",
       "      <td>-0.133771</td>\n",
       "      <td>0.105302</td>\n",
       "      <td>0.175815</td>\n",
       "      <td>-0.268833</td>\n",
       "      <td>-0.594644</td>\n",
       "      <td>-0.193283</td>\n",
       "      <td>...</td>\n",
       "      <td>-0.070376</td>\n",
       "      <td>-0.072011</td>\n",
       "      <td>0.117927</td>\n",
       "      <td>0.056127</td>\n",
       "      <td>0.364229</td>\n",
       "      <td>0.175859</td>\n",
       "      <td>0.290419</td>\n",
       "      <td>0.057235</td>\n",
       "      <td>-0.101884</td>\n",
       "      <td>-0.059926</td>\n",
       "    </tr>\n",
       "    <tr>\n",
       "      <th>Retail_Store</th>\n",
       "      <td>0.041126</td>\n",
       "      <td>-0.012099</td>\n",
       "      <td>0.046537</td>\n",
       "      <td>0.336636</td>\n",
       "      <td>-0.117831</td>\n",
       "      <td>0.182067</td>\n",
       "      <td>0.113247</td>\n",
       "      <td>-0.162045</td>\n",
       "      <td>0.342236</td>\n",
       "      <td>-0.205434</td>\n",
       "      <td>...</td>\n",
       "      <td>0.160294</td>\n",
       "      <td>0.506333</td>\n",
       "      <td>0.379403</td>\n",
       "      <td>-0.157581</td>\n",
       "      <td>0.402618</td>\n",
       "      <td>-0.051912</td>\n",
       "      <td>0.004755</td>\n",
       "      <td>-0.016151</td>\n",
       "      <td>0.019305</td>\n",
       "      <td>0.012052</td>\n",
       "    </tr>\n",
       "    <tr>\n",
       "      <th>Other</th>\n",
       "      <td>0.136097</td>\n",
       "      <td>-0.161685</td>\n",
       "      <td>0.170501</td>\n",
       "      <td>0.393152</td>\n",
       "      <td>-0.010055</td>\n",
       "      <td>0.461044</td>\n",
       "      <td>0.048771</td>\n",
       "      <td>0.048582</td>\n",
       "      <td>-0.121699</td>\n",
       "      <td>0.054486</td>\n",
       "      <td>...</td>\n",
       "      <td>-0.099532</td>\n",
       "      <td>-0.211257</td>\n",
       "      <td>0.191041</td>\n",
       "      <td>0.238992</td>\n",
       "      <td>-0.209662</td>\n",
       "      <td>-0.349504</td>\n",
       "      <td>0.349765</td>\n",
       "      <td>0.247824</td>\n",
       "      <td>-0.056724</td>\n",
       "      <td>-0.095741</td>\n",
       "    </tr>\n",
       "    <tr>\n",
       "      <th>Hotel</th>\n",
       "      <td>0.130030</td>\n",
       "      <td>-0.016342</td>\n",
       "      <td>-0.074821</td>\n",
       "      <td>-0.045118</td>\n",
       "      <td>0.660783</td>\n",
       "      <td>-0.085722</td>\n",
       "      <td>0.188577</td>\n",
       "      <td>0.108976</td>\n",
       "      <td>-0.096198</td>\n",
       "      <td>-0.128458</td>\n",
       "      <td>...</td>\n",
       "      <td>0.000753</td>\n",
       "      <td>0.080673</td>\n",
       "      <td>-0.173111</td>\n",
       "      <td>-0.439156</td>\n",
       "      <td>0.153038</td>\n",
       "      <td>-0.335191</td>\n",
       "      <td>0.213741</td>\n",
       "      <td>0.002294</td>\n",
       "      <td>-0.049794</td>\n",
       "      <td>-0.180962</td>\n",
       "    </tr>\n",
       "    <tr>\n",
       "      <th>Distribution_Center</th>\n",
       "      <td>-0.052357</td>\n",
       "      <td>0.114529</td>\n",
       "      <td>0.010500</td>\n",
       "      <td>-0.018603</td>\n",
       "      <td>0.056892</td>\n",
       "      <td>-0.127509</td>\n",
       "      <td>-0.288612</td>\n",
       "      <td>-0.153761</td>\n",
       "      <td>-0.067381</td>\n",
       "      <td>0.135026</td>\n",
       "      <td>...</td>\n",
       "      <td>-0.000832</td>\n",
       "      <td>-0.037167</td>\n",
       "      <td>0.308119</td>\n",
       "      <td>-0.202805</td>\n",
       "      <td>0.099281</td>\n",
       "      <td>0.134344</td>\n",
       "      <td>0.121521</td>\n",
       "      <td>0.000701</td>\n",
       "      <td>-0.100093</td>\n",
       "      <td>-0.029868</td>\n",
       "    </tr>\n",
       "    <tr>\n",
       "      <th>SupermarketGrocery_Store</th>\n",
       "      <td>-0.033561</td>\n",
       "      <td>-0.023734</td>\n",
       "      <td>-0.117369</td>\n",
       "      <td>-0.166191</td>\n",
       "      <td>0.088909</td>\n",
       "      <td>0.285463</td>\n",
       "      <td>0.015250</td>\n",
       "      <td>-0.270216</td>\n",
       "      <td>0.599614</td>\n",
       "      <td>0.250061</td>\n",
       "      <td>...</td>\n",
       "      <td>-0.108032</td>\n",
       "      <td>-0.333711</td>\n",
       "      <td>-0.179800</td>\n",
       "      <td>-0.098637</td>\n",
       "      <td>0.126318</td>\n",
       "      <td>0.170835</td>\n",
       "      <td>0.309616</td>\n",
       "      <td>0.003084</td>\n",
       "      <td>-0.088139</td>\n",
       "      <td>-0.037487</td>\n",
       "    </tr>\n",
       "    <tr>\n",
       "      <th>Medical_Office</th>\n",
       "      <td>-0.006271</td>\n",
       "      <td>-0.026336</td>\n",
       "      <td>-0.067566</td>\n",
       "      <td>-0.071583</td>\n",
       "      <td>-0.075929</td>\n",
       "      <td>0.117105</td>\n",
       "      <td>-0.205665</td>\n",
       "      <td>0.573214</td>\n",
       "      <td>0.079129</td>\n",
       "      <td>-0.264855</td>\n",
       "      <td>...</td>\n",
       "      <td>0.535438</td>\n",
       "      <td>-0.372036</td>\n",
       "      <td>0.107424</td>\n",
       "      <td>-0.031770</td>\n",
       "      <td>0.239381</td>\n",
       "      <td>0.102568</td>\n",
       "      <td>0.085195</td>\n",
       "      <td>-0.016406</td>\n",
       "      <td>-0.054119</td>\n",
       "      <td>-0.046294</td>\n",
       "    </tr>\n",
       "    <tr>\n",
       "      <th>Other___Recreation</th>\n",
       "      <td>-0.032334</td>\n",
       "      <td>-0.026745</td>\n",
       "      <td>-0.047917</td>\n",
       "      <td>-0.021068</td>\n",
       "      <td>-0.162579</td>\n",
       "      <td>-0.146609</td>\n",
       "      <td>0.479797</td>\n",
       "      <td>0.323959</td>\n",
       "      <td>0.111817</td>\n",
       "      <td>0.219460</td>\n",
       "      <td>...</td>\n",
       "      <td>-0.145704</td>\n",
       "      <td>0.062889</td>\n",
       "      <td>-0.219341</td>\n",
       "      <td>0.328939</td>\n",
       "      <td>0.416555</td>\n",
       "      <td>-0.073253</td>\n",
       "      <td>0.034606</td>\n",
       "      <td>-0.010525</td>\n",
       "      <td>-0.022058</td>\n",
       "      <td>-0.009490</td>\n",
       "    </tr>\n",
       "    <tr>\n",
       "      <th>CollegeUniversity</th>\n",
       "      <td>-0.023852</td>\n",
       "      <td>-0.325016</td>\n",
       "      <td>0.565451</td>\n",
       "      <td>-0.226902</td>\n",
       "      <td>0.043240</td>\n",
       "      <td>-0.127534</td>\n",
       "      <td>-0.029651</td>\n",
       "      <td>-0.019952</td>\n",
       "      <td>0.079906</td>\n",
       "      <td>0.022599</td>\n",
       "      <td>...</td>\n",
       "      <td>0.065280</td>\n",
       "      <td>0.032640</td>\n",
       "      <td>-0.058552</td>\n",
       "      <td>-0.076206</td>\n",
       "      <td>0.126088</td>\n",
       "      <td>0.103558</td>\n",
       "      <td>-0.122394</td>\n",
       "      <td>0.660137</td>\n",
       "      <td>0.052535</td>\n",
       "      <td>-0.033479</td>\n",
       "    </tr>\n",
       "    <tr>\n",
       "      <th>Other___EntertainmentPublic_Assembly</th>\n",
       "      <td>0.026036</td>\n",
       "      <td>-0.014039</td>\n",
       "      <td>-0.023535</td>\n",
       "      <td>0.008298</td>\n",
       "      <td>0.041167</td>\n",
       "      <td>0.121678</td>\n",
       "      <td>-0.015720</td>\n",
       "      <td>0.133319</td>\n",
       "      <td>-0.217635</td>\n",
       "      <td>0.699570</td>\n",
       "      <td>...</td>\n",
       "      <td>0.442484</td>\n",
       "      <td>0.353967</td>\n",
       "      <td>-0.050415</td>\n",
       "      <td>-0.013520</td>\n",
       "      <td>-0.039892</td>\n",
       "      <td>0.080950</td>\n",
       "      <td>0.131499</td>\n",
       "      <td>-0.005850</td>\n",
       "      <td>-0.024676</td>\n",
       "      <td>-0.047481</td>\n",
       "    </tr>\n",
       "    <tr>\n",
       "      <th>Senior_Care_Community</th>\n",
       "      <td>0.014554</td>\n",
       "      <td>-0.002736</td>\n",
       "      <td>-0.041297</td>\n",
       "      <td>-0.073573</td>\n",
       "      <td>0.011837</td>\n",
       "      <td>0.016841</td>\n",
       "      <td>-0.136417</td>\n",
       "      <td>-0.045428</td>\n",
       "      <td>-0.049452</td>\n",
       "      <td>0.210268</td>\n",
       "      <td>...</td>\n",
       "      <td>-0.029116</td>\n",
       "      <td>0.032077</td>\n",
       "      <td>0.098012</td>\n",
       "      <td>-0.064829</td>\n",
       "      <td>0.016734</td>\n",
       "      <td>0.119680</td>\n",
       "      <td>0.111872</td>\n",
       "      <td>-0.000092</td>\n",
       "      <td>-0.035326</td>\n",
       "      <td>-0.052330</td>\n",
       "    </tr>\n",
       "    <tr>\n",
       "      <th>Laboratory</th>\n",
       "      <td>0.015392</td>\n",
       "      <td>-0.025934</td>\n",
       "      <td>-0.033523</td>\n",
       "      <td>-0.163960</td>\n",
       "      <td>-0.048715</td>\n",
       "      <td>0.186022</td>\n",
       "      <td>-0.315823</td>\n",
       "      <td>0.500975</td>\n",
       "      <td>0.039458</td>\n",
       "      <td>-0.087699</td>\n",
       "      <td>...</td>\n",
       "      <td>-0.551269</td>\n",
       "      <td>0.395605</td>\n",
       "      <td>0.010449</td>\n",
       "      <td>-0.081237</td>\n",
       "      <td>-0.064178</td>\n",
       "      <td>0.180967</td>\n",
       "      <td>0.207773</td>\n",
       "      <td>0.051163</td>\n",
       "      <td>-0.049276</td>\n",
       "      <td>-0.010577</td>\n",
       "    </tr>\n",
       "    <tr>\n",
       "      <th>Restaurant</th>\n",
       "      <td>0.123890</td>\n",
       "      <td>-0.087640</td>\n",
       "      <td>0.079382</td>\n",
       "      <td>0.496864</td>\n",
       "      <td>0.203721</td>\n",
       "      <td>0.229357</td>\n",
       "      <td>0.076350</td>\n",
       "      <td>0.067373</td>\n",
       "      <td>-0.189343</td>\n",
       "      <td>0.060164</td>\n",
       "      <td>...</td>\n",
       "      <td>-0.168525</td>\n",
       "      <td>-0.165974</td>\n",
       "      <td>-0.167030</td>\n",
       "      <td>-0.164180</td>\n",
       "      <td>0.181853</td>\n",
       "      <td>0.555527</td>\n",
       "      <td>-0.337506</td>\n",
       "      <td>-0.067505</td>\n",
       "      <td>-0.018920</td>\n",
       "      <td>0.017351</td>\n",
       "    </tr>\n",
       "    <tr>\n",
       "      <th>Refrigerated_Warehouse</th>\n",
       "      <td>-0.049390</td>\n",
       "      <td>0.569956</td>\n",
       "      <td>0.358284</td>\n",
       "      <td>-0.059955</td>\n",
       "      <td>0.034882</td>\n",
       "      <td>0.116464</td>\n",
       "      <td>0.107437</td>\n",
       "      <td>0.063942</td>\n",
       "      <td>-0.047764</td>\n",
       "      <td>0.029289</td>\n",
       "      <td>...</td>\n",
       "      <td>-0.037374</td>\n",
       "      <td>-0.081401</td>\n",
       "      <td>0.050307</td>\n",
       "      <td>-0.049769</td>\n",
       "      <td>0.060889</td>\n",
       "      <td>0.069661</td>\n",
       "      <td>0.182259</td>\n",
       "      <td>-0.051885</td>\n",
       "      <td>0.669385</td>\n",
       "      <td>0.007192</td>\n",
       "    </tr>\n",
       "    <tr>\n",
       "      <th>SocialMeeting_Hall</th>\n",
       "      <td>-0.042294</td>\n",
       "      <td>-0.027004</td>\n",
       "      <td>-0.008729</td>\n",
       "      <td>0.158892</td>\n",
       "      <td>-0.017668</td>\n",
       "      <td>-0.413096</td>\n",
       "      <td>0.085097</td>\n",
       "      <td>0.213656</td>\n",
       "      <td>0.019764</td>\n",
       "      <td>0.317950</td>\n",
       "      <td>...</td>\n",
       "      <td>-0.272783</td>\n",
       "      <td>-0.312778</td>\n",
       "      <td>0.514870</td>\n",
       "      <td>-0.186466</td>\n",
       "      <td>0.089815</td>\n",
       "      <td>-0.130419</td>\n",
       "      <td>-0.058619</td>\n",
       "      <td>0.021375</td>\n",
       "      <td>-0.025460</td>\n",
       "      <td>-0.011226</td>\n",
       "    </tr>\n",
       "    <tr>\n",
       "      <th>Hospital_General_Medical_and_Surgical</th>\n",
       "      <td>-0.005561</td>\n",
       "      <td>-0.013227</td>\n",
       "      <td>-0.043965</td>\n",
       "      <td>-0.065987</td>\n",
       "      <td>-0.052697</td>\n",
       "      <td>0.043064</td>\n",
       "      <td>0.100712</td>\n",
       "      <td>0.022595</td>\n",
       "      <td>0.001045</td>\n",
       "      <td>0.035234</td>\n",
       "      <td>...</td>\n",
       "      <td>-0.085792</td>\n",
       "      <td>-0.015259</td>\n",
       "      <td>0.029254</td>\n",
       "      <td>0.064621</td>\n",
       "      <td>0.184037</td>\n",
       "      <td>0.057282</td>\n",
       "      <td>0.091961</td>\n",
       "      <td>-0.005086</td>\n",
       "      <td>-0.032408</td>\n",
       "      <td>-0.032179</td>\n",
       "    </tr>\n",
       "    <tr>\n",
       "      <th>Multifamily_Housing</th>\n",
       "      <td>0.120332</td>\n",
       "      <td>0.000210</td>\n",
       "      <td>-0.058711</td>\n",
       "      <td>-0.171606</td>\n",
       "      <td>0.543419</td>\n",
       "      <td>-0.036228</td>\n",
       "      <td>0.183211</td>\n",
       "      <td>0.024401</td>\n",
       "      <td>0.132861</td>\n",
       "      <td>-0.079642</td>\n",
       "      <td>...</td>\n",
       "      <td>0.053180</td>\n",
       "      <td>0.085390</td>\n",
       "      <td>0.418008</td>\n",
       "      <td>0.521497</td>\n",
       "      <td>-0.157014</td>\n",
       "      <td>0.329762</td>\n",
       "      <td>-0.035295</td>\n",
       "      <td>0.005927</td>\n",
       "      <td>-0.005155</td>\n",
       "      <td>-0.069993</td>\n",
       "    </tr>\n",
       "    <tr>\n",
       "      <th>Strip_Mall</th>\n",
       "      <td>-0.013785</td>\n",
       "      <td>-0.004441</td>\n",
       "      <td>-0.033123</td>\n",
       "      <td>-0.030298</td>\n",
       "      <td>0.020506</td>\n",
       "      <td>-0.002013</td>\n",
       "      <td>-0.116541</td>\n",
       "      <td>-0.064265</td>\n",
       "      <td>-0.015220</td>\n",
       "      <td>0.107716</td>\n",
       "      <td>...</td>\n",
       "      <td>0.018124</td>\n",
       "      <td>-0.033645</td>\n",
       "      <td>0.103363</td>\n",
       "      <td>-0.078912</td>\n",
       "      <td>0.031556</td>\n",
       "      <td>0.085640</td>\n",
       "      <td>0.089479</td>\n",
       "      <td>0.000700</td>\n",
       "      <td>-0.031034</td>\n",
       "      <td>-0.015425</td>\n",
       "    </tr>\n",
       "  </tbody>\n",
       "</table>\n",
       "<p>25 rows × 25 columns</p>\n",
       "</div>"
      ],
      "text/plain": [
       "                                            PC1       PC2       PC3       PC4  \\\n",
       "Neighborhood_northeast                -0.074713 -0.096615 -0.059279 -0.138077   \n",
       "floor_building                         0.670383  0.039005  0.048108 -0.053379   \n",
       "is_campus                             -0.034816 -0.376438  0.577947 -0.145998   \n",
       "decennie                              -0.185079  0.012814  0.100258  0.432317   \n",
       "Data_Center                            0.067985  0.005219 -0.025538 -0.062862   \n",
       "Office                                 0.646198  0.077862  0.043396 -0.037906   \n",
       "Non_Refrigerated_Warehouse            -0.068017  0.594728  0.339018 -0.037778   \n",
       "K_12_School                           -0.068339 -0.076629 -0.103474 -0.255558   \n",
       "Retail_Store                           0.041126 -0.012099  0.046537  0.336636   \n",
       "Other                                  0.136097 -0.161685  0.170501  0.393152   \n",
       "Hotel                                  0.130030 -0.016342 -0.074821 -0.045118   \n",
       "Distribution_Center                   -0.052357  0.114529  0.010500 -0.018603   \n",
       "SupermarketGrocery_Store              -0.033561 -0.023734 -0.117369 -0.166191   \n",
       "Medical_Office                        -0.006271 -0.026336 -0.067566 -0.071583   \n",
       "Other___Recreation                    -0.032334 -0.026745 -0.047917 -0.021068   \n",
       "CollegeUniversity                     -0.023852 -0.325016  0.565451 -0.226902   \n",
       "Other___EntertainmentPublic_Assembly   0.026036 -0.014039 -0.023535  0.008298   \n",
       "Senior_Care_Community                  0.014554 -0.002736 -0.041297 -0.073573   \n",
       "Laboratory                             0.015392 -0.025934 -0.033523 -0.163960   \n",
       "Restaurant                             0.123890 -0.087640  0.079382  0.496864   \n",
       "Refrigerated_Warehouse                -0.049390  0.569956  0.358284 -0.059955   \n",
       "SocialMeeting_Hall                    -0.042294 -0.027004 -0.008729  0.158892   \n",
       "Hospital_General_Medical_and_Surgical -0.005561 -0.013227 -0.043965 -0.065987   \n",
       "Multifamily_Housing                    0.120332  0.000210 -0.058711 -0.171606   \n",
       "Strip_Mall                            -0.013785 -0.004441 -0.033123 -0.030298   \n",
       "\n",
       "                                            PC5       PC6       PC7       PC8  \\\n",
       "Neighborhood_northeast                -0.243087  0.096785  0.589182  0.109442   \n",
       "floor_building                        -0.042750 -0.120957  0.044248  0.003205   \n",
       "is_campus                              0.020254  0.013098  0.004542  0.003287   \n",
       "decennie                              -0.017792 -0.488737 -0.013715 -0.014020   \n",
       "Data_Center                           -0.130746 -0.094250 -0.040266 -0.100411   \n",
       "Office                                -0.248540 -0.135559 -0.031108 -0.051841   \n",
       "Non_Refrigerated_Warehouse             0.005023  0.081596  0.094946  0.036912   \n",
       "K_12_School                           -0.133771  0.105302  0.175815 -0.268833   \n",
       "Retail_Store                          -0.117831  0.182067  0.113247 -0.162045   \n",
       "Other                                 -0.010055  0.461044  0.048771  0.048582   \n",
       "Hotel                                  0.660783 -0.085722  0.188577  0.108976   \n",
       "Distribution_Center                    0.056892 -0.127509 -0.288612 -0.153761   \n",
       "SupermarketGrocery_Store               0.088909  0.285463  0.015250 -0.270216   \n",
       "Medical_Office                        -0.075929  0.117105 -0.205665  0.573214   \n",
       "Other___Recreation                    -0.162579 -0.146609  0.479797  0.323959   \n",
       "CollegeUniversity                      0.043240 -0.127534 -0.029651 -0.019952   \n",
       "Other___EntertainmentPublic_Assembly   0.041167  0.121678 -0.015720  0.133319   \n",
       "Senior_Care_Community                  0.011837  0.016841 -0.136417 -0.045428   \n",
       "Laboratory                            -0.048715  0.186022 -0.315823  0.500975   \n",
       "Restaurant                             0.203721  0.229357  0.076350  0.067373   \n",
       "Refrigerated_Warehouse                 0.034882  0.116464  0.107437  0.063942   \n",
       "SocialMeeting_Hall                    -0.017668 -0.413096  0.085097  0.213656   \n",
       "Hospital_General_Medical_and_Surgical -0.052697  0.043064  0.100712  0.022595   \n",
       "Multifamily_Housing                    0.543419 -0.036228  0.183211  0.024401   \n",
       "Strip_Mall                             0.020506 -0.002013 -0.116541 -0.064265   \n",
       "\n",
       "                                            PC9      PC10  ...      PC16  \\\n",
       "Neighborhood_northeast                 0.040835 -0.074643  ...  0.084403   \n",
       "floor_building                        -0.010031 -0.005801  ...  0.037916   \n",
       "is_campus                              0.003713  0.011800  ... -0.016880   \n",
       "decennie                               0.058893 -0.164612  ...  0.091318   \n",
       "Data_Center                            0.034735  0.045405  ... -0.055920   \n",
       "Office                                 0.041824 -0.016845  ... -0.003505   \n",
       "Non_Refrigerated_Warehouse             0.001302 -0.011750  ... -0.001562   \n",
       "K_12_School                           -0.594644 -0.193283  ... -0.070376   \n",
       "Retail_Store                           0.342236 -0.205434  ...  0.160294   \n",
       "Other                                 -0.121699  0.054486  ... -0.099532   \n",
       "Hotel                                 -0.096198 -0.128458  ...  0.000753   \n",
       "Distribution_Center                   -0.067381  0.135026  ... -0.000832   \n",
       "SupermarketGrocery_Store               0.599614  0.250061  ... -0.108032   \n",
       "Medical_Office                         0.079129 -0.264855  ...  0.535438   \n",
       "Other___Recreation                     0.111817  0.219460  ... -0.145704   \n",
       "CollegeUniversity                      0.079906  0.022599  ...  0.065280   \n",
       "Other___EntertainmentPublic_Assembly  -0.217635  0.699570  ...  0.442484   \n",
       "Senior_Care_Community                 -0.049452  0.210268  ... -0.029116   \n",
       "Laboratory                             0.039458 -0.087699  ... -0.551269   \n",
       "Restaurant                            -0.189343  0.060164  ... -0.168525   \n",
       "Refrigerated_Warehouse                -0.047764  0.029289  ... -0.037374   \n",
       "SocialMeeting_Hall                     0.019764  0.317950  ... -0.272783   \n",
       "Hospital_General_Medical_and_Surgical  0.001045  0.035234  ... -0.085792   \n",
       "Multifamily_Housing                    0.132861 -0.079642  ...  0.053180   \n",
       "Strip_Mall                            -0.015220  0.107716  ...  0.018124   \n",
       "\n",
       "                                           PC17      PC18      PC19      PC20  \\\n",
       "Neighborhood_northeast                 0.011922  0.154647 -0.432248 -0.473535   \n",
       "floor_building                        -0.034132 -0.016941 -0.049983  0.002726   \n",
       "is_campus                             -0.011833  0.049071  0.007628  0.000344   \n",
       "decennie                               0.065297 -0.211815  0.095052 -0.138476   \n",
       "Data_Center                            0.040565  0.127856 -0.007414  0.102453   \n",
       "Office                                -0.016064 -0.057250 -0.001552 -0.030559   \n",
       "Non_Refrigerated_Warehouse             0.005348 -0.013747  0.011436 -0.011070   \n",
       "K_12_School                           -0.072011  0.117927  0.056127  0.364229   \n",
       "Retail_Store                           0.506333  0.379403 -0.157581  0.402618   \n",
       "Other                                 -0.211257  0.191041  0.238992 -0.209662   \n",
       "Hotel                                  0.080673 -0.173111 -0.439156  0.153038   \n",
       "Distribution_Center                   -0.037167  0.308119 -0.202805  0.099281   \n",
       "SupermarketGrocery_Store              -0.333711 -0.179800 -0.098637  0.126318   \n",
       "Medical_Office                        -0.372036  0.107424 -0.031770  0.239381   \n",
       "Other___Recreation                     0.062889 -0.219341  0.328939  0.416555   \n",
       "CollegeUniversity                      0.032640 -0.058552 -0.076206  0.126088   \n",
       "Other___EntertainmentPublic_Assembly   0.353967 -0.050415 -0.013520 -0.039892   \n",
       "Senior_Care_Community                  0.032077  0.098012 -0.064829  0.016734   \n",
       "Laboratory                             0.395605  0.010449 -0.081237 -0.064178   \n",
       "Restaurant                            -0.165974 -0.167030 -0.164180  0.181853   \n",
       "Refrigerated_Warehouse                -0.081401  0.050307 -0.049769  0.060889   \n",
       "SocialMeeting_Hall                    -0.312778  0.514870 -0.186466  0.089815   \n",
       "Hospital_General_Medical_and_Surgical -0.015259  0.029254  0.064621  0.184037   \n",
       "Multifamily_Housing                    0.085390  0.418008  0.521497 -0.157014   \n",
       "Strip_Mall                            -0.033645  0.103363 -0.078912  0.031556   \n",
       "\n",
       "                                           PC21      PC22      PC23      PC24  \\\n",
       "Neighborhood_northeast                 0.236695  0.050951  0.035943 -0.032784   \n",
       "floor_building                         0.042521  0.193878  0.024721 -0.063523   \n",
       "is_campus                             -0.040907  0.092838 -0.692625 -0.089250   \n",
       "decennie                               0.296239  0.554099  0.029686 -0.070736   \n",
       "Data_Center                            0.051502  0.071315  0.003379 -0.029232   \n",
       "Office                                 0.062357 -0.040426 -0.058855  0.020519   \n",
       "Non_Refrigerated_Warehouse            -0.027732 -0.098735  0.049614 -0.696294   \n",
       "K_12_School                            0.175859  0.290419  0.057235 -0.101884   \n",
       "Retail_Store                          -0.051912  0.004755 -0.016151  0.019305   \n",
       "Other                                 -0.349504  0.349765  0.247824 -0.056724   \n",
       "Hotel                                 -0.335191  0.213741  0.002294 -0.049794   \n",
       "Distribution_Center                    0.134344  0.121521  0.000701 -0.100093   \n",
       "SupermarketGrocery_Store               0.170835  0.309616  0.003084 -0.088139   \n",
       "Medical_Office                         0.102568  0.085195 -0.016406 -0.054119   \n",
       "Other___Recreation                    -0.073253  0.034606 -0.010525 -0.022058   \n",
       "CollegeUniversity                      0.103558 -0.122394  0.660137  0.052535   \n",
       "Other___EntertainmentPublic_Assembly   0.080950  0.131499 -0.005850 -0.024676   \n",
       "Senior_Care_Community                  0.119680  0.111872 -0.000092 -0.035326   \n",
       "Laboratory                             0.180967  0.207773  0.051163 -0.049276   \n",
       "Restaurant                             0.555527 -0.337506 -0.067505 -0.018920   \n",
       "Refrigerated_Warehouse                 0.069661  0.182259 -0.051885  0.669385   \n",
       "SocialMeeting_Hall                    -0.130419 -0.058619  0.021375 -0.025460   \n",
       "Hospital_General_Medical_and_Surgical  0.057282  0.091961 -0.005086 -0.032408   \n",
       "Multifamily_Housing                    0.329762 -0.035295  0.005927 -0.005155   \n",
       "Strip_Mall                             0.085640  0.089479  0.000700 -0.031034   \n",
       "\n",
       "                                           PC25  \n",
       "Neighborhood_northeast                -0.025613  \n",
       "floor_building                         0.686207  \n",
       "is_campus                              0.002336  \n",
       "decennie                              -0.064184  \n",
       "Data_Center                           -0.011339  \n",
       "Office                                -0.678793  \n",
       "Non_Refrigerated_Warehouse            -0.019805  \n",
       "K_12_School                           -0.059926  \n",
       "Retail_Store                           0.012052  \n",
       "Other                                 -0.095741  \n",
       "Hotel                                 -0.180962  \n",
       "Distribution_Center                   -0.029868  \n",
       "SupermarketGrocery_Store              -0.037487  \n",
       "Medical_Office                        -0.046294  \n",
       "Other___Recreation                    -0.009490  \n",
       "CollegeUniversity                     -0.033479  \n",
       "Other___EntertainmentPublic_Assembly  -0.047481  \n",
       "Senior_Care_Community                 -0.052330  \n",
       "Laboratory                            -0.010577  \n",
       "Restaurant                             0.017351  \n",
       "Refrigerated_Warehouse                 0.007192  \n",
       "SocialMeeting_Hall                    -0.011226  \n",
       "Hospital_General_Medical_and_Surgical -0.032179  \n",
       "Multifamily_Housing                   -0.069993  \n",
       "Strip_Mall                            -0.015425  \n",
       "\n",
       "[25 rows x 25 columns]"
      ]
     },
     "execution_count": 50,
     "metadata": {},
     "output_type": "execute_result"
    }
   ],
   "source": [
    "loadings = pd.DataFrame(\n",
    "    pca.components_.T,  # transpose the matrix of loadings\n",
    "    columns=component_names,  # so the columns are the principal components\n",
    "    index=X_energy.columns,  # and the rows are the original features\n",
    ")\n",
    "loadings"
   ]
  },
  {
   "cell_type": "code",
   "execution_count": 51,
   "id": "382525c4-7d8d-4f73-be2f-ba41f38ae06f",
   "metadata": {
    "colab": {
     "base_uri": "https://localhost:8080/",
     "height": 559
    },
    "executionInfo": {
     "elapsed": 1316,
     "status": "ok",
     "timestamp": 1691091414228,
     "user": {
      "displayName": "MarcD",
      "userId": "07072845009722943265"
     },
     "user_tz": -120
    },
    "id": "382525c4-7d8d-4f73-be2f-ba41f38ae06f",
    "outputId": "6de26cee-d983-406a-bcd2-ba0c4dd668b4"
   },
   "outputs": [
    {
     "data": {
      "text/plain": [
       "array([<Axes: title={'center': '% Explained Variance'}, xlabel='Component'>,\n",
       "       <Axes: title={'center': '% Cumulative Variance'}, xlabel='Component'>],\n",
       "      dtype=object)"
      ]
     },
     "execution_count": 51,
     "metadata": {},
     "output_type": "execute_result"
    },
    {
     "data": {
      "image/png": "[encoded data removed]",
      "text/plain": [
       "<Figure size 800x480 with 2 Axes>"
      ]
     },
     "metadata": {},
     "output_type": "display_data"
    }
   ],
   "source": [
    "plot_variance(pca)"
   ]
  },
  {
   "cell_type": "code",
   "execution_count": 53,
   "id": "797393d9-b664-429e-a88f-6129ed670798",
   "metadata": {
    "colab": {
     "base_uri": "https://localhost:8080/"
    },
    "executionInfo": {
     "elapsed": 447,
     "status": "ok",
     "timestamp": 1691091417924,
     "user": {
      "displayName": "MarcD",
      "userId": "07072845009722943265"
     },
     "user_tz": -120
    },
    "id": "797393d9-b664-429e-a88f-6129ed670798",
    "outputId": "69940157-edfc-4114-dc45-7a03adf1be7a"
   },
   "outputs": [
    {
     "data": {
      "text/plain": [
       "pca4     0.303086\n",
       "pca0     0.295480\n",
       "pca14    0.248142\n",
       "pca24    0.235342\n",
       "pca22    0.209703\n",
       "pca1     0.209439\n",
       "pca7     0.206113\n",
       "pca5     0.191880\n",
       "pca16    0.168341\n",
       "pca15    0.168237\n",
       "pca10    0.152901\n",
       "pca11    0.145607\n",
       "pca6     0.144577\n",
       "pca9     0.142550\n",
       "pca19    0.138140\n",
       "pca3     0.129245\n",
       "pca12    0.124304\n",
       "pca17    0.123975\n",
       "pca8     0.122718\n",
       "pca2     0.117971\n",
       "pca13    0.113320\n",
       "pca20    0.107934\n",
       "pca18    0.106258\n",
       "pca21    0.103865\n",
       "pca23    0.097209\n",
       "Name: MI Scores, dtype: float64"
      ]
     },
     "execution_count": 53,
     "metadata": {},
     "output_type": "execute_result"
    }
   ],
   "source": [
    "mi_scores = make_mi_scores(X_pca, y_energy, discrete_features=False)\n",
    "mi_scores"
   ]
  },
  {
   "cell_type": "code",
   "execution_count": 58,
   "id": "27T1cfnt36E1",
   "metadata": {
    "colab": {
     "base_uri": "https://localhost:8080/"
    },
    "executionInfo": {
     "elapsed": 343,
     "status": "ok",
     "timestamp": 1691090955446,
     "user": {
      "displayName": "MarcD",
      "userId": "07072845009722943265"
     },
     "user_tz": -120
    },
    "id": "27T1cfnt36E1",
    "outputId": "e388e6a7-d8dc-4452-bd40-d1091f1cf21d"
   },
   "outputs": [
    {
     "data": {
      "text/plain": [
       "PearsonRResult(statistic=7.235152147538892e-16, pvalue=0.9999999999999768)"
      ]
     },
     "execution_count": 58,
     "metadata": {},
     "output_type": "execute_result"
    }
   ],
   "source": [
    "stats.pearsonr(X_pca['pca0'],X_pca['pca4'] )"
   ]
  },
  {
   "cell_type": "code",
   "execution_count": 61,
   "id": "a9011d45-ed59-4d00-aa14-ece4f81b8cdc",
   "metadata": {
    "id": "a9011d45-ed59-4d00-aa14-ece4f81b8cdc"
   },
   "outputs": [
    {
     "name": "stderr",
     "output_type": "stream",
     "text": [
      "C:\\Users\\Utilisateur\\AppData\\Local\\Temp\\ipykernel_11576\\4111145773.py:2: SettingWithCopyWarning: \n",
      "A value is trying to be set on a copy of a slice from a DataFrame.\n",
      "Try using .loc[row_indexer,col_indexer] = value instead\n",
      "\n",
      "See the caveats in the documentation: https://pandas.pydata.org/pandas-docs/stable/user_guide/indexing.html#returning-a-view-versus-a-copy\n",
      "  X_energy['PC1'] =X_pca['pca1'].values\n",
      "C:\\Users\\Utilisateur\\AppData\\Local\\Temp\\ipykernel_11576\\4111145773.py:3: SettingWithCopyWarning: \n",
      "A value is trying to be set on a copy of a slice from a DataFrame.\n",
      "Try using .loc[row_indexer,col_indexer] = value instead\n",
      "\n",
      "See the caveats in the documentation: https://pandas.pydata.org/pandas-docs/stable/user_guide/indexing.html#returning-a-view-versus-a-copy\n",
      "  X_energy['PC4'] =X_pca['pca4'].values\n"
     ]
    }
   ],
   "source": [
    "# ajout de pca14 à X_energy\n",
    "X_energy['PC1'] =X_pca['pca1'].values\n",
    "X_energy['PC4'] =X_pca['pca4'].values"
   ]
  },
  {
   "cell_type": "markdown",
   "id": "89b0f060-67c2-4dfc-a879-3819ad40c992",
   "metadata": {
    "id": "89b0f060-67c2-4dfc-a879-3819ad40c992"
   },
   "source": [
    "## 4.1 train test séparation"
   ]
  },
  {
   "cell_type": "code",
   "execution_count": 64,
   "id": "96b61009-f1f9-4905-a6ff-aa9b7c72bbb1",
   "metadata": {
    "id": "96b61009-f1f9-4905-a6ff-aa9b7c72bbb1"
   },
   "outputs": [],
   "source": [
    "X_train_energy, X_test_energy , y_train_energy, y_test_energy = train_test_split(X_energy,y_energy,test_size=0.2, random_state=12)"
   ]
  },
  {
   "cell_type": "markdown",
   "id": "9f40455c-7f5a-449e-87e5-ba181a7c7321",
   "metadata": {
    "id": "9f40455c-7f5a-449e-87e5-ba181a7c7321"
   },
   "source": [
    "## 4.2 target encoding ??"
   ]
  },
  {
   "cell_type": "code",
   "execution_count": 63,
   "id": "da7935bc-c18a-4d71-b44d-c7d3c03074f1",
   "metadata": {
    "colab": {
     "base_uri": "https://localhost:8080/"
    },
    "executionInfo": {
     "elapsed": 7205,
     "status": "ok",
     "timestamp": 1691091135041,
     "user": {
      "displayName": "MarcD",
      "userId": "07072845009722943265"
     },
     "user_tz": -120
    },
    "id": "da7935bc-c18a-4d71-b44d-c7d3c03074f1",
    "outputId": "1c8cb759-cd14-4fcc-e6e0-851cade14001"
   },
   "outputs": [],
   "source": [
    "from category_encoders import MEstimateEncoder\n",
    "\n",
    "# Create the encoder instance. Choose m to control noise.\n",
    "encoder = MEstimateEncoder(cols=[\"Neighborhood_northeast\"], m=5.0)\n",
    "\n",
    "# Fit the encoder on the encoding split.\n",
    "encoder.fit(X_train_energy, y_train_energy)\n",
    "\n",
    "# Encode the Zipcode column to create the final training data\n",
    "X_train_energy_encoded = encoder.transform(X_train_energy)\n",
    "X_test_energy_encoded = encoder.transform(X_test_energy)"
   ]
  },
  {
   "cell_type": "markdown",
   "id": "31458daa-4a33-4521-8585-a1dfa2a60bfa",
   "metadata": {
    "id": "31458daa-4a33-4521-8585-a1dfa2a60bfa"
   },
   "source": [
    "## 4.3 model et predictions"
   ]
  },
  {
   "cell_type": "code",
   "execution_count": 65,
   "id": "b5e0a049-4136-4615-84aa-27ba2670551a",
   "metadata": {
    "colab": {
     "base_uri": "https://localhost:8080/",
     "height": 118
    },
    "executionInfo": {
     "elapsed": 46146,
     "status": "ok",
     "timestamp": 1691091321053,
     "user": {
      "displayName": "MarcD",
      "userId": "07072845009722943265"
     },
     "user_tz": -120
    },
    "id": "b5e0a049-4136-4615-84aa-27ba2670551a",
    "outputId": "271ebee5-f18b-47b5-d400-69ccffbeba54"
   },
   "outputs": [
    {
     "data": {
      "text/html": [
       "<style>#sk-container-id-2 {color: black;}#sk-container-id-2 pre{padding: 0;}#sk-container-id-2 div.sk-toggleable {background-color: white;}#sk-container-id-2 label.sk-toggleable__label {cursor: pointer;display: block;width: 100%;margin-bottom: 0;padding: 0.3em;box-sizing: border-box;text-align: center;}#sk-container-id-2 label.sk-toggleable__label-arrow:before {content: \"▸\";float: left;margin-right: 0.25em;color: #696969;}#sk-container-id-2 label.sk-toggleable__label-arrow:hover:before {color: black;}#sk-container-id-2 div.sk-estimator:hover label.sk-toggleable__label-arrow:before {color: black;}#sk-container-id-2 div.sk-toggleable__content {max-height: 0;max-width: 0;overflow: hidden;text-align: left;background-color: #f0f8ff;}#sk-container-id-2 div.sk-toggleable__content pre {margin: 0.2em;color: black;border-radius: 0.25em;background-color: #f0f8ff;}#sk-container-id-2 input.sk-toggleable__control:checked~div.sk-toggleable__content {max-height: 200px;max-width: 100%;overflow: auto;}#sk-container-id-2 input.sk-toggleable__control:checked~label.sk-toggleable__label-arrow:before {content: \"▾\";}#sk-container-id-2 div.sk-estimator input.sk-toggleable__control:checked~label.sk-toggleable__label {background-color: #d4ebff;}#sk-container-id-2 div.sk-label input.sk-toggleable__control:checked~label.sk-toggleable__label {background-color: #d4ebff;}#sk-container-id-2 input.sk-hidden--visually {border: 0;clip: rect(1px 1px 1px 1px);clip: rect(1px, 1px, 1px, 1px);height: 1px;margin: -1px;overflow: hidden;padding: 0;position: absolute;width: 1px;}#sk-container-id-2 div.sk-estimator {font-family: monospace;background-color: #f0f8ff;border: 1px dotted black;border-radius: 0.25em;box-sizing: border-box;margin-bottom: 0.5em;}#sk-container-id-2 div.sk-estimator:hover {background-color: #d4ebff;}#sk-container-id-2 div.sk-parallel-item::after {content: \"\";width: 100%;border-bottom: 1px solid gray;flex-grow: 1;}#sk-container-id-2 div.sk-label:hover label.sk-toggleable__label {background-color: #d4ebff;}#sk-container-id-2 div.sk-serial::before {content: \"\";position: absolute;border-left: 1px solid gray;box-sizing: border-box;top: 0;bottom: 0;left: 50%;z-index: 0;}#sk-container-id-2 div.sk-serial {display: flex;flex-direction: column;align-items: center;background-color: white;padding-right: 0.2em;padding-left: 0.2em;position: relative;}#sk-container-id-2 div.sk-item {position: relative;z-index: 1;}#sk-container-id-2 div.sk-parallel {display: flex;align-items: stretch;justify-content: center;background-color: white;position: relative;}#sk-container-id-2 div.sk-item::before, #sk-container-id-2 div.sk-parallel-item::before {content: \"\";position: absolute;border-left: 1px solid gray;box-sizing: border-box;top: 0;bottom: 0;left: 50%;z-index: -1;}#sk-container-id-2 div.sk-parallel-item {display: flex;flex-direction: column;z-index: 1;position: relative;background-color: white;}#sk-container-id-2 div.sk-parallel-item:first-child::after {align-self: flex-end;width: 50%;}#sk-container-id-2 div.sk-parallel-item:last-child::after {align-self: flex-start;width: 50%;}#sk-container-id-2 div.sk-parallel-item:only-child::after {width: 0;}#sk-container-id-2 div.sk-dashed-wrapped {border: 1px dashed gray;margin: 0 0.4em 0.5em 0.4em;box-sizing: border-box;padding-bottom: 0.4em;background-color: white;}#sk-container-id-2 div.sk-label label {font-family: monospace;font-weight: bold;display: inline-block;line-height: 1.2em;}#sk-container-id-2 div.sk-label-container {text-align: center;}#sk-container-id-2 div.sk-container {/* jupyter's `normalize.less` sets `[hidden] { display: none; }` but bootstrap.min.css set `[hidden] { display: none !important; }` so we also need the `!important` here to be able to override the default hidden behavior on the sphinx rendered scikit-learn.org. See: https://github.com/scikit-learn/scikit-learn/issues/21755 */display: inline-block !important;position: relative;}#sk-container-id-2 div.sk-text-repr-fallback {display: none;}</style><div id=\"sk-container-id-2\" class=\"sk-top-container\"><div class=\"sk-text-repr-fallback\"><pre>GridSearchCV(cv=5, estimator=RandomForestRegressor(),\n",
       "             param_grid={&#x27;max_depth&#x27;: [1, 2, 3, 4, 5, 6, 7, 8, 9],\n",
       "                         &#x27;n_estimators&#x27;: [1, 2, 3, 4, 5, 6, 7, 8, 9, 10, 11, 12,\n",
       "                                          13, 14, 15, 16, 17, 18, 19]},\n",
       "             scoring=&#x27;r2&#x27;)</pre><b>In a Jupyter environment, please rerun this cell to show the HTML representation or trust the notebook. <br />On GitHub, the HTML representation is unable to render, please try loading this page with nbviewer.org.</b></div><div class=\"sk-container\" hidden><div class=\"sk-item sk-dashed-wrapped\"><div class=\"sk-label-container\"><div class=\"sk-label sk-toggleable\"><input class=\"sk-toggleable__control sk-hidden--visually\" id=\"sk-estimator-id-4\" type=\"checkbox\" ><label for=\"sk-estimator-id-4\" class=\"sk-toggleable__label sk-toggleable__label-arrow\">GridSearchCV</label><div class=\"sk-toggleable__content\"><pre>GridSearchCV(cv=5, estimator=RandomForestRegressor(),\n",
       "             param_grid={&#x27;max_depth&#x27;: [1, 2, 3, 4, 5, 6, 7, 8, 9],\n",
       "                         &#x27;n_estimators&#x27;: [1, 2, 3, 4, 5, 6, 7, 8, 9, 10, 11, 12,\n",
       "                                          13, 14, 15, 16, 17, 18, 19]},\n",
       "             scoring=&#x27;r2&#x27;)</pre></div></div></div><div class=\"sk-parallel\"><div class=\"sk-parallel-item\"><div class=\"sk-item\"><div class=\"sk-label-container\"><div class=\"sk-label sk-toggleable\"><input class=\"sk-toggleable__control sk-hidden--visually\" id=\"sk-estimator-id-5\" type=\"checkbox\" ><label for=\"sk-estimator-id-5\" class=\"sk-toggleable__label sk-toggleable__label-arrow\">estimator: RandomForestRegressor</label><div class=\"sk-toggleable__content\"><pre>RandomForestRegressor()</pre></div></div></div><div class=\"sk-serial\"><div class=\"sk-item\"><div class=\"sk-estimator sk-toggleable\"><input class=\"sk-toggleable__control sk-hidden--visually\" id=\"sk-estimator-id-6\" type=\"checkbox\" ><label for=\"sk-estimator-id-6\" class=\"sk-toggleable__label sk-toggleable__label-arrow\">RandomForestRegressor</label><div class=\"sk-toggleable__content\"><pre>RandomForestRegressor()</pre></div></div></div></div></div></div></div></div></div></div>"
      ],
      "text/plain": [
       "GridSearchCV(cv=5, estimator=RandomForestRegressor(),\n",
       "             param_grid={'max_depth': [1, 2, 3, 4, 5, 6, 7, 8, 9],\n",
       "                         'n_estimators': [1, 2, 3, 4, 5, 6, 7, 8, 9, 10, 11, 12,\n",
       "                                          13, 14, 15, 16, 17, 18, 19]},\n",
       "             scoring='r2')"
      ]
     },
     "execution_count": 65,
     "metadata": {},
     "output_type": "execute_result"
    }
   ],
   "source": [
    "rf = RandomForestRegressor()\n",
    "param_rf = {'n_estimators':[i for i in range(1,20,1)],\n",
    "           'max_depth':[i for i in range(1,10,1)]}\n",
    "regr = GridSearchCV(rf,param_grid=param_rf,scoring='r2',cv=5,refit=True)\n",
    "regr.fit(X_train_energy,y_train_energy)"
   ]
  },
  {
   "cell_type": "code",
   "execution_count": null,
   "id": "8a80eebf-51af-4d66-bca1-dad189efc797",
   "metadata": {
    "id": "8a80eebf-51af-4d66-bca1-dad189efc797"
   },
   "outputs": [],
   "source": [
    "# rs = 12 : 0.7164 ( sans target & pca14); 0.73 avec (NumberofBuildings encoded)\n",
    "# rs = 20 : 0.36 ( \"decennie + nbr buildings\") , 0.41\n",
    "# rs = 42 : 0.57( sans target & pca14), 0.62(pca14), 0.632(target + pca 14)"
   ]
  },
  {
   "cell_type": "code",
   "execution_count": 66,
   "id": "6072f959-6a45-4437-99ee-dbd1aa1b7c55",
   "metadata": {
    "colab": {
     "base_uri": "https://localhost:8080/"
    },
    "executionInfo": {
     "elapsed": 283,
     "status": "ok",
     "timestamp": 1691091334298,
     "user": {
      "displayName": "MarcD",
      "userId": "07072845009722943265"
     },
     "user_tz": -120
    },
    "id": "6072f959-6a45-4437-99ee-dbd1aa1b7c55",
    "outputId": "cb4962d2-fd65-4fde-8ef3-3720c2804df6"
   },
   "outputs": [
    {
     "data": {
      "text/plain": [
       "0.9411796934392317"
      ]
     },
     "execution_count": 66,
     "metadata": {},
     "output_type": "execute_result"
    }
   ],
   "source": [
    "regr.score(X_train_energy,y_train_energy)"
   ]
  },
  {
   "cell_type": "code",
   "execution_count": 67,
   "id": "228b90d3-3d5e-49be-ac34-7b2ee89eaaa0",
   "metadata": {
    "colab": {
     "base_uri": "https://localhost:8080/"
    },
    "executionInfo": {
     "elapsed": 229,
     "status": "ok",
     "timestamp": 1691091335461,
     "user": {
      "displayName": "MarcD",
      "userId": "07072845009722943265"
     },
     "user_tz": -120
    },
    "id": "228b90d3-3d5e-49be-ac34-7b2ee89eaaa0",
    "outputId": "62174585-5cc4-4dd0-b591-145114426b71"
   },
   "outputs": [
    {
     "data": {
      "text/plain": [
       "{'max_depth': 9, 'n_estimators': 15}"
      ]
     },
     "execution_count": 67,
     "metadata": {},
     "output_type": "execute_result"
    }
   ],
   "source": [
    "params = regr.best_params_\n",
    "params"
   ]
  },
  {
   "cell_type": "code",
   "execution_count": 68,
   "id": "b5e8c2e5-3d9a-45e9-bddf-2dc8b950c805",
   "metadata": {
    "colab": {
     "base_uri": "https://localhost:8080/"
    },
    "executionInfo": {
     "elapsed": 263,
     "status": "ok",
     "timestamp": 1691091337450,
     "user": {
      "displayName": "MarcD",
      "userId": "07072845009722943265"
     },
     "user_tz": -120
    },
    "id": "b5e8c2e5-3d9a-45e9-bddf-2dc8b950c805",
    "outputId": "1a8ab2a8-5d16-475f-f92f-4bbcbf8501ad"
   },
   "outputs": [
    {
     "data": {
      "text/plain": [
       "0.64809420812815"
      ]
     },
     "execution_count": 68,
     "metadata": {},
     "output_type": "execute_result"
    }
   ],
   "source": [
    "final_rf = RandomForestRegressor(n_estimators = params['n_estimators'],max_depth=params['max_depth'])\n",
    "final_rf.fit(X_train_energy,y_train_energy)\n",
    "metrics.r2_score(y_test_energy,final_rf.predict(X_test_energy))"
   ]
  },
  {
   "cell_type": "code",
   "execution_count": null,
   "id": "2e766a16-a109-4562-a4bf-405a0f5bb7a9",
   "metadata": {
    "id": "2e766a16-a109-4562-a4bf-405a0f5bb7a9",
    "outputId": "25d5e067-9db6-4152-9699-a7f4ef6132ef",
    "scrolled": true
   },
   "outputs": [],
   "source": [
    "res_energy = pd.DataFrame(y_test_energy)\n",
    "res_energy['preds'] = final_rf.predict(X_test_energy)\n",
    "res_energy['diff'] = res_energy.apply(lambda x : x['preds'] - x[0] , axis =1 )\n",
    "plt.plot(res_energy['diff'])"
   ]
  },
  {
   "cell_type": "code",
   "execution_count": null,
   "id": "e7d2a205-ca3f-4b28-a5f2-915211427bad",
   "metadata": {
    "id": "e7d2a205-ca3f-4b28-a5f2-915211427bad",
    "outputId": "d34aba60-2f2c-4a26-941a-49a4f950c22a"
   },
   "outputs": [],
   "source": [
    "plt.plot(y_test_energy)"
   ]
  },
  {
   "cell_type": "code",
   "execution_count": null,
   "id": "1100a739-f392-4e22-882e-188d424f47cc",
   "metadata": {
    "id": "1100a739-f392-4e22-882e-188d424f47cc",
    "outputId": "b40c2747-f9cc-428d-fc3e-5fc304bab1da"
   },
   "outputs": [],
   "source": [
    "plt.plot(y_train_energy)"
   ]
  }
 ],
 "metadata": {
  "colab": {
   "provenance": [],
   "toc_visible": true
  },
  "kernelspec": {
   "display_name": "Python 3 (ipykernel)",
   "language": "python",
   "name": "python3"
  },
  "language_info": {
   "codemirror_mode": {
    "name": "ipython",
    "version": 3
   },
   "file_extension": ".py",
   "mimetype": "text/x-python",
   "name": "python",
   "nbconvert_exporter": "python",
   "pygments_lexer": "ipython3",
   "version": "3.11.4"
  }
 },
 "nbformat": 4,
 "nbformat_minor": 5
}
